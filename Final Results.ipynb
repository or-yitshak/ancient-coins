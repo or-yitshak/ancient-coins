{
 "cells": [
  {
   "cell_type": "code",
   "execution_count": 1,
   "id": "d131b345",
   "metadata": {},
   "outputs": [],
   "source": [
    "import pandas as pd\n",
    "import seaborn as sns\n",
    "import matplotlib.pyplot as plt\n",
    "%matplotlib inline\n",
    "import numpy as np\n",
    "import os\n",
    "import cv2\n",
    "from sklearn.ensemble import RandomForestClassifier\n",
    "from sklearn.metrics import classification_report,confusion_matrix\n",
    "\n",
    "import tensorflow as tf\n",
    "from tensorflow.keras import datasets, layers, models\n",
    "from tensorflow.keras.callbacks import EarlyStopping\n",
    "from tensorflow.keras.callbacks import ModelCheckpoint\n",
    "import matplotlib.pyplot as plt\n",
    "\n",
    "from random import shuffle"
   ]
  },
  {
   "cell_type": "code",
   "execution_count": 2,
   "id": "00c27814",
   "metadata": {},
   "outputs": [],
   "source": [
    "def label_img(img):\n",
    "    word_label = img.split('_')[0]\n",
    "    if word_label == '0' : return 0\n",
    "    elif word_label == '1' : return 1\n",
    "    elif word_label == '6' : return 2\n",
    "    elif word_label == '12' : return 3\n",
    "    elif word_label == '9' : return 4"
   ]
  },
  {
   "cell_type": "code",
   "execution_count": 4,
   "id": "3b1e4415",
   "metadata": {},
   "outputs": [],
   "source": [
    "def load_data(dir_name:str, size:int, grayscale:bool):\n",
    "    data = []\n",
    "    labels = []\n",
    "    paths = []\n",
    "    for img in os.listdir(dir_name):\n",
    "        label = label_img(img)\n",
    "        path = os.path.join(dir_name,img)\n",
    "        \n",
    "        if grayscale:\n",
    "            img = cv2.resize(cv2.imread(path, cv2.IMREAD_GRAYSCALE),(2*size,size))\n",
    "        else:\n",
    "            img = cv2.resize(cv2.imread(path),(2*size,size))\n",
    "        data.append(np.array(img[0:size,0:size]))\n",
    "        labels.append(label)\n",
    "        paths.append(path)\n",
    "        \n",
    "    data = np.array(data)\n",
    "    labels = np.array(labels)\n",
    "    paths = np.array(paths)\n",
    "    \n",
    "    num_elements = len(labels)\n",
    "    permutation_index = np.random.permutation(num_elements)\n",
    "    \n",
    "    data = data[permutation_index]\n",
    "    labels = labels[permutation_index]\n",
    "    paths = paths[permutation_index]\n",
    "    \n",
    "    return data, labels, paths"
   ]
  },
  {
   "cell_type": "markdown",
   "id": "5c9070da",
   "metadata": {},
   "source": [
    "# Base Problem - Alexander and Ptolemy I"
   ]
  },
  {
   "cell_type": "code",
   "execution_count": 56,
   "id": "e788373c",
   "metadata": {},
   "outputs": [],
   "source": [
    "train_dir = r'0_1_train'\n",
    "test_dir = r'0_1_test'\n",
    "size = 70\n",
    "is_gray = True\n",
    "x_train, y_train, train_paths = load_data(train_dir, size, is_gray)\n",
    "x_test, y_test, test_paths = load_data(test_dir, size, is_gray)"
   ]
  },
  {
   "cell_type": "code",
   "execution_count": 60,
   "id": "007ac187",
   "metadata": {
    "scrolled": false
   },
   "outputs": [
    {
     "data": {
      "text/plain": [
       "Text(0.5, 1.0, 'Train')"
      ]
     },
     "execution_count": 60,
     "metadata": {},
     "output_type": "execute_result"
    },
    {
     "data": {
      "image/png": "[encoded data removed]",
      "text/plain": [
       "<Figure size 640x480 with 1 Axes>"
      ]
     },
     "metadata": {},
     "output_type": "display_data"
    }
   ],
   "source": [
    "classes = ['Alexander', 'Ptolmy 1']\n",
    "ax = sns.countplot(x = y_train)\n",
    "ax.set_xticklabels(classes)\n",
    "ax.set_title(\"Train\")"
   ]
  },
  {
   "cell_type": "code",
   "execution_count": 61,
   "id": "21427e99",
   "metadata": {
    "scrolled": false
   },
   "outputs": [
    {
     "data": {
      "text/plain": [
       "Text(0.5, 1.0, 'Test')"
      ]
     },
     "execution_count": 61,
     "metadata": {},
     "output_type": "execute_result"
    },
    {
     "data": {
      "image/png": "[encoded data removed]",
      "text/plain": [
       "<Figure size 640x480 with 1 Axes>"
      ]
     },
     "metadata": {},
     "output_type": "display_data"
    }
   ],
   "source": [
    "ax = sns.countplot(x = y_test)\n",
    "ax.set_xticklabels(classes)\n",
    "ax.set_title(\"Test\")"
   ]
  },
  {
   "cell_type": "code",
   "execution_count": 12,
   "id": "00d94ec2",
   "metadata": {
    "scrolled": true
   },
   "outputs": [
    {
     "name": "stdout",
     "output_type": "stream",
     "text": [
      "Model: \"Base_Problem_Model\"\n",
      "_________________________________________________________________\n",
      " Layer (type)                Output Shape              Param #   \n",
      "=================================================================\n",
      " conv2d_8 (Conv2D)           (None, 68, 68, 32)        320       \n",
      "                                                                 \n",
      " max_pooling2d_8 (MaxPooling  (None, 34, 34, 32)       0         \n",
      " 2D)                                                             \n",
      "                                                                 \n",
      " conv2d_9 (Conv2D)           (None, 32, 32, 42)        12138     \n",
      "                                                                 \n",
      " max_pooling2d_9 (MaxPooling  (None, 16, 16, 42)       0         \n",
      " 2D)                                                             \n",
      "                                                                 \n",
      " conv2d_10 (Conv2D)          (None, 14, 14, 52)        19708     \n",
      "                                                                 \n",
      " max_pooling2d_10 (MaxPoolin  (None, 7, 7, 52)         0         \n",
      " g2D)                                                            \n",
      "                                                                 \n",
      " conv2d_11 (Conv2D)          (None, 5, 5, 62)          29078     \n",
      "                                                                 \n",
      " max_pooling2d_11 (MaxPoolin  (None, 2, 2, 62)         0         \n",
      " g2D)                                                            \n",
      "                                                                 \n",
      " flatten_2 (Flatten)         (None, 248)               0         \n",
      "                                                                 \n",
      " dense_6 (Dense)             (None, 64)                15936     \n",
      "                                                                 \n",
      " dense_7 (Dense)             (None, 32)                2080      \n",
      "                                                                 \n",
      " dense_8 (Dense)             (None, 2)                 66        \n",
      "                                                                 \n",
      "=================================================================\n",
      "Total params: 79,326\n",
      "Trainable params: 79,326\n",
      "Non-trainable params: 0\n",
      "_________________________________________________________________\n"
     ]
    }
   ],
   "source": [
    "model = models.Sequential(name = \"Base_Problem_Model\")\n",
    "model.add(layers.Conv2D(32, (3, 3), activation='relu', input_shape=(70, 70, 1)))\n",
    "model.add(layers.MaxPooling2D((2, 2)))\n",
    "model.add(layers.Conv2D(42, (3, 3), activation='relu'))\n",
    "model.add(layers.MaxPooling2D((2, 2)))\n",
    "model.add(layers.Conv2D(52, (3, 3), activation='relu'))\n",
    "model.add(layers.MaxPooling2D((2, 2)))\n",
    "model.add(layers.Conv2D(62, (3, 3), activation='relu'))\n",
    "model.add(layers.MaxPooling2D((2, 2)))\n",
    "\n",
    "\n",
    "model.add(layers.Flatten())\n",
    "model.add(layers.Dense(64, activation='relu'))\n",
    "model.add(layers.Dense(32, activation='relu'))\n",
    "model.add(layers.Dense(2, activation='softmax'))\n",
    "model.summary()"
   ]
  },
  {
   "cell_type": "code",
   "execution_count": 14,
   "id": "0d331655",
   "metadata": {
    "scrolled": true
   },
   "outputs": [
    {
     "name": "stdout",
     "output_type": "stream",
     "text": [
      "Epoch 1/18\n",
      "101/101 [==============================] - 3s 22ms/step - loss: 1.1357 - accuracy: 0.7787 - val_loss: 0.1291 - val_accuracy: 0.9646\n",
      "Epoch 2/18\n",
      "101/101 [==============================] - 2s 16ms/step - loss: 0.2063 - accuracy: 0.9448 - val_loss: 0.0342 - val_accuracy: 0.9956\n",
      "Epoch 3/18\n",
      "101/101 [==============================] - 2s 16ms/step - loss: 0.1300 - accuracy: 0.9652 - val_loss: 0.0157 - val_accuracy: 1.0000\n",
      "Epoch 4/18\n",
      "101/101 [==============================] - 2s 17ms/step - loss: 0.0930 - accuracy: 0.9796 - val_loss: 0.0161 - val_accuracy: 0.9956\n",
      "Epoch 5/18\n",
      "101/101 [==============================] - 2s 16ms/step - loss: 0.0917 - accuracy: 0.9796 - val_loss: 0.0093 - val_accuracy: 0.9978\n",
      "Epoch 6/18\n",
      "101/101 [==============================] - 2s 17ms/step - loss: 0.0669 - accuracy: 0.9851 - val_loss: 0.0225 - val_accuracy: 0.9956\n",
      "Epoch 7/18\n",
      "101/101 [==============================] - 2s 16ms/step - loss: 0.0392 - accuracy: 0.9928 - val_loss: 0.0236 - val_accuracy: 0.9934\n",
      "Epoch 8/18\n",
      "101/101 [==============================] - 2s 17ms/step - loss: 0.0465 - accuracy: 0.9895 - val_loss: 0.0442 - val_accuracy: 0.9823\n"
     ]
    }
   ],
   "source": [
    "model.compile(\n",
    "    optimizer='adam',\n",
    "    loss=tf.keras.losses.SparseCategoricalCrossentropy(),\n",
    "    metrics=['accuracy'],\n",
    ")\n",
    "\n",
    "weights = {0: 1.,\n",
    "           1: len(y_train[y_train == 0])/len(y_train[y_train == 1])}\n",
    "\n",
    "es = EarlyStopping(monitor='val_accuracy', mode='max', patience=5,  restore_best_weights=True)\n",
    "\n",
    "cp_path = \"models_checkpoints/\"+model.name+\"/\"+model.name\n",
    "cp = ModelCheckpoint(monitor='val_accuracy', mode='max', save_weights_only=True, filepath=cp_path)\n",
    "\n",
    "history = model.fit(x_train, y_train, epochs=18, batch_size=18,\n",
    "                    validation_data = (x_test,y_test),callbacks=[es,cp],class_weight=weights)"
   ]
  },
  {
   "cell_type": "code",
   "execution_count": 18,
   "id": "17a8aa76",
   "metadata": {
    "scrolled": false
   },
   "outputs": [
    {
     "name": "stdout",
     "output_type": "stream",
     "text": [
      "15/15 - 0s - loss: 0.0157 - accuracy: 1.0000 - 118ms/epoch - 8ms/step\n",
      "15/15 [==============================] - 0s 7ms/step\n",
      "              precision    recall  f1-score   support\n",
      "\n",
      "           0       1.00      1.00      1.00       226\n",
      "           1       1.00      1.00      1.00       226\n",
      "\n",
      "    accuracy                           1.00       452\n",
      "   macro avg       1.00      1.00      1.00       452\n",
      "weighted avg       1.00      1.00      1.00       452\n",
      "\n"
     ]
    },
    {
     "data": {
      "text/plain": [
       "Text(50.722222222222214, 0.5, 'Actual')"
      ]
     },
     "execution_count": 18,
     "metadata": {},
     "output_type": "execute_result"
    },
    {
     "data": {
      "image/png": "[encoded data removed]",
      "text/plain": [
       "<Figure size 640x480 with 2 Axes>"
      ]
     },
     "metadata": {},
     "output_type": "display_data"
    }
   ],
   "source": [
    "test_loss, test_acc = model.evaluate(x_test,  y_test, verbose=2)\n",
    "y_pred = np.argmax(model.predict(x_test),axis=-1)\n",
    "print (classification_report(y_test,y_pred))\n",
    "cm = confusion_matrix(y_test,y_pred)\n",
    "y_labels =['Alexander', 'Ptolemy 1']\n",
    "x_labels =['Alexander', 'Ptolemy 1']\n",
    "sns.heatmap(cm,annot=True, xticklabels = x_labels, yticklabels = y_labels, annot_kws = {'size':15},fmt=\".1f\")\n",
    "plt.xlabel(\"Predict\")\n",
    "plt.ylabel(\"Actual\")"
   ]
  },
  {
   "cell_type": "markdown",
   "id": "48e43ed0",
   "metadata": {},
   "source": [
    "# Main Problem - Alexander, Ptolemy I, Ptolemy VI, Ptolemy IX, Ptolemy XII"
   ]
  },
  {
   "cell_type": "markdown",
   "id": "6fd0f29b",
   "metadata": {},
   "source": [
    "## Basic model"
   ]
  },
  {
   "cell_type": "code",
   "execution_count": 62,
   "id": "a4488f1c",
   "metadata": {},
   "outputs": [],
   "source": [
    "train_dir = r'train'\n",
    "test_dir = r'test'\n",
    "size = 150\n",
    "is_gray = False\n",
    "x_train, y_train, train_paths = load_data(train_dir, size, is_gray)\n",
    "x_test, y_test, test_paths = load_data(test_dir, size, is_gray)"
   ]
  },
  {
   "cell_type": "code",
   "execution_count": 63,
   "id": "0a4b86e5",
   "metadata": {
    "scrolled": false
   },
   "outputs": [
    {
     "data": {
      "text/plain": [
       "Text(0.5, 1.0, 'Train')"
      ]
     },
     "execution_count": 63,
     "metadata": {},
     "output_type": "execute_result"
    },
    {
     "data": {
      "image/png": "[encoded data removed]",
      "text/plain": [
       "<Figure size 640x480 with 1 Axes>"
      ]
     },
     "metadata": {},
     "output_type": "display_data"
    }
   ],
   "source": [
    "classes = ['Alexander', 'Ptolmy 1', 'Ptolmy 6','Ptolmy 12','Ptolmy 9']\n",
    "ax = sns.countplot(x = y_train)\n",
    "ax.set_xticklabels(classes)\n",
    "ax.set_title(\"Train\")"
   ]
  },
  {
   "cell_type": "code",
   "execution_count": 64,
   "id": "a9ecc7db",
   "metadata": {
    "scrolled": false
   },
   "outputs": [
    {
     "data": {
      "text/plain": [
       "Text(0.5, 1.0, 'Test')"
      ]
     },
     "execution_count": 64,
     "metadata": {},
     "output_type": "execute_result"
    },
    {
     "data": {
      "image/png": "[encoded data removed]",
      "text/plain": [
       "<Figure size 640x480 with 1 Axes>"
      ]
     },
     "metadata": {},
     "output_type": "display_data"
    }
   ],
   "source": [
    "ax = sns.countplot(x = y_test)\n",
    "ax.set_xticklabels(classes)\n",
    "ax.set_title(\"Test\")"
   ]
  },
  {
   "cell_type": "code",
   "execution_count": 34,
   "id": "cfa79391",
   "metadata": {
    "scrolled": true
   },
   "outputs": [
    {
     "name": "stdout",
     "output_type": "stream",
     "text": [
      "Model: \"Main_Problem_Model\"\n",
      "_________________________________________________________________\n",
      " Layer (type)                Output Shape              Param #   \n",
      "=================================================================\n",
      " conv2d_24 (Conv2D)          (None, 148, 148, 32)      896       \n",
      "                                                                 \n",
      " max_pooling2d_24 (MaxPoolin  (None, 74, 74, 32)       0         \n",
      " g2D)                                                            \n",
      "                                                                 \n",
      " conv2d_25 (Conv2D)          (None, 72, 72, 42)        12138     \n",
      "                                                                 \n",
      " max_pooling2d_25 (MaxPoolin  (None, 36, 36, 42)       0         \n",
      " g2D)                                                            \n",
      "                                                                 \n",
      " conv2d_26 (Conv2D)          (None, 34, 34, 52)        19708     \n",
      "                                                                 \n",
      " max_pooling2d_26 (MaxPoolin  (None, 17, 17, 52)       0         \n",
      " g2D)                                                            \n",
      "                                                                 \n",
      " conv2d_27 (Conv2D)          (None, 15, 15, 62)        29078     \n",
      "                                                                 \n",
      " max_pooling2d_27 (MaxPoolin  (None, 7, 7, 62)         0         \n",
      " g2D)                                                            \n",
      "                                                                 \n",
      " flatten_6 (Flatten)         (None, 3038)              0         \n",
      "                                                                 \n",
      " dense_18 (Dense)            (None, 64)                194496    \n",
      "                                                                 \n",
      " dense_19 (Dense)            (None, 32)                2080      \n",
      "                                                                 \n",
      " dense_20 (Dense)            (None, 5)                 165       \n",
      "                                                                 \n",
      "=================================================================\n",
      "Total params: 258,561\n",
      "Trainable params: 258,561\n",
      "Non-trainable params: 0\n",
      "_________________________________________________________________\n"
     ]
    }
   ],
   "source": [
    "model = models.Sequential(name = \"Main_Problem_Model\")\n",
    "model.add(layers.Conv2D(32, (3, 3), activation='relu', input_shape=(150, 150, 3)))\n",
    "model.add(layers.MaxPooling2D((2, 2)))\n",
    "model.add(layers.Conv2D(42, (3, 3), activation='relu'))\n",
    "model.add(layers.MaxPooling2D((2, 2)))\n",
    "model.add(layers.Conv2D(52, (3, 3), activation='relu'))\n",
    "model.add(layers.MaxPooling2D((2, 2)))\n",
    "model.add(layers.Conv2D(62, (3, 3), activation='relu'))\n",
    "model.add(layers.MaxPooling2D((2, 2)))\n",
    "\n",
    "model.add(layers.Flatten())\n",
    "model.add(layers.Dense(64, activation='relu'))\n",
    "model.add(layers.Dense(32, activation='relu'))\n",
    "model.add(layers.Dense(5, activation='softmax'))\n",
    "model.summary()"
   ]
  },
  {
   "cell_type": "code",
   "execution_count": 35,
   "id": "ce1201f2",
   "metadata": {
    "scrolled": true
   },
   "outputs": [
    {
     "name": "stdout",
     "output_type": "stream",
     "text": [
      "Epoch 1/33\n",
      "102/102 [==============================] - 15s 138ms/step - loss: 6.6698 - accuracy: 0.2590 - val_loss: 1.4116 - val_accuracy: 0.3533\n",
      "Epoch 2/33\n",
      "102/102 [==============================] - 14s 139ms/step - loss: 2.3525 - accuracy: 0.5886 - val_loss: 1.1012 - val_accuracy: 0.5497\n",
      "Epoch 3/33\n",
      "102/102 [==============================] - 14s 140ms/step - loss: 1.7627 - accuracy: 0.7192 - val_loss: 0.7556 - val_accuracy: 0.6886\n",
      "Epoch 4/33\n",
      "102/102 [==============================] - 15s 143ms/step - loss: 1.3894 - accuracy: 0.7894 - val_loss: 0.6720 - val_accuracy: 0.7317\n",
      "Epoch 5/33\n",
      "102/102 [==============================] - 14s 137ms/step - loss: 1.2026 - accuracy: 0.8306 - val_loss: 0.6724 - val_accuracy: 0.7341\n",
      "Epoch 6/33\n",
      "102/102 [==============================] - 14s 142ms/step - loss: 1.1879 - accuracy: 0.8309 - val_loss: 0.7204 - val_accuracy: 0.7353\n",
      "Epoch 7/33\n",
      "102/102 [==============================] - 14s 140ms/step - loss: 0.9944 - accuracy: 0.8569 - val_loss: 0.6445 - val_accuracy: 0.7521\n",
      "Epoch 8/33\n",
      "102/102 [==============================] - 15s 142ms/step - loss: 0.8661 - accuracy: 0.8745 - val_loss: 0.6389 - val_accuracy: 0.7557\n",
      "Epoch 9/33\n",
      "102/102 [==============================] - 16s 161ms/step - loss: 0.8183 - accuracy: 0.8826 - val_loss: 0.7662 - val_accuracy: 0.7329\n",
      "Epoch 10/33\n",
      "102/102 [==============================] - 15s 146ms/step - loss: 0.7227 - accuracy: 0.8987 - val_loss: 0.6118 - val_accuracy: 0.7713\n",
      "Epoch 11/33\n",
      "102/102 [==============================] - 15s 149ms/step - loss: 0.6467 - accuracy: 0.9065 - val_loss: 0.5766 - val_accuracy: 0.7952\n",
      "Epoch 12/33\n",
      "102/102 [==============================] - 14s 142ms/step - loss: 0.6218 - accuracy: 0.9143 - val_loss: 0.5383 - val_accuracy: 0.8084\n",
      "Epoch 13/33\n",
      "102/102 [==============================] - 15s 143ms/step - loss: 0.5093 - accuracy: 0.9277 - val_loss: 0.5961 - val_accuracy: 0.7844\n",
      "Epoch 14/33\n",
      "102/102 [==============================] - 15s 151ms/step - loss: 0.4598 - accuracy: 0.9343 - val_loss: 0.6694 - val_accuracy: 0.7940\n",
      "Epoch 15/33\n",
      "102/102 [==============================] - 16s 156ms/step - loss: 0.3577 - accuracy: 0.9492 - val_loss: 0.6617 - val_accuracy: 0.7916\n",
      "Epoch 16/33\n",
      "102/102 [==============================] - 15s 147ms/step - loss: 0.3762 - accuracy: 0.9450 - val_loss: 0.7430 - val_accuracy: 0.7904\n",
      "Epoch 17/33\n",
      "102/102 [==============================] - 15s 144ms/step - loss: 0.5137 - accuracy: 0.9274 - val_loss: 0.7942 - val_accuracy: 0.7701\n",
      "Epoch 18/33\n",
      "102/102 [==============================] - 15s 146ms/step - loss: 0.3361 - accuracy: 0.9495 - val_loss: 0.7679 - val_accuracy: 0.8036\n",
      "Epoch 19/33\n",
      "102/102 [==============================] - 14s 140ms/step - loss: 0.3434 - accuracy: 0.9522 - val_loss: 0.7080 - val_accuracy: 0.7940\n",
      "Epoch 20/33\n",
      "102/102 [==============================] - 15s 147ms/step - loss: 0.2797 - accuracy: 0.9624 - val_loss: 1.0468 - val_accuracy: 0.7976\n",
      "Epoch 21/33\n",
      "102/102 [==============================] - 15s 147ms/step - loss: 0.2836 - accuracy: 0.9647 - val_loss: 0.8083 - val_accuracy: 0.7892\n",
      "Epoch 22/33\n",
      "102/102 [==============================] - 15s 145ms/step - loss: 0.2257 - accuracy: 0.9704 - val_loss: 0.9185 - val_accuracy: 0.7928\n"
     ]
    }
   ],
   "source": [
    "model.compile(\n",
    "    optimizer='adam',\n",
    "    loss=tf.keras.losses.SparseCategoricalCrossentropy(),\n",
    "    metrics=['accuracy'],\n",
    ")\n",
    "\n",
    "weights = {0: 1.,\n",
    "           1: len(y_train[y_train == 0])/len(y_train[y_train == 1]),\n",
    "           2: len(y_train[y_train == 0])/len(y_train[y_train == 2]),\n",
    "           3: len(y_train[y_train == 0])/len(y_train[y_train == 3]),\n",
    "           4: len(y_train[y_train == 0])/len(y_train[y_train == 4])}\n",
    "\n",
    "es = EarlyStopping(monitor='val_accuracy', mode='max', patience=10,  restore_best_weights=True)\n",
    "\n",
    "cp_path = \"models_checkpoints/\"+model.name+\"/\"+model.name\n",
    "cp = ModelCheckpoint(monitor='val_accuracy', mode='max', save_weights_only=True, filepath=cp_path)\n",
    "\n",
    "history = model.fit(x_train, y_train, epochs=33, batch_size=33,\n",
    "                    validation_data = (x_test,y_test),callbacks=[es,cp],class_weight=weights)"
   ]
  },
  {
   "cell_type": "code",
   "execution_count": 36,
   "id": "f835e8bd",
   "metadata": {
    "scrolled": false
   },
   "outputs": [
    {
     "name": "stdout",
     "output_type": "stream",
     "text": [
      "27/27 - 1s - loss: 0.5383 - accuracy: 0.8084 - 860ms/epoch - 32ms/step\n",
      "27/27 [==============================] - 1s 34ms/step\n",
      "              precision    recall  f1-score   support\n",
      "\n",
      "           0       0.99      0.98      0.99       167\n",
      "           1       0.93      0.92      0.92       167\n",
      "           2       0.76      0.87      0.82       167\n",
      "           3       0.70      0.64      0.67       167\n",
      "           4       0.65      0.63      0.64       167\n",
      "\n",
      "    accuracy                           0.81       835\n",
      "   macro avg       0.81      0.81      0.81       835\n",
      "weighted avg       0.81      0.81      0.81       835\n",
      "\n"
     ]
    },
    {
     "data": {
      "text/plain": [
       "Text(50.722222222222214, 0.5, 'Actual')"
      ]
     },
     "execution_count": 36,
     "metadata": {},
     "output_type": "execute_result"
    },
    {
     "data": {
      "image/png": "[encoded data removed]",
      "text/plain": [
       "<Figure size 640x480 with 2 Axes>"
      ]
     },
     "metadata": {},
     "output_type": "display_data"
    }
   ],
   "source": [
    "test_loss, test_acc = model.evaluate(x_test,  y_test, verbose=2)\n",
    "y_pred = np.argmax(model.predict(x_test),axis=-1)\n",
    "print (classification_report(y_test,y_pred))\n",
    "cm = confusion_matrix(y_test,y_pred)\n",
    "y_labels =['Alex', 'Ptolmy 1', 'Ptolmy 6','Ptolmy 12','Ptolmy 9']\n",
    "x_labels =['Alex', '1', '6','12','9',]\n",
    "sns.heatmap(cm,annot=True, xticklabels = x_labels, yticklabels = y_labels, annot_kws = {'size':15},fmt=\".1f\")\n",
    "plt.xlabel(\"Predict\")\n",
    "plt.ylabel(\"Actual\")"
   ]
  },
  {
   "cell_type": "markdown",
   "id": "227e4831",
   "metadata": {},
   "source": [
    "## VGG16 Model"
   ]
  },
  {
   "cell_type": "code",
   "execution_count": 42,
   "id": "f623f499",
   "metadata": {
    "scrolled": true
   },
   "outputs": [
    {
     "name": "stdout",
     "output_type": "stream",
     "text": [
      "Model: \"vgg16\"\n",
      "_________________________________________________________________\n",
      " Layer (type)                Output Shape              Param #   \n",
      "=================================================================\n",
      " input_2 (InputLayer)        [(None, 150, 150, 3)]     0         \n",
      "                                                                 \n",
      " block1_conv1 (Conv2D)       (None, 150, 150, 64)      1792      \n",
      "                                                                 \n",
      " block1_conv2 (Conv2D)       (None, 150, 150, 64)      36928     \n",
      "                                                                 \n",
      " block1_pool (MaxPooling2D)  (None, 75, 75, 64)        0         \n",
      "                                                                 \n",
      " block2_conv1 (Conv2D)       (None, 75, 75, 128)       73856     \n",
      "                                                                 \n",
      " block2_conv2 (Conv2D)       (None, 75, 75, 128)       147584    \n",
      "                                                                 \n",
      " block2_pool (MaxPooling2D)  (None, 37, 37, 128)       0         \n",
      "                                                                 \n",
      " block3_conv1 (Conv2D)       (None, 37, 37, 256)       295168    \n",
      "                                                                 \n",
      " block3_conv2 (Conv2D)       (None, 37, 37, 256)       590080    \n",
      "                                                                 \n",
      " block3_conv3 (Conv2D)       (None, 37, 37, 256)       590080    \n",
      "                                                                 \n",
      " block3_pool (MaxPooling2D)  (None, 18, 18, 256)       0         \n",
      "                                                                 \n",
      " block4_conv1 (Conv2D)       (None, 18, 18, 512)       1180160   \n",
      "                                                                 \n",
      " block4_conv2 (Conv2D)       (None, 18, 18, 512)       2359808   \n",
      "                                                                 \n",
      " block4_conv3 (Conv2D)       (None, 18, 18, 512)       2359808   \n",
      "                                                                 \n",
      " block4_pool (MaxPooling2D)  (None, 9, 9, 512)         0         \n",
      "                                                                 \n",
      " block5_conv1 (Conv2D)       (None, 9, 9, 512)         2359808   \n",
      "                                                                 \n",
      " block5_conv2 (Conv2D)       (None, 9, 9, 512)         2359808   \n",
      "                                                                 \n",
      " block5_conv3 (Conv2D)       (None, 9, 9, 512)         2359808   \n",
      "                                                                 \n",
      " block5_pool (MaxPooling2D)  (None, 4, 4, 512)         0         \n",
      "                                                                 \n",
      "=================================================================\n",
      "Total params: 14,714,688\n",
      "Trainable params: 0\n",
      "Non-trainable params: 14,714,688\n",
      "_________________________________________________________________\n"
     ]
    }
   ],
   "source": [
    "from tensorflow.keras.applications.vgg16 import VGG16\n",
    "from tensorflow.keras.applications.vgg16 import preprocess_input\n",
    "## Preprocessing input do not scale the if you want to use this preprocess!!!!!!!!!\n",
    "x_train_pre_vgg = preprocess_input(x_train) \n",
    "x_test_pre_vgg = preprocess_input(x_test)\n",
    "\n",
    "base_model = VGG16(weights=\"imagenet\", include_top=False, input_shape=x_train[0].shape)\n",
    "for layer in base_model.layers:\n",
    "    layer.trainable = False\n",
    "base_model.summary()"
   ]
  },
  {
   "cell_type": "code",
   "execution_count": 43,
   "id": "e9a13e6d",
   "metadata": {},
   "outputs": [
    {
     "name": "stdout",
     "output_type": "stream",
     "text": [
      "Model: \"Simple_VGG16\"\n",
      "_________________________________________________________________\n",
      " Layer (type)                Output Shape              Param #   \n",
      "=================================================================\n",
      " vgg16 (Functional)          (None, 4, 4, 512)         14714688  \n",
      "                                                                 \n",
      " flatten_8 (Flatten)         (None, 8192)              0         \n",
      "                                                                 \n",
      " dense_24 (Dense)            (None, 64)                524352    \n",
      "                                                                 \n",
      " dense_25 (Dense)            (None, 32)                2080      \n",
      "                                                                 \n",
      " dense_26 (Dense)            (None, 5)                 165       \n",
      "                                                                 \n",
      "=================================================================\n",
      "Total params: 15,241,285\n",
      "Trainable params: 526,597\n",
      "Non-trainable params: 14,714,688\n",
      "_________________________________________________________________\n"
     ]
    }
   ],
   "source": [
    "flatten_layer = layers.Flatten()\n",
    "dense_layer_1 = layers.Dense(64, activation='relu')\n",
    "dense_layer_2 = layers.Dense(32, activation='relu')\n",
    "prediction_layer = layers.Dense(5, activation='softmax')\n",
    "\n",
    "\n",
    "model = models.Sequential([\n",
    "    base_model,\n",
    "    flatten_layer,\n",
    "    dense_layer_1,\n",
    "    dense_layer_2,\n",
    "    prediction_layer\n",
    "],name = \"Simple_VGG16\")\n",
    "model.summary()"
   ]
  },
  {
   "cell_type": "code",
   "execution_count": 44,
   "id": "4f6a2ae0",
   "metadata": {
    "scrolled": true
   },
   "outputs": [
    {
     "name": "stdout",
     "output_type": "stream",
     "text": [
      "Epoch 1/33\n",
      "102/102 [==============================] - 135s 1s/step - loss: 3.2711 - accuracy: 0.6265 - val_loss: 0.7841 - val_accuracy: 0.6886\n",
      "Epoch 2/33\n",
      "102/102 [==============================] - 134s 1s/step - loss: 1.2749 - accuracy: 0.8148 - val_loss: 0.6321 - val_accuracy: 0.7964\n",
      "Epoch 3/33\n",
      "102/102 [==============================] - 134s 1s/step - loss: 0.8620 - accuracy: 0.8778 - val_loss: 0.6172 - val_accuracy: 0.8000\n",
      "Epoch 4/33\n",
      "102/102 [==============================] - 134s 1s/step - loss: 0.6929 - accuracy: 0.9020 - val_loss: 0.4956 - val_accuracy: 0.8359\n",
      "Epoch 5/33\n",
      "102/102 [==============================] - 136s 1s/step - loss: 0.5156 - accuracy: 0.9244 - val_loss: 0.6670 - val_accuracy: 0.8180\n",
      "Epoch 6/33\n",
      "102/102 [==============================] - 135s 1s/step - loss: 0.3802 - accuracy: 0.9432 - val_loss: 0.7216 - val_accuracy: 0.8120\n",
      "Epoch 7/33\n",
      "102/102 [==============================] - 136s 1s/step - loss: 0.3052 - accuracy: 0.9555 - val_loss: 0.7688 - val_accuracy: 0.8192\n",
      "Epoch 8/33\n",
      "102/102 [==============================] - 134s 1s/step - loss: 0.2959 - accuracy: 0.9573 - val_loss: 0.6598 - val_accuracy: 0.8192\n",
      "Epoch 9/33\n",
      "102/102 [==============================] - 134s 1s/step - loss: 0.2014 - accuracy: 0.9716 - val_loss: 0.7532 - val_accuracy: 0.8180\n",
      "Epoch 10/33\n",
      "102/102 [==============================] - 135s 1s/step - loss: 0.1594 - accuracy: 0.9773 - val_loss: 0.7807 - val_accuracy: 0.8240\n",
      "Epoch 11/33\n",
      "102/102 [==============================] - 136s 1s/step - loss: 0.1352 - accuracy: 0.9803 - val_loss: 0.8000 - val_accuracy: 0.8251\n",
      "Epoch 12/33\n",
      "102/102 [==============================] - 138s 1s/step - loss: 0.1715 - accuracy: 0.9746 - val_loss: 0.8007 - val_accuracy: 0.8096\n",
      "Epoch 13/33\n",
      "102/102 [==============================] - 137s 1s/step - loss: 0.1204 - accuracy: 0.9875 - val_loss: 1.1587 - val_accuracy: 0.7916\n",
      "Epoch 14/33\n",
      "102/102 [==============================] - 136s 1s/step - loss: 0.3236 - accuracy: 0.9618 - val_loss: 1.1696 - val_accuracy: 0.7701\n"
     ]
    }
   ],
   "source": [
    "model.compile(\n",
    "    optimizer='adam',\n",
    "    loss=tf.keras.losses.SparseCategoricalCrossentropy(),\n",
    "    metrics=['accuracy'],\n",
    ")\n",
    "\n",
    "weights = {0: 1.,\n",
    "           1: len(y_train[y_train == 0])/len(y_train[y_train == 1]),\n",
    "           2: len(y_train[y_train == 0])/len(y_train[y_train == 2]),\n",
    "           3: len(y_train[y_train == 0])/len(y_train[y_train == 3]),\n",
    "           4: len(y_train[y_train == 0])/len(y_train[y_train == 4])}\n",
    "\n",
    "es = EarlyStopping(monitor='val_accuracy', mode='max', patience=10,  restore_best_weights=True)\n",
    "\n",
    "cp_path = \"models_checkpoints/\"+model.name+\"/\"+model.name\n",
    "cp = ModelCheckpoint(monitor='val_accuracy', mode='max', save_weights_only=True, filepath=cp_path)\n",
    "\n",
    "history = model.fit(x_train_pre_vgg, y_train, epochs=33, batch_size=33,\n",
    "                    validation_data = (x_test_pre_vgg,y_test),callbacks=[es,cp],class_weight=weights)"
   ]
  },
  {
   "cell_type": "code",
   "execution_count": 45,
   "id": "ffb3409e",
   "metadata": {},
   "outputs": [
    {
     "name": "stdout",
     "output_type": "stream",
     "text": [
      "27/27 - 27s - loss: 0.4956 - accuracy: 0.8359 - 27s/epoch - 990ms/step\n",
      "27/27 [==============================] - 28s 1s/step\n",
      "              precision    recall  f1-score   support\n",
      "\n",
      "           0       0.99      0.99      0.99       167\n",
      "           1       0.91      0.93      0.92       167\n",
      "           2       0.89      0.80      0.85       167\n",
      "           3       0.71      0.71      0.71       167\n",
      "           4       0.69      0.74      0.71       167\n",
      "\n",
      "    accuracy                           0.84       835\n",
      "   macro avg       0.84      0.84      0.84       835\n",
      "weighted avg       0.84      0.84      0.84       835\n",
      "\n"
     ]
    },
    {
     "data": {
      "text/plain": [
       "Text(50.722222222222214, 0.5, 'Actual')"
      ]
     },
     "execution_count": 45,
     "metadata": {},
     "output_type": "execute_result"
    },
    {
     "data": {
      "image/png": "[encoded data removed]",
      "text/plain": [
       "<Figure size 640x480 with 2 Axes>"
      ]
     },
     "metadata": {},
     "output_type": "display_data"
    }
   ],
   "source": [
    "test_loss, test_acc = model.evaluate(x_test_pre_vgg,  y_test, verbose=2)\n",
    "y_pred = np.argmax(model.predict(x_test_pre_vgg),axis=-1)\n",
    "print (classification_report(y_test,y_pred))\n",
    "cm = confusion_matrix(y_test,y_pred)\n",
    "y_labels =['Alex', 'Ptolmy 1', 'Ptolmy 6','Ptolmy 12','Ptolmy 9']\n",
    "x_labels =['Alex', '1', '6','12','9',]\n",
    "sns.heatmap(cm,annot=True, xticklabels = x_labels, yticklabels = y_labels, annot_kws = {'size':15},fmt=\".1f\")\n",
    "plt.xlabel(\"Predict\")\n",
    "plt.ylabel(\"Actual\")"
   ]
  },
  {
   "cell_type": "markdown",
   "id": "3d39dd5a",
   "metadata": {},
   "source": [
    "## ResNet50 Model"
   ]
  },
  {
   "cell_type": "code",
   "execution_count": 65,
   "id": "7fed1097",
   "metadata": {},
   "outputs": [
    {
     "name": "stdout",
     "output_type": "stream",
     "text": [
      "0 input_3 - False\n",
      "1 conv1_pad - False\n",
      "2 conv1_conv - False\n",
      "3 conv1_bn - False\n",
      "4 conv1_relu - False\n",
      "5 pool1_pad - False\n",
      "6 pool1_pool - False\n",
      "7 conv2_block1_1_conv - False\n",
      "8 conv2_block1_1_bn - False\n",
      "9 conv2_block1_1_relu - False\n",
      "10 conv2_block1_2_conv - False\n",
      "11 conv2_block1_2_bn - False\n",
      "12 conv2_block1_2_relu - False\n",
      "13 conv2_block1_0_conv - False\n",
      "14 conv2_block1_3_conv - False\n",
      "15 conv2_block1_0_bn - False\n",
      "16 conv2_block1_3_bn - False\n",
      "17 conv2_block1_add - False\n",
      "18 conv2_block1_out - False\n",
      "19 conv2_block2_1_conv - False\n",
      "20 conv2_block2_1_bn - False\n",
      "21 conv2_block2_1_relu - False\n",
      "22 conv2_block2_2_conv - False\n",
      "23 conv2_block2_2_bn - False\n",
      "24 conv2_block2_2_relu - False\n",
      "25 conv2_block2_3_conv - False\n",
      "26 conv2_block2_3_bn - False\n",
      "27 conv2_block2_add - False\n",
      "28 conv2_block2_out - False\n",
      "29 conv2_block3_1_conv - False\n",
      "30 conv2_block3_1_bn - False\n",
      "31 conv2_block3_1_relu - False\n",
      "32 conv2_block3_2_conv - False\n",
      "33 conv2_block3_2_bn - False\n",
      "34 conv2_block3_2_relu - False\n",
      "35 conv2_block3_3_conv - False\n",
      "36 conv2_block3_3_bn - False\n",
      "37 conv2_block3_add - False\n",
      "38 conv2_block3_out - False\n",
      "39 conv3_block1_1_conv - False\n",
      "40 conv3_block1_1_bn - False\n",
      "41 conv3_block1_1_relu - False\n",
      "42 conv3_block1_2_conv - False\n",
      "43 conv3_block1_2_bn - False\n",
      "44 conv3_block1_2_relu - False\n",
      "45 conv3_block1_0_conv - False\n",
      "46 conv3_block1_3_conv - False\n",
      "47 conv3_block1_0_bn - False\n",
      "48 conv3_block1_3_bn - False\n",
      "49 conv3_block1_add - False\n",
      "50 conv3_block1_out - False\n",
      "51 conv3_block2_1_conv - False\n",
      "52 conv3_block2_1_bn - False\n",
      "53 conv3_block2_1_relu - False\n",
      "54 conv3_block2_2_conv - False\n",
      "55 conv3_block2_2_bn - False\n",
      "56 conv3_block2_2_relu - False\n",
      "57 conv3_block2_3_conv - False\n",
      "58 conv3_block2_3_bn - False\n",
      "59 conv3_block2_add - False\n",
      "60 conv3_block2_out - False\n",
      "61 conv3_block3_1_conv - False\n",
      "62 conv3_block3_1_bn - False\n",
      "63 conv3_block3_1_relu - False\n",
      "64 conv3_block3_2_conv - False\n",
      "65 conv3_block3_2_bn - False\n",
      "66 conv3_block3_2_relu - False\n",
      "67 conv3_block3_3_conv - False\n",
      "68 conv3_block3_3_bn - False\n",
      "69 conv3_block3_add - False\n",
      "70 conv3_block3_out - False\n",
      "71 conv3_block4_1_conv - False\n",
      "72 conv3_block4_1_bn - False\n",
      "73 conv3_block4_1_relu - False\n",
      "74 conv3_block4_2_conv - False\n",
      "75 conv3_block4_2_bn - False\n",
      "76 conv3_block4_2_relu - False\n",
      "77 conv3_block4_3_conv - False\n",
      "78 conv3_block4_3_bn - False\n",
      "79 conv3_block4_add - False\n",
      "80 conv3_block4_out - False\n",
      "81 conv4_block1_1_conv - False\n",
      "82 conv4_block1_1_bn - False\n",
      "83 conv4_block1_1_relu - False\n",
      "84 conv4_block1_2_conv - False\n",
      "85 conv4_block1_2_bn - False\n",
      "86 conv4_block1_2_relu - False\n",
      "87 conv4_block1_0_conv - False\n",
      "88 conv4_block1_3_conv - False\n",
      "89 conv4_block1_0_bn - False\n",
      "90 conv4_block1_3_bn - False\n",
      "91 conv4_block1_add - False\n",
      "92 conv4_block1_out - False\n",
      "93 conv4_block2_1_conv - False\n",
      "94 conv4_block2_1_bn - False\n",
      "95 conv4_block2_1_relu - False\n",
      "96 conv4_block2_2_conv - False\n",
      "97 conv4_block2_2_bn - False\n",
      "98 conv4_block2_2_relu - False\n",
      "99 conv4_block2_3_conv - False\n",
      "100 conv4_block2_3_bn - False\n",
      "101 conv4_block2_add - False\n",
      "102 conv4_block2_out - False\n",
      "103 conv4_block3_1_conv - False\n",
      "104 conv4_block3_1_bn - False\n",
      "105 conv4_block3_1_relu - False\n",
      "106 conv4_block3_2_conv - False\n",
      "107 conv4_block3_2_bn - False\n",
      "108 conv4_block3_2_relu - False\n",
      "109 conv4_block3_3_conv - False\n",
      "110 conv4_block3_3_bn - False\n",
      "111 conv4_block3_add - False\n",
      "112 conv4_block3_out - False\n",
      "113 conv4_block4_1_conv - False\n",
      "114 conv4_block4_1_bn - False\n",
      "115 conv4_block4_1_relu - False\n",
      "116 conv4_block4_2_conv - False\n",
      "117 conv4_block4_2_bn - False\n",
      "118 conv4_block4_2_relu - False\n",
      "119 conv4_block4_3_conv - False\n",
      "120 conv4_block4_3_bn - False\n",
      "121 conv4_block4_add - False\n",
      "122 conv4_block4_out - False\n",
      "123 conv4_block5_1_conv - False\n",
      "124 conv4_block5_1_bn - False\n",
      "125 conv4_block5_1_relu - False\n",
      "126 conv4_block5_2_conv - False\n",
      "127 conv4_block5_2_bn - False\n",
      "128 conv4_block5_2_relu - False\n",
      "129 conv4_block5_3_conv - False\n",
      "130 conv4_block5_3_bn - False\n",
      "131 conv4_block5_add - False\n",
      "132 conv4_block5_out - False\n",
      "133 conv4_block6_1_conv - False\n",
      "134 conv4_block6_1_bn - False\n",
      "135 conv4_block6_1_relu - False\n",
      "136 conv4_block6_2_conv - False\n",
      "137 conv4_block6_2_bn - False\n",
      "138 conv4_block6_2_relu - False\n",
      "139 conv4_block6_3_conv - False\n",
      "140 conv4_block6_3_bn - False\n",
      "141 conv4_block6_add - False\n",
      "142 conv4_block6_out - False\n",
      "143 conv5_block1_1_conv - True\n",
      "144 conv5_block1_1_bn - True\n",
      "145 conv5_block1_1_relu - True\n",
      "146 conv5_block1_2_conv - True\n",
      "147 conv5_block1_2_bn - True\n",
      "148 conv5_block1_2_relu - True\n",
      "149 conv5_block1_0_conv - True\n",
      "150 conv5_block1_3_conv - True\n",
      "151 conv5_block1_0_bn - True\n",
      "152 conv5_block1_3_bn - True\n",
      "153 conv5_block1_add - True\n",
      "154 conv5_block1_out - True\n",
      "155 conv5_block2_1_conv - True\n",
      "156 conv5_block2_1_bn - True\n",
      "157 conv5_block2_1_relu - True\n",
      "158 conv5_block2_2_conv - True\n",
      "159 conv5_block2_2_bn - True\n",
      "160 conv5_block2_2_relu - True\n",
      "161 conv5_block2_3_conv - True\n",
      "162 conv5_block2_3_bn - True\n",
      "163 conv5_block2_add - True\n",
      "164 conv5_block2_out - True\n",
      "165 conv5_block3_1_conv - True\n",
      "166 conv5_block3_1_bn - True\n",
      "167 conv5_block3_1_relu - True\n",
      "168 conv5_block3_2_conv - True\n",
      "169 conv5_block3_2_bn - True\n",
      "170 conv5_block3_2_relu - True\n",
      "171 conv5_block3_3_conv - True\n",
      "172 conv5_block3_3_bn - True\n",
      "173 conv5_block3_add - True\n",
      "174 conv5_block3_out - True\n"
     ]
    }
   ],
   "source": [
    "from tensorflow.keras.applications.resnet50 import ResNet50\n",
    "from tensorflow.keras.applications.resnet50 import preprocess_input\n",
    "## Preprocessing input do not scale the if you want to use this preprocess!!!!!!!!!\n",
    "x_train_pre_res = preprocess_input(x_train) \n",
    "x_test_pre_res = preprocess_input(x_test)\n",
    "\n",
    "base_model = ResNet50(weights=\"imagenet\", include_top=False, input_shape=x_train[0].shape)\n",
    "for layer in base_model.layers[:143]:\n",
    "    layer.trainable = False\n",
    "\n",
    "for i, layer in enumerate(base_model.layers):\n",
    "    print(i,layer.name,\"-\",layer.trainable)"
   ]
  },
  {
   "cell_type": "code",
   "execution_count": 66,
   "id": "deab064f",
   "metadata": {},
   "outputs": [
    {
     "name": "stdout",
     "output_type": "stream",
     "text": [
      "Model: \"ResNet50_with_trainable_layers_split_data\"\n",
      "_________________________________________________________________\n",
      " Layer (type)                Output Shape              Param #   \n",
      "=================================================================\n",
      " resnet50 (Functional)       (None, 5, 5, 2048)        23587712  \n",
      "                                                                 \n",
      " flatten_9 (Flatten)         (None, 51200)             0         \n",
      "                                                                 \n",
      " dense_27 (Dense)            (None, 64)                3276864   \n",
      "                                                                 \n",
      " dense_28 (Dense)            (None, 32)                2080      \n",
      "                                                                 \n",
      " dense_29 (Dense)            (None, 5)                 165       \n",
      "                                                                 \n",
      "=================================================================\n",
      "Total params: 26,866,821\n",
      "Trainable params: 18,255,109\n",
      "Non-trainable params: 8,611,712\n",
      "_________________________________________________________________\n"
     ]
    }
   ],
   "source": [
    "flatten_layer = layers.Flatten()\n",
    "dense_layer_1 = layers.Dense(64, activation='relu')\n",
    "dense_layer_2 = layers.Dense(32, activation='relu')\n",
    "prediction_layer = layers.Dense(5, activation='softmax')\n",
    "\n",
    "\n",
    "model = models.Sequential([\n",
    "    base_model,\n",
    "    flatten_layer,\n",
    "    dense_layer_1,\n",
    "    dense_layer_2,\n",
    "    prediction_layer\n",
    "], name = \"ResNet50_with_trainable_layers_split_data\")\n",
    "model.summary()"
   ]
  },
  {
   "cell_type": "code",
   "execution_count": 67,
   "id": "57d1f4f3",
   "metadata": {},
   "outputs": [
    {
     "data": {
      "text/plain": [
       "<tensorflow.python.checkpoint.checkpoint.CheckpointLoadStatus at 0x234cba76980>"
      ]
     },
     "execution_count": 67,
     "metadata": {},
     "output_type": "execute_result"
    }
   ],
   "source": [
    "model.compile(\n",
    "    optimizer='adam',\n",
    "    loss=tf.keras.losses.SparseCategoricalCrossentropy(),\n",
    "    metrics=['accuracy'],\n",
    ")\n",
    "\n",
    "model.load_weights(r'models_checkpoints\\ResNet50_with_trainable_layers_split_data\\ResNet50_with_trainable_layers_split_data')\n",
    "# weights = {0: 1.,\n",
    "#            1: len(y_train[y_train == 0])/len(y_train[y_train == 1]),\n",
    "#            2: len(y_train[y_train == 0])/len(y_train[y_train == 2]),\n",
    "#            3: len(y_train[y_train == 0])/len(y_train[y_train == 3]),\n",
    "#            4: len(y_train[y_train == 0])/len(y_train[y_train == 4])}\n",
    "\n",
    "# es = EarlyStopping(monitor='val_accuracy', mode='max', patience=10,  restore_best_weights=True)\n",
    "\n",
    "# cp_path = \"models_checkpoints/\"+model.name+\"/\"+model.name\n",
    "# cp = ModelCheckpoint(monitor='val_accuracy', mode='max', save_weights_only=True, filepath=cp_path)\n",
    "\n",
    "# history = model.fit(x_train_pre_res, y_train, epochs=33, batch_size=33,\n",
    "#                     validation_data = (x_test_pre_res,y_test),callbacks=[es,cp],class_weight=weights)"
   ]
  },
  {
   "cell_type": "code",
   "execution_count": 68,
   "id": "b58618f1",
   "metadata": {},
   "outputs": [
    {
     "name": "stdout",
     "output_type": "stream",
     "text": [
      "27/27 - 14s - loss: 0.4916 - accuracy: 0.8958 - 14s/epoch - 504ms/step\n",
      "27/27 [==============================] - 14s 469ms/step\n",
      "              precision    recall  f1-score   support\n",
      "\n",
      "           0       0.99      1.00      1.00       167\n",
      "           1       0.95      0.98      0.97       167\n",
      "           2       0.91      0.92      0.92       167\n",
      "           3       0.80      0.79      0.79       167\n",
      "           4       0.82      0.78      0.80       167\n",
      "\n",
      "    accuracy                           0.90       835\n",
      "   macro avg       0.89      0.90      0.90       835\n",
      "weighted avg       0.89      0.90      0.90       835\n",
      "\n"
     ]
    },
    {
     "data": {
      "text/plain": [
       "Text(50.722222222222214, 0.5, 'Actual')"
      ]
     },
     "execution_count": 68,
     "metadata": {},
     "output_type": "execute_result"
    },
    {
     "data": {
      "image/png": "[encoded data removed]",
      "text/plain": [
       "<Figure size 640x480 with 2 Axes>"
      ]
     },
     "metadata": {},
     "output_type": "display_data"
    }
   ],
   "source": [
    "test_loss, test_acc = model.evaluate(x_test_pre_res,  y_test, verbose=2)\n",
    "y_pred = np.argmax(model.predict(x_test_pre_res),axis=-1)\n",
    "print (classification_report(y_test,y_pred))\n",
    "cm = confusion_matrix(y_test,y_pred)\n",
    "y_labels =['Alex', 'Ptolmy 1', 'Ptolmy 6','Ptolmy 12','Ptolmy 9']\n",
    "x_labels =['Alex', '1', '6','12','9',]\n",
    "sns.heatmap(cm,annot=True, xticklabels = x_labels, yticklabels = y_labels, annot_kws = {'size':15},fmt=\".1f\")\n",
    "plt.xlabel(\"Predict\")\n",
    "plt.ylabel(\"Actual\")"
   ]
  },
  {
   "cell_type": "code",
   "execution_count": null,
   "id": "cb649dcc",
   "metadata": {},
   "outputs": [],
   "source": []
  },
  {
   "cell_type": "code",
   "execution_count": null,
   "id": "378b7f15",
   "metadata": {},
   "outputs": [],
   "source": []
  },
  {
   "cell_type": "code",
   "execution_count": null,
   "id": "ceae6907",
   "metadata": {},
   "outputs": [],
   "source": []
  },
  {
   "cell_type": "code",
   "execution_count": null,
   "id": "d941ccf7",
   "metadata": {},
   "outputs": [],
   "source": []
  },
  {
   "cell_type": "code",
   "execution_count": null,
   "id": "80c2c875",
   "metadata": {},
   "outputs": [],
   "source": []
  },
  {
   "cell_type": "code",
   "execution_count": null,
   "id": "5f3ac1d7",
   "metadata": {},
   "outputs": [],
   "source": []
  },
  {
   "cell_type": "code",
   "execution_count": null,
   "id": "6f301328",
   "metadata": {},
   "outputs": [],
   "source": []
  },
  {
   "cell_type": "code",
   "execution_count": null,
   "id": "f5c30db9",
   "metadata": {},
   "outputs": [],
   "source": []
  },
  {
   "cell_type": "code",
   "execution_count": null,
   "id": "b98cd683",
   "metadata": {},
   "outputs": [],
   "source": []
  },
  {
   "cell_type": "code",
   "execution_count": null,
   "id": "cc042378",
   "metadata": {},
   "outputs": [],
   "source": []
  },
  {
   "cell_type": "code",
   "execution_count": null,
   "id": "f7013413",
   "metadata": {},
   "outputs": [],
   "source": []
  },
  {
   "cell_type": "code",
   "execution_count": null,
   "id": "b2a5f1dd",
   "metadata": {},
   "outputs": [],
   "source": []
  },
  {
   "cell_type": "code",
   "execution_count": null,
   "id": "9d23e12a",
   "metadata": {},
   "outputs": [],
   "source": []
  },
  {
   "cell_type": "code",
   "execution_count": null,
   "id": "f6a08051",
   "metadata": {},
   "outputs": [],
   "source": []
  },
  {
   "cell_type": "code",
   "execution_count": null,
   "id": "16251969",
   "metadata": {},
   "outputs": [],
   "source": []
  },
  {
   "cell_type": "code",
   "execution_count": null,
   "id": "e6dedd68",
   "metadata": {},
   "outputs": [],
   "source": []
  },
  {
   "cell_type": "code",
   "execution_count": null,
   "id": "c5fb654e",
   "metadata": {},
   "outputs": [],
   "source": []
  },
  {
   "cell_type": "code",
   "execution_count": null,
   "id": "9a755695",
   "metadata": {},
   "outputs": [],
   "source": []
  },
  {
   "cell_type": "code",
   "execution_count": null,
   "id": "22d9af63",
   "metadata": {},
   "outputs": [],
   "source": []
  },
  {
   "cell_type": "code",
   "execution_count": null,
   "id": "1cd0b21f",
   "metadata": {},
   "outputs": [],
   "source": []
  },
  {
   "cell_type": "code",
   "execution_count": null,
   "id": "2deba524",
   "metadata": {},
   "outputs": [],
   "source": []
  },
  {
   "cell_type": "code",
   "execution_count": null,
   "id": "a5d8fdde",
   "metadata": {},
   "outputs": [],
   "source": []
  }
 ],
 "metadata": {
  "kernelspec": {
   "display_name": "Python 3 (ipykernel)",
   "language": "python",
   "name": "python3"
  },
  "language_info": {
   "codemirror_mode": {
    "name": "ipython",
    "version": 3
   },
   "file_extension": ".py",
   "mimetype": "text/x-python",
   "name": "python",
   "nbconvert_exporter": "python",
   "pygments_lexer": "ipython3",
   "version": "3.10.9"
  }
 },
 "nbformat": 4,
 "nbformat_minor": 5
}
