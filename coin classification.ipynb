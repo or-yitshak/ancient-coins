{
 "cells": [
  {
   "cell_type": "code",
   "execution_count": 8,
   "metadata": {},
   "outputs": [],
   "source": [
    "import pandas as pd\n",
    "import seaborn as sns\n",
    "import matplotlib.pyplot as plt\n",
    "%matplotlib inline\n",
    "import numpy as np\n",
    "import os\n",
    "import cv2\n",
    "from sklearn.ensemble import RandomForestClassifier\n",
    "from sklearn.metrics import classification_report,confusion_matrix\n",
    "\n",
    "from random import shuffle"
   ]
  },
  {
   "cell_type": "code",
   "execution_count": 9,
   "metadata": {},
   "outputs": [],
   "source": [
    "def label_img(img):\n",
    "    word_label = img.split('_')[0]\n",
    "    if word_label == '0' : return 0\n",
    "    elif word_label == '1' : return 1"
   ]
  },
  {
   "cell_type": "code",
   "execution_count": 10,
   "metadata": {},
   "outputs": [],
   "source": [
    "data = []\n",
    "labels = []\n",
    "for img in os.listdir(r'ptolemy silver proarchives'):\n",
    "    label = label_img(img)\n",
    "    path = os.path.join(r'ptolemy silver proarchives',img)\n",
    "    img = cv2.resize(cv2.imread(path, cv2.IMREAD_GRAYSCALE),(140,70))\n",
    "    data.append(np.array(np.array(img[0:70,0:70]).flatten()))\n",
    "    labels.append(label)"
   ]
  },
  {
   "cell_type": "code",
   "execution_count": 11,
   "metadata": {},
   "outputs": [],
   "source": [
    "cols = []\n",
    "for i in range(4900):\n",
    "    cols.append(\"pixel_\"+str(i))\n",
    "data = pd.DataFrame(data, columns=cols)\n",
    "data = data/255\n",
    "data['label'] = labels\n",
    "data = data.sample(frac=1,random_state=0)"
   ]
  },
  {
   "cell_type": "code",
   "execution_count": 125,
   "metadata": {},
   "outputs": [
    {
     "data": {
      "text/html": [
       "<div>\n",
       "<style scoped>\n",
       "    .dataframe tbody tr th:only-of-type {\n",
       "        vertical-align: middle;\n",
       "    }\n",
       "\n",
       "    .dataframe tbody tr th {\n",
       "        vertical-align: top;\n",
       "    }\n",
       "\n",
       "    .dataframe thead th {\n",
       "        text-align: right;\n",
       "    }\n",
       "</style>\n",
       "<table border=\"1\" class=\"dataframe\">\n",
       "  <thead>\n",
       "    <tr style=\"text-align: right;\">\n",
       "      <th></th>\n",
       "      <th>pixel_0</th>\n",
       "      <th>pixel_1</th>\n",
       "      <th>pixel_2</th>\n",
       "      <th>pixel_3</th>\n",
       "      <th>pixel_4</th>\n",
       "      <th>pixel_5</th>\n",
       "      <th>pixel_6</th>\n",
       "      <th>pixel_7</th>\n",
       "      <th>pixel_8</th>\n",
       "      <th>pixel_9</th>\n",
       "      <th>...</th>\n",
       "      <th>pixel_4891</th>\n",
       "      <th>pixel_4892</th>\n",
       "      <th>pixel_4893</th>\n",
       "      <th>pixel_4894</th>\n",
       "      <th>pixel_4895</th>\n",
       "      <th>pixel_4896</th>\n",
       "      <th>pixel_4897</th>\n",
       "      <th>pixel_4898</th>\n",
       "      <th>pixel_4899</th>\n",
       "      <th>label</th>\n",
       "    </tr>\n",
       "  </thead>\n",
       "  <tbody>\n",
       "    <tr>\n",
       "      <th>532</th>\n",
       "      <td>1.0</td>\n",
       "      <td>1.0</td>\n",
       "      <td>1.0</td>\n",
       "      <td>1.0</td>\n",
       "      <td>1.0</td>\n",
       "      <td>1.0</td>\n",
       "      <td>1.0</td>\n",
       "      <td>1.0</td>\n",
       "      <td>1.0</td>\n",
       "      <td>1.0</td>\n",
       "      <td>...</td>\n",
       "      <td>1.0</td>\n",
       "      <td>1.0</td>\n",
       "      <td>1.0</td>\n",
       "      <td>1.0</td>\n",
       "      <td>1.0</td>\n",
       "      <td>1.0</td>\n",
       "      <td>1.0</td>\n",
       "      <td>1.0</td>\n",
       "      <td>1.0</td>\n",
       "      <td>0</td>\n",
       "    </tr>\n",
       "    <tr>\n",
       "      <th>2127</th>\n",
       "      <td>1.0</td>\n",
       "      <td>1.0</td>\n",
       "      <td>1.0</td>\n",
       "      <td>1.0</td>\n",
       "      <td>1.0</td>\n",
       "      <td>1.0</td>\n",
       "      <td>1.0</td>\n",
       "      <td>1.0</td>\n",
       "      <td>1.0</td>\n",
       "      <td>1.0</td>\n",
       "      <td>...</td>\n",
       "      <td>1.0</td>\n",
       "      <td>1.0</td>\n",
       "      <td>1.0</td>\n",
       "      <td>1.0</td>\n",
       "      <td>1.0</td>\n",
       "      <td>1.0</td>\n",
       "      <td>1.0</td>\n",
       "      <td>1.0</td>\n",
       "      <td>1.0</td>\n",
       "      <td>1</td>\n",
       "    </tr>\n",
       "    <tr>\n",
       "      <th>425</th>\n",
       "      <td>1.0</td>\n",
       "      <td>1.0</td>\n",
       "      <td>1.0</td>\n",
       "      <td>1.0</td>\n",
       "      <td>1.0</td>\n",
       "      <td>1.0</td>\n",
       "      <td>1.0</td>\n",
       "      <td>1.0</td>\n",
       "      <td>1.0</td>\n",
       "      <td>1.0</td>\n",
       "      <td>...</td>\n",
       "      <td>1.0</td>\n",
       "      <td>1.0</td>\n",
       "      <td>1.0</td>\n",
       "      <td>1.0</td>\n",
       "      <td>1.0</td>\n",
       "      <td>1.0</td>\n",
       "      <td>1.0</td>\n",
       "      <td>1.0</td>\n",
       "      <td>1.0</td>\n",
       "      <td>0</td>\n",
       "    </tr>\n",
       "    <tr>\n",
       "      <th>245</th>\n",
       "      <td>1.0</td>\n",
       "      <td>1.0</td>\n",
       "      <td>1.0</td>\n",
       "      <td>1.0</td>\n",
       "      <td>1.0</td>\n",
       "      <td>1.0</td>\n",
       "      <td>1.0</td>\n",
       "      <td>1.0</td>\n",
       "      <td>1.0</td>\n",
       "      <td>1.0</td>\n",
       "      <td>...</td>\n",
       "      <td>1.0</td>\n",
       "      <td>1.0</td>\n",
       "      <td>1.0</td>\n",
       "      <td>1.0</td>\n",
       "      <td>1.0</td>\n",
       "      <td>1.0</td>\n",
       "      <td>1.0</td>\n",
       "      <td>1.0</td>\n",
       "      <td>1.0</td>\n",
       "      <td>0</td>\n",
       "    </tr>\n",
       "    <tr>\n",
       "      <th>971</th>\n",
       "      <td>1.0</td>\n",
       "      <td>1.0</td>\n",
       "      <td>1.0</td>\n",
       "      <td>1.0</td>\n",
       "      <td>1.0</td>\n",
       "      <td>1.0</td>\n",
       "      <td>1.0</td>\n",
       "      <td>1.0</td>\n",
       "      <td>1.0</td>\n",
       "      <td>1.0</td>\n",
       "      <td>...</td>\n",
       "      <td>1.0</td>\n",
       "      <td>1.0</td>\n",
       "      <td>1.0</td>\n",
       "      <td>1.0</td>\n",
       "      <td>1.0</td>\n",
       "      <td>1.0</td>\n",
       "      <td>1.0</td>\n",
       "      <td>1.0</td>\n",
       "      <td>1.0</td>\n",
       "      <td>0</td>\n",
       "    </tr>\n",
       "  </tbody>\n",
       "</table>\n",
       "<p>5 rows × 4901 columns</p>\n",
       "</div>"
      ],
      "text/plain": [
       "      pixel_0  pixel_1  pixel_2  pixel_3  pixel_4  pixel_5  pixel_6  pixel_7  \\\n",
       "532       1.0      1.0      1.0      1.0      1.0      1.0      1.0      1.0   \n",
       "2127      1.0      1.0      1.0      1.0      1.0      1.0      1.0      1.0   \n",
       "425       1.0      1.0      1.0      1.0      1.0      1.0      1.0      1.0   \n",
       "245       1.0      1.0      1.0      1.0      1.0      1.0      1.0      1.0   \n",
       "971       1.0      1.0      1.0      1.0      1.0      1.0      1.0      1.0   \n",
       "\n",
       "      pixel_8  pixel_9  ...  pixel_4891  pixel_4892  pixel_4893  pixel_4894  \\\n",
       "532       1.0      1.0  ...         1.0         1.0         1.0         1.0   \n",
       "2127      1.0      1.0  ...         1.0         1.0         1.0         1.0   \n",
       "425       1.0      1.0  ...         1.0         1.0         1.0         1.0   \n",
       "245       1.0      1.0  ...         1.0         1.0         1.0         1.0   \n",
       "971       1.0      1.0  ...         1.0         1.0         1.0         1.0   \n",
       "\n",
       "      pixel_4895  pixel_4896  pixel_4897  pixel_4898  pixel_4899  label  \n",
       "532          1.0         1.0         1.0         1.0         1.0      0  \n",
       "2127         1.0         1.0         1.0         1.0         1.0      1  \n",
       "425          1.0         1.0         1.0         1.0         1.0      0  \n",
       "245          1.0         1.0         1.0         1.0         1.0      0  \n",
       "971          1.0         1.0         1.0         1.0         1.0      0  \n",
       "\n",
       "[5 rows x 4901 columns]"
      ]
     },
     "execution_count": 125,
     "metadata": {},
     "output_type": "execute_result"
    }
   ],
   "source": [
    "data.head()"
   ]
  },
  {
   "cell_type": "code",
   "execution_count": 13,
   "metadata": {},
   "outputs": [],
   "source": [
    "test = data.iloc[1800:]\n",
    "test.reset_index(drop=True,inplace=True)\n",
    "\n",
    "train = data.iloc[0:1800]\n",
    "train.reset_index(drop=True,inplace=True)"
   ]
  },
  {
   "cell_type": "code",
   "execution_count": 14,
   "metadata": {},
   "outputs": [],
   "source": [
    "train_data = train.drop('label',axis=1)\n",
    "train_target = train['label']\n",
    "\n",
    "test_data = test.drop('label',axis=1)\n",
    "test_target = test['label']"
   ]
  },
  {
   "cell_type": "code",
   "execution_count": 15,
   "metadata": {},
   "outputs": [
    {
     "data": {
      "text/plain": [
       "RandomForestClassifier()"
      ]
     },
     "execution_count": 15,
     "metadata": {},
     "output_type": "execute_result"
    }
   ],
   "source": [
    "\n",
    "rfc = RandomForestClassifier()\n",
    "rfc.fit(train_data,train_target)"
   ]
  },
  {
   "cell_type": "code",
   "execution_count": 16,
   "metadata": {},
   "outputs": [
    {
     "data": {
      "text/plain": [
       "RandomForestClassifier()"
      ]
     },
     "execution_count": 16,
     "metadata": {},
     "output_type": "execute_result"
    }
   ],
   "source": [
    "rfc = RandomForestClassifier()\n",
    "rfc.fit(train_data,train_target)\n",
    "rfc"
   ]
  },
  {
   "cell_type": "code",
   "execution_count": 17,
   "metadata": {},
   "outputs": [],
   "source": [
    "y_pred = rfc.predict(test_data)"
   ]
  },
  {
   "cell_type": "code",
   "execution_count": 18,
   "metadata": {},
   "outputs": [
    {
     "name": "stdout",
     "output_type": "stream",
     "text": [
      "              precision    recall  f1-score   support\n",
      "\n",
      "           0       0.79      0.96      0.87       286\n",
      "           1       0.93      0.70      0.80       241\n",
      "\n",
      "    accuracy                           0.84       527\n",
      "   macro avg       0.86      0.83      0.83       527\n",
      "weighted avg       0.86      0.84      0.84       527\n",
      "\n"
     ]
    }
   ],
   "source": [
    "print (classification_report(test_target,y_pred))\n"
   ]
  },
  {
   "cell_type": "code",
   "execution_count": 94,
   "metadata": {},
   "outputs": [
    {
     "data": {
      "image/png": "[encoded data removed]",
      "text/plain": [
       "<Figure size 1440x432 with 1 Axes>"
      ]
     },
     "metadata": {
      "needs_background": "light"
     },
     "output_type": "display_data"
    }
   ],
   "source": [
    "from sklearn.decomposition import PCA\n",
    "pca=PCA()\n",
    "pca.fit(train_data)\n",
    "cumilative_sum = np.cumsum(pca.explained_variance_ratio_)\n",
    "pca_plt = plt.figure(figsize=(20,6))\n",
    "pca_plt = plt.plot(cumilative_sum, linewidth=3)\n",
    "pca_plt = plt.axis([0, 4900, 0, 1])\n",
    "pca_plt = plt.xlabel(\"Dimensions\")\n",
    "pca_plt = plt.ylabel(\"Explained Variance\")\n",
    "x = np.argmax(cumilative_sum >= 0.95) + 1\n",
    "pca_plt = plt.plot([x, x], [0, 0.95], \"k:\")\n",
    "pca_plt = plt.plot([0, x], [0.95, 0.95], \"k:\")\n",
    "pca_plt = plt.plot(x, 0.95, \"ko\")\n",
    "plt.grid(True)\n",
    "plt.show()\n"
   ]
  },
  {
   "cell_type": "code",
   "execution_count": 97,
   "metadata": {},
   "outputs": [
    {
     "name": "stdout",
     "output_type": "stream",
     "text": [
      "The total amount of dimensions:  1045\n"
     ]
    }
   ],
   "source": [
    "pca = PCA(n_components = 0.95)\n",
    "pca.fit(train_data)\n",
    "reduced_train = pd.DataFrame(pca.transform(train_data))\n",
    "print(\"The total amount of dimensions: \",reduced_train.shape[1])"
   ]
  },
  {
   "cell_type": "code",
   "execution_count": 100,
   "metadata": {},
   "outputs": [],
   "source": [
    "pca_test = PCA(n_components = 527)\n",
    "pca_test.fit(test_data)\n",
    "reduced_test = pd.DataFrame(pca.transform(test_data))"
   ]
  },
  {
   "cell_type": "code",
   "execution_count": 101,
   "metadata": {},
   "outputs": [
    {
     "name": "stderr",
     "output_type": "stream",
     "text": [
      "C:\\Users\\yahal\\anaconda3\\lib\\site-packages\\xgboost\\sklearn.py:888: UserWarning: The use of label encoder in XGBClassifier is deprecated and will be removed in a future release. To remove this warning, do the following: 1) Pass option use_label_encoder=False when constructing XGBClassifier object; and 2) Encode your labels (y) as integers starting with 0, i.e. 0, 1, 2, ..., [num_class - 1].\n",
      "  warnings.warn(label_encoder_deprecation_msg, UserWarning)\n"
     ]
    },
    {
     "name": "stdout",
     "output_type": "stream",
     "text": [
      "[16:08:18] WARNING: ..\\src\\learner.cc:1061: Starting in XGBoost 1.3.0, the default evaluation metric used with the objective 'binary:logistic' was changed from 'error' to 'logloss'. Explicitly set eval_metric if you'd like to restore the old behavior.\n",
      "XGBoost accuracy score: 85.39 %\n"
     ]
    }
   ],
   "source": [
    "from xgboost import XGBClassifier\n",
    "xgb = XGBClassifier()\n",
    "xgb.fit(train_data, train_target)\n",
    "xgb_pred = xgb.predict(test_data)\n",
    "print('XGBoost accuracy score: %.2f'%(xgb.score(test_data, test_target)*100),'%')"
   ]
  },
  {
   "cell_type": "code",
   "execution_count": 103,
   "metadata": {},
   "outputs": [
    {
     "data": {
      "text/plain": [
       "(1800, 1045)"
      ]
     },
     "execution_count": 103,
     "metadata": {},
     "output_type": "execute_result"
    }
   ],
   "source": [
    "reduced_train.shape"
   ]
  },
  {
   "cell_type": "code",
   "execution_count": null,
   "metadata": {},
   "outputs": [],
   "source": []
  },
  {
   "cell_type": "code",
   "execution_count": 109,
   "metadata": {},
   "outputs": [
    {
     "name": "stderr",
     "output_type": "stream",
     "text": [
      "C:\\Users\\yahal\\anaconda3\\lib\\site-packages\\xgboost\\sklearn.py:888: UserWarning: The use of label encoder in XGBClassifier is deprecated and will be removed in a future release. To remove this warning, do the following: 1) Pass option use_label_encoder=False when constructing XGBClassifier object; and 2) Encode your labels (y) as integers starting with 0, i.e. 0, 1, 2, ..., [num_class - 1].\n",
      "  warnings.warn(label_encoder_deprecation_msg, UserWarning)\n"
     ]
    },
    {
     "name": "stdout",
     "output_type": "stream",
     "text": [
      "[16:13:44] WARNING: ..\\src\\learner.cc:1061: Starting in XGBoost 1.3.0, the default evaluation metric used with the objective 'binary:logistic' was changed from 'error' to 'logloss'. Explicitly set eval_metric if you'd like to restore the old behavior.\n",
      "XGBoost accuracy score: 84.63 %\n"
     ]
    }
   ],
   "source": [
    "xgb.fit(reduced_train, train_target)\n",
    "xgb_pred = xgb.predict(reduced_test)\n",
    "print('XGBoost accuracy score: %.2f'%(xgb.score(reduced_test, test_target)*100),'%')"
   ]
  },
  {
   "cell_type": "code",
   "execution_count": 99,
   "metadata": {},
   "outputs": [],
   "source": [
    "import tensorflow as tf\n",
    "\n",
    "from tensorflow.keras import datasets, layers, models\n",
    "import matplotlib.pyplot as plt"
   ]
  },
  {
   "cell_type": "code",
   "execution_count": 100,
   "metadata": {},
   "outputs": [
    {
     "data": {
      "text/plain": [
       "<matplotlib.image.AxesImage at 0x1d689718b50>"
      ]
     },
     "execution_count": 100,
     "metadata": {},
     "output_type": "execute_result"
    },
    {
     "data": {
      "image/png": "[encoded data removed]",
      "text/plain": [
       "<Figure size 432x288 with 1 Axes>"
      ]
     },
     "metadata": {
      "needs_background": "light"
     },
     "output_type": "display_data"
    }
   ],
   "source": [
    "plt.imshow(train_data.iloc[0].values.reshape((70,70)))"
   ]
  },
  {
   "cell_type": "code",
   "execution_count": 101,
   "metadata": {},
   "outputs": [],
   "source": [
    "train_data_reshaped = []\n",
    "test_data_reshaped = []\n",
    "for i in range(len(train_data)):\n",
    "    t = train_data.iloc[i].values.reshape((70,70))\n",
    "    t = np.array(t)\n",
    "    train_data_reshaped.append(t)\n",
    "    \n",
    "for i in range(len(test_data)):\n",
    "    t = test_data.iloc[i].values.reshape((70,70))\n",
    "    t = np.array(t)\n",
    "    test_data_reshaped.append(t)"
   ]
  },
  {
   "cell_type": "code",
   "execution_count": 102,
   "metadata": {},
   "outputs": [],
   "source": [
    "train_data_reshaped = np.array(train_data_reshaped)\n",
    "test_data_reshaped = np.array(test_data_reshaped)"
   ]
  },
  {
   "cell_type": "code",
   "execution_count": 103,
   "metadata": {},
   "outputs": [],
   "source": [
    "test_data_reshaped = np.expand_dims(test_data_reshaped,axis=-1)\n",
    "train_data_reshaped = np.expand_dims(train_data_reshaped,axis=-1)"
   ]
  },
  {
   "cell_type": "code",
   "execution_count": 104,
   "metadata": {},
   "outputs": [
    {
     "name": "stdout",
     "output_type": "stream",
     "text": [
      "Model: \"sequential_9\"\n",
      "_________________________________________________________________\n",
      " Layer (type)                Output Shape              Param #   \n",
      "=================================================================\n",
      " conv2d_37 (Conv2D)          (None, 68, 68, 32)        320       \n",
      "                                                                 \n",
      " max_pooling2d_34 (MaxPoolin  (None, 34, 34, 32)       0         \n",
      " g2D)                                                            \n",
      "                                                                 \n",
      " conv2d_38 (Conv2D)          (None, 32, 32, 42)        12138     \n",
      "                                                                 \n",
      " max_pooling2d_35 (MaxPoolin  (None, 16, 16, 42)       0         \n",
      " g2D)                                                            \n",
      "                                                                 \n",
      " conv2d_39 (Conv2D)          (None, 14, 14, 52)        19708     \n",
      "                                                                 \n",
      " max_pooling2d_36 (MaxPoolin  (None, 7, 7, 52)         0         \n",
      " g2D)                                                            \n",
      "                                                                 \n",
      " conv2d_40 (Conv2D)          (None, 5, 5, 62)          29078     \n",
      "                                                                 \n",
      " max_pooling2d_37 (MaxPoolin  (None, 2, 2, 62)         0         \n",
      " g2D)                                                            \n",
      "                                                                 \n",
      " flatten_7 (Flatten)         (None, 248)               0         \n",
      "                                                                 \n",
      " dense_20 (Dense)            (None, 64)                15936     \n",
      "                                                                 \n",
      " dense_21 (Dense)            (None, 32)                2080      \n",
      "                                                                 \n",
      " dense_22 (Dense)            (None, 2)                 66        \n",
      "                                                                 \n",
      "=================================================================\n",
      "Total params: 79,326\n",
      "Trainable params: 79,326\n",
      "Non-trainable params: 0\n",
      "_________________________________________________________________\n"
     ]
    }
   ],
   "source": [
    "model = models.Sequential()\n",
    "model.add(layers.Conv2D(32, (3, 3), activation='relu', input_shape=(70, 70, 1)))\n",
    "model.add(layers.MaxPooling2D((2, 2)))\n",
    "model.add(layers.Conv2D(42, (3, 3), activation='relu'))\n",
    "model.add(layers.MaxPooling2D((2, 2)))\n",
    "model.add(layers.Conv2D(52, (3, 3), activation='relu'))\n",
    "model.add(layers.MaxPooling2D((2, 2)))\n",
    "model.add(layers.Conv2D(62, (3, 3), activation='relu'))\n",
    "model.add(layers.MaxPooling2D((2, 2)))\n",
    "\n",
    "\n",
    "model.add(layers.Flatten())\n",
    "model.add(layers.Dense(64, activation='relu'))\n",
    "model.add(layers.Dense(32, activation='relu'))\n",
    "model.add(layers.Dense(2))\n",
    "model.summary()"
   ]
  },
  {
   "cell_type": "code",
   "execution_count": 105,
   "metadata": {},
   "outputs": [
    {
     "name": "stdout",
     "output_type": "stream",
     "text": [
      "Epoch 1/18\n",
      "18/18 [==============================] - 12s 556ms/step - loss: 0.6787 - accuracy: 0.5700\n",
      "Epoch 2/18\n",
      "18/18 [==============================] - 10s 576ms/step - loss: 0.6616 - accuracy: 0.5833\n",
      "Epoch 3/18\n",
      "18/18 [==============================] - 10s 547ms/step - loss: 0.5226 - accuracy: 0.7683\n",
      "Epoch 4/18\n",
      "18/18 [==============================] - 11s 596ms/step - loss: 0.3337 - accuracy: 0.8839\n",
      "Epoch 5/18\n",
      "18/18 [==============================] - 11s 589ms/step - loss: 0.2930 - accuracy: 0.8994\n",
      "Epoch 6/18\n",
      "18/18 [==============================] - 10s 580ms/step - loss: 0.2825 - accuracy: 0.9078\n",
      "Epoch 7/18\n",
      "18/18 [==============================] - 10s 569ms/step - loss: 0.2738 - accuracy: 0.9050\n",
      "Epoch 8/18\n",
      "18/18 [==============================] - 10s 539ms/step - loss: 0.2690 - accuracy: 0.9083\n",
      "Epoch 9/18\n",
      "18/18 [==============================] - 9s 496ms/step - loss: 0.2608 - accuracy: 0.9094\n",
      "Epoch 10/18\n",
      "18/18 [==============================] - 9s 503ms/step - loss: 0.2464 - accuracy: 0.9133\n",
      "Epoch 11/18\n",
      "18/18 [==============================] - 9s 512ms/step - loss: 0.2367 - accuracy: 0.9200\n",
      "Epoch 12/18\n",
      "18/18 [==============================] - 10s 551ms/step - loss: 0.2185 - accuracy: 0.9178\n",
      "Epoch 13/18\n",
      "18/18 [==============================] - 10s 551ms/step - loss: 0.2176 - accuracy: 0.9211\n",
      "Epoch 14/18\n",
      "18/18 [==============================] - 9s 493ms/step - loss: 0.2166 - accuracy: 0.9233\n",
      "Epoch 15/18\n",
      "18/18 [==============================] - 9s 491ms/step - loss: 0.1976 - accuracy: 0.9261\n",
      "Epoch 16/18\n",
      "18/18 [==============================] - 9s 494ms/step - loss: 0.1746 - accuracy: 0.9417\n",
      "Epoch 17/18\n",
      "18/18 [==============================] - 9s 525ms/step - loss: 0.1601 - accuracy: 0.9433\n",
      "Epoch 18/18\n",
      "18/18 [==============================] - 9s 524ms/step - loss: 0.1206 - accuracy: 0.9606\n"
     ]
    }
   ],
   "source": [
    "model.compile(optimizer='adam',\n",
    "              loss=tf.keras.losses.SparseCategoricalCrossentropy(from_logits=True),\n",
    "              metrics=['accuracy'])\n",
    "\n",
    "history = model.fit(train_data_reshaped, train_target, epochs=18,batch_size=100)"
   ]
  },
  {
   "cell_type": "code",
   "execution_count": 106,
   "metadata": {},
   "outputs": [
    {
     "name": "stdout",
     "output_type": "stream",
     "text": [
      "17/17 - 1s - loss: 0.2925 - accuracy: 0.9051 - 1s/epoch - 83ms/step\n"
     ]
    }
   ],
   "source": [
    "test_loss, test_acc = model.evaluate(test_data_reshaped,  test_target, verbose=2)"
   ]
  },
  {
   "cell_type": "code",
   "execution_count": 112,
   "metadata": {},
   "outputs": [
    {
     "name": "stdout",
     "output_type": "stream",
     "text": [
      "17/17 [==============================] - 1s 50ms/step\n",
      "              precision    recall  f1-score   support\n",
      "\n",
      "           0       0.88      0.96      0.92       286\n",
      "           1       0.95      0.84      0.89       241\n",
      "\n",
      "    accuracy                           0.91       527\n",
      "   macro avg       0.91      0.90      0.90       527\n",
      "weighted avg       0.91      0.91      0.90       527\n",
      "\n"
     ]
    }
   ],
   "source": [
    "test_predict = np.argmax(model.predict(test_data_reshaped),axis=-1)\n",
    "print (classification_report(test_target,test_predict))"
   ]
  },
  {
   "cell_type": "code",
   "execution_count": 114,
   "metadata": {},
   "outputs": [
    {
     "data": {
      "text/plain": [
       "Text(33.0, 0.5, 'Actual')"
      ]
     },
     "execution_count": 114,
     "metadata": {},
     "output_type": "execute_result"
    },
    {
     "data": {
      "image/png": "[encoded data removed]",
      "text/plain": [
       "<Figure size 432x288 with 2 Axes>"
      ]
     },
     "metadata": {
      "needs_background": "light"
     },
     "output_type": "display_data"
    }
   ],
   "source": [
    "cm = confusion_matrix(test_target,test_predict)\n",
    "sns.heatmap(cm,annot=True,annot_kws = {'size':15},fmt=\".1f\")\n",
    "plt.xlabel(\"Predict\")\n",
    "plt.ylabel(\"Actual\")"
   ]
  },
  {
   "cell_type": "code",
   "execution_count": null,
   "metadata": {},
   "outputs": [],
   "source": []
  },
  {
   "cell_type": "code",
   "execution_count": 120,
   "metadata": {},
   "outputs": [
    {
     "name": "stdout",
     "output_type": "stream",
     "text": [
      "Model: \"sequential_13\"\n",
      "_________________________________________________________________\n",
      " Layer (type)                Output Shape              Param #   \n",
      "=================================================================\n",
      " conv2d_49 (Conv2D)          (None, 68, 68, 100)       1000      \n",
      "                                                                 \n",
      " max_pooling2d_46 (MaxPoolin  (None, 34, 34, 100)      0         \n",
      " g2D)                                                            \n",
      "                                                                 \n",
      " conv2d_50 (Conv2D)          (None, 32, 32, 80)        72080     \n",
      "                                                                 \n",
      " max_pooling2d_47 (MaxPoolin  (None, 16, 16, 80)       0         \n",
      " g2D)                                                            \n",
      "                                                                 \n",
      " conv2d_51 (Conv2D)          (None, 14, 14, 60)        43260     \n",
      "                                                                 \n",
      " max_pooling2d_48 (MaxPoolin  (None, 7, 7, 60)         0         \n",
      " g2D)                                                            \n",
      "                                                                 \n",
      " conv2d_52 (Conv2D)          (None, 5, 5, 30)          16230     \n",
      "                                                                 \n",
      " max_pooling2d_49 (MaxPoolin  (None, 2, 2, 30)         0         \n",
      " g2D)                                                            \n",
      "                                                                 \n",
      " flatten_11 (Flatten)        (None, 120)               0         \n",
      "                                                                 \n",
      " dense_32 (Dense)            (None, 64)                7744      \n",
      "                                                                 \n",
      " dense_33 (Dense)            (None, 32)                2080      \n",
      "                                                                 \n",
      " dense_34 (Dense)            (None, 2)                 66        \n",
      "                                                                 \n",
      "=================================================================\n",
      "Total params: 142,460\n",
      "Trainable params: 142,460\n",
      "Non-trainable params: 0\n",
      "_________________________________________________________________\n"
     ]
    }
   ],
   "source": [
    "model = models.Sequential()\n",
    "model.add(layers.Conv2D(100, (3, 3), activation='relu', input_shape=(70, 70, 1)))\n",
    "model.add(layers.MaxPooling2D((2, 2)))\n",
    "model.add(layers.Conv2D(80, (3, 3), activation='relu'))\n",
    "model.add(layers.MaxPooling2D((2, 2)))\n",
    "model.add(layers.Conv2D(60, (3, 3), activation='relu'))\n",
    "model.add(layers.MaxPooling2D((2, 2)))\n",
    "model.add(layers.Conv2D(30, (3, 3), activation='relu'))\n",
    "model.add(layers.MaxPooling2D((2, 2)))\n",
    "\n",
    "\n",
    "model.add(layers.Flatten())\n",
    "model.add(layers.Dense(64, activation='relu'))\n",
    "model.add(layers.Dense(32, activation='relu'))\n",
    "model.add(layers.Dense(2))\n",
    "model.summary()"
   ]
  },
  {
   "cell_type": "code",
   "execution_count": 121,
   "metadata": {},
   "outputs": [
    {
     "name": "stdout",
     "output_type": "stream",
     "text": [
      "Epoch 1/18\n",
      "18/18 [==============================] - 29s 2s/step - loss: 0.6812 - accuracy: 0.5833\n",
      "Epoch 2/18\n",
      "18/18 [==============================] - 27s 1s/step - loss: 0.6750 - accuracy: 0.5833\n",
      "Epoch 3/18\n",
      "18/18 [==============================] - 26s 1s/step - loss: 0.5937 - accuracy: 0.6606\n",
      "Epoch 4/18\n",
      "18/18 [==============================] - 27s 1s/step - loss: 0.3979 - accuracy: 0.8456\n",
      "Epoch 5/18\n",
      "18/18 [==============================] - 30s 2s/step - loss: 0.3449 - accuracy: 0.8794\n",
      "Epoch 6/18\n",
      "18/18 [==============================] - 30s 2s/step - loss: 0.3128 - accuracy: 0.8878\n",
      "Epoch 7/18\n",
      "18/18 [==============================] - 28s 2s/step - loss: 0.2969 - accuracy: 0.9000\n",
      "Epoch 8/18\n",
      "18/18 [==============================] - 27s 1s/step - loss: 0.2726 - accuracy: 0.9067\n",
      "Epoch 9/18\n",
      "18/18 [==============================] - 27s 1s/step - loss: 0.2695 - accuracy: 0.9078\n",
      "Epoch 10/18\n",
      "18/18 [==============================] - 26s 1s/step - loss: 0.2575 - accuracy: 0.9144\n",
      "Epoch 11/18\n",
      "18/18 [==============================] - 26s 1s/step - loss: 0.2586 - accuracy: 0.9044\n",
      "Epoch 12/18\n",
      "18/18 [==============================] - 26s 1s/step - loss: 0.2509 - accuracy: 0.9122\n",
      "Epoch 13/18\n",
      "18/18 [==============================] - 26s 1s/step - loss: 0.2366 - accuracy: 0.9139\n",
      "Epoch 14/18\n",
      "18/18 [==============================] - 27s 1s/step - loss: 0.2220 - accuracy: 0.9156\n",
      "Epoch 15/18\n",
      "18/18 [==============================] - 27s 1s/step - loss: 0.2149 - accuracy: 0.9211\n",
      "Epoch 16/18\n",
      "18/18 [==============================] - 27s 1s/step - loss: 0.1955 - accuracy: 0.9228\n",
      "Epoch 17/18\n",
      "18/18 [==============================] - 26s 1s/step - loss: 0.2052 - accuracy: 0.9272\n",
      "Epoch 18/18\n",
      "18/18 [==============================] - 25s 1s/step - loss: 0.1744 - accuracy: 0.9350\n"
     ]
    }
   ],
   "source": [
    "model.compile(optimizer='adam',\n",
    "              loss=tf.keras.losses.SparseCategoricalCrossentropy(from_logits=True),\n",
    "              metrics=['accuracy'])\n",
    "\n",
    "history = model.fit(train_data_reshaped, train_target, epochs=18,batch_size=100)"
   ]
  },
  {
   "cell_type": "code",
   "execution_count": 122,
   "metadata": {},
   "outputs": [
    {
     "name": "stdout",
     "output_type": "stream",
     "text": [
      "17/17 - 2s - loss: 0.2826 - accuracy: 0.8975 - 2s/epoch - 136ms/step\n"
     ]
    }
   ],
   "source": [
    "test_loss, test_acc = model.evaluate(test_data_reshaped,  test_target, verbose=2)"
   ]
  },
  {
   "cell_type": "code",
   "execution_count": 123,
   "metadata": {},
   "outputs": [
    {
     "name": "stdout",
     "output_type": "stream",
     "text": [
      "17/17 [==============================] - 2s 119ms/step\n",
      "              precision    recall  f1-score   support\n",
      "\n",
      "           0       0.87      0.96      0.91       286\n",
      "           1       0.94      0.83      0.88       241\n",
      "\n",
      "    accuracy                           0.90       527\n",
      "   macro avg       0.91      0.89      0.90       527\n",
      "weighted avg       0.90      0.90      0.90       527\n",
      "\n"
     ]
    }
   ],
   "source": [
    "test_predict = np.argmax(model.predict(test_data_reshaped),axis=-1)\n",
    "print (classification_report(test_target,test_predict))"
   ]
  },
  {
   "cell_type": "code",
   "execution_count": 124,
   "metadata": {},
   "outputs": [
    {
     "data": {
      "text/plain": [
       "Text(33.0, 0.5, 'Actual')"
      ]
     },
     "execution_count": 124,
     "metadata": {},
     "output_type": "execute_result"
    },
    {
     "data": {
      "image/png": "[encoded data removed]",
      "text/plain": [
       "<Figure size 432x288 with 2 Axes>"
      ]
     },
     "metadata": {
      "needs_background": "light"
     },
     "output_type": "display_data"
    }
   ],
   "source": [
    "cm = confusion_matrix(test_target,test_predict)\n",
    "sns.heatmap(cm,annot=True,annot_kws = {'size':15},fmt=\".1f\")\n",
    "plt.xlabel(\"Predict\")\n",
    "plt.ylabel(\"Actual\")"
   ]
  },
  {
   "cell_type": "code",
   "execution_count": null,
   "metadata": {},
   "outputs": [],
   "source": []
  },
  {
   "cell_type": "markdown",
   "metadata": {},
   "source": [
    "# COLOR"
   ]
  },
  {
   "cell_type": "code",
   "execution_count": 126,
   "metadata": {},
   "outputs": [],
   "source": [
    "data = []\n",
    "labels = []\n",
    "for img in os.listdir(r'ptolemy silver proarchives'):\n",
    "    label = label_img(img)\n",
    "    path = os.path.join(r'ptolemy silver proarchives',img)\n",
    "    img = cv2.resize(cv2.imread(path),(140,70))\n",
    "    data.append(np.array(np.array(img[0:70,0:70]).flatten()))\n",
    "    labels.append(label)"
   ]
  },
  {
   "cell_type": "code",
   "execution_count": 128,
   "metadata": {},
   "outputs": [],
   "source": [
    "cols = []\n",
    "for i in range(14700):\n",
    "    cols.append(\"pixel_\"+str(i))\n",
    "data = pd.DataFrame(data, columns=cols)\n",
    "data = data/255\n",
    "data['label'] = labels\n",
    "data = data.sample(frac=1,random_state=0)"
   ]
  },
  {
   "cell_type": "code",
   "execution_count": 129,
   "metadata": {},
   "outputs": [
    {
     "data": {
      "text/html": [
       "<div>\n",
       "<style scoped>\n",
       "    .dataframe tbody tr th:only-of-type {\n",
       "        vertical-align: middle;\n",
       "    }\n",
       "\n",
       "    .dataframe tbody tr th {\n",
       "        vertical-align: top;\n",
       "    }\n",
       "\n",
       "    .dataframe thead th {\n",
       "        text-align: right;\n",
       "    }\n",
       "</style>\n",
       "<table border=\"1\" class=\"dataframe\">\n",
       "  <thead>\n",
       "    <tr style=\"text-align: right;\">\n",
       "      <th></th>\n",
       "      <th>pixel_0</th>\n",
       "      <th>pixel_1</th>\n",
       "      <th>pixel_2</th>\n",
       "      <th>pixel_3</th>\n",
       "      <th>pixel_4</th>\n",
       "      <th>pixel_5</th>\n",
       "      <th>pixel_6</th>\n",
       "      <th>pixel_7</th>\n",
       "      <th>pixel_8</th>\n",
       "      <th>pixel_9</th>\n",
       "      <th>...</th>\n",
       "      <th>pixel_14691</th>\n",
       "      <th>pixel_14692</th>\n",
       "      <th>pixel_14693</th>\n",
       "      <th>pixel_14694</th>\n",
       "      <th>pixel_14695</th>\n",
       "      <th>pixel_14696</th>\n",
       "      <th>pixel_14697</th>\n",
       "      <th>pixel_14698</th>\n",
       "      <th>pixel_14699</th>\n",
       "      <th>label</th>\n",
       "    </tr>\n",
       "  </thead>\n",
       "  <tbody>\n",
       "    <tr>\n",
       "      <th>532</th>\n",
       "      <td>1.0</td>\n",
       "      <td>1.0</td>\n",
       "      <td>1.0</td>\n",
       "      <td>1.0</td>\n",
       "      <td>1.0</td>\n",
       "      <td>1.0</td>\n",
       "      <td>1.0</td>\n",
       "      <td>1.0</td>\n",
       "      <td>1.0</td>\n",
       "      <td>1.0</td>\n",
       "      <td>...</td>\n",
       "      <td>1.0</td>\n",
       "      <td>1.0</td>\n",
       "      <td>1.0</td>\n",
       "      <td>1.0</td>\n",
       "      <td>1.0</td>\n",
       "      <td>1.0</td>\n",
       "      <td>1.0</td>\n",
       "      <td>1.0</td>\n",
       "      <td>1.0</td>\n",
       "      <td>0</td>\n",
       "    </tr>\n",
       "    <tr>\n",
       "      <th>2127</th>\n",
       "      <td>1.0</td>\n",
       "      <td>1.0</td>\n",
       "      <td>1.0</td>\n",
       "      <td>1.0</td>\n",
       "      <td>1.0</td>\n",
       "      <td>1.0</td>\n",
       "      <td>1.0</td>\n",
       "      <td>1.0</td>\n",
       "      <td>1.0</td>\n",
       "      <td>1.0</td>\n",
       "      <td>...</td>\n",
       "      <td>1.0</td>\n",
       "      <td>1.0</td>\n",
       "      <td>1.0</td>\n",
       "      <td>1.0</td>\n",
       "      <td>1.0</td>\n",
       "      <td>1.0</td>\n",
       "      <td>1.0</td>\n",
       "      <td>1.0</td>\n",
       "      <td>1.0</td>\n",
       "      <td>1</td>\n",
       "    </tr>\n",
       "    <tr>\n",
       "      <th>425</th>\n",
       "      <td>1.0</td>\n",
       "      <td>1.0</td>\n",
       "      <td>1.0</td>\n",
       "      <td>1.0</td>\n",
       "      <td>1.0</td>\n",
       "      <td>1.0</td>\n",
       "      <td>1.0</td>\n",
       "      <td>1.0</td>\n",
       "      <td>1.0</td>\n",
       "      <td>1.0</td>\n",
       "      <td>...</td>\n",
       "      <td>1.0</td>\n",
       "      <td>1.0</td>\n",
       "      <td>1.0</td>\n",
       "      <td>1.0</td>\n",
       "      <td>1.0</td>\n",
       "      <td>1.0</td>\n",
       "      <td>1.0</td>\n",
       "      <td>1.0</td>\n",
       "      <td>1.0</td>\n",
       "      <td>0</td>\n",
       "    </tr>\n",
       "    <tr>\n",
       "      <th>245</th>\n",
       "      <td>1.0</td>\n",
       "      <td>1.0</td>\n",
       "      <td>1.0</td>\n",
       "      <td>1.0</td>\n",
       "      <td>1.0</td>\n",
       "      <td>1.0</td>\n",
       "      <td>1.0</td>\n",
       "      <td>1.0</td>\n",
       "      <td>1.0</td>\n",
       "      <td>1.0</td>\n",
       "      <td>...</td>\n",
       "      <td>1.0</td>\n",
       "      <td>1.0</td>\n",
       "      <td>1.0</td>\n",
       "      <td>1.0</td>\n",
       "      <td>1.0</td>\n",
       "      <td>1.0</td>\n",
       "      <td>1.0</td>\n",
       "      <td>1.0</td>\n",
       "      <td>1.0</td>\n",
       "      <td>0</td>\n",
       "    </tr>\n",
       "    <tr>\n",
       "      <th>971</th>\n",
       "      <td>1.0</td>\n",
       "      <td>1.0</td>\n",
       "      <td>1.0</td>\n",
       "      <td>1.0</td>\n",
       "      <td>1.0</td>\n",
       "      <td>1.0</td>\n",
       "      <td>1.0</td>\n",
       "      <td>1.0</td>\n",
       "      <td>1.0</td>\n",
       "      <td>1.0</td>\n",
       "      <td>...</td>\n",
       "      <td>1.0</td>\n",
       "      <td>1.0</td>\n",
       "      <td>1.0</td>\n",
       "      <td>1.0</td>\n",
       "      <td>1.0</td>\n",
       "      <td>1.0</td>\n",
       "      <td>1.0</td>\n",
       "      <td>1.0</td>\n",
       "      <td>1.0</td>\n",
       "      <td>0</td>\n",
       "    </tr>\n",
       "  </tbody>\n",
       "</table>\n",
       "<p>5 rows × 14701 columns</p>\n",
       "</div>"
      ],
      "text/plain": [
       "      pixel_0  pixel_1  pixel_2  pixel_3  pixel_4  pixel_5  pixel_6  pixel_7  \\\n",
       "532       1.0      1.0      1.0      1.0      1.0      1.0      1.0      1.0   \n",
       "2127      1.0      1.0      1.0      1.0      1.0      1.0      1.0      1.0   \n",
       "425       1.0      1.0      1.0      1.0      1.0      1.0      1.0      1.0   \n",
       "245       1.0      1.0      1.0      1.0      1.0      1.0      1.0      1.0   \n",
       "971       1.0      1.0      1.0      1.0      1.0      1.0      1.0      1.0   \n",
       "\n",
       "      pixel_8  pixel_9  ...  pixel_14691  pixel_14692  pixel_14693  \\\n",
       "532       1.0      1.0  ...          1.0          1.0          1.0   \n",
       "2127      1.0      1.0  ...          1.0          1.0          1.0   \n",
       "425       1.0      1.0  ...          1.0          1.0          1.0   \n",
       "245       1.0      1.0  ...          1.0          1.0          1.0   \n",
       "971       1.0      1.0  ...          1.0          1.0          1.0   \n",
       "\n",
       "      pixel_14694  pixel_14695  pixel_14696  pixel_14697  pixel_14698  \\\n",
       "532           1.0          1.0          1.0          1.0          1.0   \n",
       "2127          1.0          1.0          1.0          1.0          1.0   \n",
       "425           1.0          1.0          1.0          1.0          1.0   \n",
       "245           1.0          1.0          1.0          1.0          1.0   \n",
       "971           1.0          1.0          1.0          1.0          1.0   \n",
       "\n",
       "      pixel_14699  label  \n",
       "532           1.0      0  \n",
       "2127          1.0      1  \n",
       "425           1.0      0  \n",
       "245           1.0      0  \n",
       "971           1.0      0  \n",
       "\n",
       "[5 rows x 14701 columns]"
      ]
     },
     "execution_count": 129,
     "metadata": {},
     "output_type": "execute_result"
    }
   ],
   "source": [
    "data.head()"
   ]
  },
  {
   "cell_type": "code",
   "execution_count": 130,
   "metadata": {},
   "outputs": [],
   "source": [
    "test = data.iloc[1800:]\n",
    "test.reset_index(drop=True,inplace=True)\n",
    "\n",
    "train = data.iloc[0:1800]\n",
    "train.reset_index(drop=True,inplace=True)"
   ]
  },
  {
   "cell_type": "code",
   "execution_count": 131,
   "metadata": {},
   "outputs": [],
   "source": [
    "train_data = train.drop('label',axis=1)\n",
    "train_target = train['label']\n",
    "\n",
    "test_data = test.drop('label',axis=1)\n",
    "test_target = test['label']"
   ]
  },
  {
   "cell_type": "code",
   "execution_count": 132,
   "metadata": {},
   "outputs": [
    {
     "data": {
      "text/plain": [
       "<matplotlib.image.AxesImage at 0x1d687c57c10>"
      ]
     },
     "execution_count": 132,
     "metadata": {},
     "output_type": "execute_result"
    },
    {
     "data": {
      "image/png": "[encoded data removed]",
      "text/plain": [
       "<Figure size 432x288 with 1 Axes>"
      ]
     },
     "metadata": {
      "needs_background": "light"
     },
     "output_type": "display_data"
    }
   ],
   "source": [
    "plt.imshow(np.flip(np.array(train_data.loc[1]).reshape(70,70,3),2))"
   ]
  },
  {
   "cell_type": "code",
   "execution_count": 133,
   "metadata": {},
   "outputs": [],
   "source": [
    "train_data_reshaped = []\n",
    "test_data_reshaped = []\n",
    "for i in range(len(train_data)):\n",
    "    t = train_data.iloc[i].values.reshape((70,70,3))\n",
    "    t = np.flip(np.array(t),2)\n",
    "    train_data_reshaped.append(t)\n",
    "    \n",
    "for i in range(len(test_data)):\n",
    "    t = test_data.iloc[i].values.reshape((70,70,3))\n",
    "    t = np.flip(np.array(t),2)\n",
    "    test_data_reshaped.append(t)"
   ]
  },
  {
   "cell_type": "code",
   "execution_count": 135,
   "metadata": {},
   "outputs": [
    {
     "data": {
      "text/plain": [
       "<matplotlib.image.AxesImage at 0x1d69d6c2be0>"
      ]
     },
     "execution_count": 135,
     "metadata": {},
     "output_type": "execute_result"
    },
    {
     "data": {
      "image/png": "[encoded data removed]",
      "text/plain": [
       "<Figure size 432x288 with 1 Axes>"
      ]
     },
     "metadata": {
      "needs_background": "light"
     },
     "output_type": "display_data"
    }
   ],
   "source": [
    "plt.imshow(test_data_reshaped[1])"
   ]
  },
  {
   "cell_type": "code",
   "execution_count": 136,
   "metadata": {},
   "outputs": [],
   "source": [
    "train_data_reshaped = np.array(train_data_reshaped)\n",
    "test_data_reshaped = np.array(test_data_reshaped)\n",
    "test_data_reshaped = np.expand_dims(test_data_reshaped,axis=-1)\n",
    "train_data_reshaped = np.expand_dims(train_data_reshaped,axis=-1)"
   ]
  },
  {
   "cell_type": "code",
   "execution_count": 148,
   "metadata": {},
   "outputs": [
    {
     "name": "stdout",
     "output_type": "stream",
     "text": [
      "Model: \"sequential_17\"\n",
      "_________________________________________________________________\n",
      " Layer (type)                Output Shape              Param #   \n",
      "=================================================================\n",
      " conv2d_65 (Conv2D)          (None, 68, 68, 32)        896       \n",
      "                                                                 \n",
      " max_pooling2d_62 (MaxPoolin  (None, 34, 34, 32)       0         \n",
      " g2D)                                                            \n",
      "                                                                 \n",
      " conv2d_66 (Conv2D)          (None, 32, 32, 42)        12138     \n",
      "                                                                 \n",
      " max_pooling2d_63 (MaxPoolin  (None, 16, 16, 42)       0         \n",
      " g2D)                                                            \n",
      "                                                                 \n",
      " conv2d_67 (Conv2D)          (None, 14, 14, 52)        19708     \n",
      "                                                                 \n",
      " max_pooling2d_64 (MaxPoolin  (None, 7, 7, 52)         0         \n",
      " g2D)                                                            \n",
      "                                                                 \n",
      " conv2d_68 (Conv2D)          (None, 5, 5, 62)          29078     \n",
      "                                                                 \n",
      " max_pooling2d_65 (MaxPoolin  (None, 2, 2, 62)         0         \n",
      " g2D)                                                            \n",
      "                                                                 \n",
      " flatten_15 (Flatten)        (None, 248)               0         \n",
      "                                                                 \n",
      " dense_44 (Dense)            (None, 64)                15936     \n",
      "                                                                 \n",
      " dropout_3 (Dropout)         (None, 64)                0         \n",
      "                                                                 \n",
      " dense_45 (Dense)            (None, 32)                2080      \n",
      "                                                                 \n",
      " dropout_4 (Dropout)         (None, 32)                0         \n",
      "                                                                 \n",
      " dense_46 (Dense)            (None, 2)                 66        \n",
      "                                                                 \n",
      "=================================================================\n",
      "Total params: 79,902\n",
      "Trainable params: 79,902\n",
      "Non-trainable params: 0\n",
      "_________________________________________________________________\n"
     ]
    }
   ],
   "source": [
    "model = models.Sequential()\n",
    "model.add(layers.Conv2D(32, (3, 3), activation='relu', input_shape=(70, 70, 3)))\n",
    "model.add(layers.MaxPooling2D((2, 2)))\n",
    "model.add(layers.Conv2D(42, (3, 3), activation='relu'))\n",
    "model.add(layers.MaxPooling2D((2, 2)))\n",
    "model.add(layers.Conv2D(52, (3, 3), activation='relu'))\n",
    "model.add(layers.MaxPooling2D((2, 2)))\n",
    "model.add(layers.Conv2D(62, (3, 3), activation='relu'))\n",
    "model.add(layers.MaxPooling2D((2, 2)))\n",
    "\n",
    "\n",
    "model.add(layers.Flatten())\n",
    "model.add(layers.Dense(64, activation='relu'))\n",
    "model.add(layers.Dropout(rate = 0.2))\n",
    "model.add(layers.Dense(32, activation='relu'))\n",
    "model.add(layers.Dropout(rate = 0.2))\n",
    "\n",
    "model.add(layers.Dense(2))\n",
    "model.summary()"
   ]
  },
  {
   "cell_type": "code",
   "execution_count": 149,
   "metadata": {},
   "outputs": [
    {
     "name": "stdout",
     "output_type": "stream",
     "text": [
      "Epoch 1/18\n",
      "18/18 [==============================] - 13s 600ms/step - loss: 0.6772 - accuracy: 0.5856\n",
      "Epoch 2/18\n",
      "18/18 [==============================] - 13s 695ms/step - loss: 0.6359 - accuracy: 0.6333\n",
      "Epoch 3/18\n",
      "18/18 [==============================] - 11s 636ms/step - loss: 0.5108 - accuracy: 0.7956\n",
      "Epoch 4/18\n",
      "18/18 [==============================] - 12s 673ms/step - loss: 0.4406 - accuracy: 0.8350\n",
      "Epoch 5/18\n",
      "18/18 [==============================] - 12s 674ms/step - loss: 0.3537 - accuracy: 0.8744\n",
      "Epoch 6/18\n",
      "18/18 [==============================] - 13s 708ms/step - loss: 0.3357 - accuracy: 0.8800\n",
      "Epoch 7/18\n",
      "18/18 [==============================] - 12s 653ms/step - loss: 0.3071 - accuracy: 0.8994\n",
      "Epoch 8/18\n",
      "18/18 [==============================] - 11s 640ms/step - loss: 0.2811 - accuracy: 0.9072\n",
      "Epoch 9/18\n",
      "18/18 [==============================] - 11s 617ms/step - loss: 0.2792 - accuracy: 0.9011\n",
      "Epoch 10/18\n",
      "18/18 [==============================] - 12s 632ms/step - loss: 0.2490 - accuracy: 0.9150\n",
      "Epoch 11/18\n",
      "18/18 [==============================] - 11s 604ms/step - loss: 0.2579 - accuracy: 0.9111\n",
      "Epoch 12/18\n",
      "18/18 [==============================] - 11s 629ms/step - loss: 0.2291 - accuracy: 0.9189\n",
      "Epoch 13/18\n",
      "18/18 [==============================] - 11s 616ms/step - loss: 0.2333 - accuracy: 0.9228\n",
      "Epoch 14/18\n",
      "18/18 [==============================] - 11s 602ms/step - loss: 0.2023 - accuracy: 0.9300\n",
      "Epoch 15/18\n",
      "18/18 [==============================] - 11s 585ms/step - loss: 0.1943 - accuracy: 0.9328\n",
      "Epoch 16/18\n",
      "18/18 [==============================] - 11s 605ms/step - loss: 0.1918 - accuracy: 0.9306\n",
      "Epoch 17/18\n",
      "18/18 [==============================] - 11s 607ms/step - loss: 0.1564 - accuracy: 0.9472\n",
      "Epoch 18/18\n",
      "18/18 [==============================] - 11s 609ms/step - loss: 0.1405 - accuracy: 0.9572\n"
     ]
    }
   ],
   "source": [
    "model.compile(optimizer='rmsprop',\n",
    "              loss=tf.keras.losses.SparseCategoricalCrossentropy(from_logits=True),\n",
    "              metrics=['accuracy'])\n",
    "\n",
    "history = model.fit(train_data_reshaped, train_target, epochs=18,batch_size=100)"
   ]
  },
  {
   "cell_type": "code",
   "execution_count": 150,
   "metadata": {},
   "outputs": [
    {
     "name": "stdout",
     "output_type": "stream",
     "text": [
      "17/17 - 1s - loss: 0.3048 - accuracy: 0.9108 - 1s/epoch - 76ms/step\n"
     ]
    }
   ],
   "source": [
    "test_loss, test_acc = model.evaluate(test_data_reshaped, test_target, verbose=2)"
   ]
  },
  {
   "cell_type": "code",
   "execution_count": 151,
   "metadata": {},
   "outputs": [
    {
     "name": "stdout",
     "output_type": "stream",
     "text": [
      "17/17 [==============================] - 1s 76ms/step\n",
      "              precision    recall  f1-score   support\n",
      "\n",
      "           0       0.88      0.97      0.92       286\n",
      "           1       0.96      0.84      0.90       241\n",
      "\n",
      "    accuracy                           0.91       527\n",
      "   macro avg       0.92      0.91      0.91       527\n",
      "weighted avg       0.92      0.91      0.91       527\n",
      "\n"
     ]
    }
   ],
   "source": [
    "test_predict = np.argmax(model.predict(test_data_reshaped),axis=-1)\n",
    "print (classification_report(test_target,test_predict))"
   ]
  },
  {
   "cell_type": "code",
   "execution_count": 152,
   "metadata": {},
   "outputs": [
    {
     "data": {
      "text/plain": [
       "Text(33.0, 0.5, 'Actual')"
      ]
     },
     "execution_count": 152,
     "metadata": {},
     "output_type": "execute_result"
    },
    {
     "data": {
      "image/png": "[encoded data removed]",
      "text/plain": [
       "<Figure size 432x288 with 2 Axes>"
      ]
     },
     "metadata": {
      "needs_background": "light"
     },
     "output_type": "display_data"
    }
   ],
   "source": [
    "cm = confusion_matrix(test_target,test_predict)\n",
    "sns.heatmap(cm,annot=True,annot_kws = {'size':15},fmt=\".1f\")\n",
    "plt.xlabel(\"Predict\")\n",
    "plt.ylabel(\"Actual\")"
   ]
  },
  {
   "cell_type": "code",
   "execution_count": null,
   "metadata": {},
   "outputs": [],
   "source": []
  },
  {
   "cell_type": "code",
   "execution_count": null,
   "metadata": {},
   "outputs": [],
   "source": []
  },
  {
   "cell_type": "code",
   "execution_count": null,
   "metadata": {},
   "outputs": [],
   "source": []
  },
  {
   "cell_type": "code",
   "execution_count": null,
   "metadata": {},
   "outputs": [],
   "source": []
  },
  {
   "cell_type": "code",
   "execution_count": null,
   "metadata": {},
   "outputs": [],
   "source": []
  },
  {
   "cell_type": "code",
   "execution_count": null,
   "metadata": {},
   "outputs": [],
   "source": []
  },
  {
   "cell_type": "code",
   "execution_count": null,
   "metadata": {},
   "outputs": [],
   "source": []
  }
 ],
 "metadata": {
  "kernelspec": {
   "display_name": "Python 3",
   "language": "python",
   "name": "python3"
  },
  "language_info": {
   "codemirror_mode": {
    "name": "ipython",
    "version": 3
   },
   "file_extension": ".py",
   "mimetype": "text/x-python",
   "name": "python",
   "nbconvert_exporter": "python",
   "pygments_lexer": "ipython3",
   "version": "3.8.3"
  }
 },
 "nbformat": 4,
 "nbformat_minor": 4
}
