{
 "cells": [
  {
   "cell_type": "code",
   "execution_count": 1,
   "metadata": {},
   "outputs": [],
   "source": [
    "import pandas as pd\n",
    "import seaborn as sns\n",
    "import matplotlib.pyplot as plt\n",
    "%matplotlib inline\n",
    "import numpy as np\n",
    "import os\n",
    "import cv2\n",
    "from sklearn.ensemble import RandomForestClassifier\n",
    "from sklearn.metrics import classification_report,confusion_matrix\n",
    "\n",
    "from random import shuffle"
   ]
  },
  {
   "cell_type": "code",
   "execution_count": 2,
   "metadata": {},
   "outputs": [],
   "source": [
    "def label_img(img):\n",
    "    word_label = img.split('_')[0]\n",
    "    if word_label == '0' : return 0\n",
    "    elif word_label == '1' : return 1"
   ]
  },
  {
   "cell_type": "code",
   "execution_count": 3,
   "metadata": {},
   "outputs": [],
   "source": [
    "data = []\n",
    "labels = []\n",
    "for img in os.listdir(r'coins modified'):\n",
    "    label = label_img(img)\n",
    "    path = os.path.join(r'coins modified',img)\n",
    "    img = cv2.resize(cv2.imread(path, cv2.IMREAD_GRAYSCALE),(140,70))\n",
    "    data.append(np.array(np.array(img[0:70,0:70]).flatten()))\n",
    "    labels.append(label)"
   ]
  },
  {
   "cell_type": "code",
   "execution_count": 4,
   "metadata": {},
   "outputs": [],
   "source": [
    "cols = []\n",
    "for i in range(4900):\n",
    "    cols.append(\"pixel_\"+str(i))\n",
    "data = pd.DataFrame(data, columns=cols)\n",
    "data = data/255\n",
    "data['label'] = labels\n",
    "data = data.sample(frac=1,random_state=0)"
   ]
  },
  {
   "cell_type": "code",
   "execution_count": 5,
   "metadata": {},
   "outputs": [
    {
     "data": {
      "text/html": [
       "<div>\n",
       "<style scoped>\n",
       "    .dataframe tbody tr th:only-of-type {\n",
       "        vertical-align: middle;\n",
       "    }\n",
       "\n",
       "    .dataframe tbody tr th {\n",
       "        vertical-align: top;\n",
       "    }\n",
       "\n",
       "    .dataframe thead th {\n",
       "        text-align: right;\n",
       "    }\n",
       "</style>\n",
       "<table border=\"1\" class=\"dataframe\">\n",
       "  <thead>\n",
       "    <tr style=\"text-align: right;\">\n",
       "      <th></th>\n",
       "      <th>pixel_0</th>\n",
       "      <th>pixel_1</th>\n",
       "      <th>pixel_2</th>\n",
       "      <th>pixel_3</th>\n",
       "      <th>pixel_4</th>\n",
       "      <th>pixel_5</th>\n",
       "      <th>pixel_6</th>\n",
       "      <th>pixel_7</th>\n",
       "      <th>pixel_8</th>\n",
       "      <th>pixel_9</th>\n",
       "      <th>...</th>\n",
       "      <th>pixel_4891</th>\n",
       "      <th>pixel_4892</th>\n",
       "      <th>pixel_4893</th>\n",
       "      <th>pixel_4894</th>\n",
       "      <th>pixel_4895</th>\n",
       "      <th>pixel_4896</th>\n",
       "      <th>pixel_4897</th>\n",
       "      <th>pixel_4898</th>\n",
       "      <th>pixel_4899</th>\n",
       "      <th>label</th>\n",
       "    </tr>\n",
       "  </thead>\n",
       "  <tbody>\n",
       "    <tr>\n",
       "      <th>70</th>\n",
       "      <td>1.0</td>\n",
       "      <td>1.0</td>\n",
       "      <td>1.0</td>\n",
       "      <td>1.0</td>\n",
       "      <td>1.0</td>\n",
       "      <td>1.0</td>\n",
       "      <td>1.0</td>\n",
       "      <td>1.0</td>\n",
       "      <td>1.0</td>\n",
       "      <td>1.0</td>\n",
       "      <td>...</td>\n",
       "      <td>1.0</td>\n",
       "      <td>1.0</td>\n",
       "      <td>1.0</td>\n",
       "      <td>1.0</td>\n",
       "      <td>1.0</td>\n",
       "      <td>1.0</td>\n",
       "      <td>1.0</td>\n",
       "      <td>1.0</td>\n",
       "      <td>1.0</td>\n",
       "      <td>0</td>\n",
       "    </tr>\n",
       "    <tr>\n",
       "      <th>1171</th>\n",
       "      <td>1.0</td>\n",
       "      <td>1.0</td>\n",
       "      <td>1.0</td>\n",
       "      <td>1.0</td>\n",
       "      <td>1.0</td>\n",
       "      <td>1.0</td>\n",
       "      <td>1.0</td>\n",
       "      <td>1.0</td>\n",
       "      <td>1.0</td>\n",
       "      <td>1.0</td>\n",
       "      <td>...</td>\n",
       "      <td>1.0</td>\n",
       "      <td>1.0</td>\n",
       "      <td>1.0</td>\n",
       "      <td>1.0</td>\n",
       "      <td>1.0</td>\n",
       "      <td>1.0</td>\n",
       "      <td>1.0</td>\n",
       "      <td>1.0</td>\n",
       "      <td>1.0</td>\n",
       "      <td>0</td>\n",
       "    </tr>\n",
       "    <tr>\n",
       "      <th>1246</th>\n",
       "      <td>1.0</td>\n",
       "      <td>1.0</td>\n",
       "      <td>1.0</td>\n",
       "      <td>1.0</td>\n",
       "      <td>1.0</td>\n",
       "      <td>1.0</td>\n",
       "      <td>1.0</td>\n",
       "      <td>1.0</td>\n",
       "      <td>1.0</td>\n",
       "      <td>1.0</td>\n",
       "      <td>...</td>\n",
       "      <td>1.0</td>\n",
       "      <td>1.0</td>\n",
       "      <td>1.0</td>\n",
       "      <td>1.0</td>\n",
       "      <td>1.0</td>\n",
       "      <td>1.0</td>\n",
       "      <td>1.0</td>\n",
       "      <td>1.0</td>\n",
       "      <td>1.0</td>\n",
       "      <td>0</td>\n",
       "    </tr>\n",
       "    <tr>\n",
       "      <th>971</th>\n",
       "      <td>1.0</td>\n",
       "      <td>1.0</td>\n",
       "      <td>1.0</td>\n",
       "      <td>1.0</td>\n",
       "      <td>1.0</td>\n",
       "      <td>1.0</td>\n",
       "      <td>1.0</td>\n",
       "      <td>1.0</td>\n",
       "      <td>1.0</td>\n",
       "      <td>1.0</td>\n",
       "      <td>...</td>\n",
       "      <td>1.0</td>\n",
       "      <td>1.0</td>\n",
       "      <td>1.0</td>\n",
       "      <td>1.0</td>\n",
       "      <td>1.0</td>\n",
       "      <td>1.0</td>\n",
       "      <td>1.0</td>\n",
       "      <td>1.0</td>\n",
       "      <td>1.0</td>\n",
       "      <td>0</td>\n",
       "    </tr>\n",
       "    <tr>\n",
       "      <th>361</th>\n",
       "      <td>1.0</td>\n",
       "      <td>1.0</td>\n",
       "      <td>1.0</td>\n",
       "      <td>1.0</td>\n",
       "      <td>1.0</td>\n",
       "      <td>1.0</td>\n",
       "      <td>1.0</td>\n",
       "      <td>1.0</td>\n",
       "      <td>1.0</td>\n",
       "      <td>1.0</td>\n",
       "      <td>...</td>\n",
       "      <td>1.0</td>\n",
       "      <td>1.0</td>\n",
       "      <td>1.0</td>\n",
       "      <td>1.0</td>\n",
       "      <td>1.0</td>\n",
       "      <td>1.0</td>\n",
       "      <td>1.0</td>\n",
       "      <td>1.0</td>\n",
       "      <td>1.0</td>\n",
       "      <td>0</td>\n",
       "    </tr>\n",
       "  </tbody>\n",
       "</table>\n",
       "<p>5 rows × 4901 columns</p>\n",
       "</div>"
      ],
      "text/plain": [
       "      pixel_0  pixel_1  pixel_2  pixel_3  pixel_4  pixel_5  pixel_6  pixel_7  \\\n",
       "70        1.0      1.0      1.0      1.0      1.0      1.0      1.0      1.0   \n",
       "1171      1.0      1.0      1.0      1.0      1.0      1.0      1.0      1.0   \n",
       "1246      1.0      1.0      1.0      1.0      1.0      1.0      1.0      1.0   \n",
       "971       1.0      1.0      1.0      1.0      1.0      1.0      1.0      1.0   \n",
       "361       1.0      1.0      1.0      1.0      1.0      1.0      1.0      1.0   \n",
       "\n",
       "      pixel_8  pixel_9  ...  pixel_4891  pixel_4892  pixel_4893  pixel_4894  \\\n",
       "70        1.0      1.0  ...         1.0         1.0         1.0         1.0   \n",
       "1171      1.0      1.0  ...         1.0         1.0         1.0         1.0   \n",
       "1246      1.0      1.0  ...         1.0         1.0         1.0         1.0   \n",
       "971       1.0      1.0  ...         1.0         1.0         1.0         1.0   \n",
       "361       1.0      1.0  ...         1.0         1.0         1.0         1.0   \n",
       "\n",
       "      pixel_4895  pixel_4896  pixel_4897  pixel_4898  pixel_4899  label  \n",
       "70           1.0         1.0         1.0         1.0         1.0      0  \n",
       "1171         1.0         1.0         1.0         1.0         1.0      0  \n",
       "1246         1.0         1.0         1.0         1.0         1.0      0  \n",
       "971          1.0         1.0         1.0         1.0         1.0      0  \n",
       "361          1.0         1.0         1.0         1.0         1.0      0  \n",
       "\n",
       "[5 rows x 4901 columns]"
      ]
     },
     "execution_count": 5,
     "metadata": {},
     "output_type": "execute_result"
    }
   ],
   "source": [
    "data.head()"
   ]
  },
  {
   "cell_type": "code",
   "execution_count": 6,
   "metadata": {},
   "outputs": [],
   "source": [
    "test = data.iloc[1800:]\n",
    "test.reset_index(drop=True,inplace=True)\n",
    "\n",
    "train = data.iloc[0:1800]\n",
    "train.reset_index(drop=True,inplace=True)"
   ]
  },
  {
   "cell_type": "code",
   "execution_count": 7,
   "metadata": {},
   "outputs": [],
   "source": [
    "train_data = train.drop('label',axis=1)\n",
    "train_target = train['label']\n",
    "\n",
    "test_data = test.drop('label',axis=1)\n",
    "test_target = test['label']"
   ]
  },
  {
   "cell_type": "code",
   "execution_count": 8,
   "metadata": {},
   "outputs": [
    {
     "data": {
      "text/plain": [
       "RandomForestClassifier()"
      ]
     },
     "execution_count": 8,
     "metadata": {},
     "output_type": "execute_result"
    }
   ],
   "source": [
    "\n",
    "rfc = RandomForestClassifier()\n",
    "rfc.fit(train_data,train_target)"
   ]
  },
  {
   "cell_type": "code",
   "execution_count": 9,
   "metadata": {},
   "outputs": [
    {
     "data": {
      "text/plain": [
       "RandomForestClassifier()"
      ]
     },
     "execution_count": 9,
     "metadata": {},
     "output_type": "execute_result"
    }
   ],
   "source": [
    "rfc = RandomForestClassifier()\n",
    "rfc.fit(train_data,train_target)\n",
    "rfc"
   ]
  },
  {
   "cell_type": "code",
   "execution_count": 10,
   "metadata": {},
   "outputs": [],
   "source": [
    "y_pred = rfc.predict(test_data)"
   ]
  },
  {
   "cell_type": "code",
   "execution_count": 11,
   "metadata": {},
   "outputs": [
    {
     "name": "stdout",
     "output_type": "stream",
     "text": [
      "              precision    recall  f1-score   support\n",
      "\n",
      "           0       0.84      0.99      0.91       296\n",
      "           1       0.97      0.67      0.79       171\n",
      "\n",
      "    accuracy                           0.87       467\n",
      "   macro avg       0.90      0.83      0.85       467\n",
      "weighted avg       0.88      0.87      0.86       467\n",
      "\n"
     ]
    }
   ],
   "source": [
    "print (classification_report(test_target,y_pred))\n"
   ]
  },
  {
   "cell_type": "code",
   "execution_count": 12,
   "metadata": {},
   "outputs": [],
   "source": [
    "# from sklearn.decomposition import PCA\n",
    "# pca=PCA()\n",
    "# pca.fit(train_data)\n",
    "# cumilative_sum = np.cumsum(pca.explained_variance_ratio_)\n",
    "# pca_plt = plt.figure(figsize=(20,6))\n",
    "# pca_plt = plt.plot(cumilative_sum, linewidth=3)\n",
    "# pca_plt = plt.axis([0, 4900, 0, 1])\n",
    "# pca_plt = plt.xlabel(\"Dimensions\")\n",
    "# pca_plt = plt.ylabel(\"Explained Variance\")\n",
    "# x = np.argmax(cumilative_sum >= 0.95) + 1\n",
    "# pca_plt = plt.plot([x, x], [0, 0.95], \"k:\")\n",
    "# pca_plt = plt.plot([0, x], [0.95, 0.95], \"k:\")\n",
    "# pca_plt = plt.plot(x, 0.95, \"ko\")\n",
    "# plt.grid(True)\n",
    "# plt.show()\n"
   ]
  },
  {
   "cell_type": "code",
   "execution_count": 13,
   "metadata": {},
   "outputs": [],
   "source": [
    "# pca = PCA(n_components = 0.95)\n",
    "# pca.fit(train_data)\n",
    "# reduced_train = pd.DataFrame(pca.transform(train_data))\n",
    "# print(\"The total amount of dimensions: \",reduced_train.shape[1])"
   ]
  },
  {
   "cell_type": "code",
   "execution_count": 14,
   "metadata": {},
   "outputs": [],
   "source": [
    "# pca_test = PCA(n_components = 527)\n",
    "# pca_test.fit(test_data)\n",
    "# reduced_test = pd.DataFrame(pca.transform(test_data))"
   ]
  },
  {
   "cell_type": "code",
   "execution_count": 15,
   "metadata": {},
   "outputs": [],
   "source": [
    "# from xgboost import XGBClassifier\n",
    "# xgb = XGBClassifier()\n",
    "# xgb.fit(train_data, train_target)\n",
    "# xgb_pred = xgb.predict(test_data)\n",
    "# print('XGBoost accuracy score: %.2f'%(xgb.score(test_data, test_target)*100),'%')"
   ]
  },
  {
   "cell_type": "code",
   "execution_count": 16,
   "metadata": {},
   "outputs": [],
   "source": [
    "# reduced_train.shape"
   ]
  },
  {
   "cell_type": "code",
   "execution_count": null,
   "metadata": {},
   "outputs": [],
   "source": []
  },
  {
   "cell_type": "code",
   "execution_count": 17,
   "metadata": {},
   "outputs": [],
   "source": [
    "# xgb.fit(reduced_train, train_target)\n",
    "# xgb_pred = xgb.predict(reduced_test)\n",
    "# print('XGBoost accuracy score: %.2f'%(xgb.score(reduced_test, test_target)*100),'%')"
   ]
  },
  {
   "cell_type": "code",
   "execution_count": 18,
   "metadata": {},
   "outputs": [],
   "source": [
    "import tensorflow as tf\n",
    "\n",
    "from tensorflow.keras import datasets, layers, models\n",
    "import matplotlib.pyplot as plt"
   ]
  },
  {
   "cell_type": "code",
   "execution_count": 19,
   "metadata": {},
   "outputs": [
    {
     "data": {
      "text/plain": [
       "<matplotlib.image.AxesImage at 0x163a4658070>"
      ]
     },
     "execution_count": 19,
     "metadata": {},
     "output_type": "execute_result"
    },
    {
     "data": {
      "image/png": "[encoded data removed]",
      "text/plain": [
       "<Figure size 432x288 with 1 Axes>"
      ]
     },
     "metadata": {
      "needs_background": "light"
     },
     "output_type": "display_data"
    }
   ],
   "source": [
    "plt.imshow(train_data.iloc[0].values.reshape((70,70)))"
   ]
  },
  {
   "cell_type": "code",
   "execution_count": 20,
   "metadata": {},
   "outputs": [],
   "source": [
    "train_data_reshaped = []\n",
    "test_data_reshaped = []\n",
    "for i in range(len(train_data)):\n",
    "    t = train_data.iloc[i].values.reshape((70,70))\n",
    "    t = np.array(t)\n",
    "    train_data_reshaped.append(t)\n",
    "    \n",
    "for i in range(len(test_data)):\n",
    "    t = test_data.iloc[i].values.reshape((70,70))\n",
    "    t = np.array(t)\n",
    "    test_data_reshaped.append(t)"
   ]
  },
  {
   "cell_type": "code",
   "execution_count": 21,
   "metadata": {},
   "outputs": [],
   "source": [
    "train_data_reshaped = np.array(train_data_reshaped)\n",
    "test_data_reshaped = np.array(test_data_reshaped)"
   ]
  },
  {
   "cell_type": "code",
   "execution_count": 22,
   "metadata": {},
   "outputs": [],
   "source": [
    "test_data_reshaped = np.expand_dims(test_data_reshaped,axis=-1)\n",
    "train_data_reshaped = np.expand_dims(train_data_reshaped,axis=-1)"
   ]
  },
  {
   "cell_type": "code",
   "execution_count": 23,
   "metadata": {},
   "outputs": [
    {
     "name": "stdout",
     "output_type": "stream",
     "text": [
      "Model: \"sequential\"\n",
      "_________________________________________________________________\n",
      " Layer (type)                Output Shape              Param #   \n",
      "=================================================================\n",
      " conv2d (Conv2D)             (None, 68, 68, 32)        320       \n",
      "                                                                 \n",
      " max_pooling2d (MaxPooling2D  (None, 34, 34, 32)       0         \n",
      " )                                                               \n",
      "                                                                 \n",
      " conv2d_1 (Conv2D)           (None, 32, 32, 42)        12138     \n",
      "                                                                 \n",
      " max_pooling2d_1 (MaxPooling  (None, 16, 16, 42)       0         \n",
      " 2D)                                                             \n",
      "                                                                 \n",
      " conv2d_2 (Conv2D)           (None, 14, 14, 52)        19708     \n",
      "                                                                 \n",
      " max_pooling2d_2 (MaxPooling  (None, 7, 7, 52)         0         \n",
      " 2D)                                                             \n",
      "                                                                 \n",
      " conv2d_3 (Conv2D)           (None, 5, 5, 62)          29078     \n",
      "                                                                 \n",
      " max_pooling2d_3 (MaxPooling  (None, 2, 2, 62)         0         \n",
      " 2D)                                                             \n",
      "                                                                 \n",
      " flatten (Flatten)           (None, 248)               0         \n",
      "                                                                 \n",
      " dense (Dense)               (None, 64)                15936     \n",
      "                                                                 \n",
      " dense_1 (Dense)             (None, 32)                2080      \n",
      "                                                                 \n",
      " dense_2 (Dense)             (None, 2)                 66        \n",
      "                                                                 \n",
      "=================================================================\n",
      "Total params: 79,326\n",
      "Trainable params: 79,326\n",
      "Non-trainable params: 0\n",
      "_________________________________________________________________\n"
     ]
    }
   ],
   "source": [
    "model = models.Sequential()\n",
    "model.add(layers.Conv2D(32, (3, 3), activation='relu', input_shape=(70, 70, 1)))\n",
    "model.add(layers.MaxPooling2D((2, 2)))\n",
    "model.add(layers.Conv2D(42, (3, 3), activation='relu'))\n",
    "model.add(layers.MaxPooling2D((2, 2)))\n",
    "model.add(layers.Conv2D(52, (3, 3), activation='relu'))\n",
    "model.add(layers.MaxPooling2D((2, 2)))\n",
    "model.add(layers.Conv2D(62, (3, 3), activation='relu'))\n",
    "model.add(layers.MaxPooling2D((2, 2)))\n",
    "\n",
    "\n",
    "model.add(layers.Flatten())\n",
    "model.add(layers.Dense(64, activation='relu'))\n",
    "model.add(layers.Dense(32, activation='relu'))\n",
    "model.add(layers.Dense(2))\n",
    "model.summary()"
   ]
  },
  {
   "cell_type": "code",
   "execution_count": 24,
   "metadata": {},
   "outputs": [
    {
     "name": "stdout",
     "output_type": "stream",
     "text": [
      "Epoch 1/18\n",
      "18/18 [==============================] - 11s 491ms/step - loss: 0.6447 - accuracy: 0.6594\n",
      "Epoch 2/18\n",
      "18/18 [==============================] - 9s 530ms/step - loss: 0.6143 - accuracy: 0.6594\n",
      "Epoch 3/18\n",
      "18/18 [==============================] - 9s 496ms/step - loss: 0.3727 - accuracy: 0.8050\n",
      "Epoch 4/18\n",
      "18/18 [==============================] - 10s 539ms/step - loss: 0.1174 - accuracy: 0.9628\n",
      "Epoch 5/18\n",
      "18/18 [==============================] - 10s 561ms/step - loss: 0.0769 - accuracy: 0.9778\n",
      "Epoch 6/18\n",
      "18/18 [==============================] - 10s 532ms/step - loss: 0.0585 - accuracy: 0.9861\n",
      "Epoch 7/18\n",
      "18/18 [==============================] - 9s 485ms/step - loss: 0.0474 - accuracy: 0.9878\n",
      "Epoch 8/18\n",
      "18/18 [==============================] - 8s 470ms/step - loss: 0.0420 - accuracy: 0.9889\n",
      "Epoch 9/18\n",
      "18/18 [==============================] - 8s 464ms/step - loss: 0.0364 - accuracy: 0.9917\n",
      "Epoch 10/18\n",
      "18/18 [==============================] - 9s 507ms/step - loss: 0.0335 - accuracy: 0.9911\n",
      "Epoch 11/18\n",
      "18/18 [==============================] - 10s 543ms/step - loss: 0.0272 - accuracy: 0.9922\n",
      "Epoch 12/18\n",
      "18/18 [==============================] - 8s 451ms/step - loss: 0.0233 - accuracy: 0.9933\n",
      "Epoch 13/18\n",
      "18/18 [==============================] - 8s 457ms/step - loss: 0.0241 - accuracy: 0.9939\n",
      "Epoch 14/18\n",
      "18/18 [==============================] - 8s 452ms/step - loss: 0.0216 - accuracy: 0.9944\n",
      "Epoch 15/18\n",
      "18/18 [==============================] - 8s 464ms/step - loss: 0.0160 - accuracy: 0.9967\n",
      "Epoch 16/18\n",
      "18/18 [==============================] - 8s 459ms/step - loss: 0.0147 - accuracy: 0.9961\n",
      "Epoch 17/18\n",
      "18/18 [==============================] - 8s 452ms/step - loss: 0.0116 - accuracy: 0.9972\n",
      "Epoch 18/18\n",
      "18/18 [==============================] - 8s 453ms/step - loss: 0.0098 - accuracy: 0.9978\n"
     ]
    }
   ],
   "source": [
    "model.compile(optimizer='adam',\n",
    "              loss=tf.keras.losses.SparseCategoricalCrossentropy(from_logits=True),\n",
    "              metrics=['accuracy'])\n",
    "\n",
    "history = model.fit(train_data_reshaped, train_target, epochs=18,batch_size=100)"
   ]
  },
  {
   "cell_type": "code",
   "execution_count": 25,
   "metadata": {},
   "outputs": [
    {
     "name": "stdout",
     "output_type": "stream",
     "text": [
      "15/15 - 1s - loss: 0.0422 - accuracy: 0.9893 - 882ms/epoch - 59ms/step\n"
     ]
    }
   ],
   "source": [
    "test_loss, test_acc = model.evaluate(test_data_reshaped,  test_target, verbose=2)"
   ]
  },
  {
   "cell_type": "code",
   "execution_count": 26,
   "metadata": {},
   "outputs": [
    {
     "name": "stdout",
     "output_type": "stream",
     "text": [
      "15/15 [==============================] - 1s 43ms/step\n",
      "              precision    recall  f1-score   support\n",
      "\n",
      "           0       0.99      0.99      0.99       296\n",
      "           1       0.99      0.98      0.99       171\n",
      "\n",
      "    accuracy                           0.99       467\n",
      "   macro avg       0.99      0.99      0.99       467\n",
      "weighted avg       0.99      0.99      0.99       467\n",
      "\n"
     ]
    }
   ],
   "source": [
    "test_predict = np.argmax(model.predict(test_data_reshaped),axis=-1)\n",
    "print (classification_report(test_target,test_predict))"
   ]
  },
  {
   "cell_type": "code",
   "execution_count": 27,
   "metadata": {},
   "outputs": [
    {
     "data": {
      "text/plain": [
       "Text(33.0, 0.5, 'Actual')"
      ]
     },
     "execution_count": 27,
     "metadata": {},
     "output_type": "execute_result"
    },
    {
     "data": {
      "image/png": "[encoded data removed]",
      "text/plain": [
       "<Figure size 432x288 with 2 Axes>"
      ]
     },
     "metadata": {
      "needs_background": "light"
     },
     "output_type": "display_data"
    }
   ],
   "source": [
    "cm = confusion_matrix(test_target,test_predict)\n",
    "sns.heatmap(cm,annot=True,annot_kws = {'size':15},fmt=\".1f\")\n",
    "plt.xlabel(\"Predict\")\n",
    "plt.ylabel(\"Actual\")"
   ]
  },
  {
   "cell_type": "code",
   "execution_count": null,
   "metadata": {},
   "outputs": [],
   "source": []
  },
  {
   "cell_type": "code",
   "execution_count": null,
   "metadata": {},
   "outputs": [],
   "source": [
    "# model = models.Sequential()\n",
    "# model.add(layers.Conv2D(100, (3, 3), activation='relu', input_shape=(70, 70, 1)))\n",
    "# model.add(layers.MaxPooling2D((2, 2)))\n",
    "# model.add(layers.Conv2D(80, (3, 3), activation='relu'))\n",
    "# model.add(layers.MaxPooling2D((2, 2)))\n",
    "# model.add(layers.Conv2D(60, (3, 3), activation='relu'))\n",
    "# model.add(layers.MaxPooling2D((2, 2)))\n",
    "# model.add(layers.Conv2D(30, (3, 3), activation='relu'))\n",
    "# model.add(layers.MaxPooling2D((2, 2)))\n",
    "\n",
    "\n",
    "# model.add(layers.Flatten())\n",
    "# model.add(layers.Dense(64, activation='relu'))\n",
    "# model.add(layers.Dense(32, activation='relu'))\n",
    "# model.add(layers.Dense(2))\n",
    "# model.summary()"
   ]
  },
  {
   "cell_type": "code",
   "execution_count": null,
   "metadata": {},
   "outputs": [],
   "source": [
    "# model.compile(optimizer='adam',\n",
    "#               loss=tf.keras.losses.SparseCategoricalCrossentropy(from_logits=True),\n",
    "#               metrics=['accuracy'])\n",
    "\n",
    "# history = model.fit(train_data_reshaped, train_target, epochs=18,batch_size=100)"
   ]
  },
  {
   "cell_type": "code",
   "execution_count": null,
   "metadata": {},
   "outputs": [],
   "source": [
    "# test_loss, test_acc = model.evaluate(test_data_reshaped,  test_target, verbose=2)"
   ]
  },
  {
   "cell_type": "code",
   "execution_count": null,
   "metadata": {},
   "outputs": [],
   "source": [
    "# test_predict = np.argmax(model.predict(test_data_reshaped),axis=-1)\n",
    "# print (classification_report(test_target,test_predict))"
   ]
  },
  {
   "cell_type": "code",
   "execution_count": null,
   "metadata": {},
   "outputs": [],
   "source": [
    "# cm = confusion_matrix(test_target,test_predict)\n",
    "# sns.heatmap(cm,annot=True,annot_kws = {'size':15},fmt=\".1f\")\n",
    "# plt.xlabel(\"Predict\")\n",
    "# plt.ylabel(\"Actual\")"
   ]
  },
  {
   "cell_type": "code",
   "execution_count": null,
   "metadata": {},
   "outputs": [],
   "source": []
  },
  {
   "cell_type": "markdown",
   "metadata": {},
   "source": [
    "# COLOR"
   ]
  },
  {
   "cell_type": "code",
   "execution_count": null,
   "metadata": {},
   "outputs": [],
   "source": [
    "# data = []\n",
    "# labels = []\n",
    "# for img in os.listdir(r'ptolemy silver proarchives'):\n",
    "#     label = label_img(img)\n",
    "#     path = os.path.join(r'ptolemy silver proarchives',img)\n",
    "#     img = cv2.resize(cv2.imread(path),(140,70))\n",
    "#     data.append(np.array(np.array(img[0:70,0:70]).flatten()))\n",
    "#     labels.append(label)"
   ]
  },
  {
   "cell_type": "code",
   "execution_count": null,
   "metadata": {},
   "outputs": [],
   "source": [
    "# cols = []\n",
    "# for i in range(14700):\n",
    "#     cols.append(\"pixel_\"+str(i))\n",
    "# data = pd.DataFrame(data, columns=cols)\n",
    "# data = data/255\n",
    "# data['label'] = labels\n",
    "# data = data.sample(frac=1,random_state=0)"
   ]
  },
  {
   "cell_type": "code",
   "execution_count": null,
   "metadata": {},
   "outputs": [],
   "source": [
    "# data.head()"
   ]
  },
  {
   "cell_type": "code",
   "execution_count": null,
   "metadata": {},
   "outputs": [],
   "source": [
    "# test = data.iloc[1800:]\n",
    "# test.reset_index(drop=True,inplace=True)\n",
    "\n",
    "# train = data.iloc[0:1800]\n",
    "# train.reset_index(drop=True,inplace=True)"
   ]
  },
  {
   "cell_type": "code",
   "execution_count": null,
   "metadata": {},
   "outputs": [],
   "source": [
    "# train_data = train.drop('label',axis=1)\n",
    "# train_target = train['label']\n",
    "\n",
    "# test_data = test.drop('label',axis=1)\n",
    "# test_target = test['label']"
   ]
  },
  {
   "cell_type": "code",
   "execution_count": null,
   "metadata": {},
   "outputs": [],
   "source": [
    "# plt.imshow(np.flip(np.array(train_data.loc[1]).reshape(70,70,3),2))"
   ]
  },
  {
   "cell_type": "code",
   "execution_count": null,
   "metadata": {},
   "outputs": [],
   "source": [
    "# train_data_reshaped = []\n",
    "# test_data_reshaped = []\n",
    "# for i in range(len(train_data)):\n",
    "#     t = train_data.iloc[i].values.reshape((70,70,3))\n",
    "#     t = np.flip(np.array(t),2)\n",
    "#     train_data_reshaped.append(t)\n",
    "    \n",
    "# for i in range(len(test_data)):\n",
    "#     t = test_data.iloc[i].values.reshape((70,70,3))\n",
    "#     t = np.flip(np.array(t),2)\n",
    "#     test_data_reshaped.append(t)"
   ]
  },
  {
   "cell_type": "code",
   "execution_count": null,
   "metadata": {},
   "outputs": [],
   "source": [
    "# plt.imshow(test_data_reshaped[1])"
   ]
  },
  {
   "cell_type": "code",
   "execution_count": null,
   "metadata": {},
   "outputs": [],
   "source": [
    "# train_data_reshaped = np.array(train_data_reshaped)\n",
    "# test_data_reshaped = np.array(test_data_reshaped)\n",
    "# test_data_reshaped = np.expand_dims(test_data_reshaped,axis=-1)\n",
    "# train_data_reshaped = np.expand_dims(train_data_reshaped,axis=-1)"
   ]
  },
  {
   "cell_type": "code",
   "execution_count": null,
   "metadata": {},
   "outputs": [],
   "source": [
    "# model = models.Sequential()\n",
    "# model.add(layers.Conv2D(32, (3, 3), activation='relu', input_shape=(70, 70, 3)))\n",
    "# model.add(layers.MaxPooling2D((2, 2)))\n",
    "# model.add(layers.Conv2D(42, (3, 3), activation='relu'))\n",
    "# model.add(layers.MaxPooling2D((2, 2)))\n",
    "# model.add(layers.Conv2D(52, (3, 3), activation='relu'))\n",
    "# model.add(layers.MaxPooling2D((2, 2)))\n",
    "# model.add(layers.Conv2D(62, (3, 3), activation='relu'))\n",
    "# model.add(layers.MaxPooling2D((2, 2)))\n",
    "\n",
    "\n",
    "# model.add(layers.Flatten())\n",
    "# model.add(layers.Dense(64, activation='relu'))\n",
    "# model.add(layers.Dropout(rate = 0.2))\n",
    "# model.add(layers.Dense(32, activation='relu'))\n",
    "# model.add(layers.Dropout(rate = 0.2))\n",
    "\n",
    "# model.add(layers.Dense(2))\n",
    "# model.summary()"
   ]
  },
  {
   "cell_type": "code",
   "execution_count": null,
   "metadata": {},
   "outputs": [],
   "source": [
    "# model.compile(optimizer='rmsprop',\n",
    "#               loss=tf.keras.losses.SparseCategoricalCrossentropy(from_logits=True),\n",
    "#               metrics=['accuracy'])\n",
    "\n",
    "# history = model.fit(train_data_reshaped, train_target, epochs=18,batch_size=100)"
   ]
  },
  {
   "cell_type": "code",
   "execution_count": null,
   "metadata": {},
   "outputs": [],
   "source": [
    "# test_loss, test_acc = model.evaluate(test_data_reshaped, test_target, verbose=2)"
   ]
  },
  {
   "cell_type": "code",
   "execution_count": null,
   "metadata": {},
   "outputs": [],
   "source": [
    "# test_predict = np.argmax(model.predict(test_data_reshaped),axis=-1)\n",
    "# print (classification_report(test_target,test_predict))"
   ]
  },
  {
   "cell_type": "code",
   "execution_count": null,
   "metadata": {},
   "outputs": [],
   "source": [
    "# cm = confusion_matrix(test_target,test_predict)\n",
    "# sns.heatmap(cm,annot=True,annot_kws = {'size':15},fmt=\".1f\")\n",
    "# plt.xlabel(\"Predict\")\n",
    "# plt.ylabel(\"Actual\")"
   ]
  },
  {
   "cell_type": "markdown",
   "metadata": {},
   "source": [
    "# 150 X 150"
   ]
  },
  {
   "cell_type": "code",
   "execution_count": 36,
   "metadata": {},
   "outputs": [
    {
     "name": "stdout",
     "output_type": "stream",
     "text": [
      "ERROR! Session/line number was not unique in database. History logging moved to new session 368\n"
     ]
    }
   ],
   "source": [
    "# data = []\n",
    "# labels = []\n",
    "# for img in os.listdir(r'coins modified'):\n",
    "#     label = label_img(img)\n",
    "#     path = os.path.join(r'coins modified',img)\n",
    "#     img = cv2.resize(cv2.imread(path, cv2.IMREAD_GRAYSCALE),(300,150))\n",
    "#     data.append(np.array(np.array(img[0:150,0:150]).flatten()))\n",
    "#     labels.append(label)"
   ]
  },
  {
   "cell_type": "code",
   "execution_count": 37,
   "metadata": {},
   "outputs": [],
   "source": [
    "# cols = []\n",
    "# for i in range(22500):\n",
    "#     cols.append(\"pixel_\"+str(i))\n",
    "# data = pd.DataFrame(data, columns=cols)\n",
    "# data = data/255\n",
    "# data['label'] = labels\n",
    "# data = data.sample(frac=1,random_state=0)"
   ]
  },
  {
   "cell_type": "code",
   "execution_count": 38,
   "metadata": {},
   "outputs": [],
   "source": [
    "# test = data.iloc[1800:]\n",
    "# test.reset_index(drop=True,inplace=True)\n",
    "\n",
    "# train = data.iloc[0:1800]\n",
    "# train.reset_index(drop=True,inplace=True)"
   ]
  },
  {
   "cell_type": "code",
   "execution_count": 39,
   "metadata": {},
   "outputs": [],
   "source": [
    "# train_data = train.drop('label',axis=1)\n",
    "# train_target = train['label']\n",
    "\n",
    "# test_data = test.drop('label',axis=1)\n",
    "# test_target = test['label']"
   ]
  },
  {
   "cell_type": "code",
   "execution_count": 40,
   "metadata": {},
   "outputs": [],
   "source": [
    "# train_data_reshaped = []\n",
    "# test_data_reshaped = []\n",
    "# for i in range(len(train_data)):\n",
    "#     t = train_data.iloc[i].values.reshape((150,150))\n",
    "#     t = np.array(t)\n",
    "#     train_data_reshaped.append(t)\n",
    "    \n",
    "# for i in range(len(test_data)):\n",
    "#     t = test_data.iloc[i].values.reshape((150,150))\n",
    "#     t = np.array(t)\n",
    "#     test_data_reshaped.append(t)"
   ]
  },
  {
   "cell_type": "code",
   "execution_count": 41,
   "metadata": {},
   "outputs": [],
   "source": [
    "# train_data_reshaped = np.array(train_data_reshaped)\n",
    "# test_data_reshaped = np.array(test_data_reshaped)"
   ]
  },
  {
   "cell_type": "code",
   "execution_count": 42,
   "metadata": {},
   "outputs": [],
   "source": [
    "# test_data_reshaped = np.expand_dims(test_data_reshaped,axis=-1)\n",
    "# train_data_reshaped = np.expand_dims(train_data_reshaped,axis=-1)"
   ]
  },
  {
   "cell_type": "code",
   "execution_count": 43,
   "metadata": {},
   "outputs": [],
   "source": [
    "# model = models.Sequential()\n",
    "# model.add(layers.Conv2D(32, (3, 3), activation='relu', input_shape=(150, 150, 1)))\n",
    "# model.add(layers.MaxPooling2D((2, 2)))\n",
    "# model.add(layers.Conv2D(42, (3, 3), activation='relu'))\n",
    "# model.add(layers.MaxPooling2D((2, 2)))\n",
    "# model.add(layers.Conv2D(52, (3, 3), activation='relu'))\n",
    "# model.add(layers.MaxPooling2D((2, 2)))\n",
    "# model.add(layers.Conv2D(62, (3, 3), activation='relu'))\n",
    "# model.add(layers.MaxPooling2D((2, 2)))\n",
    "\n",
    "\n",
    "# model.add(layers.Flatten())\n",
    "# model.add(layers.Dense(64, activation='relu'))\n",
    "# model.add(layers.Dense(32, activation='relu'))\n",
    "# model.add(layers.Dense(2))\n",
    "# model.summary()"
   ]
  },
  {
   "cell_type": "code",
   "execution_count": 44,
   "metadata": {},
   "outputs": [],
   "source": [
    "# model.compile(optimizer='adam',\n",
    "#               loss=tf.keras.losses.SparseCategoricalCrossentropy(from_logits=True),\n",
    "#               metrics=['accuracy'])\n",
    "\n",
    "# history = model.fit(train_data_reshaped, train_target, epochs=18,batch_size=100)"
   ]
  },
  {
   "cell_type": "code",
   "execution_count": 45,
   "metadata": {},
   "outputs": [],
   "source": [
    "# test_loss, test_acc = model.evaluate(test_data_reshaped,  test_target, verbose=2)"
   ]
  },
  {
   "cell_type": "code",
   "execution_count": 46,
   "metadata": {},
   "outputs": [],
   "source": [
    "# test_predict = np.argmax(model.predict(test_data_reshaped),axis=-1)\n",
    "# print (classification_report(test_target,test_predict))"
   ]
  },
  {
   "cell_type": "code",
   "execution_count": 47,
   "metadata": {},
   "outputs": [],
   "source": [
    "# cm = confusion_matrix(test_target,test_predict)\n",
    "# sns.heatmap(cm,annot=True,annot_kws = {'size':15},fmt=\".1f\")\n",
    "# plt.xlabel(\"Predict\")\n",
    "# plt.ylabel(\"Actual\")"
   ]
  },
  {
   "cell_type": "code",
   "execution_count": 48,
   "metadata": {},
   "outputs": [],
   "source": [
    "# plt.imshow(train_data.iloc[0].values.reshape((150,150)))"
   ]
  },
  {
   "cell_type": "code",
   "execution_count": null,
   "metadata": {},
   "outputs": [],
   "source": []
  }
 ],
 "metadata": {
  "kernelspec": {
   "display_name": "Python 3",
   "language": "python",
   "name": "python3"
  },
  "language_info": {
   "codemirror_mode": {
    "name": "ipython",
    "version": 3
   },
   "file_extension": ".py",
   "mimetype": "text/x-python",
   "name": "python",
   "nbconvert_exporter": "python",
   "pygments_lexer": "ipython3",
   "version": "3.8.3"
  }
 },
 "nbformat": 4,
 "nbformat_minor": 4
}
