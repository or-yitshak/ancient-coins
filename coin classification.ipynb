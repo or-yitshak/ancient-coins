{
 "cells": [
  {
   "cell_type": "code",
   "execution_count": 86,
   "metadata": {},
   "outputs": [],
   "source": [
    "import pandas as pd\n",
    "import seaborn as sns\n",
    "import matplotlib.pyplot as plt\n",
    "%matplotlib inline\n",
    "import numpy as np\n",
    "import os\n",
    "import cv2\n",
    "from sklearn.ensemble import RandomForestClassifier\n",
    "from sklearn.metrics import classification_report,confusion_matrix\n",
    "\n",
    "from random import shuffle"
   ]
  },
  {
   "cell_type": "code",
   "execution_count": 186,
   "metadata": {},
   "outputs": [],
   "source": [
    "def label_img(img):\n",
    "    word_label = img.split('_')[0]\n",
    "    if word_label == '0' : return 0\n",
    "    elif word_label == '1' : return 1"
   ]
  },
  {
   "cell_type": "code",
   "execution_count": 187,
   "metadata": {},
   "outputs": [],
   "source": [
    "data = []\n",
    "labels = []\n",
    "for img in os.listdir(r'C:\\Users\\yahal\\Desktop\\ancient-coins\\coins'):\n",
    "    label = label_img(img)\n",
    "    path = os.path.join(r'C:\\Users\\yahal\\Desktop\\ancient-coins\\coins',img)\n",
    "    img = cv2.resize(cv2.imread(path, cv2.IMREAD_GRAYSCALE),(140,70))\n",
    "    data.append(np.array(np.array(img[0:70,0:70]).flatten()))\n",
    "    labels.append(label)"
   ]
  },
  {
   "cell_type": "code",
   "execution_count": null,
   "metadata": {},
   "outputs": [],
   "source": []
  },
  {
   "cell_type": "code",
   "execution_count": 188,
   "metadata": {},
   "outputs": [],
   "source": [
    "cols = []\n",
    "for i in range(4900):\n",
    "    cols.append(\"pixel_\"+str(i))\n",
    "data = pd.DataFrame(data, columns=cols)\n",
    "data = data/255\n",
    "data['label'] = labels\n",
    "data = data.sample(frac=1,random_state=0)"
   ]
  },
  {
   "cell_type": "code",
   "execution_count": null,
   "metadata": {},
   "outputs": [],
   "source": []
  },
  {
   "cell_type": "code",
   "execution_count": 185,
   "metadata": {},
   "outputs": [
    {
     "data": {
      "text/html": [
       "<div>\n",
       "<style scoped>\n",
       "    .dataframe tbody tr th:only-of-type {\n",
       "        vertical-align: middle;\n",
       "    }\n",
       "\n",
       "    .dataframe tbody tr th {\n",
       "        vertical-align: top;\n",
       "    }\n",
       "\n",
       "    .dataframe thead th {\n",
       "        text-align: right;\n",
       "    }\n",
       "</style>\n",
       "<table border=\"1\" class=\"dataframe\">\n",
       "  <thead>\n",
       "    <tr style=\"text-align: right;\">\n",
       "      <th></th>\n",
       "      <th>pixel_0</th>\n",
       "      <th>pixel_1</th>\n",
       "      <th>pixel_2</th>\n",
       "      <th>pixel_3</th>\n",
       "      <th>pixel_4</th>\n",
       "      <th>pixel_5</th>\n",
       "      <th>pixel_6</th>\n",
       "      <th>pixel_7</th>\n",
       "      <th>pixel_8</th>\n",
       "      <th>pixel_9</th>\n",
       "      <th>...</th>\n",
       "      <th>pixel_14691</th>\n",
       "      <th>pixel_14692</th>\n",
       "      <th>pixel_14693</th>\n",
       "      <th>pixel_14694</th>\n",
       "      <th>pixel_14695</th>\n",
       "      <th>pixel_14696</th>\n",
       "      <th>pixel_14697</th>\n",
       "      <th>pixel_14698</th>\n",
       "      <th>pixel_14699</th>\n",
       "      <th>label</th>\n",
       "    </tr>\n",
       "  </thead>\n",
       "  <tbody>\n",
       "    <tr>\n",
       "      <th>532</th>\n",
       "      <td>1.000000</td>\n",
       "      <td>1.000000</td>\n",
       "      <td>1.000000</td>\n",
       "      <td>1.000000</td>\n",
       "      <td>1.00000</td>\n",
       "      <td>1.00000</td>\n",
       "      <td>1.000000</td>\n",
       "      <td>1.00000</td>\n",
       "      <td>1.000000</td>\n",
       "      <td>1.000000</td>\n",
       "      <td>...</td>\n",
       "      <td>1.00000</td>\n",
       "      <td>1.000000</td>\n",
       "      <td>1.000000</td>\n",
       "      <td>1.00000</td>\n",
       "      <td>1.000000</td>\n",
       "      <td>1.000000</td>\n",
       "      <td>1.0</td>\n",
       "      <td>1.000000</td>\n",
       "      <td>1.0</td>\n",
       "      <td>0</td>\n",
       "    </tr>\n",
       "    <tr>\n",
       "      <th>2127</th>\n",
       "      <td>1.000000</td>\n",
       "      <td>1.000000</td>\n",
       "      <td>1.000000</td>\n",
       "      <td>1.000000</td>\n",
       "      <td>1.00000</td>\n",
       "      <td>1.00000</td>\n",
       "      <td>1.000000</td>\n",
       "      <td>1.00000</td>\n",
       "      <td>1.000000</td>\n",
       "      <td>1.000000</td>\n",
       "      <td>...</td>\n",
       "      <td>1.00000</td>\n",
       "      <td>1.000000</td>\n",
       "      <td>1.000000</td>\n",
       "      <td>1.00000</td>\n",
       "      <td>1.000000</td>\n",
       "      <td>1.000000</td>\n",
       "      <td>1.0</td>\n",
       "      <td>1.000000</td>\n",
       "      <td>1.0</td>\n",
       "      <td>1</td>\n",
       "    </tr>\n",
       "    <tr>\n",
       "      <th>425</th>\n",
       "      <td>1.000000</td>\n",
       "      <td>1.000000</td>\n",
       "      <td>1.000000</td>\n",
       "      <td>1.000000</td>\n",
       "      <td>1.00000</td>\n",
       "      <td>1.00000</td>\n",
       "      <td>1.000000</td>\n",
       "      <td>1.00000</td>\n",
       "      <td>1.000000</td>\n",
       "      <td>1.000000</td>\n",
       "      <td>...</td>\n",
       "      <td>1.00000</td>\n",
       "      <td>1.000000</td>\n",
       "      <td>1.000000</td>\n",
       "      <td>1.00000</td>\n",
       "      <td>1.000000</td>\n",
       "      <td>1.000000</td>\n",
       "      <td>1.0</td>\n",
       "      <td>1.000000</td>\n",
       "      <td>1.0</td>\n",
       "      <td>0</td>\n",
       "    </tr>\n",
       "    <tr>\n",
       "      <th>245</th>\n",
       "      <td>1.000000</td>\n",
       "      <td>1.000000</td>\n",
       "      <td>1.000000</td>\n",
       "      <td>1.000000</td>\n",
       "      <td>1.00000</td>\n",
       "      <td>1.00000</td>\n",
       "      <td>1.000000</td>\n",
       "      <td>1.00000</td>\n",
       "      <td>1.000000</td>\n",
       "      <td>1.000000</td>\n",
       "      <td>...</td>\n",
       "      <td>1.00000</td>\n",
       "      <td>1.000000</td>\n",
       "      <td>1.000000</td>\n",
       "      <td>1.00000</td>\n",
       "      <td>1.000000</td>\n",
       "      <td>1.000000</td>\n",
       "      <td>1.0</td>\n",
       "      <td>1.000000</td>\n",
       "      <td>1.0</td>\n",
       "      <td>0</td>\n",
       "    </tr>\n",
       "    <tr>\n",
       "      <th>971</th>\n",
       "      <td>1.000000</td>\n",
       "      <td>1.000000</td>\n",
       "      <td>1.000000</td>\n",
       "      <td>1.000000</td>\n",
       "      <td>1.00000</td>\n",
       "      <td>1.00000</td>\n",
       "      <td>1.000000</td>\n",
       "      <td>1.00000</td>\n",
       "      <td>1.000000</td>\n",
       "      <td>1.000000</td>\n",
       "      <td>...</td>\n",
       "      <td>1.00000</td>\n",
       "      <td>1.000000</td>\n",
       "      <td>1.000000</td>\n",
       "      <td>1.00000</td>\n",
       "      <td>1.000000</td>\n",
       "      <td>1.000000</td>\n",
       "      <td>1.0</td>\n",
       "      <td>1.000000</td>\n",
       "      <td>1.0</td>\n",
       "      <td>0</td>\n",
       "    </tr>\n",
       "    <tr>\n",
       "      <th>...</th>\n",
       "      <td>...</td>\n",
       "      <td>...</td>\n",
       "      <td>...</td>\n",
       "      <td>...</td>\n",
       "      <td>...</td>\n",
       "      <td>...</td>\n",
       "      <td>...</td>\n",
       "      <td>...</td>\n",
       "      <td>...</td>\n",
       "      <td>...</td>\n",
       "      <td>...</td>\n",
       "      <td>...</td>\n",
       "      <td>...</td>\n",
       "      <td>...</td>\n",
       "      <td>...</td>\n",
       "      <td>...</td>\n",
       "      <td>...</td>\n",
       "      <td>...</td>\n",
       "      <td>...</td>\n",
       "      <td>...</td>\n",
       "      <td>...</td>\n",
       "    </tr>\n",
       "    <tr>\n",
       "      <th>1033</th>\n",
       "      <td>1.000000</td>\n",
       "      <td>1.000000</td>\n",
       "      <td>1.000000</td>\n",
       "      <td>1.000000</td>\n",
       "      <td>1.00000</td>\n",
       "      <td>1.00000</td>\n",
       "      <td>1.000000</td>\n",
       "      <td>1.00000</td>\n",
       "      <td>1.000000</td>\n",
       "      <td>1.000000</td>\n",
       "      <td>...</td>\n",
       "      <td>1.00000</td>\n",
       "      <td>1.000000</td>\n",
       "      <td>1.000000</td>\n",
       "      <td>1.00000</td>\n",
       "      <td>1.000000</td>\n",
       "      <td>1.000000</td>\n",
       "      <td>1.0</td>\n",
       "      <td>1.000000</td>\n",
       "      <td>1.0</td>\n",
       "      <td>0</td>\n",
       "    </tr>\n",
       "    <tr>\n",
       "      <th>1731</th>\n",
       "      <td>1.000000</td>\n",
       "      <td>1.000000</td>\n",
       "      <td>1.000000</td>\n",
       "      <td>1.000000</td>\n",
       "      <td>1.00000</td>\n",
       "      <td>1.00000</td>\n",
       "      <td>1.000000</td>\n",
       "      <td>1.00000</td>\n",
       "      <td>1.000000</td>\n",
       "      <td>1.000000</td>\n",
       "      <td>...</td>\n",
       "      <td>1.00000</td>\n",
       "      <td>1.000000</td>\n",
       "      <td>1.000000</td>\n",
       "      <td>1.00000</td>\n",
       "      <td>1.000000</td>\n",
       "      <td>1.000000</td>\n",
       "      <td>1.0</td>\n",
       "      <td>1.000000</td>\n",
       "      <td>1.0</td>\n",
       "      <td>1</td>\n",
       "    </tr>\n",
       "    <tr>\n",
       "      <th>763</th>\n",
       "      <td>0.062745</td>\n",
       "      <td>0.054902</td>\n",
       "      <td>0.078431</td>\n",
       "      <td>0.058824</td>\n",
       "      <td>0.05098</td>\n",
       "      <td>0.07451</td>\n",
       "      <td>0.062745</td>\n",
       "      <td>0.05098</td>\n",
       "      <td>0.078431</td>\n",
       "      <td>0.090196</td>\n",
       "      <td>...</td>\n",
       "      <td>0.07451</td>\n",
       "      <td>0.066667</td>\n",
       "      <td>0.090196</td>\n",
       "      <td>0.07451</td>\n",
       "      <td>0.066667</td>\n",
       "      <td>0.090196</td>\n",
       "      <td>1.0</td>\n",
       "      <td>0.996078</td>\n",
       "      <td>1.0</td>\n",
       "      <td>0</td>\n",
       "    </tr>\n",
       "    <tr>\n",
       "      <th>835</th>\n",
       "      <td>1.000000</td>\n",
       "      <td>1.000000</td>\n",
       "      <td>1.000000</td>\n",
       "      <td>1.000000</td>\n",
       "      <td>1.00000</td>\n",
       "      <td>1.00000</td>\n",
       "      <td>1.000000</td>\n",
       "      <td>1.00000</td>\n",
       "      <td>1.000000</td>\n",
       "      <td>1.000000</td>\n",
       "      <td>...</td>\n",
       "      <td>1.00000</td>\n",
       "      <td>1.000000</td>\n",
       "      <td>1.000000</td>\n",
       "      <td>1.00000</td>\n",
       "      <td>1.000000</td>\n",
       "      <td>1.000000</td>\n",
       "      <td>1.0</td>\n",
       "      <td>1.000000</td>\n",
       "      <td>1.0</td>\n",
       "      <td>0</td>\n",
       "    </tr>\n",
       "    <tr>\n",
       "      <th>1653</th>\n",
       "      <td>1.000000</td>\n",
       "      <td>1.000000</td>\n",
       "      <td>1.000000</td>\n",
       "      <td>1.000000</td>\n",
       "      <td>1.00000</td>\n",
       "      <td>1.00000</td>\n",
       "      <td>1.000000</td>\n",
       "      <td>1.00000</td>\n",
       "      <td>1.000000</td>\n",
       "      <td>1.000000</td>\n",
       "      <td>...</td>\n",
       "      <td>1.00000</td>\n",
       "      <td>1.000000</td>\n",
       "      <td>1.000000</td>\n",
       "      <td>1.00000</td>\n",
       "      <td>1.000000</td>\n",
       "      <td>1.000000</td>\n",
       "      <td>1.0</td>\n",
       "      <td>1.000000</td>\n",
       "      <td>1.0</td>\n",
       "      <td>1</td>\n",
       "    </tr>\n",
       "  </tbody>\n",
       "</table>\n",
       "<p>2327 rows × 14701 columns</p>\n",
       "</div>"
      ],
      "text/plain": [
       "       pixel_0   pixel_1   pixel_2   pixel_3  pixel_4  pixel_5   pixel_6  \\\n",
       "532   1.000000  1.000000  1.000000  1.000000  1.00000  1.00000  1.000000   \n",
       "2127  1.000000  1.000000  1.000000  1.000000  1.00000  1.00000  1.000000   \n",
       "425   1.000000  1.000000  1.000000  1.000000  1.00000  1.00000  1.000000   \n",
       "245   1.000000  1.000000  1.000000  1.000000  1.00000  1.00000  1.000000   \n",
       "971   1.000000  1.000000  1.000000  1.000000  1.00000  1.00000  1.000000   \n",
       "...        ...       ...       ...       ...      ...      ...       ...   \n",
       "1033  1.000000  1.000000  1.000000  1.000000  1.00000  1.00000  1.000000   \n",
       "1731  1.000000  1.000000  1.000000  1.000000  1.00000  1.00000  1.000000   \n",
       "763   0.062745  0.054902  0.078431  0.058824  0.05098  0.07451  0.062745   \n",
       "835   1.000000  1.000000  1.000000  1.000000  1.00000  1.00000  1.000000   \n",
       "1653  1.000000  1.000000  1.000000  1.000000  1.00000  1.00000  1.000000   \n",
       "\n",
       "      pixel_7   pixel_8   pixel_9  ...  pixel_14691  pixel_14692  pixel_14693  \\\n",
       "532   1.00000  1.000000  1.000000  ...      1.00000     1.000000     1.000000   \n",
       "2127  1.00000  1.000000  1.000000  ...      1.00000     1.000000     1.000000   \n",
       "425   1.00000  1.000000  1.000000  ...      1.00000     1.000000     1.000000   \n",
       "245   1.00000  1.000000  1.000000  ...      1.00000     1.000000     1.000000   \n",
       "971   1.00000  1.000000  1.000000  ...      1.00000     1.000000     1.000000   \n",
       "...       ...       ...       ...  ...          ...          ...          ...   \n",
       "1033  1.00000  1.000000  1.000000  ...      1.00000     1.000000     1.000000   \n",
       "1731  1.00000  1.000000  1.000000  ...      1.00000     1.000000     1.000000   \n",
       "763   0.05098  0.078431  0.090196  ...      0.07451     0.066667     0.090196   \n",
       "835   1.00000  1.000000  1.000000  ...      1.00000     1.000000     1.000000   \n",
       "1653  1.00000  1.000000  1.000000  ...      1.00000     1.000000     1.000000   \n",
       "\n",
       "      pixel_14694  pixel_14695  pixel_14696  pixel_14697  pixel_14698  \\\n",
       "532       1.00000     1.000000     1.000000          1.0     1.000000   \n",
       "2127      1.00000     1.000000     1.000000          1.0     1.000000   \n",
       "425       1.00000     1.000000     1.000000          1.0     1.000000   \n",
       "245       1.00000     1.000000     1.000000          1.0     1.000000   \n",
       "971       1.00000     1.000000     1.000000          1.0     1.000000   \n",
       "...           ...          ...          ...          ...          ...   \n",
       "1033      1.00000     1.000000     1.000000          1.0     1.000000   \n",
       "1731      1.00000     1.000000     1.000000          1.0     1.000000   \n",
       "763       0.07451     0.066667     0.090196          1.0     0.996078   \n",
       "835       1.00000     1.000000     1.000000          1.0     1.000000   \n",
       "1653      1.00000     1.000000     1.000000          1.0     1.000000   \n",
       "\n",
       "      pixel_14699  label  \n",
       "532           1.0      0  \n",
       "2127          1.0      1  \n",
       "425           1.0      0  \n",
       "245           1.0      0  \n",
       "971           1.0      0  \n",
       "...           ...    ...  \n",
       "1033          1.0      0  \n",
       "1731          1.0      1  \n",
       "763           1.0      0  \n",
       "835           1.0      0  \n",
       "1653          1.0      1  \n",
       "\n",
       "[2327 rows x 14701 columns]"
      ]
     },
     "execution_count": 185,
     "metadata": {},
     "output_type": "execute_result"
    }
   ],
   "source": [
    "data"
   ]
  },
  {
   "cell_type": "code",
   "execution_count": 75,
   "metadata": {},
   "outputs": [
    {
     "data": {
      "text/html": [
       "<div>\n",
       "<style scoped>\n",
       "    .dataframe tbody tr th:only-of-type {\n",
       "        vertical-align: middle;\n",
       "    }\n",
       "\n",
       "    .dataframe tbody tr th {\n",
       "        vertical-align: top;\n",
       "    }\n",
       "\n",
       "    .dataframe thead th {\n",
       "        text-align: right;\n",
       "    }\n",
       "</style>\n",
       "<table border=\"1\" class=\"dataframe\">\n",
       "  <thead>\n",
       "    <tr style=\"text-align: right;\">\n",
       "      <th></th>\n",
       "      <th>pixel_0</th>\n",
       "      <th>pixel_1</th>\n",
       "      <th>pixel_2</th>\n",
       "      <th>pixel_3</th>\n",
       "      <th>pixel_4</th>\n",
       "      <th>pixel_5</th>\n",
       "      <th>pixel_6</th>\n",
       "      <th>pixel_7</th>\n",
       "      <th>pixel_8</th>\n",
       "      <th>pixel_9</th>\n",
       "      <th>...</th>\n",
       "      <th>pixel_4891</th>\n",
       "      <th>pixel_4892</th>\n",
       "      <th>pixel_4893</th>\n",
       "      <th>pixel_4894</th>\n",
       "      <th>pixel_4895</th>\n",
       "      <th>pixel_4896</th>\n",
       "      <th>pixel_4897</th>\n",
       "      <th>pixel_4898</th>\n",
       "      <th>pixel_4899</th>\n",
       "      <th>label</th>\n",
       "    </tr>\n",
       "  </thead>\n",
       "  <tbody>\n",
       "    <tr>\n",
       "      <th>0</th>\n",
       "      <td>1.0</td>\n",
       "      <td>1.0</td>\n",
       "      <td>1.0</td>\n",
       "      <td>1.0</td>\n",
       "      <td>1.0</td>\n",
       "      <td>1.0</td>\n",
       "      <td>1.0</td>\n",
       "      <td>1.0</td>\n",
       "      <td>1.0</td>\n",
       "      <td>1.0</td>\n",
       "      <td>...</td>\n",
       "      <td>1.0</td>\n",
       "      <td>1.0</td>\n",
       "      <td>1.0</td>\n",
       "      <td>1.0</td>\n",
       "      <td>1.0</td>\n",
       "      <td>1.0</td>\n",
       "      <td>1.0</td>\n",
       "      <td>1.0</td>\n",
       "      <td>1.0</td>\n",
       "      <td>0</td>\n",
       "    </tr>\n",
       "    <tr>\n",
       "      <th>1</th>\n",
       "      <td>1.0</td>\n",
       "      <td>1.0</td>\n",
       "      <td>1.0</td>\n",
       "      <td>1.0</td>\n",
       "      <td>1.0</td>\n",
       "      <td>1.0</td>\n",
       "      <td>1.0</td>\n",
       "      <td>1.0</td>\n",
       "      <td>1.0</td>\n",
       "      <td>1.0</td>\n",
       "      <td>...</td>\n",
       "      <td>1.0</td>\n",
       "      <td>1.0</td>\n",
       "      <td>1.0</td>\n",
       "      <td>1.0</td>\n",
       "      <td>1.0</td>\n",
       "      <td>1.0</td>\n",
       "      <td>1.0</td>\n",
       "      <td>1.0</td>\n",
       "      <td>1.0</td>\n",
       "      <td>1</td>\n",
       "    </tr>\n",
       "    <tr>\n",
       "      <th>2</th>\n",
       "      <td>1.0</td>\n",
       "      <td>1.0</td>\n",
       "      <td>1.0</td>\n",
       "      <td>1.0</td>\n",
       "      <td>1.0</td>\n",
       "      <td>1.0</td>\n",
       "      <td>1.0</td>\n",
       "      <td>1.0</td>\n",
       "      <td>1.0</td>\n",
       "      <td>1.0</td>\n",
       "      <td>...</td>\n",
       "      <td>1.0</td>\n",
       "      <td>1.0</td>\n",
       "      <td>1.0</td>\n",
       "      <td>1.0</td>\n",
       "      <td>1.0</td>\n",
       "      <td>1.0</td>\n",
       "      <td>1.0</td>\n",
       "      <td>1.0</td>\n",
       "      <td>1.0</td>\n",
       "      <td>0</td>\n",
       "    </tr>\n",
       "    <tr>\n",
       "      <th>3</th>\n",
       "      <td>1.0</td>\n",
       "      <td>1.0</td>\n",
       "      <td>1.0</td>\n",
       "      <td>1.0</td>\n",
       "      <td>1.0</td>\n",
       "      <td>1.0</td>\n",
       "      <td>1.0</td>\n",
       "      <td>1.0</td>\n",
       "      <td>1.0</td>\n",
       "      <td>1.0</td>\n",
       "      <td>...</td>\n",
       "      <td>1.0</td>\n",
       "      <td>1.0</td>\n",
       "      <td>1.0</td>\n",
       "      <td>1.0</td>\n",
       "      <td>1.0</td>\n",
       "      <td>1.0</td>\n",
       "      <td>1.0</td>\n",
       "      <td>1.0</td>\n",
       "      <td>1.0</td>\n",
       "      <td>0</td>\n",
       "    </tr>\n",
       "    <tr>\n",
       "      <th>4</th>\n",
       "      <td>1.0</td>\n",
       "      <td>1.0</td>\n",
       "      <td>1.0</td>\n",
       "      <td>1.0</td>\n",
       "      <td>1.0</td>\n",
       "      <td>1.0</td>\n",
       "      <td>1.0</td>\n",
       "      <td>1.0</td>\n",
       "      <td>1.0</td>\n",
       "      <td>1.0</td>\n",
       "      <td>...</td>\n",
       "      <td>1.0</td>\n",
       "      <td>1.0</td>\n",
       "      <td>1.0</td>\n",
       "      <td>1.0</td>\n",
       "      <td>1.0</td>\n",
       "      <td>1.0</td>\n",
       "      <td>1.0</td>\n",
       "      <td>1.0</td>\n",
       "      <td>1.0</td>\n",
       "      <td>0</td>\n",
       "    </tr>\n",
       "  </tbody>\n",
       "</table>\n",
       "<p>5 rows × 4901 columns</p>\n",
       "</div>"
      ],
      "text/plain": [
       "   pixel_0  pixel_1  pixel_2  pixel_3  pixel_4  pixel_5  pixel_6  pixel_7  \\\n",
       "0      1.0      1.0      1.0      1.0      1.0      1.0      1.0      1.0   \n",
       "1      1.0      1.0      1.0      1.0      1.0      1.0      1.0      1.0   \n",
       "2      1.0      1.0      1.0      1.0      1.0      1.0      1.0      1.0   \n",
       "3      1.0      1.0      1.0      1.0      1.0      1.0      1.0      1.0   \n",
       "4      1.0      1.0      1.0      1.0      1.0      1.0      1.0      1.0   \n",
       "\n",
       "   pixel_8  pixel_9  ...  pixel_4891  pixel_4892  pixel_4893  pixel_4894  \\\n",
       "0      1.0      1.0  ...         1.0         1.0         1.0         1.0   \n",
       "1      1.0      1.0  ...         1.0         1.0         1.0         1.0   \n",
       "2      1.0      1.0  ...         1.0         1.0         1.0         1.0   \n",
       "3      1.0      1.0  ...         1.0         1.0         1.0         1.0   \n",
       "4      1.0      1.0  ...         1.0         1.0         1.0         1.0   \n",
       "\n",
       "   pixel_4895  pixel_4896  pixel_4897  pixel_4898  pixel_4899  label  \n",
       "0         1.0         1.0         1.0         1.0         1.0      0  \n",
       "1         1.0         1.0         1.0         1.0         1.0      1  \n",
       "2         1.0         1.0         1.0         1.0         1.0      0  \n",
       "3         1.0         1.0         1.0         1.0         1.0      0  \n",
       "4         1.0         1.0         1.0         1.0         1.0      0  \n",
       "\n",
       "[5 rows x 4901 columns]"
      ]
     },
     "execution_count": 75,
     "metadata": {},
     "output_type": "execute_result"
    }
   ],
   "source": [
    "test = data.iloc[1800:]\n",
    "test.reset_index(drop=True,inplace=True)\n",
    "\n",
    "train = data.iloc[0:1800]\n",
    "train.reset_index(drop=True,inplace=True)"
   ]
  },
  {
   "cell_type": "code",
   "execution_count": 76,
   "metadata": {},
   "outputs": [],
   "source": [
    "train_data = train.drop('label',axis=1)\n",
    "train_target = train['label']\n",
    "\n",
    "test_data = test.drop('label',axis=1)\n",
    "test_target = test['label']"
   ]
  },
  {
   "cell_type": "code",
   "execution_count": 80,
   "metadata": {},
   "outputs": [
    {
     "data": {
      "text/plain": [
       "RandomForestClassifier()"
      ]
     },
     "execution_count": 80,
     "metadata": {},
     "output_type": "execute_result"
    }
   ],
   "source": [
    "\n",
    "rfc = RandomForestClassifier()\n",
    "rfc.fit(train_data,train_target)"
   ]
  },
  {
   "cell_type": "code",
   "execution_count": 82,
   "metadata": {},
   "outputs": [
    {
     "data": {
      "text/plain": [
       "RandomForestClassifier()"
      ]
     },
     "execution_count": 82,
     "metadata": {},
     "output_type": "execute_result"
    }
   ],
   "source": [
    "rfc = RandomForestClassifier()\n",
    "rfc.fit(train_data,train_target)\n",
    "rfc"
   ]
  },
  {
   "cell_type": "code",
   "execution_count": 84,
   "metadata": {},
   "outputs": [],
   "source": [
    "y_pred = rfc.predict(test_data)"
   ]
  },
  {
   "cell_type": "code",
   "execution_count": 87,
   "metadata": {},
   "outputs": [
    {
     "name": "stdout",
     "output_type": "stream",
     "text": [
      "              precision    recall  f1-score   support\n",
      "\n",
      "           0       0.80      0.96      0.87       286\n",
      "           1       0.94      0.72      0.81       241\n",
      "\n",
      "    accuracy                           0.85       527\n",
      "   macro avg       0.87      0.84      0.84       527\n",
      "weighted avg       0.86      0.85      0.84       527\n",
      "\n"
     ]
    }
   ],
   "source": [
    "print (classification_report(test_target,y_pred))\n"
   ]
  },
  {
   "cell_type": "code",
   "execution_count": 94,
   "metadata": {},
   "outputs": [
    {
     "data": {
      "image/png": "[encoded data removed]",
      "text/plain": [
       "<Figure size 1440x432 with 1 Axes>"
      ]
     },
     "metadata": {
      "needs_background": "light"
     },
     "output_type": "display_data"
    }
   ],
   "source": [
    "from sklearn.decomposition import PCA\n",
    "pca=PCA()\n",
    "pca.fit(train_data)\n",
    "cumilative_sum = np.cumsum(pca.explained_variance_ratio_)\n",
    "pca_plt = plt.figure(figsize=(20,6))\n",
    "pca_plt = plt.plot(cumilative_sum, linewidth=3)\n",
    "pca_plt = plt.axis([0, 4900, 0, 1])\n",
    "pca_plt = plt.xlabel(\"Dimensions\")\n",
    "pca_plt = plt.ylabel(\"Explained Variance\")\n",
    "x = np.argmax(cumilative_sum >= 0.95) + 1\n",
    "pca_plt = plt.plot([x, x], [0, 0.95], \"k:\")\n",
    "pca_plt = plt.plot([0, x], [0.95, 0.95], \"k:\")\n",
    "pca_plt = plt.plot(x, 0.95, \"ko\")\n",
    "plt.grid(True)\n",
    "plt.show()\n"
   ]
  },
  {
   "cell_type": "code",
   "execution_count": 97,
   "metadata": {},
   "outputs": [
    {
     "name": "stdout",
     "output_type": "stream",
     "text": [
      "The total amount of dimensions:  1045\n"
     ]
    }
   ],
   "source": [
    "pca = PCA(n_components = 0.95)\n",
    "pca.fit(train_data)\n",
    "reduced_train = pd.DataFrame(pca.transform(train_data))\n",
    "print(\"The total amount of dimensions: \",reduced_train.shape[1])"
   ]
  },
  {
   "cell_type": "code",
   "execution_count": 100,
   "metadata": {},
   "outputs": [],
   "source": [
    "pca_test = PCA(n_components = 527)\n",
    "pca_test.fit(test_data)\n",
    "reduced_test = pd.DataFrame(pca.transform(test_data))"
   ]
  },
  {
   "cell_type": "code",
   "execution_count": 101,
   "metadata": {},
   "outputs": [
    {
     "name": "stderr",
     "output_type": "stream",
     "text": [
      "C:\\Users\\yahal\\anaconda3\\lib\\site-packages\\xgboost\\sklearn.py:888: UserWarning: The use of label encoder in XGBClassifier is deprecated and will be removed in a future release. To remove this warning, do the following: 1) Pass option use_label_encoder=False when constructing XGBClassifier object; and 2) Encode your labels (y) as integers starting with 0, i.e. 0, 1, 2, ..., [num_class - 1].\n",
      "  warnings.warn(label_encoder_deprecation_msg, UserWarning)\n"
     ]
    },
    {
     "name": "stdout",
     "output_type": "stream",
     "text": [
      "[16:08:18] WARNING: ..\\src\\learner.cc:1061: Starting in XGBoost 1.3.0, the default evaluation metric used with the objective 'binary:logistic' was changed from 'error' to 'logloss'. Explicitly set eval_metric if you'd like to restore the old behavior.\n",
      "XGBoost accuracy score: 85.39 %\n"
     ]
    }
   ],
   "source": [
    "from xgboost import XGBClassifier\n",
    "xgb = XGBClassifier()\n",
    "xgb.fit(train_data, train_target)\n",
    "xgb_pred = xgb.predict(test_data)\n",
    "print('XGBoost accuracy score: %.2f'%(xgb.score(test_data, test_target)*100),'%')"
   ]
  },
  {
   "cell_type": "code",
   "execution_count": 103,
   "metadata": {},
   "outputs": [
    {
     "data": {
      "text/plain": [
       "(1800, 1045)"
      ]
     },
     "execution_count": 103,
     "metadata": {},
     "output_type": "execute_result"
    }
   ],
   "source": [
    "reduced_train.shape"
   ]
  },
  {
   "cell_type": "code",
   "execution_count": null,
   "metadata": {},
   "outputs": [],
   "source": []
  },
  {
   "cell_type": "code",
   "execution_count": 109,
   "metadata": {},
   "outputs": [
    {
     "name": "stderr",
     "output_type": "stream",
     "text": [
      "C:\\Users\\yahal\\anaconda3\\lib\\site-packages\\xgboost\\sklearn.py:888: UserWarning: The use of label encoder in XGBClassifier is deprecated and will be removed in a future release. To remove this warning, do the following: 1) Pass option use_label_encoder=False when constructing XGBClassifier object; and 2) Encode your labels (y) as integers starting with 0, i.e. 0, 1, 2, ..., [num_class - 1].\n",
      "  warnings.warn(label_encoder_deprecation_msg, UserWarning)\n"
     ]
    },
    {
     "name": "stdout",
     "output_type": "stream",
     "text": [
      "[16:13:44] WARNING: ..\\src\\learner.cc:1061: Starting in XGBoost 1.3.0, the default evaluation metric used with the objective 'binary:logistic' was changed from 'error' to 'logloss'. Explicitly set eval_metric if you'd like to restore the old behavior.\n",
      "XGBoost accuracy score: 84.63 %\n"
     ]
    }
   ],
   "source": [
    "xgb.fit(reduced_train, train_target)\n",
    "xgb_pred = xgb.predict(reduced_test)\n",
    "print('XGBoost accuracy score: %.2f'%(xgb.score(reduced_test, test_target)*100),'%')"
   ]
  },
  {
   "cell_type": "code",
   "execution_count": 190,
   "metadata": {},
   "outputs": [],
   "source": [
    "import tensorflow as tf\n",
    "\n",
    "from tensorflow.keras import datasets, layers, models\n",
    "import matplotlib.pyplot as plt"
   ]
  },
  {
   "cell_type": "code",
   "execution_count": 191,
   "metadata": {},
   "outputs": [],
   "source": [
    "model = models.Sequential()\n",
    "model.add(layers.Conv2D(32, (3, 3), activation='relu', input_shape=(70, 70, 1)))\n",
    "model.add(layers.MaxPooling2D((2, 2)))\n",
    "model.add(layers.Conv2D(64, (3, 3), activation='relu'))\n",
    "model.add(layers.MaxPooling2D((2, 2)))\n",
    "model.add(layers.Conv2D(64, (3, 3), activation='relu'))\n",
    "\n",
    "model.add(layers.Flatten())\n",
    "model.add(layers.Dense(64, activation='relu'))\n",
    "model.add(layers.Dense(2))"
   ]
  },
  {
   "cell_type": "code",
   "execution_count": 192,
   "metadata": {},
   "outputs": [
    {
     "name": "stdout",
     "output_type": "stream",
     "text": [
      "Model: \"sequential_8\"\n",
      "_________________________________________________________________\n",
      "Layer (type)                 Output Shape              Param #   \n",
      "=================================================================\n",
      "conv2d_20 (Conv2D)           (None, 68, 68, 32)        320       \n",
      "_________________________________________________________________\n",
      "max_pooling2d_12 (MaxPooling (None, 34, 34, 32)        0         \n",
      "_________________________________________________________________\n",
      "conv2d_21 (Conv2D)           (None, 32, 32, 64)        18496     \n",
      "_________________________________________________________________\n",
      "max_pooling2d_13 (MaxPooling (None, 16, 16, 64)        0         \n",
      "_________________________________________________________________\n",
      "conv2d_22 (Conv2D)           (None, 14, 14, 64)        36928     \n",
      "_________________________________________________________________\n",
      "flatten_4 (Flatten)          (None, 12544)             0         \n",
      "_________________________________________________________________\n",
      "dense_8 (Dense)              (None, 64)                802880    \n",
      "_________________________________________________________________\n",
      "dense_9 (Dense)              (None, 2)                 130       \n",
      "=================================================================\n",
      "Total params: 858,754\n",
      "Trainable params: 858,754\n",
      "Non-trainable params: 0\n",
      "_________________________________________________________________\n"
     ]
    }
   ],
   "source": [
    "model.summary()\n"
   ]
  },
  {
   "cell_type": "code",
   "execution_count": 193,
   "metadata": {},
   "outputs": [
    {
     "data": {
      "text/plain": [
       "<matplotlib.image.AxesImage at 0x1926280ca00>"
      ]
     },
     "execution_count": 193,
     "metadata": {},
     "output_type": "execute_result"
    },
    {
     "data": {
      "image/png": "[encoded data removed]",
      "text/plain": [
       "<Figure size 432x288 with 1 Axes>"
      ]
     },
     "metadata": {
      "needs_background": "light"
     },
     "output_type": "display_data"
    }
   ],
   "source": [
    "plt.imshow(train_data.iloc[0].values.reshape((70,70)))"
   ]
  },
  {
   "cell_type": "code",
   "execution_count": 194,
   "metadata": {},
   "outputs": [],
   "source": [
    "train_data_reshaped = []\n",
    "test_data_reshaped = []\n",
    "for i in range(len(train_data)):\n",
    "    t = train_data.iloc[i].values.reshape((70,70))\n",
    "    t = np.array(t)\n",
    "#     img_tensor = np.expand_dims(t, axis=0)\n",
    "#     img_tensor = tf.convert_to_tensor(img_tensor, dtype=tf.float32)\n",
    "    train_data_reshaped.append(t)\n",
    "    \n",
    "for i in range(len(test_data)):\n",
    "    t = test_data.iloc[i].values.reshape((70,70))\n",
    "    t = np.array(t)\n",
    "#     img_tensor = np.expand_dims(t, axis=0)\n",
    "#     img_tensor = tf.convert_to_tensor(img_tensor, dtype=tf.float32)\n",
    "    test_data_reshaped.append(t)\n"
   ]
  },
  {
   "cell_type": "code",
   "execution_count": 195,
   "metadata": {},
   "outputs": [],
   "source": [
    "train_data_reshaped = np.array(train_data_reshaped)\n",
    "test_data_reshaped = np.array(test_data_reshaped)\n"
   ]
  },
  {
   "cell_type": "code",
   "execution_count": 205,
   "metadata": {},
   "outputs": [],
   "source": [
    "test_data_reshaped = np.expand_dims(test_data_reshaped,axis=-1)\n",
    "train_data_reshaped = np.expand_dims(train_data_reshaped,axis=-1)"
   ]
  },
  {
   "cell_type": "code",
   "execution_count": 209,
   "metadata": {},
   "outputs": [
    {
     "name": "stdout",
     "output_type": "stream",
     "text": [
      "Epoch 1/18\n",
      "18/18 [==============================] - 22s 1s/step - loss: 0.1836 - accuracy: 0.9294\n",
      "Epoch 2/18\n",
      "18/18 [==============================] - 22s 1s/step - loss: 0.1477 - accuracy: 0.9472\n",
      "Epoch 3/18\n",
      "18/18 [==============================] - 22s 1s/step - loss: 0.1295 - accuracy: 0.9572\n",
      "Epoch 4/18\n",
      "18/18 [==============================] - 22s 1s/step - loss: 0.1169 - accuracy: 0.9572\n",
      "Epoch 5/18\n",
      "18/18 [==============================] - 22s 1s/step - loss: 0.1215 - accuracy: 0.9561\n",
      "Epoch 6/18\n",
      "18/18 [==============================] - 24s 1s/step - loss: 0.0999 - accuracy: 0.9689\n",
      "Epoch 7/18\n",
      "18/18 [==============================] - 22s 1s/step - loss: 0.0861 - accuracy: 0.9756\n",
      "Epoch 8/18\n",
      "18/18 [==============================] - 22s 1s/step - loss: 0.0698 - accuracy: 0.9811\n",
      "Epoch 9/18\n",
      "18/18 [==============================] - 22s 1s/step - loss: 0.0561 - accuracy: 0.9867\n",
      "Epoch 10/18\n",
      "18/18 [==============================] - 22s 1s/step - loss: 0.0467 - accuracy: 0.9894\n",
      "Epoch 11/18\n",
      "18/18 [==============================] - 22s 1s/step - loss: 0.0346 - accuracy: 0.9933\n",
      "Epoch 12/18\n",
      "18/18 [==============================] - 22s 1s/step - loss: 0.0300 - accuracy: 0.9956\n",
      "Epoch 13/18\n",
      "18/18 [==============================] - 22s 1s/step - loss: 0.0224 - accuracy: 0.9967\n",
      "Epoch 14/18\n",
      "18/18 [==============================] - 23s 1s/step - loss: 0.0167 - accuracy: 0.9989\n",
      "Epoch 15/18\n",
      "18/18 [==============================] - 22s 1s/step - loss: 0.0120 - accuracy: 0.9994\n",
      "Epoch 16/18\n",
      "18/18 [==============================] - 22s 1s/step - loss: 0.0086 - accuracy: 0.9994\n",
      "Epoch 17/18\n",
      "18/18 [==============================] - 22s 1s/step - loss: 0.0064 - accuracy: 0.9994\n",
      "Epoch 18/18\n",
      "18/18 [==============================] - 22s 1s/step - loss: 0.0043 - accuracy: 0.9994\n"
     ]
    }
   ],
   "source": [
    "model.compile(optimizer='adam',\n",
    "              loss=tf.keras.losses.SparseCategoricalCrossentropy(from_logits=True),\n",
    "              metrics=['accuracy'])\n",
    "\n",
    "history = model.fit(train_data_reshaped, train_target, epochs=18,batch_size=100)"
   ]
  },
  {
   "cell_type": "code",
   "execution_count": 210,
   "metadata": {},
   "outputs": [
    {
     "name": "stdout",
     "output_type": "stream",
     "text": [
      "17/17 - 2s - loss: 0.6357 - accuracy: 0.8956\n"
     ]
    }
   ],
   "source": [
    "test_loss, test_acc = model.evaluate(test_data_reshaped,  test_target, verbose=2)"
   ]
  },
  {
   "cell_type": "code",
   "execution_count": null,
   "metadata": {},
   "outputs": [],
   "source": []
  },
  {
   "cell_type": "code",
   "execution_count": null,
   "metadata": {},
   "outputs": [],
   "source": []
  }
 ],
 "metadata": {
  "kernelspec": {
   "display_name": "Python 3",
   "language": "python",
   "name": "python3"
  },
  "language_info": {
   "codemirror_mode": {
    "name": "ipython",
    "version": 3
   },
   "file_extension": ".py",
   "mimetype": "text/x-python",
   "name": "python",
   "nbconvert_exporter": "python",
   "pygments_lexer": "ipython3",
   "version": "3.8.3"
  }
 },
 "nbformat": 4,
 "nbformat_minor": 4
}
