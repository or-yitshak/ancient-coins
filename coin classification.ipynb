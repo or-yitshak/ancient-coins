{
 "cells": [
  {
   "cell_type": "code",
   "execution_count": 1,
   "metadata": {},
   "outputs": [],
   "source": [
    "import pandas as pd\n",
    "import seaborn as sns\n",
    "import matplotlib.pyplot as plt\n",
    "%matplotlib inline\n",
    "import numpy as np\n",
    "import os\n",
    "import cv2\n",
    "from sklearn.ensemble import RandomForestClassifier\n",
    "from sklearn.metrics import classification_report,confusion_matrix\n",
    "\n",
    "import tensorflow as tf\n",
    "from tensorflow.keras import datasets, layers, models\n",
    "import matplotlib.pyplot as plt\n",
    "\n",
    "from random import shuffle"
   ]
  },
  {
   "cell_type": "code",
   "execution_count": 3,
   "metadata": {},
   "outputs": [],
   "source": [
    "def label_img(img):\n",
    "    word_label = img.split('_')[0]\n",
    "    if word_label == '0' : return 0\n",
    "    elif word_label == '1' : return 1"
   ]
  },
  {
   "cell_type": "code",
   "execution_count": 3,
   "metadata": {},
   "outputs": [],
   "source": [
    "data = []\n",
    "labels = []\n",
    "for img in os.listdir(r'coins modified'):\n",
    "    label = label_img(img)\n",
    "    path = os.path.join(r'coins modified',img)\n",
    "    img = cv2.resize(cv2.imread(path, cv2.IMREAD_GRAYSCALE),(140,70))\n",
    "    data.append(np.array(np.array(img[0:70,0:70]).flatten()))\n",
    "    labels.append(label)"
   ]
  },
  {
   "cell_type": "code",
   "execution_count": 4,
   "metadata": {},
   "outputs": [],
   "source": [
    "cols = []\n",
    "for i in range(4900):\n",
    "    cols.append(\"pixel_\"+str(i))\n",
    "data = pd.DataFrame(data, columns=cols)\n",
    "data = data/255\n",
    "data['label'] = labels\n",
    "data = data.sample(frac=1,random_state=0)"
   ]
  },
  {
   "cell_type": "code",
   "execution_count": 5,
   "metadata": {},
   "outputs": [
    {
     "data": {
      "text/html": [
       "<div>\n",
       "<style scoped>\n",
       "    .dataframe tbody tr th:only-of-type {\n",
       "        vertical-align: middle;\n",
       "    }\n",
       "\n",
       "    .dataframe tbody tr th {\n",
       "        vertical-align: top;\n",
       "    }\n",
       "\n",
       "    .dataframe thead th {\n",
       "        text-align: right;\n",
       "    }\n",
       "</style>\n",
       "<table border=\"1\" class=\"dataframe\">\n",
       "  <thead>\n",
       "    <tr style=\"text-align: right;\">\n",
       "      <th></th>\n",
       "      <th>pixel_0</th>\n",
       "      <th>pixel_1</th>\n",
       "      <th>pixel_2</th>\n",
       "      <th>pixel_3</th>\n",
       "      <th>pixel_4</th>\n",
       "      <th>pixel_5</th>\n",
       "      <th>pixel_6</th>\n",
       "      <th>pixel_7</th>\n",
       "      <th>pixel_8</th>\n",
       "      <th>pixel_9</th>\n",
       "      <th>...</th>\n",
       "      <th>pixel_4891</th>\n",
       "      <th>pixel_4892</th>\n",
       "      <th>pixel_4893</th>\n",
       "      <th>pixel_4894</th>\n",
       "      <th>pixel_4895</th>\n",
       "      <th>pixel_4896</th>\n",
       "      <th>pixel_4897</th>\n",
       "      <th>pixel_4898</th>\n",
       "      <th>pixel_4899</th>\n",
       "      <th>label</th>\n",
       "    </tr>\n",
       "  </thead>\n",
       "  <tbody>\n",
       "    <tr>\n",
       "      <th>70</th>\n",
       "      <td>1.0</td>\n",
       "      <td>1.0</td>\n",
       "      <td>1.0</td>\n",
       "      <td>1.0</td>\n",
       "      <td>1.0</td>\n",
       "      <td>1.0</td>\n",
       "      <td>1.0</td>\n",
       "      <td>1.0</td>\n",
       "      <td>1.0</td>\n",
       "      <td>1.0</td>\n",
       "      <td>...</td>\n",
       "      <td>1.0</td>\n",
       "      <td>1.0</td>\n",
       "      <td>1.0</td>\n",
       "      <td>1.0</td>\n",
       "      <td>1.0</td>\n",
       "      <td>1.0</td>\n",
       "      <td>1.0</td>\n",
       "      <td>1.0</td>\n",
       "      <td>1.0</td>\n",
       "      <td>0</td>\n",
       "    </tr>\n",
       "    <tr>\n",
       "      <th>1171</th>\n",
       "      <td>1.0</td>\n",
       "      <td>1.0</td>\n",
       "      <td>1.0</td>\n",
       "      <td>1.0</td>\n",
       "      <td>1.0</td>\n",
       "      <td>1.0</td>\n",
       "      <td>1.0</td>\n",
       "      <td>1.0</td>\n",
       "      <td>1.0</td>\n",
       "      <td>1.0</td>\n",
       "      <td>...</td>\n",
       "      <td>1.0</td>\n",
       "      <td>1.0</td>\n",
       "      <td>1.0</td>\n",
       "      <td>1.0</td>\n",
       "      <td>1.0</td>\n",
       "      <td>1.0</td>\n",
       "      <td>1.0</td>\n",
       "      <td>1.0</td>\n",
       "      <td>1.0</td>\n",
       "      <td>0</td>\n",
       "    </tr>\n",
       "    <tr>\n",
       "      <th>1246</th>\n",
       "      <td>1.0</td>\n",
       "      <td>1.0</td>\n",
       "      <td>1.0</td>\n",
       "      <td>1.0</td>\n",
       "      <td>1.0</td>\n",
       "      <td>1.0</td>\n",
       "      <td>1.0</td>\n",
       "      <td>1.0</td>\n",
       "      <td>1.0</td>\n",
       "      <td>1.0</td>\n",
       "      <td>...</td>\n",
       "      <td>1.0</td>\n",
       "      <td>1.0</td>\n",
       "      <td>1.0</td>\n",
       "      <td>1.0</td>\n",
       "      <td>1.0</td>\n",
       "      <td>1.0</td>\n",
       "      <td>1.0</td>\n",
       "      <td>1.0</td>\n",
       "      <td>1.0</td>\n",
       "      <td>0</td>\n",
       "    </tr>\n",
       "    <tr>\n",
       "      <th>971</th>\n",
       "      <td>1.0</td>\n",
       "      <td>1.0</td>\n",
       "      <td>1.0</td>\n",
       "      <td>1.0</td>\n",
       "      <td>1.0</td>\n",
       "      <td>1.0</td>\n",
       "      <td>1.0</td>\n",
       "      <td>1.0</td>\n",
       "      <td>1.0</td>\n",
       "      <td>1.0</td>\n",
       "      <td>...</td>\n",
       "      <td>1.0</td>\n",
       "      <td>1.0</td>\n",
       "      <td>1.0</td>\n",
       "      <td>1.0</td>\n",
       "      <td>1.0</td>\n",
       "      <td>1.0</td>\n",
       "      <td>1.0</td>\n",
       "      <td>1.0</td>\n",
       "      <td>1.0</td>\n",
       "      <td>0</td>\n",
       "    </tr>\n",
       "    <tr>\n",
       "      <th>361</th>\n",
       "      <td>1.0</td>\n",
       "      <td>1.0</td>\n",
       "      <td>1.0</td>\n",
       "      <td>1.0</td>\n",
       "      <td>1.0</td>\n",
       "      <td>1.0</td>\n",
       "      <td>1.0</td>\n",
       "      <td>1.0</td>\n",
       "      <td>1.0</td>\n",
       "      <td>1.0</td>\n",
       "      <td>...</td>\n",
       "      <td>1.0</td>\n",
       "      <td>1.0</td>\n",
       "      <td>1.0</td>\n",
       "      <td>1.0</td>\n",
       "      <td>1.0</td>\n",
       "      <td>1.0</td>\n",
       "      <td>1.0</td>\n",
       "      <td>1.0</td>\n",
       "      <td>1.0</td>\n",
       "      <td>0</td>\n",
       "    </tr>\n",
       "  </tbody>\n",
       "</table>\n",
       "<p>5 rows × 4901 columns</p>\n",
       "</div>"
      ],
      "text/plain": [
       "      pixel_0  pixel_1  pixel_2  pixel_3  pixel_4  pixel_5  pixel_6  pixel_7  \\\n",
       "70        1.0      1.0      1.0      1.0      1.0      1.0      1.0      1.0   \n",
       "1171      1.0      1.0      1.0      1.0      1.0      1.0      1.0      1.0   \n",
       "1246      1.0      1.0      1.0      1.0      1.0      1.0      1.0      1.0   \n",
       "971       1.0      1.0      1.0      1.0      1.0      1.0      1.0      1.0   \n",
       "361       1.0      1.0      1.0      1.0      1.0      1.0      1.0      1.0   \n",
       "\n",
       "      pixel_8  pixel_9  ...  pixel_4891  pixel_4892  pixel_4893  pixel_4894  \\\n",
       "70        1.0      1.0  ...         1.0         1.0         1.0         1.0   \n",
       "1171      1.0      1.0  ...         1.0         1.0         1.0         1.0   \n",
       "1246      1.0      1.0  ...         1.0         1.0         1.0         1.0   \n",
       "971       1.0      1.0  ...         1.0         1.0         1.0         1.0   \n",
       "361       1.0      1.0  ...         1.0         1.0         1.0         1.0   \n",
       "\n",
       "      pixel_4895  pixel_4896  pixel_4897  pixel_4898  pixel_4899  label  \n",
       "70           1.0         1.0         1.0         1.0         1.0      0  \n",
       "1171         1.0         1.0         1.0         1.0         1.0      0  \n",
       "1246         1.0         1.0         1.0         1.0         1.0      0  \n",
       "971          1.0         1.0         1.0         1.0         1.0      0  \n",
       "361          1.0         1.0         1.0         1.0         1.0      0  \n",
       "\n",
       "[5 rows x 4901 columns]"
      ]
     },
     "execution_count": 5,
     "metadata": {},
     "output_type": "execute_result"
    }
   ],
   "source": [
    "data.head()"
   ]
  },
  {
   "cell_type": "code",
   "execution_count": 6,
   "metadata": {},
   "outputs": [],
   "source": [
    "test = data.iloc[1800:]\n",
    "test.reset_index(drop=True,inplace=True)\n",
    "\n",
    "train = data.iloc[0:1800]\n",
    "train.reset_index(drop=True,inplace=True)"
   ]
  },
  {
   "cell_type": "code",
   "execution_count": 7,
   "metadata": {},
   "outputs": [],
   "source": [
    "train_data = train.drop('label',axis=1)\n",
    "train_target = train['label']\n",
    "\n",
    "test_data = test.drop('label',axis=1)\n",
    "test_target = test['label']"
   ]
  },
  {
   "cell_type": "code",
   "execution_count": 8,
   "metadata": {},
   "outputs": [
    {
     "data": {
      "text/plain": [
       "RandomForestClassifier()"
      ]
     },
     "execution_count": 8,
     "metadata": {},
     "output_type": "execute_result"
    }
   ],
   "source": [
    "\n",
    "rfc = RandomForestClassifier()\n",
    "rfc.fit(train_data,train_target)"
   ]
  },
  {
   "cell_type": "code",
   "execution_count": 9,
   "metadata": {},
   "outputs": [
    {
     "data": {
      "text/plain": [
       "RandomForestClassifier()"
      ]
     },
     "execution_count": 9,
     "metadata": {},
     "output_type": "execute_result"
    }
   ],
   "source": [
    "rfc = RandomForestClassifier()\n",
    "rfc.fit(train_data,train_target)\n",
    "rfc"
   ]
  },
  {
   "cell_type": "code",
   "execution_count": 10,
   "metadata": {},
   "outputs": [],
   "source": [
    "y_pred = rfc.predict(test_data)"
   ]
  },
  {
   "cell_type": "code",
   "execution_count": 11,
   "metadata": {},
   "outputs": [
    {
     "name": "stdout",
     "output_type": "stream",
     "text": [
      "              precision    recall  f1-score   support\n",
      "\n",
      "           0       0.84      0.99      0.91       296\n",
      "           1       0.97      0.67      0.79       171\n",
      "\n",
      "    accuracy                           0.87       467\n",
      "   macro avg       0.90      0.83      0.85       467\n",
      "weighted avg       0.88      0.87      0.86       467\n",
      "\n"
     ]
    }
   ],
   "source": [
    "print (classification_report(test_target,y_pred))\n"
   ]
  },
  {
   "cell_type": "code",
   "execution_count": 12,
   "metadata": {},
   "outputs": [],
   "source": [
    "# from sklearn.decomposition import PCA\n",
    "# pca=PCA()\n",
    "# pca.fit(train_data)\n",
    "# cumilative_sum = np.cumsum(pca.explained_variance_ratio_)\n",
    "# pca_plt = plt.figure(figsize=(20,6))\n",
    "# pca_plt = plt.plot(cumilative_sum, linewidth=3)\n",
    "# pca_plt = plt.axis([0, 4900, 0, 1])\n",
    "# pca_plt = plt.xlabel(\"Dimensions\")\n",
    "# pca_plt = plt.ylabel(\"Explained Variance\")\n",
    "# x = np.argmax(cumilative_sum >= 0.95) + 1\n",
    "# pca_plt = plt.plot([x, x], [0, 0.95], \"k:\")\n",
    "# pca_plt = plt.plot([0, x], [0.95, 0.95], \"k:\")\n",
    "# pca_plt = plt.plot(x, 0.95, \"ko\")\n",
    "# plt.grid(True)\n",
    "# plt.show()\n"
   ]
  },
  {
   "cell_type": "code",
   "execution_count": 13,
   "metadata": {},
   "outputs": [],
   "source": [
    "# pca = PCA(n_components = 0.95)\n",
    "# pca.fit(train_data)\n",
    "# reduced_train = pd.DataFrame(pca.transform(train_data))\n",
    "# print(\"The total amount of dimensions: \",reduced_train.shape[1])"
   ]
  },
  {
   "cell_type": "code",
   "execution_count": 14,
   "metadata": {},
   "outputs": [],
   "source": [
    "# pca_test = PCA(n_components = 527)\n",
    "# pca_test.fit(test_data)\n",
    "# reduced_test = pd.DataFrame(pca.transform(test_data))"
   ]
  },
  {
   "cell_type": "code",
   "execution_count": 15,
   "metadata": {},
   "outputs": [],
   "source": [
    "# from xgboost import XGBClassifier\n",
    "# xgb = XGBClassifier()\n",
    "# xgb.fit(train_data, train_target)\n",
    "# xgb_pred = xgb.predict(test_data)\n",
    "# print('XGBoost accuracy score: %.2f'%(xgb.score(test_data, test_target)*100),'%')"
   ]
  },
  {
   "cell_type": "code",
   "execution_count": 16,
   "metadata": {},
   "outputs": [],
   "source": [
    "# reduced_train.shape"
   ]
  },
  {
   "cell_type": "code",
   "execution_count": null,
   "metadata": {},
   "outputs": [],
   "source": []
  },
  {
   "cell_type": "code",
   "execution_count": 17,
   "metadata": {},
   "outputs": [],
   "source": [
    "# xgb.fit(reduced_train, train_target)\n",
    "# xgb_pred = xgb.predict(reduced_test)\n",
    "# print('XGBoost accuracy score: %.2f'%(xgb.score(reduced_test, test_target)*100),'%')"
   ]
  },
  {
   "cell_type": "code",
   "execution_count": 18,
   "metadata": {},
   "outputs": [],
   "source": []
  },
  {
   "cell_type": "code",
   "execution_count": 19,
   "metadata": {},
   "outputs": [
    {
     "data": {
      "text/plain": [
       "<matplotlib.image.AxesImage at 0x163a4658070>"
      ]
     },
     "execution_count": 19,
     "metadata": {},
     "output_type": "execute_result"
    },
    {
     "data": {
      "image/png": "[encoded data removed]",
      "text/plain": [
       "<Figure size 432x288 with 1 Axes>"
      ]
     },
     "metadata": {
      "needs_background": "light"
     },
     "output_type": "display_data"
    }
   ],
   "source": [
    "plt.imshow(train_data.iloc[0].values.reshape((70,70)))"
   ]
  },
  {
   "cell_type": "code",
   "execution_count": 20,
   "metadata": {},
   "outputs": [],
   "source": [
    "train_data_reshaped = []\n",
    "test_data_reshaped = []\n",
    "for i in range(len(train_data)):\n",
    "    t = train_data.iloc[i].values.reshape((70,70))\n",
    "    t = np.array(t)\n",
    "    train_data_reshaped.append(t)\n",
    "    \n",
    "for i in range(len(test_data)):\n",
    "    t = test_data.iloc[i].values.reshape((70,70))\n",
    "    t = np.array(t)\n",
    "    test_data_reshaped.append(t)"
   ]
  },
  {
   "cell_type": "code",
   "execution_count": 21,
   "metadata": {},
   "outputs": [],
   "source": [
    "train_data_reshaped = np.array(train_data_reshaped)\n",
    "test_data_reshaped = np.array(test_data_reshaped)"
   ]
  },
  {
   "cell_type": "code",
   "execution_count": 22,
   "metadata": {},
   "outputs": [],
   "source": [
    "test_data_reshaped = np.expand_dims(test_data_reshaped,axis=-1)\n",
    "train_data_reshaped = np.expand_dims(train_data_reshaped,axis=-1)"
   ]
  },
  {
   "cell_type": "code",
   "execution_count": 23,
   "metadata": {},
   "outputs": [
    {
     "name": "stdout",
     "output_type": "stream",
     "text": [
      "Model: \"sequential\"\n",
      "_________________________________________________________________\n",
      " Layer (type)                Output Shape              Param #   \n",
      "=================================================================\n",
      " conv2d (Conv2D)             (None, 68, 68, 32)        320       \n",
      "                                                                 \n",
      " max_pooling2d (MaxPooling2D  (None, 34, 34, 32)       0         \n",
      " )                                                               \n",
      "                                                                 \n",
      " conv2d_1 (Conv2D)           (None, 32, 32, 42)        12138     \n",
      "                                                                 \n",
      " max_pooling2d_1 (MaxPooling  (None, 16, 16, 42)       0         \n",
      " 2D)                                                             \n",
      "                                                                 \n",
      " conv2d_2 (Conv2D)           (None, 14, 14, 52)        19708     \n",
      "                                                                 \n",
      " max_pooling2d_2 (MaxPooling  (None, 7, 7, 52)         0         \n",
      " 2D)                                                             \n",
      "                                                                 \n",
      " conv2d_3 (Conv2D)           (None, 5, 5, 62)          29078     \n",
      "                                                                 \n",
      " max_pooling2d_3 (MaxPooling  (None, 2, 2, 62)         0         \n",
      " 2D)                                                             \n",
      "                                                                 \n",
      " flatten (Flatten)           (None, 248)               0         \n",
      "                                                                 \n",
      " dense (Dense)               (None, 64)                15936     \n",
      "                                                                 \n",
      " dense_1 (Dense)             (None, 32)                2080      \n",
      "                                                                 \n",
      " dense_2 (Dense)             (None, 2)                 66        \n",
      "                                                                 \n",
      "=================================================================\n",
      "Total params: 79,326\n",
      "Trainable params: 79,326\n",
      "Non-trainable params: 0\n",
      "_________________________________________________________________\n"
     ]
    }
   ],
   "source": [
    "model = models.Sequential()\n",
    "model.add(layers.Conv2D(32, (3, 3), activation='relu', input_shape=(70, 70, 1)))\n",
    "model.add(layers.MaxPooling2D((2, 2)))\n",
    "model.add(layers.Conv2D(42, (3, 3), activation='relu'))\n",
    "model.add(layers.MaxPooling2D((2, 2)))\n",
    "model.add(layers.Conv2D(52, (3, 3), activation='relu'))\n",
    "model.add(layers.MaxPooling2D((2, 2)))\n",
    "model.add(layers.Conv2D(62, (3, 3), activation='relu'))\n",
    "model.add(layers.MaxPooling2D((2, 2)))\n",
    "\n",
    "\n",
    "model.add(layers.Flatten())\n",
    "model.add(layers.Dense(64, activation='relu'))\n",
    "model.add(layers.Dense(32, activation='relu'))\n",
    "model.add(layers.Dense(2))\n",
    "model.summary()"
   ]
  },
  {
   "cell_type": "code",
   "execution_count": 24,
   "metadata": {},
   "outputs": [
    {
     "name": "stdout",
     "output_type": "stream",
     "text": [
      "Epoch 1/18\n",
      "18/18 [==============================] - 11s 491ms/step - loss: 0.6447 - accuracy: 0.6594\n",
      "Epoch 2/18\n",
      "18/18 [==============================] - 9s 530ms/step - loss: 0.6143 - accuracy: 0.6594\n",
      "Epoch 3/18\n",
      "18/18 [==============================] - 9s 496ms/step - loss: 0.3727 - accuracy: 0.8050\n",
      "Epoch 4/18\n",
      "18/18 [==============================] - 10s 539ms/step - loss: 0.1174 - accuracy: 0.9628\n",
      "Epoch 5/18\n",
      "18/18 [==============================] - 10s 561ms/step - loss: 0.0769 - accuracy: 0.9778\n",
      "Epoch 6/18\n",
      "18/18 [==============================] - 10s 532ms/step - loss: 0.0585 - accuracy: 0.9861\n",
      "Epoch 7/18\n",
      "18/18 [==============================] - 9s 485ms/step - loss: 0.0474 - accuracy: 0.9878\n",
      "Epoch 8/18\n",
      "18/18 [==============================] - 8s 470ms/step - loss: 0.0420 - accuracy: 0.9889\n",
      "Epoch 9/18\n",
      "18/18 [==============================] - 8s 464ms/step - loss: 0.0364 - accuracy: 0.9917\n",
      "Epoch 10/18\n",
      "18/18 [==============================] - 9s 507ms/step - loss: 0.0335 - accuracy: 0.9911\n",
      "Epoch 11/18\n",
      "18/18 [==============================] - 10s 543ms/step - loss: 0.0272 - accuracy: 0.9922\n",
      "Epoch 12/18\n",
      "18/18 [==============================] - 8s 451ms/step - loss: 0.0233 - accuracy: 0.9933\n",
      "Epoch 13/18\n",
      "18/18 [==============================] - 8s 457ms/step - loss: 0.0241 - accuracy: 0.9939\n",
      "Epoch 14/18\n",
      "18/18 [==============================] - 8s 452ms/step - loss: 0.0216 - accuracy: 0.9944\n",
      "Epoch 15/18\n",
      "18/18 [==============================] - 8s 464ms/step - loss: 0.0160 - accuracy: 0.9967\n",
      "Epoch 16/18\n",
      "18/18 [==============================] - 8s 459ms/step - loss: 0.0147 - accuracy: 0.9961\n",
      "Epoch 17/18\n",
      "18/18 [==============================] - 8s 452ms/step - loss: 0.0116 - accuracy: 0.9972\n",
      "Epoch 18/18\n",
      "18/18 [==============================] - 8s 453ms/step - loss: 0.0098 - accuracy: 0.9978\n"
     ]
    }
   ],
   "source": [
    "model.compile(optimizer='adam',\n",
    "              loss=tf.keras.losses.SparseCategoricalCrossentropy(from_logits=True),\n",
    "              metrics=['accuracy'])\n",
    "\n",
    "history = model.fit(train_data_reshaped, train_target, epochs=18,batch_size=100)"
   ]
  },
  {
   "cell_type": "code",
   "execution_count": 25,
   "metadata": {},
   "outputs": [
    {
     "name": "stdout",
     "output_type": "stream",
     "text": [
      "15/15 - 1s - loss: 0.0422 - accuracy: 0.9893 - 882ms/epoch - 59ms/step\n"
     ]
    }
   ],
   "source": [
    "test_loss, test_acc = model.evaluate(test_data_reshaped,  test_target, verbose=2)"
   ]
  },
  {
   "cell_type": "code",
   "execution_count": 26,
   "metadata": {},
   "outputs": [
    {
     "name": "stdout",
     "output_type": "stream",
     "text": [
      "15/15 [==============================] - 1s 43ms/step\n",
      "              precision    recall  f1-score   support\n",
      "\n",
      "           0       0.99      0.99      0.99       296\n",
      "           1       0.99      0.98      0.99       171\n",
      "\n",
      "    accuracy                           0.99       467\n",
      "   macro avg       0.99      0.99      0.99       467\n",
      "weighted avg       0.99      0.99      0.99       467\n",
      "\n"
     ]
    }
   ],
   "source": [
    "test_predict = np.argmax(model.predict(test_data_reshaped),axis=-1)\n",
    "print (classification_report(test_target,test_predict))"
   ]
  },
  {
   "cell_type": "code",
   "execution_count": 27,
   "metadata": {},
   "outputs": [
    {
     "data": {
      "text/plain": [
       "Text(33.0, 0.5, 'Actual')"
      ]
     },
     "execution_count": 27,
     "metadata": {},
     "output_type": "execute_result"
    },
    {
     "data": {
      "image/png": "[encoded data removed]",
      "text/plain": [
       "<Figure size 432x288 with 2 Axes>"
      ]
     },
     "metadata": {
      "needs_background": "light"
     },
     "output_type": "display_data"
    }
   ],
   "source": [
    "cm = confusion_matrix(test_target,test_predict)\n",
    "sns.heatmap(cm,annot=True,annot_kws = {'size':15},fmt=\".1f\")\n",
    "plt.xlabel(\"Predict\")\n",
    "plt.ylabel(\"Actual\")"
   ]
  },
  {
   "cell_type": "code",
   "execution_count": null,
   "metadata": {},
   "outputs": [],
   "source": []
  },
  {
   "cell_type": "code",
   "execution_count": null,
   "metadata": {},
   "outputs": [],
   "source": [
    "# model = models.Sequential()\n",
    "# model.add(layers.Conv2D(100, (3, 3), activation='relu', input_shape=(70, 70, 1)))\n",
    "# model.add(layers.MaxPooling2D((2, 2)))\n",
    "# model.add(layers.Conv2D(80, (3, 3), activation='relu'))\n",
    "# model.add(layers.MaxPooling2D((2, 2)))\n",
    "# model.add(layers.Conv2D(60, (3, 3), activation='relu'))\n",
    "# model.add(layers.MaxPooling2D((2, 2)))\n",
    "# model.add(layers.Conv2D(30, (3, 3), activation='relu'))\n",
    "# model.add(layers.MaxPooling2D((2, 2)))\n",
    "\n",
    "\n",
    "# model.add(layers.Flatten())\n",
    "# model.add(layers.Dense(64, activation='relu'))\n",
    "# model.add(layers.Dense(32, activation='relu'))\n",
    "# model.add(layers.Dense(2))\n",
    "# model.summary()"
   ]
  },
  {
   "cell_type": "code",
   "execution_count": null,
   "metadata": {},
   "outputs": [],
   "source": [
    "# model.compile(optimizer='adam',\n",
    "#               loss=tf.keras.losses.SparseCategoricalCrossentropy(from_logits=True),\n",
    "#               metrics=['accuracy'])\n",
    "\n",
    "# history = model.fit(train_data_reshaped, train_target, epochs=18,batch_size=100)"
   ]
  },
  {
   "cell_type": "code",
   "execution_count": null,
   "metadata": {},
   "outputs": [],
   "source": [
    "# test_loss, test_acc = model.evaluate(test_data_reshaped,  test_target, verbose=2)"
   ]
  },
  {
   "cell_type": "code",
   "execution_count": null,
   "metadata": {},
   "outputs": [],
   "source": [
    "# test_predict = np.argmax(model.predict(test_data_reshaped),axis=-1)\n",
    "# print (classification_report(test_target,test_predict))"
   ]
  },
  {
   "cell_type": "code",
   "execution_count": null,
   "metadata": {},
   "outputs": [],
   "source": [
    "# cm = confusion_matrix(test_target,test_predict)\n",
    "# sns.heatmap(cm,annot=True,annot_kws = {'size':15},fmt=\".1f\")\n",
    "# plt.xlabel(\"Predict\")\n",
    "# plt.ylabel(\"Actual\")"
   ]
  },
  {
   "cell_type": "code",
   "execution_count": null,
   "metadata": {},
   "outputs": [],
   "source": []
  },
  {
   "cell_type": "markdown",
   "metadata": {},
   "source": [
    "# COLOR"
   ]
  },
  {
   "cell_type": "code",
   "execution_count": null,
   "metadata": {},
   "outputs": [],
   "source": [
    "# data = []\n",
    "# labels = []\n",
    "# for img in os.listdir(r'ptolemy silver proarchives'):\n",
    "#     label = label_img(img)\n",
    "#     path = os.path.join(r'ptolemy silver proarchives',img)\n",
    "#     img = cv2.resize(cv2.imread(path),(140,70))\n",
    "#     data.append(np.array(np.array(img[0:70,0:70]).flatten()))\n",
    "#     labels.append(label)"
   ]
  },
  {
   "cell_type": "code",
   "execution_count": null,
   "metadata": {},
   "outputs": [],
   "source": [
    "# cols = []\n",
    "# for i in range(14700):\n",
    "#     cols.append(\"pixel_\"+str(i))\n",
    "# data = pd.DataFrame(data, columns=cols)\n",
    "# data = data/255\n",
    "# data['label'] = labels\n",
    "# data = data.sample(frac=1,random_state=0)"
   ]
  },
  {
   "cell_type": "code",
   "execution_count": null,
   "metadata": {},
   "outputs": [],
   "source": [
    "# data.head()"
   ]
  },
  {
   "cell_type": "code",
   "execution_count": null,
   "metadata": {},
   "outputs": [],
   "source": [
    "# test = data.iloc[1800:]\n",
    "# test.reset_index(drop=True,inplace=True)\n",
    "\n",
    "# train = data.iloc[0:1800]\n",
    "# train.reset_index(drop=True,inplace=True)"
   ]
  },
  {
   "cell_type": "code",
   "execution_count": null,
   "metadata": {},
   "outputs": [],
   "source": [
    "# train_data = train.drop('label',axis=1)\n",
    "# train_target = train['label']\n",
    "\n",
    "# test_data = test.drop('label',axis=1)\n",
    "# test_target = test['label']"
   ]
  },
  {
   "cell_type": "code",
   "execution_count": null,
   "metadata": {},
   "outputs": [],
   "source": [
    "# plt.imshow(np.flip(np.array(train_data.loc[1]).reshape(70,70,3),2))"
   ]
  },
  {
   "cell_type": "code",
   "execution_count": null,
   "metadata": {},
   "outputs": [],
   "source": [
    "# train_data_reshaped = []\n",
    "# test_data_reshaped = []\n",
    "# for i in range(len(train_data)):\n",
    "#     t = train_data.iloc[i].values.reshape((70,70,3))\n",
    "#     t = np.flip(np.array(t),2)\n",
    "#     train_data_reshaped.append(t)\n",
    "    \n",
    "# for i in range(len(test_data)):\n",
    "#     t = test_data.iloc[i].values.reshape((70,70,3))\n",
    "#     t = np.flip(np.array(t),2)\n",
    "#     test_data_reshaped.append(t)"
   ]
  },
  {
   "cell_type": "code",
   "execution_count": null,
   "metadata": {},
   "outputs": [],
   "source": [
    "# plt.imshow(test_data_reshaped[1])"
   ]
  },
  {
   "cell_type": "code",
   "execution_count": null,
   "metadata": {},
   "outputs": [],
   "source": [
    "# train_data_reshaped = np.array(train_data_reshaped)\n",
    "# test_data_reshaped = np.array(test_data_reshaped)\n",
    "# test_data_reshaped = np.expand_dims(test_data_reshaped,axis=-1)\n",
    "# train_data_reshaped = np.expand_dims(train_data_reshaped,axis=-1)"
   ]
  },
  {
   "cell_type": "code",
   "execution_count": null,
   "metadata": {},
   "outputs": [],
   "source": [
    "# model = models.Sequential()\n",
    "# model.add(layers.Conv2D(32, (3, 3), activation='relu', input_shape=(70, 70, 3)))\n",
    "# model.add(layers.MaxPooling2D((2, 2)))\n",
    "# model.add(layers.Conv2D(42, (3, 3), activation='relu'))\n",
    "# model.add(layers.MaxPooling2D((2, 2)))\n",
    "# model.add(layers.Conv2D(52, (3, 3), activation='relu'))\n",
    "# model.add(layers.MaxPooling2D((2, 2)))\n",
    "# model.add(layers.Conv2D(62, (3, 3), activation='relu'))\n",
    "# model.add(layers.MaxPooling2D((2, 2)))\n",
    "\n",
    "\n",
    "# model.add(layers.Flatten())\n",
    "# model.add(layers.Dense(64, activation='relu'))\n",
    "# model.add(layers.Dropout(rate = 0.2))\n",
    "# model.add(layers.Dense(32, activation='relu'))\n",
    "# model.add(layers.Dropout(rate = 0.2))\n",
    "\n",
    "# model.add(layers.Dense(2))\n",
    "# model.summary()"
   ]
  },
  {
   "cell_type": "code",
   "execution_count": null,
   "metadata": {},
   "outputs": [],
   "source": [
    "# model.compile(optimizer='rmsprop',\n",
    "#               loss=tf.keras.losses.SparseCategoricalCrossentropy(from_logits=True),\n",
    "#               metrics=['accuracy'])\n",
    "\n",
    "# history = model.fit(train_data_reshaped, train_target, epochs=18,batch_size=100)"
   ]
  },
  {
   "cell_type": "code",
   "execution_count": null,
   "metadata": {},
   "outputs": [],
   "source": [
    "# test_loss, test_acc = model.evaluate(test_data_reshaped, test_target, verbose=2)"
   ]
  },
  {
   "cell_type": "code",
   "execution_count": null,
   "metadata": {},
   "outputs": [],
   "source": [
    "# test_predict = np.argmax(model.predict(test_data_reshaped),axis=-1)\n",
    "# print (classification_report(test_target,test_predict))"
   ]
  },
  {
   "cell_type": "code",
   "execution_count": null,
   "metadata": {},
   "outputs": [],
   "source": [
    "# cm = confusion_matrix(test_target,test_predict)\n",
    "# sns.heatmap(cm,annot=True,annot_kws = {'size':15},fmt=\".1f\")\n",
    "# plt.xlabel(\"Predict\")\n",
    "# plt.ylabel(\"Actual\")"
   ]
  },
  {
   "cell_type": "markdown",
   "metadata": {},
   "source": [
    "# 150 X 150"
   ]
  },
  {
   "cell_type": "code",
   "execution_count": 36,
   "metadata": {},
   "outputs": [
    {
     "name": "stdout",
     "output_type": "stream",
     "text": [
      "ERROR! Session/line number was not unique in database. History logging moved to new session 368\n"
     ]
    }
   ],
   "source": [
    "# data = []\n",
    "# labels = []\n",
    "# for img in os.listdir(r'coins modified'):\n",
    "#     label = label_img(img)\n",
    "#     path = os.path.join(r'coins modified',img)\n",
    "#     img = cv2.resize(cv2.imread(path, cv2.IMREAD_GRAYSCALE),(300,150))\n",
    "#     data.append(np.array(np.array(img[0:150,0:150]).flatten()))\n",
    "#     labels.append(label)"
   ]
  },
  {
   "cell_type": "code",
   "execution_count": 37,
   "metadata": {},
   "outputs": [],
   "source": [
    "# cols = []\n",
    "# for i in range(22500):\n",
    "#     cols.append(\"pixel_\"+str(i))\n",
    "# data = pd.DataFrame(data, columns=cols)\n",
    "# data = data/255\n",
    "# data['label'] = labels\n",
    "# data = data.sample(frac=1,random_state=0)"
   ]
  },
  {
   "cell_type": "code",
   "execution_count": 38,
   "metadata": {},
   "outputs": [],
   "source": [
    "# test = data.iloc[1800:]\n",
    "# test.reset_index(drop=True,inplace=True)\n",
    "\n",
    "# train = data.iloc[0:1800]\n",
    "# train.reset_index(drop=True,inplace=True)"
   ]
  },
  {
   "cell_type": "code",
   "execution_count": 39,
   "metadata": {},
   "outputs": [],
   "source": [
    "# train_data = train.drop('label',axis=1)\n",
    "# train_target = train['label']\n",
    "\n",
    "# test_data = test.drop('label',axis=1)\n",
    "# test_target = test['label']"
   ]
  },
  {
   "cell_type": "code",
   "execution_count": 40,
   "metadata": {},
   "outputs": [],
   "source": [
    "# train_data_reshaped = []\n",
    "# test_data_reshaped = []\n",
    "# for i in range(len(train_data)):\n",
    "#     t = train_data.iloc[i].values.reshape((150,150))\n",
    "#     t = np.array(t)\n",
    "#     train_data_reshaped.append(t)\n",
    "    \n",
    "# for i in range(len(test_data)):\n",
    "#     t = test_data.iloc[i].values.reshape((150,150))\n",
    "#     t = np.array(t)\n",
    "#     test_data_reshaped.append(t)"
   ]
  },
  {
   "cell_type": "code",
   "execution_count": 41,
   "metadata": {},
   "outputs": [],
   "source": [
    "# train_data_reshaped = np.array(train_data_reshaped)\n",
    "# test_data_reshaped = np.array(test_data_reshaped)"
   ]
  },
  {
   "cell_type": "code",
   "execution_count": 42,
   "metadata": {},
   "outputs": [],
   "source": [
    "# test_data_reshaped = np.expand_dims(test_data_reshaped,axis=-1)\n",
    "# train_data_reshaped = np.expand_dims(train_data_reshaped,axis=-1)"
   ]
  },
  {
   "cell_type": "code",
   "execution_count": 43,
   "metadata": {},
   "outputs": [],
   "source": [
    "# model = models.Sequential()\n",
    "# model.add(layers.Conv2D(32, (3, 3), activation='relu', input_shape=(150, 150, 1)))\n",
    "# model.add(layers.MaxPooling2D((2, 2)))\n",
    "# model.add(layers.Conv2D(42, (3, 3), activation='relu'))\n",
    "# model.add(layers.MaxPooling2D((2, 2)))\n",
    "# model.add(layers.Conv2D(52, (3, 3), activation='relu'))\n",
    "# model.add(layers.MaxPooling2D((2, 2)))\n",
    "# model.add(layers.Conv2D(62, (3, 3), activation='relu'))\n",
    "# model.add(layers.MaxPooling2D((2, 2)))\n",
    "\n",
    "\n",
    "# model.add(layers.Flatten())\n",
    "# model.add(layers.Dense(64, activation='relu'))\n",
    "# model.add(layers.Dense(32, activation='relu'))\n",
    "# model.add(layers.Dense(2))\n",
    "# model.summary()"
   ]
  },
  {
   "cell_type": "code",
   "execution_count": 44,
   "metadata": {},
   "outputs": [],
   "source": [
    "# model.compile(optimizer='adam',\n",
    "#               loss=tf.keras.losses.SparseCategoricalCrossentropy(from_logits=True),\n",
    "#               metrics=['accuracy'])\n",
    "\n",
    "# history = model.fit(train_data_reshaped, train_target, epochs=18,batch_size=100)"
   ]
  },
  {
   "cell_type": "code",
   "execution_count": 45,
   "metadata": {},
   "outputs": [],
   "source": [
    "# test_loss, test_acc = model.evaluate(test_data_reshaped,  test_target, verbose=2)"
   ]
  },
  {
   "cell_type": "code",
   "execution_count": 46,
   "metadata": {},
   "outputs": [],
   "source": [
    "# test_predict = np.argmax(model.predict(test_data_reshaped),axis=-1)\n",
    "# print (classification_report(test_target,test_predict))"
   ]
  },
  {
   "cell_type": "code",
   "execution_count": 47,
   "metadata": {},
   "outputs": [],
   "source": [
    "# cm = confusion_matrix(test_target,test_predict)\n",
    "# sns.heatmap(cm,annot=True,annot_kws = {'size':15},fmt=\".1f\")\n",
    "# plt.xlabel(\"Predict\")\n",
    "# plt.ylabel(\"Actual\")"
   ]
  },
  {
   "cell_type": "code",
   "execution_count": 48,
   "metadata": {},
   "outputs": [],
   "source": [
    "# plt.imshow(train_data.iloc[0].values.reshape((150,150)))"
   ]
  },
  {
   "cell_type": "markdown",
   "metadata": {},
   "source": [
    "# with ptolemy 6"
   ]
  },
  {
   "cell_type": "code",
   "execution_count": 4,
   "metadata": {},
   "outputs": [],
   "source": [
    "def label_img(img):\n",
    "    word_label = img.split('_')[0]\n",
    "    if word_label == '0' : return 0\n",
    "    elif word_label == '1' : return 1\n",
    "    elif word_label == '6' : return 2\n"
   ]
  },
  {
   "cell_type": "code",
   "execution_count": 6,
   "metadata": {},
   "outputs": [],
   "source": [
    "data = []\n",
    "labels = []\n",
    "for img in os.listdir(r'mixed'):\n",
    "    label = label_img(img)\n",
    "    path = os.path.join(r'mixed',img)\n",
    "    img = cv2.resize(cv2.imread(path, cv2.IMREAD_GRAYSCALE),(140,70))\n",
    "    data.append(np.array(np.array(img[0:70,0:70]).flatten()))\n",
    "    labels.append(label)"
   ]
  },
  {
   "cell_type": "code",
   "execution_count": 7,
   "metadata": {},
   "outputs": [],
   "source": [
    "cols = []\n",
    "for i in range(4900):\n",
    "    cols.append(\"pixel_\"+str(i))\n",
    "data = pd.DataFrame(data, columns=cols)\n",
    "data = data/255\n",
    "data['label'] = labels\n",
    "data = data.sample(frac=1,random_state=0)"
   ]
  },
  {
   "cell_type": "code",
   "execution_count": 8,
   "metadata": {},
   "outputs": [
    {
     "data": {
      "text/plain": [
       "2996"
      ]
     },
     "execution_count": 8,
     "metadata": {},
     "output_type": "execute_result"
    }
   ],
   "source": [
    "len(data)"
   ]
  },
  {
   "cell_type": "code",
   "execution_count": 9,
   "metadata": {},
   "outputs": [
    {
     "data": {
      "text/html": [
       "<div>\n",
       "<style scoped>\n",
       "    .dataframe tbody tr th:only-of-type {\n",
       "        vertical-align: middle;\n",
       "    }\n",
       "\n",
       "    .dataframe tbody tr th {\n",
       "        vertical-align: top;\n",
       "    }\n",
       "\n",
       "    .dataframe thead th {\n",
       "        text-align: right;\n",
       "    }\n",
       "</style>\n",
       "<table border=\"1\" class=\"dataframe\">\n",
       "  <thead>\n",
       "    <tr style=\"text-align: right;\">\n",
       "      <th></th>\n",
       "      <th>pixel_0</th>\n",
       "      <th>pixel_1</th>\n",
       "      <th>pixel_2</th>\n",
       "      <th>pixel_3</th>\n",
       "      <th>pixel_4</th>\n",
       "      <th>pixel_5</th>\n",
       "      <th>pixel_6</th>\n",
       "      <th>pixel_7</th>\n",
       "      <th>pixel_8</th>\n",
       "      <th>pixel_9</th>\n",
       "      <th>...</th>\n",
       "      <th>pixel_4891</th>\n",
       "      <th>pixel_4892</th>\n",
       "      <th>pixel_4893</th>\n",
       "      <th>pixel_4894</th>\n",
       "      <th>pixel_4895</th>\n",
       "      <th>pixel_4896</th>\n",
       "      <th>pixel_4897</th>\n",
       "      <th>pixel_4898</th>\n",
       "      <th>pixel_4899</th>\n",
       "      <th>label</th>\n",
       "    </tr>\n",
       "  </thead>\n",
       "  <tbody>\n",
       "    <tr>\n",
       "      <th>1300</th>\n",
       "      <td>1.000000</td>\n",
       "      <td>1.000000</td>\n",
       "      <td>1.000000</td>\n",
       "      <td>1.000000</td>\n",
       "      <td>1.000000</td>\n",
       "      <td>1.000000</td>\n",
       "      <td>1.000000</td>\n",
       "      <td>1.000000</td>\n",
       "      <td>1.000000</td>\n",
       "      <td>1.000000</td>\n",
       "      <td>...</td>\n",
       "      <td>1.000000</td>\n",
       "      <td>1.000000</td>\n",
       "      <td>1.000000</td>\n",
       "      <td>1.000000</td>\n",
       "      <td>1.000000</td>\n",
       "      <td>1.000000</td>\n",
       "      <td>1.000000</td>\n",
       "      <td>1.000000</td>\n",
       "      <td>1.000000</td>\n",
       "      <td>0</td>\n",
       "    </tr>\n",
       "    <tr>\n",
       "      <th>263</th>\n",
       "      <td>1.000000</td>\n",
       "      <td>1.000000</td>\n",
       "      <td>1.000000</td>\n",
       "      <td>1.000000</td>\n",
       "      <td>1.000000</td>\n",
       "      <td>1.000000</td>\n",
       "      <td>1.000000</td>\n",
       "      <td>1.000000</td>\n",
       "      <td>1.000000</td>\n",
       "      <td>1.000000</td>\n",
       "      <td>...</td>\n",
       "      <td>1.000000</td>\n",
       "      <td>1.000000</td>\n",
       "      <td>1.000000</td>\n",
       "      <td>1.000000</td>\n",
       "      <td>1.000000</td>\n",
       "      <td>1.000000</td>\n",
       "      <td>1.000000</td>\n",
       "      <td>1.000000</td>\n",
       "      <td>1.000000</td>\n",
       "      <td>0</td>\n",
       "    </tr>\n",
       "    <tr>\n",
       "      <th>1948</th>\n",
       "      <td>1.000000</td>\n",
       "      <td>1.000000</td>\n",
       "      <td>1.000000</td>\n",
       "      <td>1.000000</td>\n",
       "      <td>1.000000</td>\n",
       "      <td>1.000000</td>\n",
       "      <td>1.000000</td>\n",
       "      <td>1.000000</td>\n",
       "      <td>1.000000</td>\n",
       "      <td>1.000000</td>\n",
       "      <td>...</td>\n",
       "      <td>1.000000</td>\n",
       "      <td>1.000000</td>\n",
       "      <td>1.000000</td>\n",
       "      <td>1.000000</td>\n",
       "      <td>1.000000</td>\n",
       "      <td>1.000000</td>\n",
       "      <td>1.000000</td>\n",
       "      <td>1.000000</td>\n",
       "      <td>1.000000</td>\n",
       "      <td>1</td>\n",
       "    </tr>\n",
       "    <tr>\n",
       "      <th>2116</th>\n",
       "      <td>0.996078</td>\n",
       "      <td>0.992157</td>\n",
       "      <td>0.996078</td>\n",
       "      <td>0.992157</td>\n",
       "      <td>0.992157</td>\n",
       "      <td>0.996078</td>\n",
       "      <td>0.992157</td>\n",
       "      <td>0.996078</td>\n",
       "      <td>0.992157</td>\n",
       "      <td>0.988235</td>\n",
       "      <td>...</td>\n",
       "      <td>0.992157</td>\n",
       "      <td>0.988235</td>\n",
       "      <td>0.992157</td>\n",
       "      <td>0.988235</td>\n",
       "      <td>0.992157</td>\n",
       "      <td>0.992157</td>\n",
       "      <td>0.988235</td>\n",
       "      <td>0.988235</td>\n",
       "      <td>0.988235</td>\n",
       "      <td>1</td>\n",
       "    </tr>\n",
       "    <tr>\n",
       "      <th>812</th>\n",
       "      <td>1.000000</td>\n",
       "      <td>1.000000</td>\n",
       "      <td>1.000000</td>\n",
       "      <td>1.000000</td>\n",
       "      <td>1.000000</td>\n",
       "      <td>1.000000</td>\n",
       "      <td>1.000000</td>\n",
       "      <td>1.000000</td>\n",
       "      <td>1.000000</td>\n",
       "      <td>1.000000</td>\n",
       "      <td>...</td>\n",
       "      <td>1.000000</td>\n",
       "      <td>1.000000</td>\n",
       "      <td>1.000000</td>\n",
       "      <td>1.000000</td>\n",
       "      <td>1.000000</td>\n",
       "      <td>1.000000</td>\n",
       "      <td>1.000000</td>\n",
       "      <td>1.000000</td>\n",
       "      <td>1.000000</td>\n",
       "      <td>0</td>\n",
       "    </tr>\n",
       "    <tr>\n",
       "      <th>1357</th>\n",
       "      <td>1.000000</td>\n",
       "      <td>1.000000</td>\n",
       "      <td>1.000000</td>\n",
       "      <td>1.000000</td>\n",
       "      <td>1.000000</td>\n",
       "      <td>1.000000</td>\n",
       "      <td>1.000000</td>\n",
       "      <td>1.000000</td>\n",
       "      <td>1.000000</td>\n",
       "      <td>1.000000</td>\n",
       "      <td>...</td>\n",
       "      <td>1.000000</td>\n",
       "      <td>1.000000</td>\n",
       "      <td>1.000000</td>\n",
       "      <td>1.000000</td>\n",
       "      <td>1.000000</td>\n",
       "      <td>1.000000</td>\n",
       "      <td>1.000000</td>\n",
       "      <td>1.000000</td>\n",
       "      <td>1.000000</td>\n",
       "      <td>0</td>\n",
       "    </tr>\n",
       "    <tr>\n",
       "      <th>615</th>\n",
       "      <td>1.000000</td>\n",
       "      <td>1.000000</td>\n",
       "      <td>1.000000</td>\n",
       "      <td>1.000000</td>\n",
       "      <td>1.000000</td>\n",
       "      <td>1.000000</td>\n",
       "      <td>1.000000</td>\n",
       "      <td>1.000000</td>\n",
       "      <td>1.000000</td>\n",
       "      <td>1.000000</td>\n",
       "      <td>...</td>\n",
       "      <td>1.000000</td>\n",
       "      <td>1.000000</td>\n",
       "      <td>1.000000</td>\n",
       "      <td>1.000000</td>\n",
       "      <td>1.000000</td>\n",
       "      <td>1.000000</td>\n",
       "      <td>1.000000</td>\n",
       "      <td>1.000000</td>\n",
       "      <td>1.000000</td>\n",
       "      <td>0</td>\n",
       "    </tr>\n",
       "    <tr>\n",
       "      <th>2946</th>\n",
       "      <td>1.000000</td>\n",
       "      <td>1.000000</td>\n",
       "      <td>1.000000</td>\n",
       "      <td>1.000000</td>\n",
       "      <td>1.000000</td>\n",
       "      <td>1.000000</td>\n",
       "      <td>1.000000</td>\n",
       "      <td>1.000000</td>\n",
       "      <td>1.000000</td>\n",
       "      <td>1.000000</td>\n",
       "      <td>...</td>\n",
       "      <td>1.000000</td>\n",
       "      <td>1.000000</td>\n",
       "      <td>1.000000</td>\n",
       "      <td>1.000000</td>\n",
       "      <td>1.000000</td>\n",
       "      <td>1.000000</td>\n",
       "      <td>1.000000</td>\n",
       "      <td>1.000000</td>\n",
       "      <td>1.000000</td>\n",
       "      <td>2</td>\n",
       "    </tr>\n",
       "    <tr>\n",
       "      <th>1761</th>\n",
       "      <td>1.000000</td>\n",
       "      <td>1.000000</td>\n",
       "      <td>1.000000</td>\n",
       "      <td>1.000000</td>\n",
       "      <td>1.000000</td>\n",
       "      <td>1.000000</td>\n",
       "      <td>1.000000</td>\n",
       "      <td>1.000000</td>\n",
       "      <td>1.000000</td>\n",
       "      <td>1.000000</td>\n",
       "      <td>...</td>\n",
       "      <td>1.000000</td>\n",
       "      <td>1.000000</td>\n",
       "      <td>1.000000</td>\n",
       "      <td>1.000000</td>\n",
       "      <td>1.000000</td>\n",
       "      <td>1.000000</td>\n",
       "      <td>1.000000</td>\n",
       "      <td>1.000000</td>\n",
       "      <td>1.000000</td>\n",
       "      <td>1</td>\n",
       "    </tr>\n",
       "    <tr>\n",
       "      <th>817</th>\n",
       "      <td>1.000000</td>\n",
       "      <td>1.000000</td>\n",
       "      <td>1.000000</td>\n",
       "      <td>1.000000</td>\n",
       "      <td>1.000000</td>\n",
       "      <td>1.000000</td>\n",
       "      <td>1.000000</td>\n",
       "      <td>1.000000</td>\n",
       "      <td>1.000000</td>\n",
       "      <td>1.000000</td>\n",
       "      <td>...</td>\n",
       "      <td>1.000000</td>\n",
       "      <td>1.000000</td>\n",
       "      <td>1.000000</td>\n",
       "      <td>1.000000</td>\n",
       "      <td>1.000000</td>\n",
       "      <td>1.000000</td>\n",
       "      <td>1.000000</td>\n",
       "      <td>1.000000</td>\n",
       "      <td>1.000000</td>\n",
       "      <td>0</td>\n",
       "    </tr>\n",
       "  </tbody>\n",
       "</table>\n",
       "<p>10 rows × 4901 columns</p>\n",
       "</div>"
      ],
      "text/plain": [
       "       pixel_0   pixel_1   pixel_2   pixel_3   pixel_4   pixel_5   pixel_6  \\\n",
       "1300  1.000000  1.000000  1.000000  1.000000  1.000000  1.000000  1.000000   \n",
       "263   1.000000  1.000000  1.000000  1.000000  1.000000  1.000000  1.000000   \n",
       "1948  1.000000  1.000000  1.000000  1.000000  1.000000  1.000000  1.000000   \n",
       "2116  0.996078  0.992157  0.996078  0.992157  0.992157  0.996078  0.992157   \n",
       "812   1.000000  1.000000  1.000000  1.000000  1.000000  1.000000  1.000000   \n",
       "1357  1.000000  1.000000  1.000000  1.000000  1.000000  1.000000  1.000000   \n",
       "615   1.000000  1.000000  1.000000  1.000000  1.000000  1.000000  1.000000   \n",
       "2946  1.000000  1.000000  1.000000  1.000000  1.000000  1.000000  1.000000   \n",
       "1761  1.000000  1.000000  1.000000  1.000000  1.000000  1.000000  1.000000   \n",
       "817   1.000000  1.000000  1.000000  1.000000  1.000000  1.000000  1.000000   \n",
       "\n",
       "       pixel_7   pixel_8   pixel_9  ...  pixel_4891  pixel_4892  pixel_4893  \\\n",
       "1300  1.000000  1.000000  1.000000  ...    1.000000    1.000000    1.000000   \n",
       "263   1.000000  1.000000  1.000000  ...    1.000000    1.000000    1.000000   \n",
       "1948  1.000000  1.000000  1.000000  ...    1.000000    1.000000    1.000000   \n",
       "2116  0.996078  0.992157  0.988235  ...    0.992157    0.988235    0.992157   \n",
       "812   1.000000  1.000000  1.000000  ...    1.000000    1.000000    1.000000   \n",
       "1357  1.000000  1.000000  1.000000  ...    1.000000    1.000000    1.000000   \n",
       "615   1.000000  1.000000  1.000000  ...    1.000000    1.000000    1.000000   \n",
       "2946  1.000000  1.000000  1.000000  ...    1.000000    1.000000    1.000000   \n",
       "1761  1.000000  1.000000  1.000000  ...    1.000000    1.000000    1.000000   \n",
       "817   1.000000  1.000000  1.000000  ...    1.000000    1.000000    1.000000   \n",
       "\n",
       "      pixel_4894  pixel_4895  pixel_4896  pixel_4897  pixel_4898  pixel_4899  \\\n",
       "1300    1.000000    1.000000    1.000000    1.000000    1.000000    1.000000   \n",
       "263     1.000000    1.000000    1.000000    1.000000    1.000000    1.000000   \n",
       "1948    1.000000    1.000000    1.000000    1.000000    1.000000    1.000000   \n",
       "2116    0.988235    0.992157    0.992157    0.988235    0.988235    0.988235   \n",
       "812     1.000000    1.000000    1.000000    1.000000    1.000000    1.000000   \n",
       "1357    1.000000    1.000000    1.000000    1.000000    1.000000    1.000000   \n",
       "615     1.000000    1.000000    1.000000    1.000000    1.000000    1.000000   \n",
       "2946    1.000000    1.000000    1.000000    1.000000    1.000000    1.000000   \n",
       "1761    1.000000    1.000000    1.000000    1.000000    1.000000    1.000000   \n",
       "817     1.000000    1.000000    1.000000    1.000000    1.000000    1.000000   \n",
       "\n",
       "      label  \n",
       "1300      0  \n",
       "263       0  \n",
       "1948      1  \n",
       "2116      1  \n",
       "812       0  \n",
       "1357      0  \n",
       "615       0  \n",
       "2946      2  \n",
       "1761      1  \n",
       "817       0  \n",
       "\n",
       "[10 rows x 4901 columns]"
      ]
     },
     "execution_count": 9,
     "metadata": {},
     "output_type": "execute_result"
    }
   ],
   "source": [
    "data.head(10)"
   ]
  },
  {
   "cell_type": "code",
   "execution_count": 10,
   "metadata": {},
   "outputs": [],
   "source": [
    "train = data.iloc[0:2500]\n",
    "train.reset_index(drop=True,inplace=True)\n",
    "\n",
    "test = data.iloc[2500:]\n",
    "test.reset_index(drop=True,inplace=True)\n"
   ]
  },
  {
   "cell_type": "code",
   "execution_count": 11,
   "metadata": {},
   "outputs": [],
   "source": [
    "train_data = train.drop('label',axis=1)\n",
    "train_target = train['label']\n",
    "\n",
    "test_data = test.drop('label',axis=1)\n",
    "test_target = test['label']"
   ]
  },
  {
   "cell_type": "code",
   "execution_count": 12,
   "metadata": {},
   "outputs": [
    {
     "data": {
      "text/plain": [
       "<matplotlib.image.AxesImage at 0x21848d49fa0>"
      ]
     },
     "execution_count": 12,
     "metadata": {},
     "output_type": "execute_result"
    },
    {
     "data": {
      "image/png": "[encoded data removed]",
      "text/plain": [
       "<Figure size 432x288 with 1 Axes>"
      ]
     },
     "metadata": {
      "needs_background": "light"
     },
     "output_type": "display_data"
    }
   ],
   "source": [
    "plt.imshow(train_data.iloc[0].values.reshape((70,70)))"
   ]
  },
  {
   "cell_type": "code",
   "execution_count": 13,
   "metadata": {},
   "outputs": [],
   "source": [
    "train_data_reshaped = []\n",
    "test_data_reshaped = []\n",
    "for i in range(len(train_data)):\n",
    "    t = train_data.iloc[i].values.reshape((70,70))\n",
    "    t = np.array(t)\n",
    "    train_data_reshaped.append(t)\n",
    "    \n",
    "for i in range(len(test_data)):\n",
    "    t = test_data.iloc[i].values.reshape((70,70))\n",
    "    t = np.array(t)\n",
    "    test_data_reshaped.append(t)"
   ]
  },
  {
   "cell_type": "code",
   "execution_count": 14,
   "metadata": {},
   "outputs": [],
   "source": [
    "train_data_reshaped = np.array(train_data_reshaped)\n",
    "test_data_reshaped = np.array(test_data_reshaped)"
   ]
  },
  {
   "cell_type": "code",
   "execution_count": 15,
   "metadata": {},
   "outputs": [],
   "source": [
    "test_data_reshaped = np.expand_dims(test_data_reshaped,axis=-1)\n",
    "train_data_reshaped = np.expand_dims(train_data_reshaped,axis=-1)"
   ]
  },
  {
   "cell_type": "code",
   "execution_count": 47,
   "metadata": {},
   "outputs": [
    {
     "name": "stdout",
     "output_type": "stream",
     "text": [
      "Model: \"sequential_2\"\n",
      "_________________________________________________________________\n",
      " Layer (type)                Output Shape              Param #   \n",
      "=================================================================\n",
      " conv2d_8 (Conv2D)           (None, 68, 68, 32)        320       \n",
      "                                                                 \n",
      " max_pooling2d_8 (MaxPooling  (None, 34, 34, 32)       0         \n",
      " 2D)                                                             \n",
      "                                                                 \n",
      " conv2d_9 (Conv2D)           (None, 32, 32, 42)        12138     \n",
      "                                                                 \n",
      " max_pooling2d_9 (MaxPooling  (None, 16, 16, 42)       0         \n",
      " 2D)                                                             \n",
      "                                                                 \n",
      " conv2d_10 (Conv2D)          (None, 14, 14, 52)        19708     \n",
      "                                                                 \n",
      " max_pooling2d_10 (MaxPoolin  (None, 7, 7, 52)         0         \n",
      " g2D)                                                            \n",
      "                                                                 \n",
      " conv2d_11 (Conv2D)          (None, 5, 5, 62)          29078     \n",
      "                                                                 \n",
      " max_pooling2d_11 (MaxPoolin  (None, 2, 2, 62)         0         \n",
      " g2D)                                                            \n",
      "                                                                 \n",
      " flatten_2 (Flatten)         (None, 248)               0         \n",
      "                                                                 \n",
      " dense_6 (Dense)             (None, 64)                15936     \n",
      "                                                                 \n",
      " dense_7 (Dense)             (None, 32)                2080      \n",
      "                                                                 \n",
      " dense_8 (Dense)             (None, 3)                 99        \n",
      "                                                                 \n",
      "=================================================================\n",
      "Total params: 79,359\n",
      "Trainable params: 79,359\n",
      "Non-trainable params: 0\n",
      "_________________________________________________________________\n"
     ]
    }
   ],
   "source": [
    "model = models.Sequential()\n",
    "model.add(layers.Conv2D(32, (3, 3), activation='relu', input_shape=(70, 70, 1)))\n",
    "model.add(layers.MaxPooling2D((2, 2)))\n",
    "model.add(layers.Conv2D(42, (3, 3), activation='relu'))\n",
    "model.add(layers.MaxPooling2D((2, 2)))\n",
    "model.add(layers.Conv2D(52, (3, 3), activation='relu'))\n",
    "model.add(layers.MaxPooling2D((2, 2)))\n",
    "model.add(layers.Conv2D(62, (3, 3), activation='relu'))\n",
    "model.add(layers.MaxPooling2D((2, 2)))\n",
    "\n",
    "\n",
    "model.add(layers.Flatten())\n",
    "model.add(layers.Dense(64, activation='relu'))\n",
    "model.add(layers.Dense(32, activation='relu'))\n",
    "model.add(layers.Dense(3))\n",
    "model.summary()"
   ]
  },
  {
   "cell_type": "code",
   "execution_count": 48,
   "metadata": {},
   "outputs": [
    {
     "name": "stdout",
     "output_type": "stream",
     "text": [
      "Epoch 1/18\n",
      "25/25 [==============================] - 18s 603ms/step - loss: 1.0376 - accuracy: 0.4892\n",
      "Epoch 2/18\n",
      "25/25 [==============================] - 13s 532ms/step - loss: 0.9573 - accuracy: 0.5188\n",
      "Epoch 3/18\n",
      "25/25 [==============================] - 14s 550ms/step - loss: 0.5540 - accuracy: 0.7892\n",
      "Epoch 4/18\n",
      "25/25 [==============================] - 13s 531ms/step - loss: 0.3485 - accuracy: 0.8660\n",
      "Epoch 5/18\n",
      "25/25 [==============================] - 16s 624ms/step - loss: 0.2673 - accuracy: 0.9020\n",
      "Epoch 6/18\n",
      "25/25 [==============================] - 14s 552ms/step - loss: 0.2264 - accuracy: 0.9208\n",
      "Epoch 7/18\n",
      "25/25 [==============================] - 14s 546ms/step - loss: 0.1922 - accuracy: 0.9308\n",
      "Epoch 8/18\n",
      "25/25 [==============================] - 14s 541ms/step - loss: 0.1762 - accuracy: 0.9436\n",
      "Epoch 9/18\n",
      "25/25 [==============================] - 13s 527ms/step - loss: 0.1611 - accuracy: 0.9444\n",
      "Epoch 10/18\n",
      "25/25 [==============================] - 14s 552ms/step - loss: 0.1261 - accuracy: 0.9596\n",
      "Epoch 11/18\n",
      "25/25 [==============================] - 13s 532ms/step - loss: 0.1236 - accuracy: 0.9572\n",
      "Epoch 12/18\n",
      "25/25 [==============================] - 14s 540ms/step - loss: 0.1114 - accuracy: 0.9608\n",
      "Epoch 13/18\n",
      "25/25 [==============================] - 16s 650ms/step - loss: 0.0938 - accuracy: 0.9732\n",
      "Epoch 14/18\n",
      "25/25 [==============================] - 15s 600ms/step - loss: 0.0801 - accuracy: 0.9756\n",
      "Epoch 15/18\n",
      "25/25 [==============================] - 16s 625ms/step - loss: 0.0664 - accuracy: 0.9844\n",
      "Epoch 16/18\n",
      "25/25 [==============================] - 14s 577ms/step - loss: 0.0661 - accuracy: 0.9784\n",
      "Epoch 17/18\n",
      "25/25 [==============================] - 13s 528ms/step - loss: 0.0519 - accuracy: 0.9868\n",
      "Epoch 18/18\n",
      "25/25 [==============================] - 14s 542ms/step - loss: 0.0441 - accuracy: 0.9896\n"
     ]
    }
   ],
   "source": [
    "model.compile(optimizer='adam',\n",
    "              loss=tf.keras.losses.SparseCategoricalCrossentropy(from_logits=True),\n",
    "              metrics=['accuracy'])\n",
    "\n",
    "history = model.fit(train_data_reshaped, train_target, epochs=18,batch_size=100)"
   ]
  },
  {
   "cell_type": "code",
   "execution_count": 49,
   "metadata": {},
   "outputs": [
    {
     "name": "stdout",
     "output_type": "stream",
     "text": [
      "16/16 - 2s - loss: 0.1445 - accuracy: 0.9657 - 2s/epoch - 110ms/step\n"
     ]
    }
   ],
   "source": [
    "test_loss, test_acc = model.evaluate(test_data_reshaped,  test_target, verbose=2)"
   ]
  },
  {
   "cell_type": "code",
   "execution_count": 50,
   "metadata": {},
   "outputs": [
    {
     "name": "stdout",
     "output_type": "stream",
     "text": [
      "16/16 [==============================] - 2s 58ms/step\n",
      "              precision    recall  f1-score   support\n",
      "\n",
      "           0       0.99      0.99      0.99       237\n",
      "           1       0.96      0.92      0.94       138\n",
      "           2       0.92      0.97      0.94       121\n",
      "\n",
      "    accuracy                           0.97       496\n",
      "   macro avg       0.96      0.96      0.96       496\n",
      "weighted avg       0.97      0.97      0.97       496\n",
      "\n"
     ]
    }
   ],
   "source": [
    "test_predict = np.argmax(model.predict(test_data_reshaped),axis=-1)\n",
    "print (classification_report(test_target,test_predict))"
   ]
  },
  {
   "cell_type": "code",
   "execution_count": 51,
   "metadata": {},
   "outputs": [
    {
     "data": {
      "text/plain": [
       "Text(33.0, 0.5, 'Actual')"
      ]
     },
     "execution_count": 51,
     "metadata": {},
     "output_type": "execute_result"
    },
    {
     "data": {
      "image/png": "[encoded data removed]",
      "text/plain": [
       "<Figure size 432x288 with 2 Axes>"
      ]
     },
     "metadata": {
      "needs_background": "light"
     },
     "output_type": "display_data"
    }
   ],
   "source": [
    "cm = confusion_matrix(test_target,test_predict)\n",
    "sns.heatmap(cm,annot=True,annot_kws = {'size':15},fmt=\".1f\")\n",
    "plt.xlabel(\"Predict\")\n",
    "plt.ylabel(\"Actual\")"
   ]
  },
  {
   "cell_type": "code",
   "execution_count": null,
   "metadata": {},
   "outputs": [],
   "source": []
  },
  {
   "cell_type": "markdown",
   "metadata": {},
   "source": [
    "# ptolemy 12"
   ]
  },
  {
   "cell_type": "code",
   "execution_count": 2,
   "metadata": {},
   "outputs": [],
   "source": [
    "def label_img(img):\n",
    "    word_label = img.split('_')[0]\n",
    "    if word_label == '0' : return 0\n",
    "    elif word_label == '1' : return 1\n",
    "    elif word_label == '6' : return 2\n",
    "    elif word_label == '12' : return 3\n"
   ]
  },
  {
   "cell_type": "code",
   "execution_count": 41,
   "metadata": {},
   "outputs": [],
   "source": [
    "data = []\n",
    "labels = []\n",
    "for img in os.listdir(r'mixed'):\n",
    "    label = label_img(img)\n",
    "    path = os.path.join(r'mixed',img)\n",
    "    img = cv2.resize(cv2.imread(path, cv2.IMREAD_GRAYSCALE),(300,150))\n",
    "    data.append(np.array(np.array(img[0:150,0:150]).flatten()))\n",
    "    labels.append(label)"
   ]
  },
  {
   "cell_type": "code",
   "execution_count": 42,
   "metadata": {},
   "outputs": [],
   "source": [
    "cols = []\n",
    "for i in range(22500):\n",
    "    cols.append(\"pixel_\"+str(i))\n",
    "data = pd.DataFrame(data, columns=cols)\n",
    "data = data/255\n",
    "data['label'] = labels\n",
    "data = data.sample(frac=1,random_state=0)"
   ]
  },
  {
   "cell_type": "code",
   "execution_count": 43,
   "metadata": {},
   "outputs": [
    {
     "data": {
      "text/plain": [
       "3665"
      ]
     },
     "execution_count": 43,
     "metadata": {},
     "output_type": "execute_result"
    }
   ],
   "source": [
    "len(data)"
   ]
  },
  {
   "cell_type": "code",
   "execution_count": 45,
   "metadata": {},
   "outputs": [
    {
     "data": {
      "text/html": [
       "<div>\n",
       "<style scoped>\n",
       "    .dataframe tbody tr th:only-of-type {\n",
       "        vertical-align: middle;\n",
       "    }\n",
       "\n",
       "    .dataframe tbody tr th {\n",
       "        vertical-align: top;\n",
       "    }\n",
       "\n",
       "    .dataframe thead th {\n",
       "        text-align: right;\n",
       "    }\n",
       "</style>\n",
       "<table border=\"1\" class=\"dataframe\">\n",
       "  <thead>\n",
       "    <tr style=\"text-align: right;\">\n",
       "      <th></th>\n",
       "      <th>pixel_0</th>\n",
       "      <th>pixel_1</th>\n",
       "      <th>pixel_2</th>\n",
       "      <th>pixel_3</th>\n",
       "      <th>pixel_4</th>\n",
       "      <th>pixel_5</th>\n",
       "      <th>pixel_6</th>\n",
       "      <th>pixel_7</th>\n",
       "      <th>pixel_8</th>\n",
       "      <th>pixel_9</th>\n",
       "      <th>...</th>\n",
       "      <th>pixel_22491</th>\n",
       "      <th>pixel_22492</th>\n",
       "      <th>pixel_22493</th>\n",
       "      <th>pixel_22494</th>\n",
       "      <th>pixel_22495</th>\n",
       "      <th>pixel_22496</th>\n",
       "      <th>pixel_22497</th>\n",
       "      <th>pixel_22498</th>\n",
       "      <th>pixel_22499</th>\n",
       "      <th>label</th>\n",
       "    </tr>\n",
       "  </thead>\n",
       "  <tbody>\n",
       "    <tr>\n",
       "      <th>775</th>\n",
       "      <td>1.000000</td>\n",
       "      <td>1.000000</td>\n",
       "      <td>1.000000</td>\n",
       "      <td>1.000000</td>\n",
       "      <td>1.000000</td>\n",
       "      <td>1.000000</td>\n",
       "      <td>1.000000</td>\n",
       "      <td>1.000000</td>\n",
       "      <td>1.000000</td>\n",
       "      <td>1.000000</td>\n",
       "      <td>...</td>\n",
       "      <td>1.000000</td>\n",
       "      <td>1.000000</td>\n",
       "      <td>1.000000</td>\n",
       "      <td>1.000000</td>\n",
       "      <td>1.000000</td>\n",
       "      <td>1.000000</td>\n",
       "      <td>1.000000</td>\n",
       "      <td>1.000000</td>\n",
       "      <td>1.000000</td>\n",
       "      <td>0</td>\n",
       "    </tr>\n",
       "    <tr>\n",
       "      <th>117</th>\n",
       "      <td>0.996078</td>\n",
       "      <td>0.996078</td>\n",
       "      <td>0.996078</td>\n",
       "      <td>0.996078</td>\n",
       "      <td>0.996078</td>\n",
       "      <td>0.996078</td>\n",
       "      <td>0.996078</td>\n",
       "      <td>0.996078</td>\n",
       "      <td>0.996078</td>\n",
       "      <td>0.996078</td>\n",
       "      <td>...</td>\n",
       "      <td>0.996078</td>\n",
       "      <td>0.996078</td>\n",
       "      <td>0.996078</td>\n",
       "      <td>0.996078</td>\n",
       "      <td>0.996078</td>\n",
       "      <td>0.996078</td>\n",
       "      <td>0.996078</td>\n",
       "      <td>0.996078</td>\n",
       "      <td>0.996078</td>\n",
       "      <td>0</td>\n",
       "    </tr>\n",
       "    <tr>\n",
       "      <th>3457</th>\n",
       "      <td>1.000000</td>\n",
       "      <td>1.000000</td>\n",
       "      <td>1.000000</td>\n",
       "      <td>1.000000</td>\n",
       "      <td>1.000000</td>\n",
       "      <td>1.000000</td>\n",
       "      <td>1.000000</td>\n",
       "      <td>1.000000</td>\n",
       "      <td>1.000000</td>\n",
       "      <td>1.000000</td>\n",
       "      <td>...</td>\n",
       "      <td>1.000000</td>\n",
       "      <td>1.000000</td>\n",
       "      <td>1.000000</td>\n",
       "      <td>1.000000</td>\n",
       "      <td>1.000000</td>\n",
       "      <td>1.000000</td>\n",
       "      <td>1.000000</td>\n",
       "      <td>1.000000</td>\n",
       "      <td>1.000000</td>\n",
       "      <td>2</td>\n",
       "    </tr>\n",
       "    <tr>\n",
       "      <th>2601</th>\n",
       "      <td>1.000000</td>\n",
       "      <td>1.000000</td>\n",
       "      <td>1.000000</td>\n",
       "      <td>1.000000</td>\n",
       "      <td>1.000000</td>\n",
       "      <td>1.000000</td>\n",
       "      <td>1.000000</td>\n",
       "      <td>1.000000</td>\n",
       "      <td>1.000000</td>\n",
       "      <td>1.000000</td>\n",
       "      <td>...</td>\n",
       "      <td>1.000000</td>\n",
       "      <td>1.000000</td>\n",
       "      <td>1.000000</td>\n",
       "      <td>1.000000</td>\n",
       "      <td>1.000000</td>\n",
       "      <td>1.000000</td>\n",
       "      <td>1.000000</td>\n",
       "      <td>1.000000</td>\n",
       "      <td>1.000000</td>\n",
       "      <td>1</td>\n",
       "    </tr>\n",
       "    <tr>\n",
       "      <th>3324</th>\n",
       "      <td>1.000000</td>\n",
       "      <td>1.000000</td>\n",
       "      <td>1.000000</td>\n",
       "      <td>1.000000</td>\n",
       "      <td>1.000000</td>\n",
       "      <td>1.000000</td>\n",
       "      <td>1.000000</td>\n",
       "      <td>1.000000</td>\n",
       "      <td>1.000000</td>\n",
       "      <td>1.000000</td>\n",
       "      <td>...</td>\n",
       "      <td>1.000000</td>\n",
       "      <td>1.000000</td>\n",
       "      <td>1.000000</td>\n",
       "      <td>1.000000</td>\n",
       "      <td>1.000000</td>\n",
       "      <td>1.000000</td>\n",
       "      <td>1.000000</td>\n",
       "      <td>1.000000</td>\n",
       "      <td>1.000000</td>\n",
       "      <td>2</td>\n",
       "    </tr>\n",
       "  </tbody>\n",
       "</table>\n",
       "<p>5 rows × 22501 columns</p>\n",
       "</div>"
      ],
      "text/plain": [
       "       pixel_0   pixel_1   pixel_2   pixel_3   pixel_4   pixel_5   pixel_6  \\\n",
       "775   1.000000  1.000000  1.000000  1.000000  1.000000  1.000000  1.000000   \n",
       "117   0.996078  0.996078  0.996078  0.996078  0.996078  0.996078  0.996078   \n",
       "3457  1.000000  1.000000  1.000000  1.000000  1.000000  1.000000  1.000000   \n",
       "2601  1.000000  1.000000  1.000000  1.000000  1.000000  1.000000  1.000000   \n",
       "3324  1.000000  1.000000  1.000000  1.000000  1.000000  1.000000  1.000000   \n",
       "\n",
       "       pixel_7   pixel_8   pixel_9  ...  pixel_22491  pixel_22492  \\\n",
       "775   1.000000  1.000000  1.000000  ...     1.000000     1.000000   \n",
       "117   0.996078  0.996078  0.996078  ...     0.996078     0.996078   \n",
       "3457  1.000000  1.000000  1.000000  ...     1.000000     1.000000   \n",
       "2601  1.000000  1.000000  1.000000  ...     1.000000     1.000000   \n",
       "3324  1.000000  1.000000  1.000000  ...     1.000000     1.000000   \n",
       "\n",
       "      pixel_22493  pixel_22494  pixel_22495  pixel_22496  pixel_22497  \\\n",
       "775      1.000000     1.000000     1.000000     1.000000     1.000000   \n",
       "117      0.996078     0.996078     0.996078     0.996078     0.996078   \n",
       "3457     1.000000     1.000000     1.000000     1.000000     1.000000   \n",
       "2601     1.000000     1.000000     1.000000     1.000000     1.000000   \n",
       "3324     1.000000     1.000000     1.000000     1.000000     1.000000   \n",
       "\n",
       "      pixel_22498  pixel_22499  label  \n",
       "775      1.000000     1.000000      0  \n",
       "117      0.996078     0.996078      0  \n",
       "3457     1.000000     1.000000      2  \n",
       "2601     1.000000     1.000000      1  \n",
       "3324     1.000000     1.000000      2  \n",
       "\n",
       "[5 rows x 22501 columns]"
      ]
     },
     "execution_count": 45,
     "metadata": {},
     "output_type": "execute_result"
    }
   ],
   "source": [
    "data.head()"
   ]
  },
  {
   "cell_type": "code",
   "execution_count": 46,
   "metadata": {},
   "outputs": [
    {
     "data": {
      "text/html": [
       "<div>\n",
       "<style scoped>\n",
       "    .dataframe tbody tr th:only-of-type {\n",
       "        vertical-align: middle;\n",
       "    }\n",
       "\n",
       "    .dataframe tbody tr th {\n",
       "        vertical-align: top;\n",
       "    }\n",
       "\n",
       "    .dataframe thead th {\n",
       "        text-align: right;\n",
       "    }\n",
       "</style>\n",
       "<table border=\"1\" class=\"dataframe\">\n",
       "  <thead>\n",
       "    <tr style=\"text-align: right;\">\n",
       "      <th></th>\n",
       "      <th>pixel_0</th>\n",
       "      <th>pixel_1</th>\n",
       "      <th>pixel_2</th>\n",
       "      <th>pixel_3</th>\n",
       "      <th>pixel_4</th>\n",
       "      <th>pixel_5</th>\n",
       "      <th>pixel_6</th>\n",
       "      <th>pixel_7</th>\n",
       "      <th>pixel_8</th>\n",
       "      <th>pixel_9</th>\n",
       "      <th>...</th>\n",
       "      <th>pixel_22491</th>\n",
       "      <th>pixel_22492</th>\n",
       "      <th>pixel_22493</th>\n",
       "      <th>pixel_22494</th>\n",
       "      <th>pixel_22495</th>\n",
       "      <th>pixel_22496</th>\n",
       "      <th>pixel_22497</th>\n",
       "      <th>pixel_22498</th>\n",
       "      <th>pixel_22499</th>\n",
       "      <th>label</th>\n",
       "    </tr>\n",
       "  </thead>\n",
       "  <tbody>\n",
       "    <tr>\n",
       "      <th>755</th>\n",
       "      <td>1.000000</td>\n",
       "      <td>1.000000</td>\n",
       "      <td>1.000000</td>\n",
       "      <td>1.000000</td>\n",
       "      <td>1.000000</td>\n",
       "      <td>1.000000</td>\n",
       "      <td>1.000000</td>\n",
       "      <td>1.000000</td>\n",
       "      <td>1.000000</td>\n",
       "      <td>1.000000</td>\n",
       "      <td>...</td>\n",
       "      <td>1.000000</td>\n",
       "      <td>1.000000</td>\n",
       "      <td>1.000000</td>\n",
       "      <td>1.000000</td>\n",
       "      <td>1.000000</td>\n",
       "      <td>1.000000</td>\n",
       "      <td>1.000000</td>\n",
       "      <td>1.000000</td>\n",
       "      <td>1.0</td>\n",
       "      <td>0</td>\n",
       "    </tr>\n",
       "    <tr>\n",
       "      <th>1364</th>\n",
       "      <td>0.996078</td>\n",
       "      <td>0.996078</td>\n",
       "      <td>0.996078</td>\n",
       "      <td>0.996078</td>\n",
       "      <td>0.996078</td>\n",
       "      <td>0.996078</td>\n",
       "      <td>0.996078</td>\n",
       "      <td>0.996078</td>\n",
       "      <td>0.996078</td>\n",
       "      <td>0.996078</td>\n",
       "      <td>...</td>\n",
       "      <td>0.996078</td>\n",
       "      <td>0.996078</td>\n",
       "      <td>0.996078</td>\n",
       "      <td>0.996078</td>\n",
       "      <td>0.996078</td>\n",
       "      <td>0.996078</td>\n",
       "      <td>0.996078</td>\n",
       "      <td>0.996078</td>\n",
       "      <td>1.0</td>\n",
       "      <td>0</td>\n",
       "    </tr>\n",
       "    <tr>\n",
       "      <th>1004</th>\n",
       "      <td>1.000000</td>\n",
       "      <td>1.000000</td>\n",
       "      <td>1.000000</td>\n",
       "      <td>1.000000</td>\n",
       "      <td>1.000000</td>\n",
       "      <td>1.000000</td>\n",
       "      <td>1.000000</td>\n",
       "      <td>1.000000</td>\n",
       "      <td>1.000000</td>\n",
       "      <td>1.000000</td>\n",
       "      <td>...</td>\n",
       "      <td>1.000000</td>\n",
       "      <td>1.000000</td>\n",
       "      <td>1.000000</td>\n",
       "      <td>1.000000</td>\n",
       "      <td>1.000000</td>\n",
       "      <td>1.000000</td>\n",
       "      <td>1.000000</td>\n",
       "      <td>1.000000</td>\n",
       "      <td>1.0</td>\n",
       "      <td>0</td>\n",
       "    </tr>\n",
       "    <tr>\n",
       "      <th>585</th>\n",
       "      <td>1.000000</td>\n",
       "      <td>1.000000</td>\n",
       "      <td>1.000000</td>\n",
       "      <td>1.000000</td>\n",
       "      <td>1.000000</td>\n",
       "      <td>1.000000</td>\n",
       "      <td>1.000000</td>\n",
       "      <td>1.000000</td>\n",
       "      <td>1.000000</td>\n",
       "      <td>1.000000</td>\n",
       "      <td>...</td>\n",
       "      <td>1.000000</td>\n",
       "      <td>1.000000</td>\n",
       "      <td>1.000000</td>\n",
       "      <td>1.000000</td>\n",
       "      <td>1.000000</td>\n",
       "      <td>1.000000</td>\n",
       "      <td>1.000000</td>\n",
       "      <td>1.000000</td>\n",
       "      <td>1.0</td>\n",
       "      <td>0</td>\n",
       "    </tr>\n",
       "    <tr>\n",
       "      <th>1289</th>\n",
       "      <td>1.000000</td>\n",
       "      <td>1.000000</td>\n",
       "      <td>1.000000</td>\n",
       "      <td>1.000000</td>\n",
       "      <td>1.000000</td>\n",
       "      <td>1.000000</td>\n",
       "      <td>1.000000</td>\n",
       "      <td>1.000000</td>\n",
       "      <td>1.000000</td>\n",
       "      <td>1.000000</td>\n",
       "      <td>...</td>\n",
       "      <td>1.000000</td>\n",
       "      <td>1.000000</td>\n",
       "      <td>1.000000</td>\n",
       "      <td>1.000000</td>\n",
       "      <td>1.000000</td>\n",
       "      <td>1.000000</td>\n",
       "      <td>1.000000</td>\n",
       "      <td>1.000000</td>\n",
       "      <td>1.0</td>\n",
       "      <td>0</td>\n",
       "    </tr>\n",
       "  </tbody>\n",
       "</table>\n",
       "<p>5 rows × 22501 columns</p>\n",
       "</div>"
      ],
      "text/plain": [
       "       pixel_0   pixel_1   pixel_2   pixel_3   pixel_4   pixel_5   pixel_6  \\\n",
       "755   1.000000  1.000000  1.000000  1.000000  1.000000  1.000000  1.000000   \n",
       "1364  0.996078  0.996078  0.996078  0.996078  0.996078  0.996078  0.996078   \n",
       "1004  1.000000  1.000000  1.000000  1.000000  1.000000  1.000000  1.000000   \n",
       "585   1.000000  1.000000  1.000000  1.000000  1.000000  1.000000  1.000000   \n",
       "1289  1.000000  1.000000  1.000000  1.000000  1.000000  1.000000  1.000000   \n",
       "\n",
       "       pixel_7   pixel_8   pixel_9  ...  pixel_22491  pixel_22492  \\\n",
       "755   1.000000  1.000000  1.000000  ...     1.000000     1.000000   \n",
       "1364  0.996078  0.996078  0.996078  ...     0.996078     0.996078   \n",
       "1004  1.000000  1.000000  1.000000  ...     1.000000     1.000000   \n",
       "585   1.000000  1.000000  1.000000  ...     1.000000     1.000000   \n",
       "1289  1.000000  1.000000  1.000000  ...     1.000000     1.000000   \n",
       "\n",
       "      pixel_22493  pixel_22494  pixel_22495  pixel_22496  pixel_22497  \\\n",
       "755      1.000000     1.000000     1.000000     1.000000     1.000000   \n",
       "1364     0.996078     0.996078     0.996078     0.996078     0.996078   \n",
       "1004     1.000000     1.000000     1.000000     1.000000     1.000000   \n",
       "585      1.000000     1.000000     1.000000     1.000000     1.000000   \n",
       "1289     1.000000     1.000000     1.000000     1.000000     1.000000   \n",
       "\n",
       "      pixel_22498  pixel_22499  label  \n",
       "755      1.000000          1.0      0  \n",
       "1364     0.996078          1.0      0  \n",
       "1004     1.000000          1.0      0  \n",
       "585      1.000000          1.0      0  \n",
       "1289     1.000000          1.0      0  \n",
       "\n",
       "[5 rows x 22501 columns]"
      ]
     },
     "execution_count": 46,
     "metadata": {},
     "output_type": "execute_result"
    }
   ],
   "source": [
    "n = 150\n",
    "test = data.groupby('label').get_group(0).sample(n = n)\n",
    "test = test.append(data.groupby('label').get_group(1).sample(n = n))\n",
    "test = test.append(data.groupby('label').get_group(2).sample(n = n))\n",
    "test = test.append(data.groupby('label').get_group(3).sample(n = n))\n",
    "test.head()"
   ]
  },
  {
   "cell_type": "code",
   "execution_count": 47,
   "metadata": {},
   "outputs": [
    {
     "data": {
      "text/html": [
       "<div>\n",
       "<style scoped>\n",
       "    .dataframe tbody tr th:only-of-type {\n",
       "        vertical-align: middle;\n",
       "    }\n",
       "\n",
       "    .dataframe tbody tr th {\n",
       "        vertical-align: top;\n",
       "    }\n",
       "\n",
       "    .dataframe thead th {\n",
       "        text-align: right;\n",
       "    }\n",
       "</style>\n",
       "<table border=\"1\" class=\"dataframe\">\n",
       "  <thead>\n",
       "    <tr style=\"text-align: right;\">\n",
       "      <th></th>\n",
       "      <th>pixel_0</th>\n",
       "      <th>pixel_1</th>\n",
       "      <th>pixel_2</th>\n",
       "      <th>pixel_3</th>\n",
       "      <th>pixel_4</th>\n",
       "      <th>pixel_5</th>\n",
       "      <th>pixel_6</th>\n",
       "      <th>pixel_7</th>\n",
       "      <th>pixel_8</th>\n",
       "      <th>pixel_9</th>\n",
       "      <th>...</th>\n",
       "      <th>pixel_22491</th>\n",
       "      <th>pixel_22492</th>\n",
       "      <th>pixel_22493</th>\n",
       "      <th>pixel_22494</th>\n",
       "      <th>pixel_22495</th>\n",
       "      <th>pixel_22496</th>\n",
       "      <th>pixel_22497</th>\n",
       "      <th>pixel_22498</th>\n",
       "      <th>pixel_22499</th>\n",
       "      <th>label</th>\n",
       "    </tr>\n",
       "  </thead>\n",
       "  <tbody>\n",
       "    <tr>\n",
       "      <th>775</th>\n",
       "      <td>1.000000</td>\n",
       "      <td>1.000000</td>\n",
       "      <td>1.000000</td>\n",
       "      <td>1.000000</td>\n",
       "      <td>1.000000</td>\n",
       "      <td>1.000000</td>\n",
       "      <td>1.000000</td>\n",
       "      <td>1.000000</td>\n",
       "      <td>1.000000</td>\n",
       "      <td>1.000000</td>\n",
       "      <td>...</td>\n",
       "      <td>1.000000</td>\n",
       "      <td>1.000000</td>\n",
       "      <td>1.000000</td>\n",
       "      <td>1.000000</td>\n",
       "      <td>1.000000</td>\n",
       "      <td>1.000000</td>\n",
       "      <td>1.000000</td>\n",
       "      <td>1.000000</td>\n",
       "      <td>1.000000</td>\n",
       "      <td>0</td>\n",
       "    </tr>\n",
       "    <tr>\n",
       "      <th>117</th>\n",
       "      <td>0.996078</td>\n",
       "      <td>0.996078</td>\n",
       "      <td>0.996078</td>\n",
       "      <td>0.996078</td>\n",
       "      <td>0.996078</td>\n",
       "      <td>0.996078</td>\n",
       "      <td>0.996078</td>\n",
       "      <td>0.996078</td>\n",
       "      <td>0.996078</td>\n",
       "      <td>0.996078</td>\n",
       "      <td>...</td>\n",
       "      <td>0.996078</td>\n",
       "      <td>0.996078</td>\n",
       "      <td>0.996078</td>\n",
       "      <td>0.996078</td>\n",
       "      <td>0.996078</td>\n",
       "      <td>0.996078</td>\n",
       "      <td>0.996078</td>\n",
       "      <td>0.996078</td>\n",
       "      <td>0.996078</td>\n",
       "      <td>0</td>\n",
       "    </tr>\n",
       "    <tr>\n",
       "      <th>3457</th>\n",
       "      <td>1.000000</td>\n",
       "      <td>1.000000</td>\n",
       "      <td>1.000000</td>\n",
       "      <td>1.000000</td>\n",
       "      <td>1.000000</td>\n",
       "      <td>1.000000</td>\n",
       "      <td>1.000000</td>\n",
       "      <td>1.000000</td>\n",
       "      <td>1.000000</td>\n",
       "      <td>1.000000</td>\n",
       "      <td>...</td>\n",
       "      <td>1.000000</td>\n",
       "      <td>1.000000</td>\n",
       "      <td>1.000000</td>\n",
       "      <td>1.000000</td>\n",
       "      <td>1.000000</td>\n",
       "      <td>1.000000</td>\n",
       "      <td>1.000000</td>\n",
       "      <td>1.000000</td>\n",
       "      <td>1.000000</td>\n",
       "      <td>2</td>\n",
       "    </tr>\n",
       "    <tr>\n",
       "      <th>2601</th>\n",
       "      <td>1.000000</td>\n",
       "      <td>1.000000</td>\n",
       "      <td>1.000000</td>\n",
       "      <td>1.000000</td>\n",
       "      <td>1.000000</td>\n",
       "      <td>1.000000</td>\n",
       "      <td>1.000000</td>\n",
       "      <td>1.000000</td>\n",
       "      <td>1.000000</td>\n",
       "      <td>1.000000</td>\n",
       "      <td>...</td>\n",
       "      <td>1.000000</td>\n",
       "      <td>1.000000</td>\n",
       "      <td>1.000000</td>\n",
       "      <td>1.000000</td>\n",
       "      <td>1.000000</td>\n",
       "      <td>1.000000</td>\n",
       "      <td>1.000000</td>\n",
       "      <td>1.000000</td>\n",
       "      <td>1.000000</td>\n",
       "      <td>1</td>\n",
       "    </tr>\n",
       "    <tr>\n",
       "      <th>3324</th>\n",
       "      <td>1.000000</td>\n",
       "      <td>1.000000</td>\n",
       "      <td>1.000000</td>\n",
       "      <td>1.000000</td>\n",
       "      <td>1.000000</td>\n",
       "      <td>1.000000</td>\n",
       "      <td>1.000000</td>\n",
       "      <td>1.000000</td>\n",
       "      <td>1.000000</td>\n",
       "      <td>1.000000</td>\n",
       "      <td>...</td>\n",
       "      <td>1.000000</td>\n",
       "      <td>1.000000</td>\n",
       "      <td>1.000000</td>\n",
       "      <td>1.000000</td>\n",
       "      <td>1.000000</td>\n",
       "      <td>1.000000</td>\n",
       "      <td>1.000000</td>\n",
       "      <td>1.000000</td>\n",
       "      <td>1.000000</td>\n",
       "      <td>2</td>\n",
       "    </tr>\n",
       "  </tbody>\n",
       "</table>\n",
       "<p>5 rows × 22501 columns</p>\n",
       "</div>"
      ],
      "text/plain": [
       "       pixel_0   pixel_1   pixel_2   pixel_3   pixel_4   pixel_5   pixel_6  \\\n",
       "775   1.000000  1.000000  1.000000  1.000000  1.000000  1.000000  1.000000   \n",
       "117   0.996078  0.996078  0.996078  0.996078  0.996078  0.996078  0.996078   \n",
       "3457  1.000000  1.000000  1.000000  1.000000  1.000000  1.000000  1.000000   \n",
       "2601  1.000000  1.000000  1.000000  1.000000  1.000000  1.000000  1.000000   \n",
       "3324  1.000000  1.000000  1.000000  1.000000  1.000000  1.000000  1.000000   \n",
       "\n",
       "       pixel_7   pixel_8   pixel_9  ...  pixel_22491  pixel_22492  \\\n",
       "775   1.000000  1.000000  1.000000  ...     1.000000     1.000000   \n",
       "117   0.996078  0.996078  0.996078  ...     0.996078     0.996078   \n",
       "3457  1.000000  1.000000  1.000000  ...     1.000000     1.000000   \n",
       "2601  1.000000  1.000000  1.000000  ...     1.000000     1.000000   \n",
       "3324  1.000000  1.000000  1.000000  ...     1.000000     1.000000   \n",
       "\n",
       "      pixel_22493  pixel_22494  pixel_22495  pixel_22496  pixel_22497  \\\n",
       "775      1.000000     1.000000     1.000000     1.000000     1.000000   \n",
       "117      0.996078     0.996078     0.996078     0.996078     0.996078   \n",
       "3457     1.000000     1.000000     1.000000     1.000000     1.000000   \n",
       "2601     1.000000     1.000000     1.000000     1.000000     1.000000   \n",
       "3324     1.000000     1.000000     1.000000     1.000000     1.000000   \n",
       "\n",
       "      pixel_22498  pixel_22499  label  \n",
       "775      1.000000     1.000000      0  \n",
       "117      0.996078     0.996078      0  \n",
       "3457     1.000000     1.000000      2  \n",
       "2601     1.000000     1.000000      1  \n",
       "3324     1.000000     1.000000      2  \n",
       "\n",
       "[5 rows x 22501 columns]"
      ]
     },
     "execution_count": 47,
     "metadata": {},
     "output_type": "execute_result"
    }
   ],
   "source": [
    "train = data[ ~data.index.isin(test.index) ]\n",
    "train.head()"
   ]
  },
  {
   "cell_type": "code",
   "execution_count": 48,
   "metadata": {},
   "outputs": [],
   "source": [
    "train_data = train.drop('label',axis=1)\n",
    "train_target = train['label']\n",
    "\n",
    "test_data = test.drop('label',axis=1)\n",
    "test_target = test['label']"
   ]
  },
  {
   "cell_type": "code",
   "execution_count": 49,
   "metadata": {},
   "outputs": [
    {
     "data": {
      "text/plain": [
       "<matplotlib.image.AxesImage at 0x1ec068b5e20>"
      ]
     },
     "execution_count": 49,
     "metadata": {},
     "output_type": "execute_result"
    },
    {
     "data": {
      "image/png": "[encoded data removed]",
      "text/plain": [
       "<Figure size 432x288 with 1 Axes>"
      ]
     },
     "metadata": {
      "needs_background": "light"
     },
     "output_type": "display_data"
    }
   ],
   "source": [
    "plt.imshow(train_data.iloc[0].values.reshape((150,150)))"
   ]
  },
  {
   "cell_type": "code",
   "execution_count": 50,
   "metadata": {},
   "outputs": [],
   "source": [
    "train_data_reshaped = []\n",
    "test_data_reshaped = []\n",
    "for i in range(len(train_data)):\n",
    "    t = train_data.iloc[i].values.reshape((150,150))\n",
    "    t = np.array(t)\n",
    "    train_data_reshaped.append(t)\n",
    "    \n",
    "for i in range(len(test_data)):\n",
    "    t = test_data.iloc[i].values.reshape((150,150))\n",
    "    t = np.array(t)\n",
    "    test_data_reshaped.append(t)"
   ]
  },
  {
   "cell_type": "code",
   "execution_count": 51,
   "metadata": {},
   "outputs": [],
   "source": [
    "train_data_reshaped = np.array(train_data_reshaped)\n",
    "test_data_reshaped = np.array(test_data_reshaped)"
   ]
  },
  {
   "cell_type": "code",
   "execution_count": 52,
   "metadata": {},
   "outputs": [],
   "source": [
    "test_data_reshaped = np.expand_dims(test_data_reshaped,axis=-1)\n",
    "train_data_reshaped = np.expand_dims(train_data_reshaped,axis=-1)"
   ]
  },
  {
   "cell_type": "code",
   "execution_count": 53,
   "metadata": {},
   "outputs": [
    {
     "name": "stdout",
     "output_type": "stream",
     "text": [
      "Model: \"sequential_7\"\n",
      "_________________________________________________________________\n",
      "Layer (type)                 Output Shape              Param #   \n",
      "=================================================================\n",
      "conv2d_34 (Conv2D)           (None, 148, 148, 32)      320       \n",
      "_________________________________________________________________\n",
      "max_pooling2d_24 (MaxPooling (None, 74, 74, 32)        0         \n",
      "_________________________________________________________________\n",
      "conv2d_35 (Conv2D)           (None, 72, 72, 42)        12138     \n",
      "_________________________________________________________________\n",
      "max_pooling2d_25 (MaxPooling (None, 36, 36, 42)        0         \n",
      "_________________________________________________________________\n",
      "conv2d_36 (Conv2D)           (None, 34, 34, 52)        19708     \n",
      "_________________________________________________________________\n",
      "max_pooling2d_26 (MaxPooling (None, 17, 17, 52)        0         \n",
      "_________________________________________________________________\n",
      "conv2d_37 (Conv2D)           (None, 15, 15, 62)        29078     \n",
      "_________________________________________________________________\n",
      "max_pooling2d_27 (MaxPooling (None, 7, 7, 62)          0         \n",
      "_________________________________________________________________\n",
      "flatten_4 (Flatten)          (None, 3038)              0         \n",
      "_________________________________________________________________\n",
      "dense_12 (Dense)             (None, 64)                194496    \n",
      "_________________________________________________________________\n",
      "dense_13 (Dense)             (None, 32)                2080      \n",
      "_________________________________________________________________\n",
      "dense_14 (Dense)             (None, 4)                 132       \n",
      "=================================================================\n",
      "Total params: 257,952\n",
      "Trainable params: 257,952\n",
      "Non-trainable params: 0\n",
      "_________________________________________________________________\n"
     ]
    }
   ],
   "source": [
    "model = models.Sequential()\n",
    "model.add(layers.Conv2D(32, (3, 3), activation='relu', input_shape=(150, 150, 1)))\n",
    "model.add(layers.MaxPooling2D((2, 2)))\n",
    "model.add(layers.Conv2D(42, (3, 3), activation='relu'))\n",
    "model.add(layers.MaxPooling2D((2, 2)))\n",
    "model.add(layers.Conv2D(52, (3, 3), activation='relu'))\n",
    "model.add(layers.MaxPooling2D((2, 2)))\n",
    "model.add(layers.Conv2D(62, (3, 3), activation='relu'))\n",
    "model.add(layers.MaxPooling2D((2, 2)))\n",
    "\n",
    "\n",
    "model.add(layers.Flatten())\n",
    "model.add(layers.Dense(64, activation='relu'))\n",
    "model.add(layers.Dense(32, activation='relu'))\n",
    "model.add(layers.Dense(4))\n",
    "model.summary()"
   ]
  },
  {
   "cell_type": "code",
   "execution_count": 66,
   "metadata": {},
   "outputs": [
    {
     "name": "stdout",
     "output_type": "stream",
     "text": [
      "Epoch 1/5\n",
      "96/96 [==============================] - 43s 444ms/step - loss: 0.0436 - accuracy: 0.9866\n",
      "Epoch 2/5\n",
      "96/96 [==============================] - 44s 457ms/step - loss: 0.0307 - accuracy: 0.9899\n",
      "Epoch 3/5\n",
      "96/96 [==============================] - 38s 400ms/step - loss: 0.0226 - accuracy: 0.9935\n",
      "Epoch 4/5\n",
      "96/96 [==============================] - 35s 368ms/step - loss: 0.0089 - accuracy: 0.9964\n",
      "Epoch 5/5\n",
      "96/96 [==============================] - 36s 374ms/step - loss: 0.0134 - accuracy: 0.9964\n"
     ]
    }
   ],
   "source": [
    "model.compile(optimizer='adam',\n",
    "              loss=tf.keras.losses.SparseCategoricalCrossentropy(from_logits=True),\n",
    "              metrics=['accuracy'])\n",
    "\n",
    "history = model.fit(train_data_reshaped, train_target, epochs=5)"
   ]
  },
  {
   "cell_type": "code",
   "execution_count": 67,
   "metadata": {},
   "outputs": [
    {
     "name": "stdout",
     "output_type": "stream",
     "text": [
      "19/19 - 1s - loss: 0.3936 - accuracy: 0.9233\n"
     ]
    }
   ],
   "source": [
    "test_loss, test_acc = model.evaluate(test_data_reshaped,  test_target, verbose=2)"
   ]
  },
  {
   "cell_type": "code",
   "execution_count": 68,
   "metadata": {},
   "outputs": [
    {
     "name": "stdout",
     "output_type": "stream",
     "text": [
      "              precision    recall  f1-score   support\n",
      "\n",
      "           0       0.99      0.97      0.98       150\n",
      "           1       0.95      0.93      0.94       150\n",
      "           2       0.89      0.87      0.88       150\n",
      "           3       0.87      0.93      0.90       150\n",
      "\n",
      "    accuracy                           0.92       600\n",
      "   macro avg       0.92      0.92      0.92       600\n",
      "weighted avg       0.92      0.92      0.92       600\n",
      "\n"
     ]
    }
   ],
   "source": [
    "test_predict = np.argmax(model.predict(test_data_reshaped),axis=-1)\n",
    "print (classification_report(test_target,test_predict))"
   ]
  },
  {
   "cell_type": "code",
   "execution_count": 69,
   "metadata": {},
   "outputs": [
    {
     "data": {
      "text/plain": [
       "Text(33.0, 0.5, 'Actual')"
      ]
     },
     "execution_count": 69,
     "metadata": {},
     "output_type": "execute_result"
    },
    {
     "data": {
      "image/png": "[encoded data removed]",
      "text/plain": [
       "<Figure size 432x288 with 2 Axes>"
      ]
     },
     "metadata": {
      "needs_background": "light"
     },
     "output_type": "display_data"
    }
   ],
   "source": [
    "cm = confusion_matrix(test_target,test_predict)\n",
    "sns.heatmap(cm,annot=True,annot_kws = {'size':15},fmt=\".1f\")\n",
    "plt.xlabel(\"Predict\")\n",
    "plt.ylabel(\"Actual\")"
   ]
  },
  {
   "cell_type": "markdown",
   "metadata": {},
   "source": [
    "# VGG with ptolmy I VI XII"
   ]
  },
  {
   "cell_type": "code",
   "execution_count": 29,
   "metadata": {},
   "outputs": [],
   "source": [
    "data = []\n",
    "labels = []\n",
    "for img in os.listdir(r'mixed'):\n",
    "    label = label_img(img)\n",
    "    path = os.path.join(r'mixed',img)\n",
    "    img = cv2.resize(cv2.imread(path,cv2.IMREAD_GRAYSCALE),(140,70))\n",
    "    data.append(np.array(np.array(img[0:70,0:70]).flatten()))\n",
    "    labels.append(label)"
   ]
  },
  {
   "cell_type": "code",
   "execution_count": 30,
   "metadata": {},
   "outputs": [],
   "source": [
    "cols = []\n",
    "for i in range(4900):\n",
    "    cols.append(\"pixel_\"+str(i))\n",
    "data = pd.DataFrame(data, columns=cols)\n",
    "data = data/255\n",
    "data['label'] = labels\n",
    "data = data.sample(frac=1,random_state=0)"
   ]
  },
  {
   "cell_type": "code",
   "execution_count": 31,
   "metadata": {},
   "outputs": [
    {
     "data": {
      "text/plain": [
       "3665"
      ]
     },
     "execution_count": 31,
     "metadata": {},
     "output_type": "execute_result"
    }
   ],
   "source": [
    "len(data)"
   ]
  },
  {
   "cell_type": "code",
   "execution_count": 32,
   "metadata": {},
   "outputs": [
    {
     "data": {
      "text/html": [
       "<div>\n",
       "<style scoped>\n",
       "    .dataframe tbody tr th:only-of-type {\n",
       "        vertical-align: middle;\n",
       "    }\n",
       "\n",
       "    .dataframe tbody tr th {\n",
       "        vertical-align: top;\n",
       "    }\n",
       "\n",
       "    .dataframe thead th {\n",
       "        text-align: right;\n",
       "    }\n",
       "</style>\n",
       "<table border=\"1\" class=\"dataframe\">\n",
       "  <thead>\n",
       "    <tr style=\"text-align: right;\">\n",
       "      <th></th>\n",
       "      <th>pixel_0</th>\n",
       "      <th>pixel_1</th>\n",
       "      <th>pixel_2</th>\n",
       "      <th>pixel_3</th>\n",
       "      <th>pixel_4</th>\n",
       "      <th>pixel_5</th>\n",
       "      <th>pixel_6</th>\n",
       "      <th>pixel_7</th>\n",
       "      <th>pixel_8</th>\n",
       "      <th>pixel_9</th>\n",
       "      <th>...</th>\n",
       "      <th>pixel_4891</th>\n",
       "      <th>pixel_4892</th>\n",
       "      <th>pixel_4893</th>\n",
       "      <th>pixel_4894</th>\n",
       "      <th>pixel_4895</th>\n",
       "      <th>pixel_4896</th>\n",
       "      <th>pixel_4897</th>\n",
       "      <th>pixel_4898</th>\n",
       "      <th>pixel_4899</th>\n",
       "      <th>label</th>\n",
       "    </tr>\n",
       "  </thead>\n",
       "  <tbody>\n",
       "    <tr>\n",
       "      <th>775</th>\n",
       "      <td>1.000000</td>\n",
       "      <td>1.000000</td>\n",
       "      <td>1.000000</td>\n",
       "      <td>1.000000</td>\n",
       "      <td>1.000000</td>\n",
       "      <td>1.000000</td>\n",
       "      <td>1.000000</td>\n",
       "      <td>1.000000</td>\n",
       "      <td>1.000000</td>\n",
       "      <td>1.000000</td>\n",
       "      <td>...</td>\n",
       "      <td>1.000000</td>\n",
       "      <td>1.000000</td>\n",
       "      <td>1.000000</td>\n",
       "      <td>1.000000</td>\n",
       "      <td>1.000000</td>\n",
       "      <td>1.000000</td>\n",
       "      <td>1.000000</td>\n",
       "      <td>1.000000</td>\n",
       "      <td>1.000000</td>\n",
       "      <td>0</td>\n",
       "    </tr>\n",
       "    <tr>\n",
       "      <th>117</th>\n",
       "      <td>0.996078</td>\n",
       "      <td>0.996078</td>\n",
       "      <td>0.996078</td>\n",
       "      <td>0.996078</td>\n",
       "      <td>0.996078</td>\n",
       "      <td>0.996078</td>\n",
       "      <td>0.996078</td>\n",
       "      <td>0.996078</td>\n",
       "      <td>0.996078</td>\n",
       "      <td>0.996078</td>\n",
       "      <td>...</td>\n",
       "      <td>0.996078</td>\n",
       "      <td>0.996078</td>\n",
       "      <td>0.996078</td>\n",
       "      <td>0.996078</td>\n",
       "      <td>0.996078</td>\n",
       "      <td>0.996078</td>\n",
       "      <td>0.996078</td>\n",
       "      <td>0.996078</td>\n",
       "      <td>0.996078</td>\n",
       "      <td>0</td>\n",
       "    </tr>\n",
       "    <tr>\n",
       "      <th>3457</th>\n",
       "      <td>1.000000</td>\n",
       "      <td>1.000000</td>\n",
       "      <td>1.000000</td>\n",
       "      <td>1.000000</td>\n",
       "      <td>1.000000</td>\n",
       "      <td>1.000000</td>\n",
       "      <td>1.000000</td>\n",
       "      <td>1.000000</td>\n",
       "      <td>1.000000</td>\n",
       "      <td>1.000000</td>\n",
       "      <td>...</td>\n",
       "      <td>1.000000</td>\n",
       "      <td>1.000000</td>\n",
       "      <td>1.000000</td>\n",
       "      <td>1.000000</td>\n",
       "      <td>1.000000</td>\n",
       "      <td>1.000000</td>\n",
       "      <td>1.000000</td>\n",
       "      <td>1.000000</td>\n",
       "      <td>1.000000</td>\n",
       "      <td>2</td>\n",
       "    </tr>\n",
       "    <tr>\n",
       "      <th>2601</th>\n",
       "      <td>1.000000</td>\n",
       "      <td>1.000000</td>\n",
       "      <td>1.000000</td>\n",
       "      <td>1.000000</td>\n",
       "      <td>1.000000</td>\n",
       "      <td>1.000000</td>\n",
       "      <td>1.000000</td>\n",
       "      <td>1.000000</td>\n",
       "      <td>1.000000</td>\n",
       "      <td>1.000000</td>\n",
       "      <td>...</td>\n",
       "      <td>1.000000</td>\n",
       "      <td>1.000000</td>\n",
       "      <td>1.000000</td>\n",
       "      <td>1.000000</td>\n",
       "      <td>1.000000</td>\n",
       "      <td>1.000000</td>\n",
       "      <td>1.000000</td>\n",
       "      <td>1.000000</td>\n",
       "      <td>1.000000</td>\n",
       "      <td>1</td>\n",
       "    </tr>\n",
       "    <tr>\n",
       "      <th>3324</th>\n",
       "      <td>1.000000</td>\n",
       "      <td>1.000000</td>\n",
       "      <td>1.000000</td>\n",
       "      <td>1.000000</td>\n",
       "      <td>1.000000</td>\n",
       "      <td>1.000000</td>\n",
       "      <td>1.000000</td>\n",
       "      <td>1.000000</td>\n",
       "      <td>1.000000</td>\n",
       "      <td>1.000000</td>\n",
       "      <td>...</td>\n",
       "      <td>1.000000</td>\n",
       "      <td>1.000000</td>\n",
       "      <td>1.000000</td>\n",
       "      <td>1.000000</td>\n",
       "      <td>1.000000</td>\n",
       "      <td>1.000000</td>\n",
       "      <td>1.000000</td>\n",
       "      <td>1.000000</td>\n",
       "      <td>1.000000</td>\n",
       "      <td>2</td>\n",
       "    </tr>\n",
       "  </tbody>\n",
       "</table>\n",
       "<p>5 rows × 4901 columns</p>\n",
       "</div>"
      ],
      "text/plain": [
       "       pixel_0   pixel_1   pixel_2   pixel_3   pixel_4   pixel_5   pixel_6  \\\n",
       "775   1.000000  1.000000  1.000000  1.000000  1.000000  1.000000  1.000000   \n",
       "117   0.996078  0.996078  0.996078  0.996078  0.996078  0.996078  0.996078   \n",
       "3457  1.000000  1.000000  1.000000  1.000000  1.000000  1.000000  1.000000   \n",
       "2601  1.000000  1.000000  1.000000  1.000000  1.000000  1.000000  1.000000   \n",
       "3324  1.000000  1.000000  1.000000  1.000000  1.000000  1.000000  1.000000   \n",
       "\n",
       "       pixel_7   pixel_8   pixel_9  ...  pixel_4891  pixel_4892  pixel_4893  \\\n",
       "775   1.000000  1.000000  1.000000  ...    1.000000    1.000000    1.000000   \n",
       "117   0.996078  0.996078  0.996078  ...    0.996078    0.996078    0.996078   \n",
       "3457  1.000000  1.000000  1.000000  ...    1.000000    1.000000    1.000000   \n",
       "2601  1.000000  1.000000  1.000000  ...    1.000000    1.000000    1.000000   \n",
       "3324  1.000000  1.000000  1.000000  ...    1.000000    1.000000    1.000000   \n",
       "\n",
       "      pixel_4894  pixel_4895  pixel_4896  pixel_4897  pixel_4898  pixel_4899  \\\n",
       "775     1.000000    1.000000    1.000000    1.000000    1.000000    1.000000   \n",
       "117     0.996078    0.996078    0.996078    0.996078    0.996078    0.996078   \n",
       "3457    1.000000    1.000000    1.000000    1.000000    1.000000    1.000000   \n",
       "2601    1.000000    1.000000    1.000000    1.000000    1.000000    1.000000   \n",
       "3324    1.000000    1.000000    1.000000    1.000000    1.000000    1.000000   \n",
       "\n",
       "      label  \n",
       "775       0  \n",
       "117       0  \n",
       "3457      2  \n",
       "2601      1  \n",
       "3324      2  \n",
       "\n",
       "[5 rows x 4901 columns]"
      ]
     },
     "execution_count": 32,
     "metadata": {},
     "output_type": "execute_result"
    }
   ],
   "source": [
    "data.head()"
   ]
  },
  {
   "cell_type": "code",
   "execution_count": 36,
   "metadata": {},
   "outputs": [
    {
     "data": {
      "text/html": [
       "<div>\n",
       "<style scoped>\n",
       "    .dataframe tbody tr th:only-of-type {\n",
       "        vertical-align: middle;\n",
       "    }\n",
       "\n",
       "    .dataframe tbody tr th {\n",
       "        vertical-align: top;\n",
       "    }\n",
       "\n",
       "    .dataframe thead th {\n",
       "        text-align: right;\n",
       "    }\n",
       "</style>\n",
       "<table border=\"1\" class=\"dataframe\">\n",
       "  <thead>\n",
       "    <tr style=\"text-align: right;\">\n",
       "      <th></th>\n",
       "      <th>pixel_0</th>\n",
       "      <th>pixel_1</th>\n",
       "      <th>pixel_2</th>\n",
       "      <th>pixel_3</th>\n",
       "      <th>pixel_4</th>\n",
       "      <th>pixel_5</th>\n",
       "      <th>pixel_6</th>\n",
       "      <th>pixel_7</th>\n",
       "      <th>pixel_8</th>\n",
       "      <th>pixel_9</th>\n",
       "      <th>...</th>\n",
       "      <th>pixel_4891</th>\n",
       "      <th>pixel_4892</th>\n",
       "      <th>pixel_4893</th>\n",
       "      <th>pixel_4894</th>\n",
       "      <th>pixel_4895</th>\n",
       "      <th>pixel_4896</th>\n",
       "      <th>pixel_4897</th>\n",
       "      <th>pixel_4898</th>\n",
       "      <th>pixel_4899</th>\n",
       "      <th>label</th>\n",
       "    </tr>\n",
       "  </thead>\n",
       "  <tbody>\n",
       "    <tr>\n",
       "      <th>642</th>\n",
       "      <td>0.996078</td>\n",
       "      <td>0.996078</td>\n",
       "      <td>0.996078</td>\n",
       "      <td>0.996078</td>\n",
       "      <td>0.996078</td>\n",
       "      <td>0.996078</td>\n",
       "      <td>0.996078</td>\n",
       "      <td>0.996078</td>\n",
       "      <td>0.996078</td>\n",
       "      <td>0.996078</td>\n",
       "      <td>...</td>\n",
       "      <td>0.996078</td>\n",
       "      <td>0.996078</td>\n",
       "      <td>0.996078</td>\n",
       "      <td>0.996078</td>\n",
       "      <td>0.996078</td>\n",
       "      <td>0.996078</td>\n",
       "      <td>0.996078</td>\n",
       "      <td>0.996078</td>\n",
       "      <td>0.996078</td>\n",
       "      <td>0</td>\n",
       "    </tr>\n",
       "    <tr>\n",
       "      <th>358</th>\n",
       "      <td>0.972549</td>\n",
       "      <td>0.960784</td>\n",
       "      <td>0.968627</td>\n",
       "      <td>0.968627</td>\n",
       "      <td>0.960784</td>\n",
       "      <td>0.960784</td>\n",
       "      <td>0.972549</td>\n",
       "      <td>0.905882</td>\n",
       "      <td>0.772549</td>\n",
       "      <td>0.725490</td>\n",
       "      <td>...</td>\n",
       "      <td>0.949020</td>\n",
       "      <td>0.984314</td>\n",
       "      <td>0.976471</td>\n",
       "      <td>0.984314</td>\n",
       "      <td>0.988235</td>\n",
       "      <td>0.980392</td>\n",
       "      <td>0.988235</td>\n",
       "      <td>0.909804</td>\n",
       "      <td>0.992157</td>\n",
       "      <td>0</td>\n",
       "    </tr>\n",
       "    <tr>\n",
       "      <th>1057</th>\n",
       "      <td>0.972549</td>\n",
       "      <td>0.976471</td>\n",
       "      <td>0.980392</td>\n",
       "      <td>0.972549</td>\n",
       "      <td>0.984314</td>\n",
       "      <td>0.984314</td>\n",
       "      <td>0.972549</td>\n",
       "      <td>0.984314</td>\n",
       "      <td>0.984314</td>\n",
       "      <td>0.972549</td>\n",
       "      <td>...</td>\n",
       "      <td>0.933333</td>\n",
       "      <td>0.933333</td>\n",
       "      <td>0.933333</td>\n",
       "      <td>0.929412</td>\n",
       "      <td>0.933333</td>\n",
       "      <td>0.933333</td>\n",
       "      <td>0.917647</td>\n",
       "      <td>0.933333</td>\n",
       "      <td>0.933333</td>\n",
       "      <td>0</td>\n",
       "    </tr>\n",
       "    <tr>\n",
       "      <th>189</th>\n",
       "      <td>1.000000</td>\n",
       "      <td>1.000000</td>\n",
       "      <td>1.000000</td>\n",
       "      <td>1.000000</td>\n",
       "      <td>1.000000</td>\n",
       "      <td>1.000000</td>\n",
       "      <td>1.000000</td>\n",
       "      <td>1.000000</td>\n",
       "      <td>1.000000</td>\n",
       "      <td>1.000000</td>\n",
       "      <td>...</td>\n",
       "      <td>1.000000</td>\n",
       "      <td>1.000000</td>\n",
       "      <td>1.000000</td>\n",
       "      <td>1.000000</td>\n",
       "      <td>1.000000</td>\n",
       "      <td>1.000000</td>\n",
       "      <td>1.000000</td>\n",
       "      <td>1.000000</td>\n",
       "      <td>1.000000</td>\n",
       "      <td>0</td>\n",
       "    </tr>\n",
       "    <tr>\n",
       "      <th>339</th>\n",
       "      <td>0.760784</td>\n",
       "      <td>0.749020</td>\n",
       "      <td>0.450980</td>\n",
       "      <td>0.768627</td>\n",
       "      <td>0.682353</td>\n",
       "      <td>0.635294</td>\n",
       "      <td>0.650980</td>\n",
       "      <td>0.701961</td>\n",
       "      <td>0.760784</td>\n",
       "      <td>0.788235</td>\n",
       "      <td>...</td>\n",
       "      <td>0.470588</td>\n",
       "      <td>0.533333</td>\n",
       "      <td>0.549020</td>\n",
       "      <td>0.603922</td>\n",
       "      <td>0.545098</td>\n",
       "      <td>0.533333</td>\n",
       "      <td>0.458824</td>\n",
       "      <td>0.462745</td>\n",
       "      <td>0.996078</td>\n",
       "      <td>0</td>\n",
       "    </tr>\n",
       "  </tbody>\n",
       "</table>\n",
       "<p>5 rows × 4901 columns</p>\n",
       "</div>"
      ],
      "text/plain": [
       "       pixel_0   pixel_1   pixel_2   pixel_3   pixel_4   pixel_5   pixel_6  \\\n",
       "642   0.996078  0.996078  0.996078  0.996078  0.996078  0.996078  0.996078   \n",
       "358   0.972549  0.960784  0.968627  0.968627  0.960784  0.960784  0.972549   \n",
       "1057  0.972549  0.976471  0.980392  0.972549  0.984314  0.984314  0.972549   \n",
       "189   1.000000  1.000000  1.000000  1.000000  1.000000  1.000000  1.000000   \n",
       "339   0.760784  0.749020  0.450980  0.768627  0.682353  0.635294  0.650980   \n",
       "\n",
       "       pixel_7   pixel_8   pixel_9  ...  pixel_4891  pixel_4892  pixel_4893  \\\n",
       "642   0.996078  0.996078  0.996078  ...    0.996078    0.996078    0.996078   \n",
       "358   0.905882  0.772549  0.725490  ...    0.949020    0.984314    0.976471   \n",
       "1057  0.984314  0.984314  0.972549  ...    0.933333    0.933333    0.933333   \n",
       "189   1.000000  1.000000  1.000000  ...    1.000000    1.000000    1.000000   \n",
       "339   0.701961  0.760784  0.788235  ...    0.470588    0.533333    0.549020   \n",
       "\n",
       "      pixel_4894  pixel_4895  pixel_4896  pixel_4897  pixel_4898  pixel_4899  \\\n",
       "642     0.996078    0.996078    0.996078    0.996078    0.996078    0.996078   \n",
       "358     0.984314    0.988235    0.980392    0.988235    0.909804    0.992157   \n",
       "1057    0.929412    0.933333    0.933333    0.917647    0.933333    0.933333   \n",
       "189     1.000000    1.000000    1.000000    1.000000    1.000000    1.000000   \n",
       "339     0.603922    0.545098    0.533333    0.458824    0.462745    0.996078   \n",
       "\n",
       "      label  \n",
       "642       0  \n",
       "358       0  \n",
       "1057      0  \n",
       "189       0  \n",
       "339       0  \n",
       "\n",
       "[5 rows x 4901 columns]"
      ]
     },
     "execution_count": 36,
     "metadata": {},
     "output_type": "execute_result"
    }
   ],
   "source": [
    "n = 150\n",
    "test = data.groupby('label').get_group(0).sample(n = n)\n",
    "test = test.append(data.groupby('label').get_group(1).sample(n = n))\n",
    "test = test.append(data.groupby('label').get_group(2).sample(n = n))\n",
    "test = test.append(data.groupby('label').get_group(3).sample(n = n))\n",
    "test.head()"
   ]
  },
  {
   "cell_type": "code",
   "execution_count": 37,
   "metadata": {},
   "outputs": [
    {
     "data": {
      "text/html": [
       "<div>\n",
       "<style scoped>\n",
       "    .dataframe tbody tr th:only-of-type {\n",
       "        vertical-align: middle;\n",
       "    }\n",
       "\n",
       "    .dataframe tbody tr th {\n",
       "        vertical-align: top;\n",
       "    }\n",
       "\n",
       "    .dataframe thead th {\n",
       "        text-align: right;\n",
       "    }\n",
       "</style>\n",
       "<table border=\"1\" class=\"dataframe\">\n",
       "  <thead>\n",
       "    <tr style=\"text-align: right;\">\n",
       "      <th></th>\n",
       "      <th>pixel_0</th>\n",
       "      <th>pixel_1</th>\n",
       "      <th>pixel_2</th>\n",
       "      <th>pixel_3</th>\n",
       "      <th>pixel_4</th>\n",
       "      <th>pixel_5</th>\n",
       "      <th>pixel_6</th>\n",
       "      <th>pixel_7</th>\n",
       "      <th>pixel_8</th>\n",
       "      <th>pixel_9</th>\n",
       "      <th>...</th>\n",
       "      <th>pixel_4891</th>\n",
       "      <th>pixel_4892</th>\n",
       "      <th>pixel_4893</th>\n",
       "      <th>pixel_4894</th>\n",
       "      <th>pixel_4895</th>\n",
       "      <th>pixel_4896</th>\n",
       "      <th>pixel_4897</th>\n",
       "      <th>pixel_4898</th>\n",
       "      <th>pixel_4899</th>\n",
       "      <th>label</th>\n",
       "    </tr>\n",
       "  </thead>\n",
       "  <tbody>\n",
       "    <tr>\n",
       "      <th>775</th>\n",
       "      <td>1.000000</td>\n",
       "      <td>1.000000</td>\n",
       "      <td>1.000000</td>\n",
       "      <td>1.000000</td>\n",
       "      <td>1.000000</td>\n",
       "      <td>1.000000</td>\n",
       "      <td>1.000000</td>\n",
       "      <td>1.000000</td>\n",
       "      <td>1.000000</td>\n",
       "      <td>1.000000</td>\n",
       "      <td>...</td>\n",
       "      <td>1.000000</td>\n",
       "      <td>1.000000</td>\n",
       "      <td>1.000000</td>\n",
       "      <td>1.000000</td>\n",
       "      <td>1.000000</td>\n",
       "      <td>1.000000</td>\n",
       "      <td>1.000000</td>\n",
       "      <td>1.000000</td>\n",
       "      <td>1.000000</td>\n",
       "      <td>0</td>\n",
       "    </tr>\n",
       "    <tr>\n",
       "      <th>117</th>\n",
       "      <td>0.996078</td>\n",
       "      <td>0.996078</td>\n",
       "      <td>0.996078</td>\n",
       "      <td>0.996078</td>\n",
       "      <td>0.996078</td>\n",
       "      <td>0.996078</td>\n",
       "      <td>0.996078</td>\n",
       "      <td>0.996078</td>\n",
       "      <td>0.996078</td>\n",
       "      <td>0.996078</td>\n",
       "      <td>...</td>\n",
       "      <td>0.996078</td>\n",
       "      <td>0.996078</td>\n",
       "      <td>0.996078</td>\n",
       "      <td>0.996078</td>\n",
       "      <td>0.996078</td>\n",
       "      <td>0.996078</td>\n",
       "      <td>0.996078</td>\n",
       "      <td>0.996078</td>\n",
       "      <td>0.996078</td>\n",
       "      <td>0</td>\n",
       "    </tr>\n",
       "    <tr>\n",
       "      <th>3457</th>\n",
       "      <td>1.000000</td>\n",
       "      <td>1.000000</td>\n",
       "      <td>1.000000</td>\n",
       "      <td>1.000000</td>\n",
       "      <td>1.000000</td>\n",
       "      <td>1.000000</td>\n",
       "      <td>1.000000</td>\n",
       "      <td>1.000000</td>\n",
       "      <td>1.000000</td>\n",
       "      <td>1.000000</td>\n",
       "      <td>...</td>\n",
       "      <td>1.000000</td>\n",
       "      <td>1.000000</td>\n",
       "      <td>1.000000</td>\n",
       "      <td>1.000000</td>\n",
       "      <td>1.000000</td>\n",
       "      <td>1.000000</td>\n",
       "      <td>1.000000</td>\n",
       "      <td>1.000000</td>\n",
       "      <td>1.000000</td>\n",
       "      <td>2</td>\n",
       "    </tr>\n",
       "    <tr>\n",
       "      <th>2601</th>\n",
       "      <td>1.000000</td>\n",
       "      <td>1.000000</td>\n",
       "      <td>1.000000</td>\n",
       "      <td>1.000000</td>\n",
       "      <td>1.000000</td>\n",
       "      <td>1.000000</td>\n",
       "      <td>1.000000</td>\n",
       "      <td>1.000000</td>\n",
       "      <td>1.000000</td>\n",
       "      <td>1.000000</td>\n",
       "      <td>...</td>\n",
       "      <td>1.000000</td>\n",
       "      <td>1.000000</td>\n",
       "      <td>1.000000</td>\n",
       "      <td>1.000000</td>\n",
       "      <td>1.000000</td>\n",
       "      <td>1.000000</td>\n",
       "      <td>1.000000</td>\n",
       "      <td>1.000000</td>\n",
       "      <td>1.000000</td>\n",
       "      <td>1</td>\n",
       "    </tr>\n",
       "    <tr>\n",
       "      <th>3324</th>\n",
       "      <td>1.000000</td>\n",
       "      <td>1.000000</td>\n",
       "      <td>1.000000</td>\n",
       "      <td>1.000000</td>\n",
       "      <td>1.000000</td>\n",
       "      <td>1.000000</td>\n",
       "      <td>1.000000</td>\n",
       "      <td>1.000000</td>\n",
       "      <td>1.000000</td>\n",
       "      <td>1.000000</td>\n",
       "      <td>...</td>\n",
       "      <td>1.000000</td>\n",
       "      <td>1.000000</td>\n",
       "      <td>1.000000</td>\n",
       "      <td>1.000000</td>\n",
       "      <td>1.000000</td>\n",
       "      <td>1.000000</td>\n",
       "      <td>1.000000</td>\n",
       "      <td>1.000000</td>\n",
       "      <td>1.000000</td>\n",
       "      <td>2</td>\n",
       "    </tr>\n",
       "  </tbody>\n",
       "</table>\n",
       "<p>5 rows × 4901 columns</p>\n",
       "</div>"
      ],
      "text/plain": [
       "       pixel_0   pixel_1   pixel_2   pixel_3   pixel_4   pixel_5   pixel_6  \\\n",
       "775   1.000000  1.000000  1.000000  1.000000  1.000000  1.000000  1.000000   \n",
       "117   0.996078  0.996078  0.996078  0.996078  0.996078  0.996078  0.996078   \n",
       "3457  1.000000  1.000000  1.000000  1.000000  1.000000  1.000000  1.000000   \n",
       "2601  1.000000  1.000000  1.000000  1.000000  1.000000  1.000000  1.000000   \n",
       "3324  1.000000  1.000000  1.000000  1.000000  1.000000  1.000000  1.000000   \n",
       "\n",
       "       pixel_7   pixel_8   pixel_9  ...  pixel_4891  pixel_4892  pixel_4893  \\\n",
       "775   1.000000  1.000000  1.000000  ...    1.000000    1.000000    1.000000   \n",
       "117   0.996078  0.996078  0.996078  ...    0.996078    0.996078    0.996078   \n",
       "3457  1.000000  1.000000  1.000000  ...    1.000000    1.000000    1.000000   \n",
       "2601  1.000000  1.000000  1.000000  ...    1.000000    1.000000    1.000000   \n",
       "3324  1.000000  1.000000  1.000000  ...    1.000000    1.000000    1.000000   \n",
       "\n",
       "      pixel_4894  pixel_4895  pixel_4896  pixel_4897  pixel_4898  pixel_4899  \\\n",
       "775     1.000000    1.000000    1.000000    1.000000    1.000000    1.000000   \n",
       "117     0.996078    0.996078    0.996078    0.996078    0.996078    0.996078   \n",
       "3457    1.000000    1.000000    1.000000    1.000000    1.000000    1.000000   \n",
       "2601    1.000000    1.000000    1.000000    1.000000    1.000000    1.000000   \n",
       "3324    1.000000    1.000000    1.000000    1.000000    1.000000    1.000000   \n",
       "\n",
       "      label  \n",
       "775       0  \n",
       "117       0  \n",
       "3457      2  \n",
       "2601      1  \n",
       "3324      2  \n",
       "\n",
       "[5 rows x 4901 columns]"
      ]
     },
     "execution_count": 37,
     "metadata": {},
     "output_type": "execute_result"
    }
   ],
   "source": [
    "train = data[ ~data.index.isin(test.index) ]\n",
    "train.head()"
   ]
  },
  {
   "cell_type": "code",
   "execution_count": 38,
   "metadata": {},
   "outputs": [],
   "source": [
    "train_data = train.drop('label',axis=1)\n",
    "train_target = train['label']\n",
    "\n",
    "test_data = test.drop('label',axis=1)\n",
    "test_target = test['label']"
   ]
  },
  {
   "cell_type": "code",
   "execution_count": 39,
   "metadata": {},
   "outputs": [
    {
     "data": {
      "text/plain": [
       "<matplotlib.image.AxesImage at 0x1ee4d6773d0>"
      ]
     },
     "execution_count": 39,
     "metadata": {},
     "output_type": "execute_result"
    },
    {
     "data": {
      "image/png": "[encoded data removed]",
      "text/plain": [
       "<Figure size 432x288 with 1 Axes>"
      ]
     },
     "metadata": {
      "needs_background": "light"
     },
     "output_type": "display_data"
    }
   ],
   "source": [
    "plt.imshow(train_data.iloc[0].values.reshape(70,70))"
   ]
  },
  {
   "cell_type": "code",
   "execution_count": 40,
   "metadata": {},
   "outputs": [],
   "source": [
    "train_data_reshaped = []\n",
    "test_data_reshaped = []\n",
    "for i in range(len(train_data)):\n",
    "    t = train_data.iloc[i].values.reshape((70,70))\n",
    "    t = np.array(t)\n",
    "    train_data_reshaped.append(t)\n",
    "    \n",
    "for i in range(len(test_data)):\n",
    "    t = test_data.iloc[i].values.reshape((70,70))\n",
    "    t = np.array(t)\n",
    "    test_data_reshaped.append(t)"
   ]
  },
  {
   "cell_type": "code",
   "execution_count": 41,
   "metadata": {},
   "outputs": [],
   "source": [
    "train_data_reshaped = np.array(train_data_reshaped)\n",
    "test_data_reshaped = np.array(test_data_reshaped)"
   ]
  },
  {
   "cell_type": "code",
   "execution_count": 42,
   "metadata": {},
   "outputs": [],
   "source": [
    "test_data_reshaped = np.expand_dims(test_data_reshaped,axis=-1)\n",
    "train_data_reshaped = np.expand_dims(train_data_reshaped,axis=-1)"
   ]
  },
  {
   "cell_type": "code",
   "execution_count": 43,
   "metadata": {},
   "outputs": [
    {
     "data": {
      "text/plain": [
       "(3065, 70, 70, 1)"
      ]
     },
     "execution_count": 43,
     "metadata": {},
     "output_type": "execute_result"
    }
   ],
   "source": [
    "train_data_reshaped.shape"
   ]
  },
  {
   "cell_type": "code",
   "execution_count": 127,
   "metadata": {},
   "outputs": [
    {
     "name": "stdout",
     "output_type": "stream",
     "text": [
      "Model: \"sequential_20\"\n",
      "_________________________________________________________________\n",
      "Layer (type)                 Output Shape              Param #   \n",
      "=================================================================\n",
      "conv2d_234 (Conv2D)          (None, 70, 70, 32)        320       \n",
      "_________________________________________________________________\n",
      "conv2d_235 (Conv2D)          (None, 70, 70, 32)        9248      \n",
      "_________________________________________________________________\n",
      "max_pooling2d_85 (MaxPooling (None, 35, 35, 32)        0         \n",
      "_________________________________________________________________\n",
      "conv2d_236 (Conv2D)          (None, 35, 35, 42)        12138     \n",
      "_________________________________________________________________\n",
      "conv2d_237 (Conv2D)          (None, 35, 35, 42)        15918     \n",
      "_________________________________________________________________\n",
      "max_pooling2d_86 (MaxPooling (None, 17, 17, 42)        0         \n",
      "_________________________________________________________________\n",
      "conv2d_238 (Conv2D)          (None, 17, 17, 52)        19708     \n",
      "_________________________________________________________________\n",
      "max_pooling2d_87 (MaxPooling (None, 8, 8, 52)          0         \n",
      "_________________________________________________________________\n",
      "conv2d_239 (Conv2D)          (None, 8, 8, 62)          29078     \n",
      "_________________________________________________________________\n",
      "max_pooling2d_88 (MaxPooling (None, 4, 4, 62)          0         \n",
      "_________________________________________________________________\n",
      "flatten_19 (Flatten)         (None, 992)               0         \n",
      "_________________________________________________________________\n",
      "dense_58 (Dense)             (None, 64)                63552     \n",
      "_________________________________________________________________\n",
      "dense_59 (Dense)             (None, 32)                2080      \n",
      "_________________________________________________________________\n",
      "dense_60 (Dense)             (None, 4)                 132       \n",
      "=================================================================\n",
      "Total params: 152,174\n",
      "Trainable params: 152,174\n",
      "Non-trainable params: 0\n",
      "_________________________________________________________________\n"
     ]
    }
   ],
   "source": [
    "model = models.Sequential()\n",
    "model.add(layers.Conv2D(32, (3, 3), padding = 'same', activation='relu', input_shape=(70, 70, 1)))\n",
    "model.add(layers.Conv2D(32, (3, 3), padding = 'same', activation='relu', input_shape=(70, 70, 1)))\n",
    "model.add(layers.MaxPooling2D((2, 2)))\n",
    "\n",
    "model.add(layers.Conv2D(42, (3, 3), padding = 'same', activation='relu'))\n",
    "model.add(layers.Conv2D(42, (3, 3), padding = 'same', activation='relu'))\n",
    "model.add(layers.MaxPooling2D((2, 2)))\n",
    "\n",
    "model.add(layers.Conv2D(52, (3, 3), padding = 'same', activation='relu'))\n",
    "model.add(layers.MaxPooling2D((2, 2)))\n",
    "\n",
    "model.add(layers.Conv2D(62, (3, 3), padding = 'same', activation='relu'))\n",
    "model.add(layers.MaxPooling2D((2, 2)))\n",
    "\n",
    "\n",
    "model.add(layers.Flatten())\n",
    "model.add(layers.Dense(64, activation='relu'))\n",
    "model.add(layers.Dense(32, activation='relu'))\n",
    "model.add(layers.Dense(4))\n",
    "model.summary()"
   ]
  },
  {
   "cell_type": "code",
   "execution_count": 107,
   "metadata": {},
   "outputs": [
    {
     "name": "stdout",
     "output_type": "stream",
     "text": [
      "Model: \"functional_5\"\n",
      "__________________________________________________________________________________________________\n",
      "Layer (type)                    Output Shape         Param #     Connected to                     \n",
      "==================================================================================================\n",
      "input_4 (InputLayer)            [(None, 70, 70, 1)]  0                                            \n",
      "__________________________________________________________________________________________________\n",
      "conv2d_192 (Conv2D)             (None, 35, 35, 32)   320         input_4[0][0]                    \n",
      "__________________________________________________________________________________________________\n",
      "batch_normalization_43 (BatchNo (None, 35, 35, 32)   128         conv2d_192[0][0]                 \n",
      "__________________________________________________________________________________________________\n",
      "activation_36 (Activation)      (None, 35, 35, 32)   0           batch_normalization_43[0][0]     \n",
      "__________________________________________________________________________________________________\n",
      "conv2d_193 (Conv2D)             (None, 35, 35, 32)   9248        activation_36[0][0]              \n",
      "__________________________________________________________________________________________________\n",
      "batch_normalization_44 (BatchNo (None, 35, 35, 32)   128         conv2d_193[0][0]                 \n",
      "__________________________________________________________________________________________________\n",
      "activation_37 (Activation)      (None, 35, 35, 32)   0           batch_normalization_44[0][0]     \n",
      "__________________________________________________________________________________________________\n",
      "conv2d_194 (Conv2D)             (None, 35, 35, 32)   9248        activation_37[0][0]              \n",
      "__________________________________________________________________________________________________\n",
      "batch_normalization_45 (BatchNo (None, 35, 35, 32)   128         conv2d_194[0][0]                 \n",
      "__________________________________________________________________________________________________\n",
      "add_17 (Add)                    (None, 35, 35, 32)   0           batch_normalization_45[0][0]     \n",
      "                                                                 activation_36[0][0]              \n",
      "__________________________________________________________________________________________________\n",
      "activation_38 (Activation)      (None, 35, 35, 32)   0           add_17[0][0]                     \n",
      "__________________________________________________________________________________________________\n",
      "conv2d_195 (Conv2D)             (None, 35, 35, 32)   9248        activation_38[0][0]              \n",
      "__________________________________________________________________________________________________\n",
      "batch_normalization_46 (BatchNo (None, 35, 35, 32)   128         conv2d_195[0][0]                 \n",
      "__________________________________________________________________________________________________\n",
      "activation_39 (Activation)      (None, 35, 35, 32)   0           batch_normalization_46[0][0]     \n",
      "__________________________________________________________________________________________________\n",
      "conv2d_196 (Conv2D)             (None, 35, 35, 32)   9248        activation_39[0][0]              \n",
      "__________________________________________________________________________________________________\n",
      "batch_normalization_47 (BatchNo (None, 35, 35, 32)   128         conv2d_196[0][0]                 \n",
      "__________________________________________________________________________________________________\n",
      "add_18 (Add)                    (None, 35, 35, 32)   0           batch_normalization_47[0][0]     \n",
      "                                                                 activation_38[0][0]              \n",
      "__________________________________________________________________________________________________\n",
      "activation_40 (Activation)      (None, 35, 35, 32)   0           add_18[0][0]                     \n",
      "__________________________________________________________________________________________________\n",
      "conv2d_197 (Conv2D)             (None, 18, 18, 64)   18496       activation_40[0][0]              \n",
      "__________________________________________________________________________________________________\n",
      "batch_normalization_48 (BatchNo (None, 18, 18, 64)   256         conv2d_197[0][0]                 \n",
      "__________________________________________________________________________________________________\n",
      "activation_41 (Activation)      (None, 18, 18, 64)   0           batch_normalization_48[0][0]     \n",
      "__________________________________________________________________________________________________\n",
      "conv2d_198 (Conv2D)             (None, 18, 18, 64)   36928       activation_41[0][0]              \n",
      "__________________________________________________________________________________________________\n",
      "conv2d_199 (Conv2D)             (None, 18, 18, 64)   2112        activation_40[0][0]              \n",
      "__________________________________________________________________________________________________\n",
      "batch_normalization_49 (BatchNo (None, 18, 18, 64)   256         conv2d_198[0][0]                 \n",
      "__________________________________________________________________________________________________\n",
      "batch_normalization_50 (BatchNo (None, 18, 18, 64)   256         conv2d_199[0][0]                 \n",
      "__________________________________________________________________________________________________\n",
      "add_19 (Add)                    (None, 18, 18, 64)   0           batch_normalization_49[0][0]     \n",
      "                                                                 batch_normalization_50[0][0]     \n",
      "__________________________________________________________________________________________________\n",
      "activation_42 (Activation)      (None, 18, 18, 64)   0           add_19[0][0]                     \n",
      "__________________________________________________________________________________________________\n",
      "conv2d_200 (Conv2D)             (None, 18, 18, 64)   36928       activation_42[0][0]              \n",
      "__________________________________________________________________________________________________\n",
      "batch_normalization_51 (BatchNo (None, 18, 18, 64)   256         conv2d_200[0][0]                 \n",
      "__________________________________________________________________________________________________\n",
      "activation_43 (Activation)      (None, 18, 18, 64)   0           batch_normalization_51[0][0]     \n",
      "__________________________________________________________________________________________________\n",
      "conv2d_201 (Conv2D)             (None, 18, 18, 64)   36928       activation_43[0][0]              \n",
      "__________________________________________________________________________________________________\n",
      "batch_normalization_52 (BatchNo (None, 18, 18, 64)   256         conv2d_201[0][0]                 \n",
      "__________________________________________________________________________________________________\n",
      "add_20 (Add)                    (None, 18, 18, 64)   0           batch_normalization_52[0][0]     \n",
      "                                                                 activation_42[0][0]              \n",
      "__________________________________________________________________________________________________\n",
      "activation_44 (Activation)      (None, 18, 18, 64)   0           add_20[0][0]                     \n",
      "__________________________________________________________________________________________________\n",
      "conv2d_202 (Conv2D)             (None, 9, 9, 128)    73856       activation_44[0][0]              \n",
      "__________________________________________________________________________________________________\n",
      "batch_normalization_53 (BatchNo (None, 9, 9, 128)    512         conv2d_202[0][0]                 \n",
      "__________________________________________________________________________________________________\n",
      "activation_45 (Activation)      (None, 9, 9, 128)    0           batch_normalization_53[0][0]     \n",
      "__________________________________________________________________________________________________\n",
      "conv2d_203 (Conv2D)             (None, 9, 9, 128)    147584      activation_45[0][0]              \n",
      "__________________________________________________________________________________________________\n",
      "conv2d_204 (Conv2D)             (None, 9, 9, 128)    8320        activation_44[0][0]              \n",
      "__________________________________________________________________________________________________\n",
      "batch_normalization_54 (BatchNo (None, 9, 9, 128)    512         conv2d_203[0][0]                 \n",
      "__________________________________________________________________________________________________\n",
      "batch_normalization_55 (BatchNo (None, 9, 9, 128)    512         conv2d_204[0][0]                 \n",
      "__________________________________________________________________________________________________\n",
      "add_21 (Add)                    (None, 9, 9, 128)    0           batch_normalization_54[0][0]     \n",
      "                                                                 batch_normalization_55[0][0]     \n",
      "__________________________________________________________________________________________________\n",
      "activation_46 (Activation)      (None, 9, 9, 128)    0           add_21[0][0]                     \n",
      "__________________________________________________________________________________________________\n",
      "conv2d_205 (Conv2D)             (None, 9, 9, 128)    147584      activation_46[0][0]              \n",
      "__________________________________________________________________________________________________\n",
      "batch_normalization_56 (BatchNo (None, 9, 9, 128)    512         conv2d_205[0][0]                 \n",
      "__________________________________________________________________________________________________\n",
      "activation_47 (Activation)      (None, 9, 9, 128)    0           batch_normalization_56[0][0]     \n",
      "__________________________________________________________________________________________________\n",
      "conv2d_206 (Conv2D)             (None, 9, 9, 128)    147584      activation_47[0][0]              \n",
      "__________________________________________________________________________________________________\n",
      "batch_normalization_57 (BatchNo (None, 9, 9, 128)    512         conv2d_206[0][0]                 \n",
      "__________________________________________________________________________________________________\n",
      "add_22 (Add)                    (None, 9, 9, 128)    0           batch_normalization_57[0][0]     \n",
      "                                                                 activation_46[0][0]              \n",
      "__________________________________________________________________________________________________\n",
      "activation_48 (Activation)      (None, 9, 9, 128)    0           add_22[0][0]                     \n",
      "__________________________________________________________________________________________________\n",
      "global_average_pooling2d_2 (Glo (None, 128)          0           activation_48[0][0]              \n",
      "__________________________________________________________________________________________________\n",
      "dense_47 (Dense)                (None, 4)            516         global_average_pooling2d_2[0][0] \n",
      "==================================================================================================\n",
      "Total params: 698,628\n",
      "Trainable params: 696,388\n",
      "Non-trainable params: 2,240\n",
      "__________________________________________________________________________________________________\n"
     ]
    }
   ],
   "source": [
    "import tensorflow as tf\n",
    "from tensorflow.keras.layers import Input, Conv2D, BatchNormalization, Activation, Add, GlobalAveragePooling2D, Dense\n",
    "from tensorflow.keras.models import Model\n",
    "\n",
    "def residual_block(inputs, filters, strides=1):\n",
    "    shortcut = inputs\n",
    "\n",
    "    # First convolutional layer\n",
    "    x = Conv2D(filters, kernel_size=(3, 3), strides=strides, padding='same')(inputs)\n",
    "    x = BatchNormalization()(x)\n",
    "    x = Activation('relu')(x)\n",
    "\n",
    "    # Second convolutional layer\n",
    "    x = Conv2D(filters, kernel_size=(3, 3), strides=1, padding='same')(x)\n",
    "    x = BatchNormalization()(x)\n",
    "\n",
    "    # Skip connection\n",
    "    if strides > 1:\n",
    "        shortcut = Conv2D(filters, kernel_size=(1, 1), strides=strides, padding='same')(shortcut)\n",
    "        shortcut = BatchNormalization()(shortcut)\n",
    "\n",
    "    x = Add()([x, shortcut])\n",
    "    x = Activation('relu')(x)\n",
    "    return x\n",
    "\n",
    "def create_resnet(input_shape, num_classes):\n",
    "    inputs = Input(shape=input_shape)\n",
    "\n",
    "    x = Conv2D(32, kernel_size=(3, 3), strides=2, padding='same')(inputs)\n",
    "    x = BatchNormalization()(x)\n",
    "    x = Activation('relu')(x)\n",
    "\n",
    "    x = residual_block(x, filters=32, strides=1)\n",
    "    x = residual_block(x, filters=32, strides=1)\n",
    "    x = residual_block(x, filters=64, strides=2)\n",
    "    x = residual_block(x, filters=64, strides=1)\n",
    "    x = residual_block(x, filters=128, strides=2)\n",
    "    x = residual_block(x, filters=128, strides=1)\n",
    "\n",
    "    x = GlobalAveragePooling2D()(x)\n",
    "    outputs = Dense(num_classes, activation='softmax')(x)\n",
    "\n",
    "    model = Model(inputs=inputs, outputs=outputs)\n",
    "    return model\n",
    "\n",
    "input_shape = (70, 70, 1)\n",
    "num_classes = 4\n",
    "\n",
    "model = create_resnet(input_shape, num_classes)\n",
    "model.summary()"
   ]
  },
  {
   "cell_type": "code",
   "execution_count": 128,
   "metadata": {},
   "outputs": [
    {
     "name": "stdout",
     "output_type": "stream",
     "text": [
      "Epoch 1/12\n",
      "300/300 [==============================] - 29s 96ms/step - loss: 1.0178 - accuracy: 0.5531\n",
      "Epoch 2/12\n",
      "300/300 [==============================] - 31s 102ms/step - loss: 0.4977 - accuracy: 0.7940\n",
      "Epoch 3/12\n",
      "300/300 [==============================] - 31s 102ms/step - loss: 0.3019 - accuracy: 0.8929\n",
      "Epoch 4/12\n",
      "300/300 [==============================] - 31s 103ms/step - loss: 0.2335 - accuracy: 0.9196\n",
      "Epoch 5/12\n",
      "300/300 [==============================] - 31s 103ms/step - loss: 0.1870 - accuracy: 0.9336\n",
      "Epoch 6/12\n",
      "300/300 [==============================] - 31s 102ms/step - loss: 0.1545 - accuracy: 0.9499\n",
      "Epoch 7/12\n",
      "300/300 [==============================] - 31s 103ms/step - loss: 0.1315 - accuracy: 0.9542\n",
      "Epoch 8/12\n",
      "300/300 [==============================] - 31s 103ms/step - loss: 0.0970 - accuracy: 0.9666\n",
      "Epoch 9/12\n",
      "300/300 [==============================] - 31s 104ms/step - loss: 0.0895 - accuracy: 0.9684\n",
      "Epoch 10/12\n",
      "300/300 [==============================] - 31s 103ms/step - loss: 0.0940 - accuracy: 0.9681\n",
      "Epoch 11/12\n",
      "300/300 [==============================] - 32s 107ms/step - loss: 0.0628 - accuracy: 0.9797\n",
      "Epoch 12/12\n",
      " 48/300 [===>..........................] - ETA: 26s - loss: 0.0721 - accuracy: 0.9790WARNING:tensorflow:Your input ran out of data; interrupting training. Make sure that your dataset or generator can generate at least `steps_per_epoch * epochs` batches (in this case, 3600 batches). You may need to use the repeat() function when building your dataset.\n"
     ]
    },
    {
     "name": "stderr",
     "output_type": "stream",
     "text": [
      "WARNING:tensorflow:Your input ran out of data; interrupting training. Make sure that your dataset or generator can generate at least `steps_per_epoch * epochs` batches (in this case, 3600 batches). You may need to use the repeat() function when building your dataset.\n"
     ]
    },
    {
     "name": "stdout",
     "output_type": "stream",
     "text": [
      "\b\b\b\b\b\b\b\b\b\b\b\b\b\b\b\b\b\b\b\b\b\b\b\b\b\b\b\b\b\b\b\b\b\b\b\b\b\b\b\b\b\b\b\b\b\b\b\b\b\b\b\b\b\b\b\b\b\b\b\b\b\b\b\b\b\b\b\b\b\b\b\b\b\b\b\b\b\b\b\b\b\b\b\b\b\r",
      " 48/300 [===>..........................] - 5s 104ms/step - loss: 0.0721 - accuracy: 0.9790\n"
     ]
    }
   ],
   "source": [
    "model.compile(optimizer='adam',\n",
    "              loss=tf.keras.losses.SparseCategoricalCrossentropy(from_logits=True),\n",
    "              metrics=['accuracy'])\n",
    "\n",
    "history = model.fit(train_data_reshaped, train_target, epochs=12,steps_per_epoch=300)"
   ]
  },
  {
   "cell_type": "code",
   "execution_count": 112,
   "metadata": {},
   "outputs": [
    {
     "name": "stdout",
     "output_type": "stream",
     "text": [
      "Epoch 1/3\n",
      "96/96 [==============================] - 33s 347ms/step - loss: 0.7641 - accuracy: 0.9814\n",
      "Epoch 2/3\n",
      "96/96 [==============================] - 38s 391ms/step - loss: 0.7607 - accuracy: 0.9840\n",
      "Epoch 3/3\n",
      "96/96 [==============================] - 38s 397ms/step - loss: 0.7574 - accuracy: 0.9866\n"
     ]
    }
   ],
   "source": [
    "model.compile(optimizer='adam',\n",
    "              loss=tf.keras.losses.SparseCategoricalCrossentropy(from_logits=True),\n",
    "              metrics=['accuracy'])\n",
    "\n",
    "history = model.fit(train_data_reshaped, train_target, epochs=3)"
   ]
  },
  {
   "cell_type": "code",
   "execution_count": 87,
   "metadata": {},
   "outputs": [
    {
     "name": "stdout",
     "output_type": "stream",
     "text": [
      "Epoch 1/7\n",
      "96/96 [==============================] - 12s 120ms/step - loss: 0.0721 - accuracy: 0.9755\n",
      "Epoch 2/7\n",
      "96/96 [==============================] - 13s 134ms/step - loss: 0.0444 - accuracy: 0.9837\n",
      "Epoch 3/7\n",
      "96/96 [==============================] - 13s 140ms/step - loss: 0.0879 - accuracy: 0.9703\n",
      "Epoch 4/7\n",
      "96/96 [==============================] - 16s 165ms/step - loss: 0.0431 - accuracy: 0.9853\n",
      "Epoch 5/7\n",
      "96/96 [==============================] - 14s 144ms/step - loss: 0.0432 - accuracy: 0.9840\n",
      "Epoch 6/7\n",
      "96/96 [==============================] - 14s 145ms/step - loss: 0.0542 - accuracy: 0.9788\n",
      "Epoch 7/7\n",
      "96/96 [==============================] - 13s 140ms/step - loss: 0.0387 - accuracy: 0.9866\n"
     ]
    }
   ],
   "source": [
    "model.compile(optimizer='adam',\n",
    "              loss=tf.keras.losses.SparseCategoricalCrossentropy(from_logits=True),\n",
    "              metrics=['accuracy'])\n",
    "\n",
    "history = model.fit(train_data_reshaped, train_target, epochs=7)"
   ]
  },
  {
   "cell_type": "code",
   "execution_count": 116,
   "metadata": {},
   "outputs": [
    {
     "name": "stdout",
     "output_type": "stream",
     "text": [
      "Epoch 1/5\n",
      "96/96 [==============================] - 38s 393ms/step - loss: 0.7582 - accuracy: 0.9860\n",
      "Epoch 2/5\n",
      "96/96 [==============================] - 41s 423ms/step - loss: 0.7593 - accuracy: 0.9847\n",
      "Epoch 3/5\n",
      "96/96 [==============================] - 40s 419ms/step - loss: 0.7583 - accuracy: 0.9860\n",
      "Epoch 4/5\n",
      "96/96 [==============================] - 40s 419ms/step - loss: 0.7583 - accuracy: 0.9863\n",
      "Epoch 5/5\n",
      "96/96 [==============================] - 41s 426ms/step - loss: 0.7572 - accuracy: 0.9873\n"
     ]
    }
   ],
   "source": [
    "model.compile(optimizer='adam',\n",
    "              loss=tf.keras.losses.SparseCategoricalCrossentropy(from_logits=True),\n",
    "              metrics=['accuracy'])\n",
    "\n",
    "history = model.fit(train_data_reshaped, train_target, epochs=5)"
   ]
  },
  {
   "cell_type": "code",
   "execution_count": 129,
   "metadata": {},
   "outputs": [
    {
     "name": "stdout",
     "output_type": "stream",
     "text": [
      "19/19 - 1s - loss: 0.3624 - accuracy: 0.9100\n"
     ]
    }
   ],
   "source": [
    "test_loss, test_acc = model.evaluate(test_data_reshaped,  test_target, verbose=2)"
   ]
  },
  {
   "cell_type": "code",
   "execution_count": 114,
   "metadata": {},
   "outputs": [
    {
     "name": "stdout",
     "output_type": "stream",
     "text": [
      "              precision    recall  f1-score   support\n",
      "\n",
      "           0       0.97      1.00      0.98       150\n",
      "           1       0.99      0.89      0.94       150\n",
      "           2       0.91      0.83      0.87       150\n",
      "           3       0.84      0.97      0.90       150\n",
      "\n",
      "    accuracy                           0.92       600\n",
      "   macro avg       0.93      0.92      0.92       600\n",
      "weighted avg       0.93      0.92      0.92       600\n",
      "\n"
     ]
    }
   ],
   "source": [
    "test_predict = np.argmax(model.predict(test_data_reshaped),axis=-1)\n",
    "print (classification_report(test_target,test_predict))"
   ]
  },
  {
   "cell_type": "code",
   "execution_count": 115,
   "metadata": {},
   "outputs": [
    {
     "data": {
      "text/plain": [
       "Text(33.0, 0.5, 'Actual')"
      ]
     },
     "execution_count": 115,
     "metadata": {},
     "output_type": "execute_result"
    },
    {
     "data": {
      "image/png": "[encoded data removed]",
      "text/plain": [
       "<Figure size 432x288 with 2 Axes>"
      ]
     },
     "metadata": {
      "needs_background": "light"
     },
     "output_type": "display_data"
    }
   ],
   "source": [
    "cm = confusion_matrix(test_target,test_predict)\n",
    "sns.heatmap(cm,annot=True,annot_kws = {'size':15},fmt=\".1f\")\n",
    "plt.xlabel(\"Predict\")\n",
    "plt.ylabel(\"Actual\")"
   ]
  },
  {
   "cell_type": "code",
   "execution_count": null,
   "metadata": {},
   "outputs": [],
   "source": []
  },
  {
   "cell_type": "code",
   "execution_count": null,
   "metadata": {},
   "outputs": [],
   "source": []
  },
  {
   "cell_type": "code",
   "execution_count": null,
   "metadata": {},
   "outputs": [],
   "source": []
  },
  {
   "cell_type": "code",
   "execution_count": null,
   "metadata": {},
   "outputs": [],
   "source": []
  },
  {
   "cell_type": "code",
   "execution_count": null,
   "metadata": {},
   "outputs": [],
   "source": []
  },
  {
   "cell_type": "markdown",
   "metadata": {},
   "source": [
    "# ptolemy 9"
   ]
  },
  {
   "cell_type": "code",
   "execution_count": 107,
   "metadata": {},
   "outputs": [],
   "source": [
    "def label_img(img):\n",
    "    word_label = img.split('_')[0]\n",
    "    if word_label == '0' : return 0\n",
    "    elif word_label == '1' : return 1\n",
    "    elif word_label == '6' : return 2\n",
    "    elif word_label == '9' : return 3\n",
    "    elif word_label == '12' : return 4\n"
   ]
  },
  {
   "cell_type": "code",
   "execution_count": 108,
   "metadata": {},
   "outputs": [],
   "source": [
    "data = []\n",
    "labels = []\n",
    "for img in os.listdir(r'mixed'):\n",
    "    label = label_img(img)\n",
    "    path = os.path.join(r'mixed',img)\n",
    "    img = cv2.resize(cv2.imread(path, cv2.IMREAD_GRAYSCALE),(140,70))\n",
    "    data.append(np.array(np.array(img[0:70,0:70]).flatten()))\n",
    "    labels.append(label)"
   ]
  },
  {
   "cell_type": "code",
   "execution_count": 109,
   "metadata": {},
   "outputs": [],
   "source": [
    "cols = []\n",
    "for i in range(4900):\n",
    "    cols.append(\"pixel_\"+str(i))\n",
    "data = pd.DataFrame(data, columns=cols)\n",
    "data = data/255\n",
    "data['label'] = labels\n",
    "data = data.sample(frac=1,random_state=0)"
   ]
  },
  {
   "cell_type": "code",
   "execution_count": 110,
   "metadata": {},
   "outputs": [
    {
     "data": {
      "text/plain": [
       "4239"
      ]
     },
     "execution_count": 110,
     "metadata": {},
     "output_type": "execute_result"
    }
   ],
   "source": [
    "len(data)"
   ]
  },
  {
   "cell_type": "code",
   "execution_count": null,
   "metadata": {},
   "outputs": [],
   "source": [
    "data.head(20)"
   ]
  },
  {
   "cell_type": "code",
   "execution_count": 130,
   "metadata": {},
   "outputs": [
    {
     "data": {
      "text/html": [
       "<div>\n",
       "<style scoped>\n",
       "    .dataframe tbody tr th:only-of-type {\n",
       "        vertical-align: middle;\n",
       "    }\n",
       "\n",
       "    .dataframe tbody tr th {\n",
       "        vertical-align: top;\n",
       "    }\n",
       "\n",
       "    .dataframe thead th {\n",
       "        text-align: right;\n",
       "    }\n",
       "</style>\n",
       "<table border=\"1\" class=\"dataframe\">\n",
       "  <thead>\n",
       "    <tr style=\"text-align: right;\">\n",
       "      <th></th>\n",
       "      <th>pixel_0</th>\n",
       "      <th>pixel_1</th>\n",
       "      <th>pixel_2</th>\n",
       "      <th>pixel_3</th>\n",
       "      <th>pixel_4</th>\n",
       "      <th>pixel_5</th>\n",
       "      <th>pixel_6</th>\n",
       "      <th>pixel_7</th>\n",
       "      <th>pixel_8</th>\n",
       "      <th>pixel_9</th>\n",
       "      <th>...</th>\n",
       "      <th>pixel_4891</th>\n",
       "      <th>pixel_4892</th>\n",
       "      <th>pixel_4893</th>\n",
       "      <th>pixel_4894</th>\n",
       "      <th>pixel_4895</th>\n",
       "      <th>pixel_4896</th>\n",
       "      <th>pixel_4897</th>\n",
       "      <th>pixel_4898</th>\n",
       "      <th>pixel_4899</th>\n",
       "      <th>label</th>\n",
       "    </tr>\n",
       "  </thead>\n",
       "  <tbody>\n",
       "    <tr>\n",
       "      <th>111</th>\n",
       "      <td>1.000000</td>\n",
       "      <td>1.0</td>\n",
       "      <td>1.0</td>\n",
       "      <td>1.0</td>\n",
       "      <td>1.0</td>\n",
       "      <td>1.0</td>\n",
       "      <td>1.0</td>\n",
       "      <td>1.0</td>\n",
       "      <td>1.0</td>\n",
       "      <td>1.0</td>\n",
       "      <td>...</td>\n",
       "      <td>1.0</td>\n",
       "      <td>1.0</td>\n",
       "      <td>1.0</td>\n",
       "      <td>1.0</td>\n",
       "      <td>1.0</td>\n",
       "      <td>1.0</td>\n",
       "      <td>1.0</td>\n",
       "      <td>1.0</td>\n",
       "      <td>1.0</td>\n",
       "      <td>0</td>\n",
       "    </tr>\n",
       "    <tr>\n",
       "      <th>461</th>\n",
       "      <td>0.996078</td>\n",
       "      <td>1.0</td>\n",
       "      <td>1.0</td>\n",
       "      <td>1.0</td>\n",
       "      <td>1.0</td>\n",
       "      <td>1.0</td>\n",
       "      <td>1.0</td>\n",
       "      <td>1.0</td>\n",
       "      <td>1.0</td>\n",
       "      <td>1.0</td>\n",
       "      <td>...</td>\n",
       "      <td>1.0</td>\n",
       "      <td>1.0</td>\n",
       "      <td>1.0</td>\n",
       "      <td>1.0</td>\n",
       "      <td>1.0</td>\n",
       "      <td>1.0</td>\n",
       "      <td>1.0</td>\n",
       "      <td>1.0</td>\n",
       "      <td>1.0</td>\n",
       "      <td>0</td>\n",
       "    </tr>\n",
       "    <tr>\n",
       "      <th>28</th>\n",
       "      <td>1.000000</td>\n",
       "      <td>1.0</td>\n",
       "      <td>1.0</td>\n",
       "      <td>1.0</td>\n",
       "      <td>1.0</td>\n",
       "      <td>1.0</td>\n",
       "      <td>1.0</td>\n",
       "      <td>1.0</td>\n",
       "      <td>1.0</td>\n",
       "      <td>1.0</td>\n",
       "      <td>...</td>\n",
       "      <td>1.0</td>\n",
       "      <td>1.0</td>\n",
       "      <td>1.0</td>\n",
       "      <td>1.0</td>\n",
       "      <td>1.0</td>\n",
       "      <td>1.0</td>\n",
       "      <td>1.0</td>\n",
       "      <td>1.0</td>\n",
       "      <td>1.0</td>\n",
       "      <td>0</td>\n",
       "    </tr>\n",
       "    <tr>\n",
       "      <th>1045</th>\n",
       "      <td>1.000000</td>\n",
       "      <td>1.0</td>\n",
       "      <td>1.0</td>\n",
       "      <td>1.0</td>\n",
       "      <td>1.0</td>\n",
       "      <td>1.0</td>\n",
       "      <td>1.0</td>\n",
       "      <td>1.0</td>\n",
       "      <td>1.0</td>\n",
       "      <td>1.0</td>\n",
       "      <td>...</td>\n",
       "      <td>1.0</td>\n",
       "      <td>1.0</td>\n",
       "      <td>1.0</td>\n",
       "      <td>1.0</td>\n",
       "      <td>1.0</td>\n",
       "      <td>1.0</td>\n",
       "      <td>1.0</td>\n",
       "      <td>1.0</td>\n",
       "      <td>1.0</td>\n",
       "      <td>0</td>\n",
       "    </tr>\n",
       "    <tr>\n",
       "      <th>626</th>\n",
       "      <td>1.000000</td>\n",
       "      <td>1.0</td>\n",
       "      <td>1.0</td>\n",
       "      <td>1.0</td>\n",
       "      <td>1.0</td>\n",
       "      <td>1.0</td>\n",
       "      <td>1.0</td>\n",
       "      <td>1.0</td>\n",
       "      <td>1.0</td>\n",
       "      <td>1.0</td>\n",
       "      <td>...</td>\n",
       "      <td>1.0</td>\n",
       "      <td>1.0</td>\n",
       "      <td>1.0</td>\n",
       "      <td>1.0</td>\n",
       "      <td>1.0</td>\n",
       "      <td>1.0</td>\n",
       "      <td>1.0</td>\n",
       "      <td>1.0</td>\n",
       "      <td>1.0</td>\n",
       "      <td>0</td>\n",
       "    </tr>\n",
       "  </tbody>\n",
       "</table>\n",
       "<p>5 rows × 4901 columns</p>\n",
       "</div>"
      ],
      "text/plain": [
       "       pixel_0  pixel_1  pixel_2  pixel_3  pixel_4  pixel_5  pixel_6  pixel_7  \\\n",
       "111   1.000000      1.0      1.0      1.0      1.0      1.0      1.0      1.0   \n",
       "461   0.996078      1.0      1.0      1.0      1.0      1.0      1.0      1.0   \n",
       "28    1.000000      1.0      1.0      1.0      1.0      1.0      1.0      1.0   \n",
       "1045  1.000000      1.0      1.0      1.0      1.0      1.0      1.0      1.0   \n",
       "626   1.000000      1.0      1.0      1.0      1.0      1.0      1.0      1.0   \n",
       "\n",
       "      pixel_8  pixel_9  ...  pixel_4891  pixel_4892  pixel_4893  pixel_4894  \\\n",
       "111       1.0      1.0  ...         1.0         1.0         1.0         1.0   \n",
       "461       1.0      1.0  ...         1.0         1.0         1.0         1.0   \n",
       "28        1.0      1.0  ...         1.0         1.0         1.0         1.0   \n",
       "1045      1.0      1.0  ...         1.0         1.0         1.0         1.0   \n",
       "626       1.0      1.0  ...         1.0         1.0         1.0         1.0   \n",
       "\n",
       "      pixel_4895  pixel_4896  pixel_4897  pixel_4898  pixel_4899  label  \n",
       "111          1.0         1.0         1.0         1.0         1.0      0  \n",
       "461          1.0         1.0         1.0         1.0         1.0      0  \n",
       "28           1.0         1.0         1.0         1.0         1.0      0  \n",
       "1045         1.0         1.0         1.0         1.0         1.0      0  \n",
       "626          1.0         1.0         1.0         1.0         1.0      0  \n",
       "\n",
       "[5 rows x 4901 columns]"
      ]
     },
     "execution_count": 130,
     "metadata": {},
     "output_type": "execute_result"
    }
   ],
   "source": [
    "n = 150\n",
    "test = data.groupby('label').get_group(0).sample(n = n)\n",
    "test = test.append(data.groupby('label').get_group(1).sample(n = n))\n",
    "test = test.append(data.groupby('label').get_group(2).sample(n = n))\n",
    "test = test.append(data.groupby('label').get_group(3).sample(n = n))\n",
    "test = test.append(data.groupby('label').get_group(4).sample(n = n))\n",
    "test.head()"
   ]
  },
  {
   "cell_type": "code",
   "execution_count": 131,
   "metadata": {},
   "outputs": [
    {
     "data": {
      "text/html": [
       "<div>\n",
       "<style scoped>\n",
       "    .dataframe tbody tr th:only-of-type {\n",
       "        vertical-align: middle;\n",
       "    }\n",
       "\n",
       "    .dataframe tbody tr th {\n",
       "        vertical-align: top;\n",
       "    }\n",
       "\n",
       "    .dataframe thead th {\n",
       "        text-align: right;\n",
       "    }\n",
       "</style>\n",
       "<table border=\"1\" class=\"dataframe\">\n",
       "  <thead>\n",
       "    <tr style=\"text-align: right;\">\n",
       "      <th></th>\n",
       "      <th>pixel_0</th>\n",
       "      <th>pixel_1</th>\n",
       "      <th>pixel_2</th>\n",
       "      <th>pixel_3</th>\n",
       "      <th>pixel_4</th>\n",
       "      <th>pixel_5</th>\n",
       "      <th>pixel_6</th>\n",
       "      <th>pixel_7</th>\n",
       "      <th>pixel_8</th>\n",
       "      <th>pixel_9</th>\n",
       "      <th>...</th>\n",
       "      <th>pixel_4891</th>\n",
       "      <th>pixel_4892</th>\n",
       "      <th>pixel_4893</th>\n",
       "      <th>pixel_4894</th>\n",
       "      <th>pixel_4895</th>\n",
       "      <th>pixel_4896</th>\n",
       "      <th>pixel_4897</th>\n",
       "      <th>pixel_4898</th>\n",
       "      <th>pixel_4899</th>\n",
       "      <th>label</th>\n",
       "    </tr>\n",
       "  </thead>\n",
       "  <tbody>\n",
       "    <tr>\n",
       "      <th>1465</th>\n",
       "      <td>1.0</td>\n",
       "      <td>1.0</td>\n",
       "      <td>1.0</td>\n",
       "      <td>1.0</td>\n",
       "      <td>1.0</td>\n",
       "      <td>1.0</td>\n",
       "      <td>1.0</td>\n",
       "      <td>1.0</td>\n",
       "      <td>1.0</td>\n",
       "      <td>1.0</td>\n",
       "      <td>...</td>\n",
       "      <td>1.0</td>\n",
       "      <td>1.0</td>\n",
       "      <td>1.0</td>\n",
       "      <td>1.0</td>\n",
       "      <td>1.0</td>\n",
       "      <td>1.0</td>\n",
       "      <td>1.0</td>\n",
       "      <td>1.0</td>\n",
       "      <td>1.0</td>\n",
       "      <td>0</td>\n",
       "    </tr>\n",
       "    <tr>\n",
       "      <th>302</th>\n",
       "      <td>1.0</td>\n",
       "      <td>1.0</td>\n",
       "      <td>1.0</td>\n",
       "      <td>1.0</td>\n",
       "      <td>1.0</td>\n",
       "      <td>1.0</td>\n",
       "      <td>1.0</td>\n",
       "      <td>1.0</td>\n",
       "      <td>1.0</td>\n",
       "      <td>1.0</td>\n",
       "      <td>...</td>\n",
       "      <td>1.0</td>\n",
       "      <td>1.0</td>\n",
       "      <td>1.0</td>\n",
       "      <td>1.0</td>\n",
       "      <td>1.0</td>\n",
       "      <td>1.0</td>\n",
       "      <td>1.0</td>\n",
       "      <td>1.0</td>\n",
       "      <td>1.0</td>\n",
       "      <td>0</td>\n",
       "    </tr>\n",
       "    <tr>\n",
       "      <th>87</th>\n",
       "      <td>1.0</td>\n",
       "      <td>1.0</td>\n",
       "      <td>1.0</td>\n",
       "      <td>1.0</td>\n",
       "      <td>1.0</td>\n",
       "      <td>1.0</td>\n",
       "      <td>1.0</td>\n",
       "      <td>1.0</td>\n",
       "      <td>1.0</td>\n",
       "      <td>1.0</td>\n",
       "      <td>...</td>\n",
       "      <td>1.0</td>\n",
       "      <td>1.0</td>\n",
       "      <td>1.0</td>\n",
       "      <td>1.0</td>\n",
       "      <td>1.0</td>\n",
       "      <td>1.0</td>\n",
       "      <td>1.0</td>\n",
       "      <td>1.0</td>\n",
       "      <td>1.0</td>\n",
       "      <td>0</td>\n",
       "    </tr>\n",
       "    <tr>\n",
       "      <th>1431</th>\n",
       "      <td>1.0</td>\n",
       "      <td>1.0</td>\n",
       "      <td>1.0</td>\n",
       "      <td>1.0</td>\n",
       "      <td>1.0</td>\n",
       "      <td>1.0</td>\n",
       "      <td>1.0</td>\n",
       "      <td>1.0</td>\n",
       "      <td>1.0</td>\n",
       "      <td>1.0</td>\n",
       "      <td>...</td>\n",
       "      <td>1.0</td>\n",
       "      <td>1.0</td>\n",
       "      <td>1.0</td>\n",
       "      <td>1.0</td>\n",
       "      <td>1.0</td>\n",
       "      <td>1.0</td>\n",
       "      <td>1.0</td>\n",
       "      <td>1.0</td>\n",
       "      <td>1.0</td>\n",
       "      <td>0</td>\n",
       "    </tr>\n",
       "    <tr>\n",
       "      <th>661</th>\n",
       "      <td>1.0</td>\n",
       "      <td>1.0</td>\n",
       "      <td>1.0</td>\n",
       "      <td>1.0</td>\n",
       "      <td>1.0</td>\n",
       "      <td>1.0</td>\n",
       "      <td>1.0</td>\n",
       "      <td>1.0</td>\n",
       "      <td>1.0</td>\n",
       "      <td>1.0</td>\n",
       "      <td>...</td>\n",
       "      <td>1.0</td>\n",
       "      <td>1.0</td>\n",
       "      <td>1.0</td>\n",
       "      <td>1.0</td>\n",
       "      <td>1.0</td>\n",
       "      <td>1.0</td>\n",
       "      <td>1.0</td>\n",
       "      <td>1.0</td>\n",
       "      <td>1.0</td>\n",
       "      <td>0</td>\n",
       "    </tr>\n",
       "  </tbody>\n",
       "</table>\n",
       "<p>5 rows × 4901 columns</p>\n",
       "</div>"
      ],
      "text/plain": [
       "      pixel_0  pixel_1  pixel_2  pixel_3  pixel_4  pixel_5  pixel_6  pixel_7  \\\n",
       "1465      1.0      1.0      1.0      1.0      1.0      1.0      1.0      1.0   \n",
       "302       1.0      1.0      1.0      1.0      1.0      1.0      1.0      1.0   \n",
       "87        1.0      1.0      1.0      1.0      1.0      1.0      1.0      1.0   \n",
       "1431      1.0      1.0      1.0      1.0      1.0      1.0      1.0      1.0   \n",
       "661       1.0      1.0      1.0      1.0      1.0      1.0      1.0      1.0   \n",
       "\n",
       "      pixel_8  pixel_9  ...  pixel_4891  pixel_4892  pixel_4893  pixel_4894  \\\n",
       "1465      1.0      1.0  ...         1.0         1.0         1.0         1.0   \n",
       "302       1.0      1.0  ...         1.0         1.0         1.0         1.0   \n",
       "87        1.0      1.0  ...         1.0         1.0         1.0         1.0   \n",
       "1431      1.0      1.0  ...         1.0         1.0         1.0         1.0   \n",
       "661       1.0      1.0  ...         1.0         1.0         1.0         1.0   \n",
       "\n",
       "      pixel_4895  pixel_4896  pixel_4897  pixel_4898  pixel_4899  label  \n",
       "1465         1.0         1.0         1.0         1.0         1.0      0  \n",
       "302          1.0         1.0         1.0         1.0         1.0      0  \n",
       "87           1.0         1.0         1.0         1.0         1.0      0  \n",
       "1431         1.0         1.0         1.0         1.0         1.0      0  \n",
       "661          1.0         1.0         1.0         1.0         1.0      0  \n",
       "\n",
       "[5 rows x 4901 columns]"
      ]
     },
     "execution_count": 131,
     "metadata": {},
     "output_type": "execute_result"
    }
   ],
   "source": [
    "train = data[ ~data.index.isin(test.index) ]\n",
    "train.head()"
   ]
  },
  {
   "cell_type": "code",
   "execution_count": 132,
   "metadata": {},
   "outputs": [],
   "source": [
    "train_data = train.drop('label',axis=1)\n",
    "train_target = train['label']\n",
    "\n",
    "test_data = test.drop('label',axis=1)\n",
    "test_target = test['label']"
   ]
  },
  {
   "cell_type": "code",
   "execution_count": 133,
   "metadata": {},
   "outputs": [
    {
     "data": {
      "text/plain": [
       "<matplotlib.image.AxesImage at 0x218350e2070>"
      ]
     },
     "execution_count": 133,
     "metadata": {},
     "output_type": "execute_result"
    },
    {
     "data": {
      "image/png": "[encoded data removed]",
      "text/plain": [
       "<Figure size 432x288 with 1 Axes>"
      ]
     },
     "metadata": {
      "needs_background": "light"
     },
     "output_type": "display_data"
    }
   ],
   "source": [
    "plt.imshow(train_data.iloc[0].values.reshape((70,70)))"
   ]
  },
  {
   "cell_type": "code",
   "execution_count": 134,
   "metadata": {},
   "outputs": [],
   "source": [
    "train_data_reshaped = []\n",
    "test_data_reshaped = []\n",
    "for i in range(len(train_data)):\n",
    "    t = train_data.iloc[i].values.reshape((70,70))\n",
    "    t = np.array(t)\n",
    "    train_data_reshaped.append(t)\n",
    "    \n",
    "for i in range(len(test_data)):\n",
    "    t = test_data.iloc[i].values.reshape((70,70))\n",
    "    t = np.array(t)\n",
    "    test_data_reshaped.append(t)"
   ]
  },
  {
   "cell_type": "code",
   "execution_count": 135,
   "metadata": {},
   "outputs": [],
   "source": [
    "train_data_reshaped = np.array(train_data_reshaped)\n",
    "test_data_reshaped = np.array(test_data_reshaped)"
   ]
  },
  {
   "cell_type": "code",
   "execution_count": 136,
   "metadata": {},
   "outputs": [],
   "source": [
    "test_data_reshaped = np.expand_dims(test_data_reshaped,axis=-1)\n",
    "train_data_reshaped = np.expand_dims(train_data_reshaped,axis=-1)"
   ]
  },
  {
   "cell_type": "code",
   "execution_count": 139,
   "metadata": {},
   "outputs": [
    {
     "name": "stdout",
     "output_type": "stream",
     "text": [
      "Model: \"sequential_12\"\n",
      "_________________________________________________________________\n",
      "Layer (type)                 Output Shape              Param #   \n",
      "=================================================================\n",
      "conv2d_109 (Conv2D)          (None, 68, 68, 32)        320       \n",
      "_________________________________________________________________\n",
      "max_pooling2d_52 (MaxPooling (None, 34, 34, 32)        0         \n",
      "_________________________________________________________________\n",
      "conv2d_110 (Conv2D)          (None, 32, 32, 42)        12138     \n",
      "_________________________________________________________________\n",
      "max_pooling2d_53 (MaxPooling (None, 16, 16, 42)        0         \n",
      "_________________________________________________________________\n",
      "conv2d_111 (Conv2D)          (None, 14, 14, 52)        19708     \n",
      "_________________________________________________________________\n",
      "max_pooling2d_54 (MaxPooling (None, 7, 7, 52)          0         \n",
      "_________________________________________________________________\n",
      "conv2d_112 (Conv2D)          (None, 5, 5, 62)          29078     \n",
      "_________________________________________________________________\n",
      "max_pooling2d_55 (MaxPooling (None, 2, 2, 62)          0         \n",
      "_________________________________________________________________\n",
      "flatten_12 (Flatten)         (None, 248)               0         \n",
      "_________________________________________________________________\n",
      "dense_38 (Dense)             (None, 64)                15936     \n",
      "_________________________________________________________________\n",
      "dense_39 (Dense)             (None, 32)                2080      \n",
      "_________________________________________________________________\n",
      "dense_40 (Dense)             (None, 5)                 165       \n",
      "=================================================================\n",
      "Total params: 79,425\n",
      "Trainable params: 79,425\n",
      "Non-trainable params: 0\n",
      "_________________________________________________________________\n"
     ]
    }
   ],
   "source": [
    "model = models.Sequential()\n",
    "model.add(layers.Conv2D(32, (3, 3), activation='relu', input_shape=(70, 70, 1)))\n",
    "model.add(layers.MaxPooling2D((2, 2)))\n",
    "model.add(layers.Conv2D(42, (3, 3), activation='relu'))\n",
    "model.add(layers.MaxPooling2D((2, 2)))\n",
    "model.add(layers.Conv2D(52, (3, 3), activation='relu'))\n",
    "model.add(layers.MaxPooling2D((2, 2)))\n",
    "model.add(layers.Conv2D(62, (3, 3), activation='relu'))\n",
    "model.add(layers.MaxPooling2D((2, 2)))\n",
    "\n",
    "\n",
    "model.add(layers.Flatten())\n",
    "model.add(layers.Dense(64, activation='relu'))\n",
    "model.add(layers.Dense(32, activation='relu'))\n",
    "model.add(layers.Dense(5))\n",
    "model.summary()"
   ]
  },
  {
   "cell_type": "code",
   "execution_count": 140,
   "metadata": {},
   "outputs": [
    {
     "name": "stdout",
     "output_type": "stream",
     "text": [
      "Epoch 1/30\n",
      "35/35 [==============================] - 7s 203ms/step - loss: 1.5129 - accuracy: 0.3772\n",
      "Epoch 2/30\n",
      "35/35 [==============================] - 7s 201ms/step - loss: 1.2489 - accuracy: 0.4580\n",
      "Epoch 3/30\n",
      "35/35 [==============================] - 7s 203ms/step - loss: 0.9202 - accuracy: 0.6128\n",
      "Epoch 4/30\n",
      "35/35 [==============================] - 7s 203ms/step - loss: 0.7860 - accuracy: 0.6778\n",
      "Epoch 5/30\n",
      "35/35 [==============================] - 7s 201ms/step - loss: 0.6917 - accuracy: 0.7303\n",
      "Epoch 6/30\n",
      "35/35 [==============================] - 7s 201ms/step - loss: 0.6128 - accuracy: 0.7607\n",
      "Epoch 7/30\n",
      "35/35 [==============================] - 7s 202ms/step - loss: 0.5560 - accuracy: 0.7971\n",
      "Epoch 8/30\n",
      "35/35 [==============================] - 7s 201ms/step - loss: 0.4937 - accuracy: 0.8174\n",
      "Epoch 9/30\n",
      "35/35 [==============================] - 7s 209ms/step - loss: 0.4504 - accuracy: 0.8381\n",
      "Epoch 10/30\n",
      "35/35 [==============================] - 7s 208ms/step - loss: 0.4297 - accuracy: 0.8444\n",
      "Epoch 11/30\n",
      "35/35 [==============================] - 7s 209ms/step - loss: 0.3860 - accuracy: 0.8587\n",
      "Epoch 12/30\n",
      "35/35 [==============================] - 7s 208ms/step - loss: 0.3640 - accuracy: 0.8670\n",
      "Epoch 13/30\n",
      "35/35 [==============================] - 7s 207ms/step - loss: 0.3344 - accuracy: 0.8782\n",
      "Epoch 14/30\n",
      "35/35 [==============================] - 7s 210ms/step - loss: 0.2989 - accuracy: 0.8962\n",
      "Epoch 15/30\n",
      "35/35 [==============================] - 7s 208ms/step - loss: 0.3026 - accuracy: 0.8891\n",
      "Epoch 16/30\n",
      "35/35 [==============================] - 7s 207ms/step - loss: 0.2631 - accuracy: 0.9037\n",
      "Epoch 17/30\n",
      "35/35 [==============================] - 7s 210ms/step - loss: 0.2494 - accuracy: 0.9140\n",
      "Epoch 18/30\n",
      "35/35 [==============================] - 7s 210ms/step - loss: 0.2163 - accuracy: 0.9255\n",
      "Epoch 19/30\n",
      "35/35 [==============================] - 7s 208ms/step - loss: 0.1985 - accuracy: 0.9298\n",
      "Epoch 20/30\n",
      "35/35 [==============================] - 7s 208ms/step - loss: 0.1873 - accuracy: 0.9364\n",
      "Epoch 21/30\n",
      "35/35 [==============================] - 7s 207ms/step - loss: 0.1667 - accuracy: 0.9407\n",
      "Epoch 22/30\n",
      "35/35 [==============================] - 7s 207ms/step - loss: 0.1406 - accuracy: 0.9564\n",
      "Epoch 23/30\n",
      "35/35 [==============================] - 7s 211ms/step - loss: 0.1179 - accuracy: 0.9679\n",
      "Epoch 24/30\n",
      "35/35 [==============================] - 7s 208ms/step - loss: 0.1126 - accuracy: 0.9668\n",
      "Epoch 25/30\n",
      "35/35 [==============================] - 7s 210ms/step - loss: 0.0957 - accuracy: 0.9699\n",
      "Epoch 26/30\n",
      "35/35 [==============================] - 7s 208ms/step - loss: 0.0816 - accuracy: 0.9751\n",
      "Epoch 27/30\n",
      "35/35 [==============================] - 7s 207ms/step - loss: 0.0588 - accuracy: 0.9868\n",
      "Epoch 28/30\n",
      "35/35 [==============================] - 7s 208ms/step - loss: 0.0547 - accuracy: 0.9860\n",
      "Epoch 29/30\n",
      "35/35 [==============================] - 7s 208ms/step - loss: 0.0634 - accuracy: 0.9805\n",
      "Epoch 30/30\n",
      "35/35 [==============================] - 7s 210ms/step - loss: 0.0448 - accuracy: 0.9882\n"
     ]
    }
   ],
   "source": [
    "model.compile(optimizer='adam',\n",
    "              loss=tf.keras.losses.SparseCategoricalCrossentropy(from_logits=True),\n",
    "              metrics=['accuracy'])\n",
    "\n",
    "history = model.fit(train_data_reshaped, train_target, epochs=30,batch_size=100)"
   ]
  },
  {
   "cell_type": "code",
   "execution_count": 141,
   "metadata": {},
   "outputs": [
    {
     "name": "stdout",
     "output_type": "stream",
     "text": [
      "24/24 - 0s - loss: 0.8859 - accuracy: 0.8133\n"
     ]
    }
   ],
   "source": [
    "test_loss, test_acc = model.evaluate(test_data_reshaped,  test_target, verbose=2)"
   ]
  },
  {
   "cell_type": "code",
   "execution_count": 142,
   "metadata": {},
   "outputs": [
    {
     "name": "stdout",
     "output_type": "stream",
     "text": [
      "              precision    recall  f1-score   support\n",
      "\n",
      "           0       0.96      0.98      0.97       150\n",
      "           1       0.91      0.92      0.91       150\n",
      "           2       0.76      0.81      0.78       150\n",
      "           3       0.73      0.62      0.67       150\n",
      "           4       0.70      0.73      0.72       150\n",
      "\n",
      "    accuracy                           0.81       750\n",
      "   macro avg       0.81      0.81      0.81       750\n",
      "weighted avg       0.81      0.81      0.81       750\n",
      "\n"
     ]
    }
   ],
   "source": [
    "test_predict = np.argmax(model.predict(test_data_reshaped),axis=-1)\n",
    "print (classification_report(test_target,test_predict))"
   ]
  },
  {
   "cell_type": "code",
   "execution_count": 143,
   "metadata": {},
   "outputs": [
    {
     "data": {
      "text/plain": [
       "Text(33.0, 0.5, 'Actual')"
      ]
     },
     "execution_count": 143,
     "metadata": {},
     "output_type": "execute_result"
    },
    {
     "data": {
      "image/png": "[encoded data removed]",
      "text/plain": [
       "<Figure size 432x288 with 2 Axes>"
      ]
     },
     "metadata": {
      "needs_background": "light"
     },
     "output_type": "display_data"
    }
   ],
   "source": [
    "cm = confusion_matrix(test_target,test_predict)\n",
    "sns.heatmap(cm,annot=True,annot_kws = {'size':15},fmt=\".1f\")\n",
    "plt.xlabel(\"Predict\")\n",
    "plt.ylabel(\"Actual\")"
   ]
  },
  {
   "cell_type": "code",
   "execution_count": null,
   "metadata": {},
   "outputs": [],
   "source": []
  },
  {
   "cell_type": "code",
   "execution_count": null,
   "metadata": {},
   "outputs": [],
   "source": []
  },
  {
   "cell_type": "code",
   "execution_count": null,
   "metadata": {},
   "outputs": [],
   "source": []
  },
  {
   "cell_type": "code",
   "execution_count": null,
   "metadata": {},
   "outputs": [],
   "source": []
  },
  {
   "cell_type": "code",
   "execution_count": null,
   "metadata": {},
   "outputs": [],
   "source": []
  },
  {
   "cell_type": "code",
   "execution_count": null,
   "metadata": {},
   "outputs": [],
   "source": []
  },
  {
   "cell_type": "code",
   "execution_count": null,
   "metadata": {},
   "outputs": [],
   "source": []
  },
  {
   "cell_type": "code",
   "execution_count": null,
   "metadata": {},
   "outputs": [],
   "source": []
  },
  {
   "cell_type": "code",
   "execution_count": null,
   "metadata": {},
   "outputs": [],
   "source": []
  },
  {
   "cell_type": "code",
   "execution_count": null,
   "metadata": {},
   "outputs": [],
   "source": []
  },
  {
   "cell_type": "code",
   "execution_count": null,
   "metadata": {},
   "outputs": [],
   "source": []
  },
  {
   "cell_type": "code",
   "execution_count": null,
   "metadata": {},
   "outputs": [],
   "source": []
  }
 ],
 "metadata": {
  "kernelspec": {
   "display_name": "Python 3",
   "language": "python",
   "name": "python3"
  },
  "language_info": {
   "codemirror_mode": {
    "name": "ipython",
    "version": 3
   },
   "file_extension": ".py",
   "mimetype": "text/x-python",
   "name": "python",
   "nbconvert_exporter": "python",
   "pygments_lexer": "ipython3",
   "version": "3.8.3"
  }
 },
 "nbformat": 4,
 "nbformat_minor": 4
}
