{
 "cells": [
  {
   "cell_type": "code",
   "execution_count": 1,
   "metadata": {},
   "outputs": [],
   "source": [
    "# from bs4 import BeautifulSoup\n",
    "# import requests\n",
    "# import os\n",
    "# import pandas as pd\n",
    "# import numpy as np"
   ]
  },
  {
   "cell_type": "code",
   "execution_count": 2,
   "metadata": {},
   "outputs": [],
   "source": [
    "# lst = [\"ID\",\"description\",\"img_url\"]\n",
    "# df = pd.DataFrame(columns = lst)"
   ]
  },
  {
   "cell_type": "code",
   "execution_count": 3,
   "metadata": {},
   "outputs": [],
   "source": [
    "# url = 'https://pro.coinarchives.com/a/results.php?search=PTOLEMY+I+and+tetradrachm+not+PTOLEMY+II+not+PTOLEMY+III+not+PTOLEMY+IV+not+PTOLEMY+VI+not+PTOLEMY+VII+not+PTOLEMY+VIII+not+PTOLEMY+IX+not+PTOLEMY+V+not+CLEOPATRA+not+gold+not+bronze&s=1&results=1600#result800'"
   ]
  },
  {
   "cell_type": "code",
   "execution_count": 4,
   "metadata": {},
   "outputs": [],
   "source": [
    "# html_text = requests.get(url).text\n",
    "# soup = BeautifulSoup(html_text,'lxml')"
   ]
  },
  {
   "cell_type": "code",
   "execution_count": 5,
   "metadata": {},
   "outputs": [],
   "source": [
    "# body = soup.find('table', class_ = 'results')\n",
    "# cards = body.find_all('tr')"
   ]
  },
  {
   "cell_type": "code",
   "execution_count": 6,
   "metadata": {},
   "outputs": [],
   "source": [
    "# def isNotSilver(des):\n",
    "#     silver_filters = [\"Bronze\",\"bronze\",\"BRONZE\",\"gold\",\"GOLD\",\"Gold\"]\n",
    "#     for f in silver_filters:\n",
    "#         if f in des:\n",
    "#             return True "
   ]
  },
  {
   "cell_type": "code",
   "execution_count": 7,
   "metadata": {},
   "outputs": [],
   "source": [
    "# skip_counter = 0\n",
    "# for card in cards:\n",
    "#     try:\n",
    "#         des = card.find('span').text.strip()\n",
    "#         img_url = card.find('td',class_=\"rightborder\").div.a['href']\n",
    "#         dic = {\"ID\":card[\"id\"],\"description\":des,\"img_url\":img_url}\n",
    "#         df = df.append(dic,ignore_index = True)\n",
    "#     except:\n",
    "#         skip_counter +=1\n",
    "#         continue"
   ]
  },
  {
   "cell_type": "code",
   "execution_count": 8,
   "metadata": {},
   "outputs": [],
   "source": [
    "# def kingNum(strg:str):\n",
    "#     if \" I \" in strg :\n",
    "#         return 1\n",
    "#     elif \" II \" in strg :\n",
    "#         return 2\n",
    "#     elif \" III \" in strg :\n",
    "#         return 3\n",
    "#     elif \" IV \" in strg :\n",
    "#         return 4\n",
    "#     elif \" V \" in strg :\n",
    "#         return 5\n",
    "#     elif \" VI \" in strg :\n",
    "#         return 6\n",
    "#     elif \" VIII \" in strg :\n",
    "#         return 8\n",
    "#     elif \" IX \" in strg :\n",
    "#         return 9\n",
    "#     else:\n",
    "#         return 0\n"
   ]
  },
  {
   "cell_type": "code",
   "execution_count": 9,
   "metadata": {},
   "outputs": [],
   "source": [
    "# def imagedown(url, folder):\n",
    "#     try:\n",
    "#         os.mkdir(os.path.join(os.getcwd(), folder))\n",
    "#     except:\n",
    "#         pass\n",
    "#     os.chdir(os.path.join(os.getcwd(), folder))\n",
    "#     r = requests.get(url)\n",
    "#     soup = BeautifulSoup(r.text, 'html.parser')\n",
    "#     body = soup.find('table', class_ = 'results')\n",
    "#     cards = body.find_all('tr')\n",
    "#     for card in cards:\n",
    "#         try:\n",
    "#             des = str(card.find('span').text.strip()).upper()\n",
    "#             num = kingNum(des)\n",
    "#             name = card[\"id\"]\n",
    "#             link = card.find('td',class_=\"rightborder\").div.a['href']\n",
    "#             with open(name+'_'+str(num)+'.jpg', 'wb') as f:\n",
    "#                 im = requests.get(link)\n",
    "#                 f.write(im.content)\n",
    "#                 print('Writing: ', name)\n",
    "#         except:\n",
    "#             pass\n",
    "#     os.chdir(os.path.join(os.getcwd(), os.pardir))"
   ]
  },
  {
   "cell_type": "code",
   "execution_count": 10,
   "metadata": {},
   "outputs": [],
   "source": [
    "# imagedown(url,'silver ptolemy')"
   ]
  },
  {
   "cell_type": "code",
   "execution_count": 11,
   "metadata": {},
   "outputs": [],
   "source": [
    "# def kingNum(strg:str):\n",
    "#     if \"PTOLEMY I\" in strg :\n",
    "#         return 1\n",
    "#     elif \"PTOLEMY II\" in strg :\n",
    "#         return 2\n",
    "#     elif \"PTOLEMY III\" in strg :\n",
    "#         return 3\n",
    "#     elif \"PTOLEMY IV\" in strg :\n",
    "#         return 4\n",
    "#     elif \"PTOLEMY V\" in strg :\n",
    "#         return 5\n",
    "#     elif \"PTOLEMY VI\" in strg :\n",
    "#         return 6\n",
    "#     elif \"PTOLEMY VIII\" in strg :\n",
    "#         return 8\n",
    "#     elif \"CLEOPATRA II\" in strg :\n",
    "#         return 8\n",
    "#     elif \"PTOLEMY IX\" in strg :\n",
    "#         return 9\n",
    "#     elif \"PTOLEMEE I\" in strg :\n",
    "#         return 1\n",
    "#     elif \"PTOLEMEE II\" in strg :\n",
    "#         return 2\n",
    "#     elif \"PTOLEMEE III\" in strg :\n",
    "#         return 3\n",
    "#     elif \"PTOLEMEE IV\" in strg :\n",
    "#         return 4\n",
    "#     elif \"PTOLEMEE V\" in strg :\n",
    "#         return 5\n",
    "#     elif \"PTOLEMEE VI\" in strg :\n",
    "#         return 6\n",
    "#     elif \"PTOLEMEE VIII\" in strg :\n",
    "#         return 8\n",
    "#     elif \"PTOLEMEE IX\" in strg :\n",
    "#         return 9\n",
    "#     elif \" I \" in strg :\n",
    "#         return 1\n",
    "#     elif \" II \" in strg :\n",
    "#         return 2\n",
    "#     elif \" III \" in strg :\n",
    "#         return 3\n",
    "#     elif \" IV \" in strg :\n",
    "#         return 4\n",
    "#     elif \" V \" in strg :\n",
    "#         return 5\n",
    "#     elif \" VI \" in strg :\n",
    "#         return 6\n",
    "#     elif \" VIII \" in strg :\n",
    "#         return 8\n",
    "#     elif \" IX \" in strg :\n",
    "#         return 9\n",
    "#     else:\n",
    "#         return 0"
   ]
  },
  {
   "cell_type": "code",
   "execution_count": 1,
   "metadata": {},
   "outputs": [],
   "source": [
    "from selenium import webdriver\n",
    "import time\n",
    "import requests\n",
    "import os\n",
    "import pandas as pd\n",
    "import numpy as np"
   ]
  },
  {
   "cell_type": "markdown",
   "metadata": {},
   "source": [
    "# ptolemy I"
   ]
  },
  {
   "cell_type": "code",
   "execution_count": 18,
   "metadata": {},
   "outputs": [],
   "source": [
    "PATH = \"C:\\Program Files (x86)\\chrome driver\\chromedriver.exe\"\n",
    "# url = 'https://www.acsearch.info/search.html?term=PTOLEMY+silver&category=1-2&lot=&date_from=&date_to=&thesaurus=1&images=1&en=1&de=1&fr=1&it=1&es=1&ot=1&currency=usd&order=0'\n",
    "url = 'https://pro.coinarchives.com/a/results.php?search=PTOLEMY+I+and+tetradrachm+not+PTOLEMY+II+not+PTOLEMY+III+not+PTOLEMY+IV+not+PTOLEMY+VI+not+PTOLEMY+VII+not+PTOLEMY+VIII+not+PTOLEMY+IX+not+PTOLEMY+V+not+CLEOPATRA+not+gold+not+bronze+not+PTOLEMY+X+not+PTOLEMY+XI+not+PTOLEMY+XII+not+PTOLEMY+XIII&s=1&results=3200#result1600'"
   ]
  },
  {
   "cell_type": "code",
   "execution_count": 19,
   "metadata": {},
   "outputs": [],
   "source": [
    "# PTOLEMY I and tetradrachm not PTOLEMY II not PTOLEMY III not PTOLEMY IV not PTOLEMY VI not PTOLEMY VII not PTOLEMY VIII not PTOLEMY IX not PTOLEMY V not CLEOPATRA not gold not bronze not PTOLEMY X not PTOLEMY XI not PTOLEMY XII not PTOLEMY XIII"
   ]
  },
  {
   "cell_type": "code",
   "execution_count": 20,
   "metadata": {},
   "outputs": [],
   "source": [
    "driver = webdriver.Chrome(PATH)\n",
    "driver.get(url)"
   ]
  },
  {
   "cell_type": "code",
   "execution_count": 4,
   "metadata": {},
   "outputs": [],
   "source": [
    "container = driver.find_element_by_class_name(\"container\")\n",
    "body = container.find_element_by_class_name(\"results\")\n",
    "cards = body.find_elements_by_tag_name(\"tr\")\n",
    "\n",
    "name = cards[1].get_attribute(\"id\")\n",
    "des = cards[1].find_element_by_tag_name(\"span\")\n",
    "\n",
    "img_link = cards[1].find_element_by_class_name(\"rightborder\")\n",
    "img_link = img_link.find_element_by_tag_name(\"a\")\n",
    "img_link = img_link.get_attribute(\"href\")"
   ]
  },
  {
   "cell_type": "code",
   "execution_count": 6,
   "metadata": {},
   "outputs": [],
   "source": [
    "def isAlex(strg:str):\n",
    "    if \"ALEXANDER\" in strg:\n",
    "        return 0\n",
    "    else:\n",
    "        return 1"
   ]
  },
  {
   "cell_type": "code",
   "execution_count": 7,
   "metadata": {},
   "outputs": [
    {
     "name": "stdout",
     "output_type": "stream",
     "text": [
      "Start scrapping...\n",
      "0  out of  2433\n",
      "100  out of  2433\n",
      "200  out of  2433\n",
      "300  out of  2433\n",
      "400  out of  2433\n",
      "500  out of  2433\n",
      "600  out of  2433\n",
      "700  out of  2433\n",
      "800  out of  2433\n",
      "900  out of  2433\n",
      "1000  out of  2433\n",
      "1100  out of  2433\n",
      "1200  out of  2433\n",
      "1300  out of  2433\n",
      "1400  out of  2433\n",
      "1500  out of  2433\n",
      "1600  out of  2433\n",
      "1700  out of  2433\n",
      "1800  out of  2433\n",
      "1900  out of  2433\n",
      "2000  out of  2433\n",
      "2100  out of  2433\n",
      "2200  out of  2433\n",
      "2300  out of  2433\n",
      "2400  out of  2433\n"
     ]
    }
   ],
   "source": [
    "folder = \"ptolemy silver proarchives\"\n",
    "try:\n",
    "    os.mkdir(os.path.join(os.getcwd(), folder))\n",
    "except:\n",
    "    pass\n",
    "os.chdir(os.path.join(os.getcwd(), folder))\n",
    "container = driver.find_element_by_class_name(\"container\")\n",
    "body = container.find_element_by_class_name(\"results\")\n",
    "cards = body.find_elements_by_tag_name(\"tr\")\n",
    "\n",
    "print(\"Start scrapping...\")\n",
    "for index, card in enumerate(cards):\n",
    "    try:\n",
    "        if(index%100 == 0):\n",
    "            print(index, \" out of \",len(cards))\n",
    "            \n",
    "        name = card.get_attribute(\"id\")            \n",
    "        if name is None:\n",
    "            continue\n",
    "        \n",
    "        des = card.find_element_by_tag_name(\"span\")\n",
    "        des = str(des.text).upper()\n",
    "\n",
    "        num = isAlex(des)\n",
    "        name = str(num) + \"_\" + name + '.jpg'    \n",
    "\n",
    "        img_link = card.find_element_by_class_name(\"rightborder\")\n",
    "        img_link = img_link.find_element_by_tag_name(\"a\")\n",
    "        img_link = img_link.get_attribute(\"href\")\n",
    "       \n",
    "        with open(name, 'wb') as f:\n",
    "            im = requests.get(img_link)\n",
    "            f.write(im.content)   \n",
    "            \n",
    "    except:\n",
    "        pass\n",
    "os.chdir(os.path.join(os.getcwd(), os.pardir))"
   ]
  },
  {
   "cell_type": "code",
   "execution_count": null,
   "metadata": {},
   "outputs": [],
   "source": []
  },
  {
   "cell_type": "markdown",
   "metadata": {},
   "source": [
    "# ptolemy 2"
   ]
  },
  {
   "cell_type": "code",
   "execution_count": 4,
   "metadata": {},
   "outputs": [],
   "source": [
    "PATH = \"C:\\Program Files (x86)\\chrome driver\\chromedriver.exe\"\n",
    "url = 'https://pro.coinarchives.com/a/results.php?search=PTOLEMY+II+and+tetradrachm+not+PTOLEMY+III+not+PTOLEMY+IV+not+PTOLEMY+VI+not+PTOLEMY+VII+not+PTOLEMY+VIII+not+PTOLEMY+IX+not+PTOLEMY+V+not+CLEOPATRA+not+gold+not+bronze+not+PTOLEMY+X+not+PTOLEMY+XI+not+PTOLEMY+XII+not+PTOLEMY+XIII&s=1&results=1600#result800'"
   ]
  },
  {
   "cell_type": "code",
   "execution_count": 5,
   "metadata": {},
   "outputs": [],
   "source": [
    "driver = webdriver.Chrome(PATH)\n",
    "driver.get(url)"
   ]
  },
  {
   "cell_type": "code",
   "execution_count": 24,
   "metadata": {},
   "outputs": [],
   "source": [
    "container = driver.find_element_by_class_name(\"container\")\n",
    "body = container.find_element_by_class_name(\"results\")\n",
    "cards = body.find_elements_by_tag_name(\"tr\")\n",
    "\n",
    "name = cards[1].get_attribute(\"id\")\n",
    "des = cards[1].find_element_by_tag_name(\"span\")\n",
    "\n",
    "img_link = cards[1].find_element_by_class_name(\"rightborder\")\n",
    "img_link = img_link.find_element_by_tag_name(\"a\")\n",
    "img_link = img_link.get_attribute(\"href\")"
   ]
  },
  {
   "cell_type": "code",
   "execution_count": 25,
   "metadata": {},
   "outputs": [
    {
     "name": "stdout",
     "output_type": "stream",
     "text": [
      "Start scrapping...\n",
      "0  out of  1654\n",
      "100  out of  1654\n",
      "200  out of  1654\n",
      "300  out of  1654\n",
      "400  out of  1654\n",
      "500  out of  1654\n",
      "600  out of  1654\n",
      "700  out of  1654\n",
      "800  out of  1654\n",
      "900  out of  1654\n",
      "1000  out of  1654\n",
      "1100  out of  1654\n",
      "1200  out of  1654\n",
      "1300  out of  1654\n",
      "1400  out of  1654\n",
      "1500  out of  1654\n",
      "1600  out of  1654\n"
     ]
    }
   ],
   "source": [
    "folder = \"ptolemy II\"\n",
    "try:\n",
    "    os.mkdir(os.path.join(os.getcwd(), folder))\n",
    "except:\n",
    "    pass\n",
    "os.chdir(os.path.join(os.getcwd(), folder))\n",
    "container = driver.find_element_by_class_name(\"container\")\n",
    "body = container.find_element_by_class_name(\"results\")\n",
    "cards = body.find_elements_by_tag_name(\"tr\")\n",
    "\n",
    "print(\"Start scrapping...\")\n",
    "for index, card in enumerate(cards):\n",
    "    try:\n",
    "        if(index%100 == 0):\n",
    "            print(index, \" out of \",len(cards))\n",
    "            \n",
    "        name = card.get_attribute(\"id\")            \n",
    "        if name is None:\n",
    "            continue\n",
    "        \n",
    "        des = card.find_element_by_tag_name(\"span\")\n",
    "        des = str(des.text).upper()\n",
    "\n",
    "        num = 2\n",
    "        name = str(num) + \"_\" + name + '.jpg'    \n",
    "\n",
    "        img_link = card.find_element_by_class_name(\"rightborder\")\n",
    "        img_link = img_link.find_element_by_tag_name(\"a\")\n",
    "        img_link = img_link.get_attribute(\"href\")\n",
    "       \n",
    "        with open(name, 'wb') as f:\n",
    "            im = requests.get(img_link)\n",
    "            f.write(im.content)   \n",
    "            \n",
    "    except:\n",
    "        pass\n",
    "os.chdir(os.path.join(os.getcwd(), os.pardir))"
   ]
  },
  {
   "cell_type": "code",
   "execution_count": null,
   "metadata": {},
   "outputs": [],
   "source": []
  },
  {
   "cell_type": "markdown",
   "metadata": {},
   "source": [
    "# ptolmy VI"
   ]
  },
  {
   "cell_type": "code",
   "execution_count": 8,
   "metadata": {},
   "outputs": [],
   "source": [
    "PATH = \"C:\\Program Files (x86)\\chrome driver\\chromedriver.exe\"\n",
    "url = 'https://pro.coinarchives.com/a/results.php?search=PTOLEMY+VI+and+tetradrachm+not+PTOLEMY+VIII&s=1&results=800#result400'"
   ]
  },
  {
   "cell_type": "code",
   "execution_count": 9,
   "metadata": {},
   "outputs": [],
   "source": [
    "driver = webdriver.Chrome(PATH)\n",
    "driver.get(url)"
   ]
  },
  {
   "cell_type": "code",
   "execution_count": 10,
   "metadata": {},
   "outputs": [],
   "source": [
    "container = driver.find_element_by_class_name(\"container\")\n",
    "body = container.find_element_by_class_name(\"results\")\n",
    "cards = body.find_elements_by_tag_name(\"tr\")\n",
    "\n",
    "name = cards[1].get_attribute(\"id\")\n",
    "des = cards[1].find_element_by_tag_name(\"span\")\n",
    "\n",
    "img_link = cards[1].find_element_by_class_name(\"rightborder\")\n",
    "img_link = img_link.find_element_by_tag_name(\"a\")\n",
    "img_link = img_link.get_attribute(\"href\")"
   ]
  },
  {
   "cell_type": "code",
   "execution_count": 11,
   "metadata": {},
   "outputs": [
    {
     "name": "stdout",
     "output_type": "stream",
     "text": [
      "Start scrapping...\n",
      "0  out of  827\n",
      "100  out of  827\n",
      "200  out of  827\n",
      "300  out of  827\n",
      "400  out of  827\n",
      "500  out of  827\n",
      "600  out of  827\n",
      "700  out of  827\n",
      "800  out of  827\n"
     ]
    }
   ],
   "source": [
    "folder = \"ptolemy VI\"\n",
    "try:\n",
    "    os.mkdir(os.path.join(os.getcwd(), folder))\n",
    "except:\n",
    "    pass\n",
    "os.chdir(os.path.join(os.getcwd(), folder))\n",
    "container = driver.find_element_by_class_name(\"container\")\n",
    "body = container.find_element_by_class_name(\"results\")\n",
    "cards = body.find_elements_by_tag_name(\"tr\")\n",
    "\n",
    "print(\"Start scrapping...\")\n",
    "for index, card in enumerate(cards):\n",
    "    try:\n",
    "        if(index%100 == 0):\n",
    "            print(index, \" out of \",len(cards))\n",
    "            \n",
    "        name = card.get_attribute(\"id\")            \n",
    "        if name is None:\n",
    "            continue\n",
    "        \n",
    "        des = card.find_element_by_tag_name(\"span\")\n",
    "        des = str(des.text).upper()\n",
    "\n",
    "        num = 6\n",
    "        name = str(num) + \"_\" + name + '.jpg'    \n",
    "\n",
    "        img_link = card.find_element_by_class_name(\"rightborder\")\n",
    "        img_link = img_link.find_element_by_tag_name(\"a\")\n",
    "        img_link = img_link.get_attribute(\"href\")\n",
    "       \n",
    "        with open(name, 'wb') as f:\n",
    "            im = requests.get(img_link)\n",
    "            f.write(im.content)   \n",
    "            \n",
    "    except:\n",
    "        pass\n",
    "os.chdir(os.path.join(os.getcwd(), os.pardir))"
   ]
  },
  {
   "cell_type": "code",
   "execution_count": null,
   "metadata": {},
   "outputs": [],
   "source": []
  },
  {
   "cell_type": "code",
   "execution_count": null,
   "metadata": {},
   "outputs": [],
   "source": []
  },
  {
   "cell_type": "code",
   "execution_count": null,
   "metadata": {},
   "outputs": [],
   "source": []
  },
  {
   "cell_type": "code",
   "execution_count": null,
   "metadata": {},
   "outputs": [],
   "source": []
  },
  {
   "cell_type": "code",
   "execution_count": null,
   "metadata": {},
   "outputs": [],
   "source": []
  },
  {
   "cell_type": "code",
   "execution_count": null,
   "metadata": {},
   "outputs": [],
   "source": []
  },
  {
   "cell_type": "code",
   "execution_count": null,
   "metadata": {},
   "outputs": [],
   "source": []
  },
  {
   "cell_type": "code",
   "execution_count": null,
   "metadata": {},
   "outputs": [],
   "source": []
  },
  {
   "cell_type": "code",
   "execution_count": null,
   "metadata": {},
   "outputs": [],
   "source": []
  },
  {
   "cell_type": "code",
   "execution_count": null,
   "metadata": {},
   "outputs": [],
   "source": []
  },
  {
   "cell_type": "code",
   "execution_count": null,
   "metadata": {},
   "outputs": [],
   "source": []
  },
  {
   "cell_type": "code",
   "execution_count": null,
   "metadata": {},
   "outputs": [],
   "source": []
  }
 ],
 "metadata": {
  "kernelspec": {
   "display_name": "Python 3",
   "language": "python",
   "name": "python3"
  },
  "language_info": {
   "codemirror_mode": {
    "name": "ipython",
    "version": 3
   },
   "file_extension": ".py",
   "mimetype": "text/x-python",
   "name": "python",
   "nbconvert_exporter": "python",
   "pygments_lexer": "ipython3",
   "version": "3.8.3"
  }
 },
 "nbformat": 4,
 "nbformat_minor": 4
}
